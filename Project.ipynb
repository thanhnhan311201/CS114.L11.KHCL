{
 "metadata": {
  "language_info": {
   "codemirror_mode": {
    "name": "ipython",
    "version": 3
   },
   "file_extension": ".py",
   "mimetype": "text/x-python",
   "name": "python",
   "nbconvert_exporter": "python",
   "pygments_lexer": "ipython3",
   "version": "3.9.1-final"
  },
  "orig_nbformat": 2,
  "kernelspec": {
   "name": "python3",
   "display_name": "Python 3",
   "language": "python"
  }
 },
 "nbformat": 4,
 "nbformat_minor": 2,
 "cells": [
  {
   "source": [
    "# Nội dung báo cáo đồ án CS114.L11.KHCL\n",
    "\n",
    "**Đề tài:** Phân biệt chữ cái tiếng việt viết tay.\n",
    "\n",
    "**Lý do chọn đề tài:** Bài toán nhận diện chữ cái viết tay mang lại một lợi ích rất lớn cho con người trong các hoạt động thường ngày. Nhưng trước khi giải quyết được bài toán lớn đó thì chúng ta phải giải quyết được một bài toán nhỏ khác đó là phân biệt chữ cái viết tay. Đã có khá nhiều nghiên cứu về đề tài phân biệt chữ viết tay nhưng nhận diện chữ cái Tiếng Việt viết tay vẫn chưa nhiều. Đó là lý do nhóm quyết định thực hiện đề tài này.\n",
    "\n",
    "**Nội dung báo cáo:**\n",
    "- Nhận diện bài toán.\n",
    "- Thu thập, xử lý dữ liệu.\n",
    "- Tìm kiếm, xây dựng model.\n",
    "- Kết luận.\n"
   ],
   "cell_type": "markdown",
   "metadata": {}
  }
 ]
}