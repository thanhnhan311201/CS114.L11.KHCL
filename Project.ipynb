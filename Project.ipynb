{
 "metadata": {
  "language_info": {
   "codemirror_mode": {
    "name": "ipython",
    "version": 3
   },
   "file_extension": ".py",
   "mimetype": "text/x-python",
   "name": "python",
   "nbconvert_exporter": "python",
   "pygments_lexer": "ipython3",
   "version": "3.9.1-final"
  },
  "orig_nbformat": 2,
  "kernelspec": {
   "name": "python3",
   "display_name": "Python 3",
   "language": "python"
  }
 },
 "nbformat": 4,
 "nbformat_minor": 2,
 "cells": [
  {
   "source": [
    "# Nội dung báo cáo đồ án CS114.L11.KHCL\n",
    "\n",
    "**Đề tài:** Phân biệt chữ cái tiếng việt viết tay.\n",
    "\n",
    "**Lý do chọn đề tài:** Bài toán nhận diện chữ cái viết tay mang lại một lợi ích rất lớn cho con người trong các hoạt động thường ngày. Nhưng trước khi giải quyết được bài toán lớn đó thì chúng ta phải giải quyết được một bài toán nhỏ khác đó là phân biệt chữ cái viết tay. Đã có khá nhiều nghiên cứu về đề tài phân biệt chữ viết tay nhưng nhận diện chữ cái Tiếng Việt viết tay vẫn chưa nhiều. Đó là lý do nhóm quyết định thực hiện đề tài này.\n",
    "\n",
    "**Nội dung báo cáo:**\n",
    "- Nhận diện bài toán.\n",
    "- Thu thập, xử lý dữ liệu.\n",
    "- Tìm kiếm, xây dựng model.\n",
    "- Kết luận.\n",
    "\n",
    "## I. Nhận diện bài toán.\n",
    "- Bài toán phân biệt chữ cái tiếng việt thuộc lớp bài toán classification trong Machine Learning.\n",
    "- Có tổng cộng 89 class bao gồm các ký tự latinh và các dấu hợp lệ như : sắc, huyền, hỏi, ngã, nặng.\n",
    "- Input: 1 tấm ảnh có đúng 1 chữ cái viết tay Tiếng Việt.\n",
    "- Output: tấm ảnh nó là chữ cái gì (string).\n",
    "\n",
    "## II. Thu thập, tổ chức và xử lý dữ liệu.\n",
    "### 1. Thu thập dữ liệu.\n",
    "- Nhóm đã thu thập tổng cộng hơn 10000 ảnh cho 89 class, dữ liệu được lấy từ các chữ cái viết tay của sinh viên Đại học Công Nghệ Thông Tin và sinh viên Đại học Bách Khoa(TP.HCM)\n",
    "- Mỗi mẫu dữ liệu sẽ được scan và cắt thành từng ảnh nhỏ, riêng dữ liệu của bộ test được chuẩn bị riêng và có thể được chụp bằng máy thay vì scan.\n",
    "\n",
    "### 2. Tổ chức dữ liệu:\n",
    "- Các dữ liệu train, validation và test được phân chia riêng biệt trước khi train model để đảm bảo tính khách quan của dữ liệu.(dữ liệu trong bộ train và validation có thể chung một người viết nhưng đảm bảo không chung một tấm ảnh).\n",
    "- Với mỗi tấm ảnh, sau khi đã lấy được các feature cần thiết nhóm sẽ lưu lại thành 1 dòng trong file csv để thuận tiện cho việc train model vốn có thể tốn rất nhiều thời gian.\n",
    "\n",
    "### 3. Xử lý dữ liệu:\n",
    "- Mỗi tấm ảnh sẽ được đưa về size (52, 56) \n",
    "- Mỗi tấm ảnh sẽ được xử lý theo 2 cách:\n",
    "    + Grayscale và flatten vector để đưa tấm ảnh thành 1 vector một chiều với các giá trị là 0 hoặc 1 \n",
    "    + HOG (histogram of oriented gradient)\n",
    "    \n",
    "## III. Tìm kiếm, xây dựng model.\n",
    "- Nhóm đã sử dụng các model sau cho dữ liệu Grayscale và flatten vector :\n",
    "    + Naïve Bayes\n",
    "    + SVC\n",
    "\n",
    "- Với bộ dữ liệu được Grayscale và flatten vector, các kết quả thu được trên bộ validation cho độ chính xác thấp.\n",
    "![](/Screenshots/Picture1.png)\n",
    "\n",
    "![](/Screenshots/Picture1.png)"
   ],
   "cell_type": "markdown",
   "metadata": {}
  }
 ]
}