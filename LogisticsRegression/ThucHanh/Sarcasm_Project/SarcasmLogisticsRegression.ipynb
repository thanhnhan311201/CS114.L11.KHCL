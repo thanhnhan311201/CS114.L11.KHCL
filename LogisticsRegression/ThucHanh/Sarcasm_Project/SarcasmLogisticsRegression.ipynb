{
  "nbformat": 4,
  "nbformat_minor": 0,
  "metadata": {
    "colab": {
      "name": "SarcasmLogisticsRegression.ipynb",
      "provenance": [],
      "collapsed_sections": [],
      "authorship_tag": "ABX9TyPvNZ3qXmNUpUA9KwF4NCpO",
      "include_colab_link": true
    },
    "kernelspec": {
      "name": "python3",
      "display_name": "Python 3"
    }
  },
  "cells": [
    {
      "cell_type": "markdown",
      "metadata": {
        "id": "view-in-github",
        "colab_type": "text"
      },
      "source": [
        "<a href=\"https://colab.research.google.com/github/thanhnhan311201/CS114.L11.KHCL/blob/master/SarcasmLogisticsRegression.ipynb\" target=\"_parent\"><img src=\"https://colab.research.google.com/assets/colab-badge.svg\" alt=\"Open In Colab\"/></a>"
      ]
    },
    {
      "cell_type": "code",
      "metadata": {
        "colab": {
          "base_uri": "https://localhost:8080/"
        },
        "id": "h76nhkQRzNu1",
        "outputId": "504a62cb-d1a8-45d6-e86d-b9e214f76acb"
      },
      "source": [
        "!git clone https://github.com/thanhnhan311201/CS114.L11.KHCL"
      ],
      "execution_count": 143,
      "outputs": [
        {
          "output_type": "stream",
          "text": [
            "fatal: destination path 'CS114.L11.KHCL' already exists and is not an empty directory.\n"
          ],
          "name": "stdout"
        }
      ]
    },
    {
      "cell_type": "code",
      "metadata": {
        "colab": {
          "base_uri": "https://localhost:8080/"
        },
        "id": "mFmNAp-T0L5u",
        "outputId": "98177a62-a18a-415e-f4f7-cc2fa4e7ade7"
      },
      "source": [
        "!pip install stop-words"
      ],
      "execution_count": 144,
      "outputs": [
        {
          "output_type": "stream",
          "text": [
            "Requirement already satisfied: stop-words in /usr/local/lib/python3.6/dist-packages (2018.7.23)\n"
          ],
          "name": "stdout"
        }
      ]
    },
    {
      "cell_type": "code",
      "metadata": {
        "id": "07PjL_DU0T2O"
      },
      "source": [
        "from sklearn.model_selection import train_test_split\n",
        "import pandas as pd\n",
        "import numpy as np\n",
        "from nltk.corpus import stopwords\n",
        "import nltk\n",
        "import json\n",
        "import string\n",
        "from collections import Counter\n",
        "import re\n",
        "from nltk.stem.porter import PorterStemmer"
      ],
      "execution_count": 145,
      "outputs": []
    },
    {
      "cell_type": "code",
      "metadata": {
        "colab": {
          "base_uri": "https://localhost:8080/"
        },
        "id": "geGlmaY80Za6",
        "outputId": "03d96c4c-62b8-40dc-c77f-643383894a1c"
      },
      "source": [
        "nltk.download('stopwords')\n",
        "ListStopWord = set(stopwords.words('english'))\n"
      ],
      "execution_count": 146,
      "outputs": [
        {
          "output_type": "stream",
          "text": [
            "[nltk_data] Downloading package stopwords to /root/nltk_data...\n",
            "[nltk_data]   Package stopwords is already up-to-date!\n"
          ],
          "name": "stdout"
        }
      ]
    },
    {
      "cell_type": "code",
      "metadata": {
        "id": "YA-nC2c_0v_7"
      },
      "source": [
        "def RemoveStopWord(text):\n",
        "    ans = []\n",
        "    for headline in text:\n",
        "        new_headline = []\n",
        "        for i in headline.split():\n",
        "            if i.strip().lower() not in ListStopWord:\n",
        "                new_headline.append(i.strip().lower())\n",
        "        new_headline = ' '.join(new_headline)\n",
        "        ans.append(new_headline)\n",
        "    return pd.Series(ans)"
      ],
      "execution_count": 147,
      "outputs": []
    },
    {
      "cell_type": "code",
      "metadata": {
        "id": "shCEMPt71ixB"
      },
      "source": [
        "ps = PorterStemmer()\n",
        "def Normalize(text):\n",
        "    text = RemoveStopWord(text)\n",
        "    text = text.apply(lambda x: re.sub('[^a-zA-Z]',' ', x))# loại bỏ các số và dấu câu.\n",
        "    text = text.apply(lambda x: x.split())\n",
        "    text = text.apply(lambda x: ' '.join([ps.stem(word) for word in x]))\n",
        "    return text\n"
      ],
      "execution_count": 148,
      "outputs": []
    },
    {
      "cell_type": "code",
      "metadata": {
        "colab": {
          "base_uri": "https://localhost:8080/",
          "height": 204
        },
        "id": "cwLqCKcI2Jtp",
        "outputId": "b65cefdd-7450-4192-c200-32a25f65266a"
      },
      "source": [
        "data = pd.read_json(\"/content/CS114.L11.KHCL/LogisticsRegression/ThucHanh/Sarcasm_Project/Sarcasm_Headlines_Dataset.json\", lines=True)\n",
        "data.head()"
      ],
      "execution_count": 149,
      "outputs": [
        {
          "output_type": "execute_result",
          "data": {
            "text/html": [
              "<div>\n",
              "<style scoped>\n",
              "    .dataframe tbody tr th:only-of-type {\n",
              "        vertical-align: middle;\n",
              "    }\n",
              "\n",
              "    .dataframe tbody tr th {\n",
              "        vertical-align: top;\n",
              "    }\n",
              "\n",
              "    .dataframe thead th {\n",
              "        text-align: right;\n",
              "    }\n",
              "</style>\n",
              "<table border=\"1\" class=\"dataframe\">\n",
              "  <thead>\n",
              "    <tr style=\"text-align: right;\">\n",
              "      <th></th>\n",
              "      <th>article_link</th>\n",
              "      <th>headline</th>\n",
              "      <th>is_sarcastic</th>\n",
              "    </tr>\n",
              "  </thead>\n",
              "  <tbody>\n",
              "    <tr>\n",
              "      <th>0</th>\n",
              "      <td>https://www.huffingtonpost.com/entry/versace-b...</td>\n",
              "      <td>former versace store clerk sues over secret 'b...</td>\n",
              "      <td>0</td>\n",
              "    </tr>\n",
              "    <tr>\n",
              "      <th>1</th>\n",
              "      <td>https://www.huffingtonpost.com/entry/roseanne-...</td>\n",
              "      <td>the 'roseanne' revival catches up to our thorn...</td>\n",
              "      <td>0</td>\n",
              "    </tr>\n",
              "    <tr>\n",
              "      <th>2</th>\n",
              "      <td>https://local.theonion.com/mom-starting-to-fea...</td>\n",
              "      <td>mom starting to fear son's web series closest ...</td>\n",
              "      <td>1</td>\n",
              "    </tr>\n",
              "    <tr>\n",
              "      <th>3</th>\n",
              "      <td>https://politics.theonion.com/boehner-just-wan...</td>\n",
              "      <td>boehner just wants wife to listen, not come up...</td>\n",
              "      <td>1</td>\n",
              "    </tr>\n",
              "    <tr>\n",
              "      <th>4</th>\n",
              "      <td>https://www.huffingtonpost.com/entry/jk-rowlin...</td>\n",
              "      <td>j.k. rowling wishes snape happy birthday in th...</td>\n",
              "      <td>0</td>\n",
              "    </tr>\n",
              "  </tbody>\n",
              "</table>\n",
              "</div>"
            ],
            "text/plain": [
              "                                        article_link  ... is_sarcastic\n",
              "0  https://www.huffingtonpost.com/entry/versace-b...  ...            0\n",
              "1  https://www.huffingtonpost.com/entry/roseanne-...  ...            0\n",
              "2  https://local.theonion.com/mom-starting-to-fea...  ...            1\n",
              "3  https://politics.theonion.com/boehner-just-wan...  ...            1\n",
              "4  https://www.huffingtonpost.com/entry/jk-rowlin...  ...            0\n",
              "\n",
              "[5 rows x 3 columns]"
            ]
          },
          "metadata": {
            "tags": []
          },
          "execution_count": 149
        }
      ]
    },
    {
      "cell_type": "code",
      "metadata": {
        "id": "JOamPD9c2am2"
      },
      "source": [
        "del data['article_link']"
      ],
      "execution_count": 150,
      "outputs": []
    },
    {
      "cell_type": "code",
      "metadata": {
        "id": "IxlB-MwX2ehV"
      },
      "source": [
        "features = data['headline']\n",
        "labels = data['is_sarcastic']"
      ],
      "execution_count": 151,
      "outputs": []
    },
    {
      "cell_type": "code",
      "metadata": {
        "colab": {
          "base_uri": "https://localhost:8080/"
        },
        "id": "2MCXDtzk2jn7",
        "outputId": "a87dc846-2ad0-4b2c-e02f-7e38fc502d14"
      },
      "source": [
        "features = Normalize(features)\n",
        "labels = list(labels)\n",
        "print(type(features))"
      ],
      "execution_count": 152,
      "outputs": [
        {
          "output_type": "stream",
          "text": [
            "<class 'pandas.core.series.Series'>\n"
          ],
          "name": "stdout"
        }
      ]
    },
    {
      "cell_type": "code",
      "metadata": {
        "id": "x0_NoCBv2qXH"
      },
      "source": [
        "from sklearn.feature_extraction.text import TfidfVectorizer\n",
        "TV = TfidfVectorizer()\n"
      ],
      "execution_count": 153,
      "outputs": []
    },
    {
      "cell_type": "code",
      "metadata": {
        "id": "n_McVZCF7l_O"
      },
      "source": [
        "x_train, x_test, y_train, y_test = train_test_split(features, labels, test_size = 0.33)"
      ],
      "execution_count": 154,
      "outputs": []
    },
    {
      "cell_type": "code",
      "metadata": {
        "id": "IJdoWeKb7-dK"
      },
      "source": [
        "y_train = np.array(y_train)\n",
        "y_test = np.array(y_test) "
      ],
      "execution_count": 155,
      "outputs": []
    },
    {
      "cell_type": "code",
      "metadata": {
        "id": "huVjx0Bv8E_n"
      },
      "source": [
        "TV.fit(list(x_train))\n",
        "x_train = TV.transform(x_train)"
      ],
      "execution_count": 156,
      "outputs": []
    },
    {
      "cell_type": "code",
      "metadata": {
        "colab": {
          "base_uri": "https://localhost:8080/"
        },
        "id": "gkK3mOAn8Qp-",
        "outputId": "c14b0d41-417f-47ba-c8b2-2e92b0c502e0"
      },
      "source": [
        "from sklearn.linear_model import LogisticRegression\n",
        "lr = LogisticRegression(max_iter=10000)\n",
        "lr.fit(x_train, y_train)"
      ],
      "execution_count": 157,
      "outputs": [
        {
          "output_type": "execute_result",
          "data": {
            "text/plain": [
              "LogisticRegression(C=1.0, class_weight=None, dual=False, fit_intercept=True,\n",
              "                   intercept_scaling=1, l1_ratio=None, max_iter=10000,\n",
              "                   multi_class='auto', n_jobs=None, penalty='l2',\n",
              "                   random_state=None, solver='lbfgs', tol=0.0001, verbose=0,\n",
              "                   warm_start=False)"
            ]
          },
          "metadata": {
            "tags": []
          },
          "execution_count": 157
        }
      ]
    },
    {
      "cell_type": "code",
      "metadata": {
        "colab": {
          "base_uri": "https://localhost:8080/"
        },
        "id": "fQ-1imDH8dNp",
        "outputId": "6ee53a81-bf38-483e-836e-10db3eea11e3"
      },
      "source": [
        "x_test = TV.transform(x_test)\n",
        "print(lr.score(x_test, y_test))"
      ],
      "execution_count": 158,
      "outputs": [
        {
          "output_type": "stream",
          "text": [
            "0.7777399591558883\n"
          ],
          "name": "stdout"
        }
      ]
    },
    {
      "cell_type": "code",
      "metadata": {
        "id": "m9Hhsv9T8oWG"
      },
      "source": [
        "def recall(x, y_true, label):\n",
        "    y_pred = lr.predict(x)\n",
        "    true_pos = 0 #So lan doan nhan label va dung\n",
        "    sum_pred_label = 0#Tong so lan doan nhan label\n",
        "    for i in range(len(list(y_pred))):\n",
        "        if y_pred[i] == label:\n",
        "            sum_pred_label += 1\n",
        "            if y_pred[i] == y_true[i]:\n",
        "                true_pos += 1\n",
        "    return true_pos/sum_pred_label "
      ],
      "execution_count": 159,
      "outputs": []
    },
    {
      "cell_type": "code",
      "metadata": {
        "colab": {
          "base_uri": "https://localhost:8080/"
        },
        "id": "tubXnn3-_i0r",
        "outputId": "02113d0e-0551-4f0d-9c44-829916178ee6"
      },
      "source": [
        "print(recall(x_test, y_test, 1))"
      ],
      "execution_count": 160,
      "outputs": [
        {
          "output_type": "stream",
          "text": [
            "0.7743076016499706\n"
          ],
          "name": "stdout"
        }
      ]
    },
    {
      "cell_type": "code",
      "metadata": {
        "id": "_8blw0JY_y2x"
      },
      "source": [
        "data2 = pd.read_json(\"/content/CS114.L11.KHCL/LogisticsRegression/ThucHanh/Sarcasm_Project/Sarcasm_Headlines_Dataset_v2.json\", lines=True)"
      ],
      "execution_count": 161,
      "outputs": []
    },
    {
      "cell_type": "code",
      "metadata": {
        "id": "vs6fk6xHAJnJ"
      },
      "source": [
        "del data2['article_link']"
      ],
      "execution_count": 162,
      "outputs": []
    },
    {
      "cell_type": "code",
      "metadata": {
        "id": "EcTHsjBaANT6"
      },
      "source": [
        "x_test = Normalize(data2['headline'])\n",
        "y_test = np.array(data2['is_sarcastic'])"
      ],
      "execution_count": 163,
      "outputs": []
    },
    {
      "cell_type": "code",
      "metadata": {
        "id": "DxeCF_vbAeWc"
      },
      "source": [
        "x_test = TV.transform(x_test)"
      ],
      "execution_count": 164,
      "outputs": []
    },
    {
      "cell_type": "code",
      "metadata": {
        "colab": {
          "base_uri": "https://localhost:8080/"
        },
        "id": "WhPMJyR9AtXE",
        "outputId": "0933337c-779d-4196-8e35-2889b404b633"
      },
      "source": [
        "print(lr.score(x_test, y_test))"
      ],
      "execution_count": 165,
      "outputs": [
        {
          "output_type": "stream",
          "text": [
            "0.8329082078339565\n"
          ],
          "name": "stdout"
        }
      ]
    },
    {
      "cell_type": "code",
      "metadata": {
        "colab": {
          "base_uri": "https://localhost:8080/"
        },
        "id": "AGzSf8XVA0E2",
        "outputId": "583bc075-fbba-4453-c918-40085ccc5fef"
      },
      "source": [
        "print(recall(x_test, y_test, 1))"
      ],
      "execution_count": 166,
      "outputs": [
        {
          "output_type": "stream",
          "text": [
            "0.8742601048537122\n"
          ],
          "name": "stdout"
        }
      ]
    },
    {
      "cell_type": "code",
      "metadata": {
        "id": "KXALyd-ACAou"
      },
      "source": [
        "y_pred = lr.predict(x_test)"
      ],
      "execution_count": 167,
      "outputs": []
    },
    {
      "cell_type": "code",
      "metadata": {
        "colab": {
          "base_uri": "https://localhost:8080/"
        },
        "id": "E_uXAsUADG_4",
        "outputId": "d53b855e-83f4-4346-bcb5-74218cff23c9"
      },
      "source": [
        "from sklearn.metrics import confusion_matrix\n",
        "from sklearn.metrics import classification_report\n",
        "conf_matrix = confusion_matrix(y_test, y_pred, labels= [0, 1])\n",
        "print(conf_matrix)\n",
        "print(classification_report(y_test, y_pred, labels= [0, 1]))"
      ],
      "execution_count": 174,
      "outputs": [
        {
          "output_type": "stream",
          "text": [
            "[[13498  1487]\n",
            " [ 3295 10339]]\n",
            "              precision    recall  f1-score   support\n",
            "\n",
            "           0       0.80      0.90      0.85     14985\n",
            "           1       0.87      0.76      0.81     13634\n",
            "\n",
            "    accuracy                           0.83     28619\n",
            "   macro avg       0.84      0.83      0.83     28619\n",
            "weighted avg       0.84      0.83      0.83     28619\n",
            "\n"
          ],
          "name": "stdout"
        }
      ]
    },
    {
      "cell_type": "code",
      "metadata": {
        "id": "9HGg5bykFEvZ"
      },
      "source": [
        "import seaborn as sns"
      ],
      "execution_count": 169,
      "outputs": []
    },
    {
      "cell_type": "code",
      "metadata": {
        "colab": {
          "base_uri": "https://localhost:8080/",
          "height": 282
        },
        "id": "fNI9-lqvFIp6",
        "outputId": "76d92efe-d393-4f1b-d45e-dec5a441c43d"
      },
      "source": [
        "sns.heatmap(conf_matrix/np.sum(conf_matrix), annot = True, fmt='.2%', cmap='Blues')"
      ],
      "execution_count": 176,
      "outputs": [
        {
          "output_type": "execute_result",
          "data": {
            "text/plain": [
              "<matplotlib.axes._subplots.AxesSubplot at 0x7f34a343ff60>"
            ]
          },
          "metadata": {
            "tags": []
          },
          "execution_count": 176
        },
        {
          "output_type": "display_data",
          "data": {
            "image/png": "[encoded data removed]",
            "text/plain": [
              "<Figure size 432x288 with 2 Axes>"
            ]
          },
          "metadata": {
            "tags": [],
            "needs_background": "light"
          }
        }
      ]
    },
    {
      "cell_type": "code",
      "metadata": {
        "colab": {
          "base_uri": "https://localhost:8080/",
          "height": 721
        },
        "id": "f26s2gTgGT-R",
        "outputId": "4bef6a08-7d4c-410a-c8ea-a33e302b39c4"
      },
      "source": [
        "f1 = sns.displot(y_test)\n",
        "f2 = sns.displot(y_pred)"
      ],
      "execution_count": 185,
      "outputs": [
        {
          "output_type": "display_data",
          "data": {
            "image/png": "[encoded data removed]",
            "text/plain": [
              "<Figure size 360x360 with 1 Axes>"
            ]
          },
          "metadata": {
            "tags": [],
            "needs_background": "light"
          }
        },
        {
          "output_type": "display_data",
          "data": {
            "image/png": "[encoded data removed]",
            "text/plain": [
              "<Figure size 360x360 with 1 Axes>"
            ]
          },
          "metadata": {
            "tags": [],
            "needs_background": "light"
          }
        }
      ]
    }
  ]
}