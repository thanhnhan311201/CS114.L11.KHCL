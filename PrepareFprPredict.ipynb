{
  "nbformat": 4,
  "nbformat_minor": 0,
  "metadata": {
    "accelerator": "GPU",
    "colab": {
      "name": "PrepareFprPredict.ipynb",
      "provenance": [],
      "collapsed_sections": [
        "B-VgCwnJsjnM"
      ],
      "authorship_tag": "ABX9TyPkhQ02JTsecy2zblyCk4Pb",
      "include_colab_link": true
    },
    "kernelspec": {
      "display_name": "Python 3",
      "name": "python3"
    }
  },
  "cells": [
    {
      "cell_type": "markdown",
      "metadata": {
        "id": "view-in-github",
        "colab_type": "text"
      },
      "source": [
        "<a href=\"https://colab.research.google.com/github/thanhnhan311201/CS114.L11.KHCL/blob/master/PrepareFprPredict.ipynb\" target=\"_parent\"><img src=\"https://colab.research.google.com/assets/colab-badge.svg\" alt=\"Open In Colab\"/></a>"
      ]
    },
    {
      "cell_type": "code",
      "metadata": {
        "colab": {
          "base_uri": "https://localhost:8080/"
        },
        "id": "Dxe49GW0lS3C",
        "outputId": "8d58d1c6-eb74-4b7a-dc29-0ff5dbc6a427"
      },
      "source": [
        "from google.colab import drive\n",
        "drive.mount('/content/drive')"
      ],
      "execution_count": 1,
      "outputs": [
        {
          "output_type": "stream",
          "text": [
            "Mounted at /content/drive\n"
          ],
          "name": "stdout"
        }
      ]
    },
    {
      "cell_type": "code",
      "metadata": {
        "id": "kkW2lheLluK6"
      },
      "source": [
        "import os\n",
        "import cv2\n",
        "from PIL import Image\n",
        "import matplotlib.pyplot as plt\n",
        "import pandas as pd\n",
        "import numpy as np\n"
      ],
      "execution_count": 2,
      "outputs": []
    },
    {
      "cell_type": "code",
      "metadata": {
        "id": "n0UTzlQwmxzC"
      },
      "source": [
        "train_folder = '/content/drive/MyDrive/Dataset/train'\n",
        "val_folder = '/content/drive/MyDrive/Dataset/validation'"
      ],
      "execution_count": 3,
      "outputs": []
    },
    {
      "cell_type": "code",
      "metadata": {
        "colab": {
          "base_uri": "https://localhost:8080/"
        },
        "id": "0-tLtneInIgt",
        "outputId": "b44d149a-8bb1-4552-c54f-062753947979"
      },
      "source": [
        "# Kiem tra so class moi folder\n",
        "print(\"Train: \", len(os.listdir(train_folder)))\n",
        "print(\"Validation: \", len(os.listdir(val_folder)))"
      ],
      "execution_count": 4,
      "outputs": [
        {
          "output_type": "stream",
          "text": [
            "Train:  89\n",
            "Validation:  89\n"
          ],
          "name": "stdout"
        }
      ]
    },
    {
      "cell_type": "code",
      "metadata": {
        "id": "B4MCGIV6nMVj"
      },
      "source": [
        "class_ = sorted(os.listdir(train_folder))\n",
        "print(class_)"
      ],
      "execution_count": null,
      "outputs": []
    },
    {
      "cell_type": "code",
      "metadata": {
        "id": "jgGet2q7pSTw"
      },
      "source": [
        "FJoin = os.path.join"
      ],
      "execution_count": 6,
      "outputs": []
    },
    {
      "cell_type": "code",
      "metadata": {
        "id": "y4epJ3QRo-Bl"
      },
      "source": [
        "list_class_train = [FJoin(train_folder, f) for f in class_]\n",
        "list_class_val = [FJoin(val_folder, f) for f in class_]\n",
        "print(list_class_train)\n",
        "print(list_class_val)"
      ],
      "execution_count": null,
      "outputs": []
    },
    {
      "cell_type": "code",
      "metadata": {
        "id": "o3KDV3rZpoOB"
      },
      "source": [
        "link_image_train = []\n",
        "labels_train = []\n",
        "index = 0\n",
        "for class_train in list_class_train:\n",
        "    list_img_link = [FJoin(class_train, f) for f in os.listdir(class_train)]\n",
        "    label = [index]*len(list_img_link)\n",
        "    for x, y in zip(list_img_link, label):\n",
        "        link_image_train.append(x)\n",
        "        labels_train.append(y)\n",
        "    index += 1 "
      ],
      "execution_count": 8,
      "outputs": []
    },
    {
      "cell_type": "code",
      "metadata": {
        "id": "Ct6n96MCrpdq"
      },
      "source": [
        "link_image_val = []\n",
        "labels_val = []\n",
        "index = 0\n",
        "for class_val in list_class_val:\n",
        "    list_img_link = [FJoin(class_val, f) for f in os.listdir(class_val)]\n",
        "    label = [index]*len(list_img_link)\n",
        "    for x, y in zip(list_img_link, label):\n",
        "        link_image_val.append(x)\n",
        "        labels_val.append(y)\n",
        "    index += 1 "
      ],
      "execution_count": 9,
      "outputs": []
    },
    {
      "cell_type": "code",
      "metadata": {
        "colab": {
          "base_uri": "https://localhost:8080/"
        },
        "id": "tvl18E_-qFYv",
        "outputId": "94a0a39a-de3a-4d74-9426-64f5d49b8c2c"
      },
      "source": [
        "print(len(link_image_train))\n",
        "print(len(link_image_val))"
      ],
      "execution_count": 10,
      "outputs": [
        {
          "output_type": "stream",
          "text": [
            "11865\n",
            "2984\n"
          ],
          "name": "stdout"
        }
      ]
    },
    {
      "cell_type": "code",
      "metadata": {
        "id": "V10h6LjGsI_3"
      },
      "source": [
        "print(labels_train)\n",
        "print(labels_val)"
      ],
      "execution_count": null,
      "outputs": []
    },
    {
      "cell_type": "markdown",
      "metadata": {
        "id": "B-VgCwnJsjnM"
      },
      "source": [
        "#Đưa ảnh về dạng flatten vector dạng [0, 1]  \n",
        "- Thử nghiệm với các model: linear svm, svm, naive bayes, Decision Tree và logistic Regession   "
      ]
    },
    {
      "cell_type": "markdown",
      "metadata": {
        "id": "ws9uqJPwyCsQ"
      },
      "source": [
        "- Mỗi phần tử trong vector flatten từ ảnh có giá trị trong khoảng [0, 255]. Do tính chất của bài toán nhóm sẽ đưa giá trị về 0 và 1 để biểu thị đen và trắng.  "
      ]
    },
    {
      "cell_type": "code",
      "metadata": {
        "colab": {
          "base_uri": "https://localhost:8080/"
        },
        "id": "yxVINH4MvLi7",
        "outputId": "0342a8f3-6bc6-4f21-e035-76f740680942"
      },
      "source": [
        "sample_img_vector = cv2.imread(link_image_train[0], 0)\n",
        "vt = sample_img_vector.flatten()\n",
        "print(sample_img_vector.shape)\n",
        "print(\"Vector sau khi flatten : \",vt)\n",
        "vt = np.floor_divide(vt, 127)\n",
        "vt[vt > 0] = 1\n",
        "print(\"Vector sau khi dua ve dang 0, 1\",vt)"
      ],
      "execution_count": 12,
      "outputs": [
        {
          "output_type": "stream",
          "text": [
            "(53, 47)\n",
            "Vector sau khi flatten :  [255 255 255 ... 255 255 255]\n",
            "Vector sau khi dua ve dang 0, 1 [1 1 1 ... 1 1 1]\n"
          ],
          "name": "stdout"
        }
      ]
    },
    {
      "cell_type": "code",
      "metadata": {
        "id": "Zph-WtOY0FYc"
      },
      "source": [
        "feature_train = []"
      ],
      "execution_count": 13,
      "outputs": []
    },
    {
      "cell_type": "code",
      "metadata": {
        "id": "DyhwtB-0shMs"
      },
      "source": [
        "for img_link in link_image_train:\n",
        "    img_vector = cv2.imread(img_link, 0)\n",
        "    vt = img_vector.flatten()\n",
        "    vt = np.floor_divide(vt, 127)\n",
        "    vt[vt > 0] = 1\n",
        "    feature_train.append(vt)"
      ],
      "execution_count": 14,
      "outputs": []
    },
    {
      "cell_type": "code",
      "metadata": {
        "id": "g3nlShxnXlub"
      },
      "source": [
        "!touch a.txt"
      ],
      "execution_count": 19,
      "outputs": []
    },
    {
      "cell_type": "code",
      "metadata": {
        "id": "N6ORmo14olas"
      },
      "source": [
        "X_train = np.array(feature_train)\n",
        "Y_train = np.array(labels_train)"
      ],
      "execution_count": 58,
      "outputs": []
    },
    {
      "cell_type": "code",
      "metadata": {
        "id": "Ph3erNe_hhHV"
      },
      "source": [
        "np.savetxt('X_train.txt', X_train)\n"
      ],
      "execution_count": 60,
      "outputs": []
    },
    {
      "cell_type": "code",
      "metadata": {
        "id": "sOh4XU9iqXTR"
      },
      "source": [
        "np.savetxt(\"Y_train.txt\", Y_train)"
      ],
      "execution_count": 61,
      "outputs": []
    },
    {
      "cell_type": "code",
      "metadata": {
        "colab": {
          "base_uri": "https://localhost:8080/"
        },
        "id": "wFaVAoYEpu61",
        "outputId": "2b44d239-16b2-4b57-e702-faf5fa22237a"
      },
      "source": [
        "print(X_train.shape)"
      ],
      "execution_count": 62,
      "outputs": [
        {
          "output_type": "stream",
          "text": [
            "(11865, 2491)\n"
          ],
          "name": "stdout"
        }
      ]
    },
    {
      "cell_type": "code",
      "metadata": {
        "colab": {
          "base_uri": "https://localhost:8080/"
        },
        "id": "kSnDCOOEqSAY",
        "outputId": "ba761674-527c-48c9-c7ba-86dca93673a8"
      },
      "source": [
        "print(Y_train.shape)"
      ],
      "execution_count": 63,
      "outputs": [
        {
          "output_type": "stream",
          "text": [
            "(11865,)\n"
          ],
          "name": "stdout"
        }
      ]
    },
    {
      "cell_type": "code",
      "metadata": {
        "colab": {
          "base_uri": "https://localhost:8080/"
        },
        "id": "2Kq_9MQJppAC",
        "outputId": "9f83fe1c-1b35-4895-f432-068ff5966fba"
      },
      "source": [
        "!wc -l X_train.txt"
      ],
      "execution_count": 65,
      "outputs": [
        {
          "output_type": "stream",
          "text": [
            "11865 X_train.txt\n"
          ],
          "name": "stdout"
        }
      ]
    },
    {
      "cell_type": "code",
      "metadata": {
        "colab": {
          "base_uri": "https://localhost:8080/"
        },
        "id": "aoLIABowqq4O",
        "outputId": "04f3af8a-f6f2-429f-c594-5b960d08b98d"
      },
      "source": [
        "!wc -l Y_train.txt"
      ],
      "execution_count": 66,
      "outputs": [
        {
          "output_type": "stream",
          "text": [
            "11865 Y_train.txt\n"
          ],
          "name": "stdout"
        }
      ]
    },
    {
      "cell_type": "code",
      "metadata": {
        "colab": {
          "base_uri": "https://localhost:8080/"
        },
        "id": "3IzUfoDjqvkq",
        "outputId": "8b341905-3e63-4296-bd09-45fe172d993b"
      },
      "source": [
        "%cd /content/drive/MyDrive/Dataset"
      ],
      "execution_count": 67,
      "outputs": [
        {
          "output_type": "stream",
          "text": [
            "/content/drive/MyDrive/Dataset\n"
          ],
          "name": "stdout"
        }
      ]
    },
    {
      "cell_type": "code",
      "metadata": {
        "id": "VL6RAKo8ri8c"
      },
      "source": [
        "!cp /content/X_train.txt X_train.txt "
      ],
      "execution_count": 70,
      "outputs": []
    },
    {
      "cell_type": "code",
      "metadata": {
        "id": "KxsSeL7Yr35C"
      },
      "source": [
        "!cp /content/Y_train.txt Y_train.txt"
      ],
      "execution_count": 71,
      "outputs": []
    },
    {
      "cell_type": "code",
      "metadata": {
        "colab": {
          "base_uri": "https://localhost:8080/"
        },
        "id": "YeoYlxgsrw8z",
        "outputId": "e940c9eb-5178-4aa8-e75d-dc6b282328cf"
      },
      "source": [
        "!ls"
      ],
      "execution_count": 73,
      "outputs": [
        {
          "output_type": "stream",
          "text": [
            "Dataset  HandWrittenData.zip  train  validation  X_train.txt  Y_train.txt\n"
          ],
          "name": "stdout"
        }
      ]
    }
  ]
}