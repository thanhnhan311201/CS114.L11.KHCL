{
  "nbformat": 4,
  "nbformat_minor": 0,
  "metadata": {
    "colab": {
      "name": "DemoSarcasmLogisticsRegression.ipynb",
      "provenance": [],
      "collapsed_sections": [],
      "authorship_tag": "ABX9TyOuUTDhXU9iQzcpMD4QFoWL",
      "include_colab_link": true
    },
    "kernelspec": {
      "name": "python3",
      "display_name": "Python 3"
    }
  },
  "cells": [
    {
      "cell_type": "markdown",
      "metadata": {
        "id": "view-in-github",
        "colab_type": "text"
      },
      "source": [
        "<a href=\"https://colab.research.google.com/github/thanhnhan311201/CS114.L11.KHCL/blob/master/DemoSarcasmLogisticsRegression.ipynb\" target=\"_parent\"><img src=\"https://colab.research.google.com/assets/colab-badge.svg\" alt=\"Open In Colab\"/></a>"
      ]
    },
    {
      "cell_type": "code",
      "metadata": {
        "id": "AEsAvqC49m2H",
        "colab": {
          "base_uri": "https://localhost:8080/"
        },
        "outputId": "ad108fc5-6ed4-47d0-caf8-20f5ff8cf8d2"
      },
      "source": [
        "!git clone https://github.com/thanhnhan311201/CS114.L11.KHCL"
      ],
      "execution_count": null,
      "outputs": [
        {
          "output_type": "stream",
          "text": [
            "fatal: destination path 'CS114.L11.KHCL' already exists and is not an empty directory.\n"
          ],
          "name": "stdout"
        }
      ]
    },
    {
      "cell_type": "code",
      "metadata": {
        "id": "hT3Dw_6T_BF5",
        "colab": {
          "base_uri": "https://localhost:8080/"
        },
        "outputId": "12e4b9ac-67a2-4189-a8f8-7b6df0800a25"
      },
      "source": [
        "!pip install stop-words"
      ],
      "execution_count": null,
      "outputs": [
        {
          "output_type": "stream",
          "text": [
            "Requirement already satisfied: stop-words in /usr/local/lib/python3.6/dist-packages (2018.7.23)\n"
          ],
          "name": "stdout"
        }
      ]
    },
    {
      "cell_type": "code",
      "metadata": {
        "id": "U5c7R1WB92pX"
      },
      "source": [
        "from sklearn.model_selection import train_test_split\n",
        "import pandas as pd\n",
        "import numpy as np\n",
        "from nltk.corpus import stopwords\n",
        "import nltk\n",
        "import json\n",
        "import string\n",
        "from collections import Counter"
      ],
      "execution_count": null,
      "outputs": []
    },
    {
      "cell_type": "code",
      "metadata": {
        "id": "ykMgqoby-pIZ",
        "colab": {
          "base_uri": "https://localhost:8080/"
        },
        "outputId": "a1c6795c-dbfb-4c94-d19d-f688724c7119"
      },
      "source": [
        "nltk.download('stopwords')"
      ],
      "execution_count": null,
      "outputs": [
        {
          "output_type": "stream",
          "text": [
            "[nltk_data] Downloading package stopwords to /root/nltk_data...\n",
            "[nltk_data]   Package stopwords is already up-to-date!\n"
          ],
          "name": "stdout"
        },
        {
          "output_type": "execute_result",
          "data": {
            "text/plain": [
              "True"
            ]
          },
          "metadata": {
            "tags": []
          },
          "execution_count": 3
        }
      ]
    },
    {
      "cell_type": "code",
      "metadata": {
        "id": "L7favVsaCgsY"
      },
      "source": [
        "data = pd.read_json(\"/content/CS114.L11.KHCL/LogisticsRegression/ThucHanh/Sarcasm_Project/Sarcasm_Headlines_Dataset.json\", lines=True)\n",
        "data.head()\n",
        "del data['article_link']"
      ],
      "execution_count": null,
      "outputs": []
    },
    {
      "cell_type": "code",
      "metadata": {
        "id": "fsGyHtvcC15y",
        "colab": {
          "base_uri": "https://localhost:8080/"
        },
        "outputId": "38e71066-d4f2-4c94-b2be-baf5a1bf5118"
      },
      "source": [
        "X_train, X_test, Y_train, Y_test = train_test_split(data['headline'], data['is_sarcastic'], test_size=0.33)\n",
        "print(X_train.shape, X_test.shape)"
      ],
      "execution_count": null,
      "outputs": [
        {
          "output_type": "stream",
          "text": [
            "(17895,) (8814,)\n"
          ],
          "name": "stdout"
        }
      ]
    },
    {
      "cell_type": "code",
      "metadata": {
        "id": "DDbjWsa6DggP",
        "colab": {
          "base_uri": "https://localhost:8080/"
        },
        "outputId": "43dac5d8-79f5-4fae-ed95-9987fde4566a"
      },
      "source": [
        "ListStopWord = set(stopwords.words('english'))\n",
        "ListPunchLine = list(string.punctuation)\n",
        "print(ListStopWord)\n",
        "print(ListPunchLine)"
      ],
      "execution_count": null,
      "outputs": [
        {
          "output_type": "stream",
          "text": [
            "{'am', 'some', 've', 'herself', \"wasn't\", 'why', 'out', 'off', 'your', 'only', 'to', 'other', 'is', 'into', 'didn', 'these', 'at', 'from', 'yourselves', 'ours', 'just', 'for', 'where', \"didn't\", 'needn', 't', \"you'd\", 'and', 'by', \"isn't\", 'should', 'were', 'against', 'if', 'any', \"haven't\", \"it's\", 'itself', 'because', \"hasn't\", 'not', 'our', 'the', 'each', 'once', \"wouldn't\", 'his', 'there', 'of', 'will', 'few', 'won', \"needn't\", 'in', \"mightn't\", 'down', 'during', 'an', 'weren', 'theirs', 'above', 'has', 'its', 'shouldn', \"you've\", 'over', 'further', 'did', 'who', 'too', 'was', 'whom', 'while', 'same', 'she', 'so', 'before', 'most', 'been', 'with', 'd', 'shan', \"aren't\", 'ain', \"don't\", \"you're\", 'himself', 'my', 'don', 'can', 'him', 'themselves', 'between', \"should've\", 'those', 'more', 'through', \"shan't\", 'their', \"weren't\", 'hasn', 'll', 'ourselves', 'couldn', 'had', 'both', 'or', 'me', 'after', 'myself', 's', 'now', 'does', 'what', 'that', 'i', 'it', 'on', 'do', 'wasn', 'haven', 'ma', 'as', 'y', 'again', 'her', \"won't\", 'but', 'having', 'all', \"mustn't\", 'when', 'hadn', 'they', 'than', 'are', 'aren', 'yourself', 'about', 'we', 'then', 'have', 'how', 'doing', \"doesn't\", 'mustn', 'them', 'which', \"shouldn't\", 'until', 'here', 'mightn', 'yours', 'up', \"that'll\", 'own', 'm', 'doesn', 'o', 'being', 'wouldn', 'isn', \"hadn't\", 'nor', \"couldn't\", 'no', 'hers', 'below', 're', 'he', \"she's\", 'such', 'under', 'you', 'be', \"you'll\", 'a', 'very', 'this'}\n",
            "['!', '\"', '#', '$', '%', '&', \"'\", '(', ')', '*', '+', ',', '-', '.', '/', ':', ';', '<', '=', '>', '?', '@', '[', '\\\\', ']', '^', '_', '`', '{', '|', '}', '~']\n"
          ],
          "name": "stdout"
        }
      ]
    },
    {
      "cell_type": "code",
      "metadata": {
        "id": "kZCQkoabEcVv"
      },
      "source": [
        "def Normalize(text):\n",
        "    ans = []\n",
        "    for headline in list(text):\n",
        "        for p in ListPunchLine:\n",
        "            if p in headline:\n",
        "                headline = headline.replace(p,'')\n",
        "        new_headline = []\n",
        "        for i in headline.split():\n",
        "            if i.strip().lower() not in ListStopWord:\n",
        "                new_headline.append(i.strip().lower())\n",
        "        headline = \" \".join(new_headline)\n",
        "        ans.append(headline)\n",
        "    return pd.Series(ans)"
      ],
      "execution_count": null,
      "outputs": []
    },
    {
      "cell_type": "code",
      "metadata": {
        "id": "-vwPnGPBXrlq",
        "colab": {
          "base_uri": "https://localhost:8080/"
        },
        "outputId": "2f243239-311c-4326-8299-3cd0135db229"
      },
      "source": [
        "print(X_train)"
      ],
      "execution_count": null,
      "outputs": [
        {
          "output_type": "stream",
          "text": [
            "19801    mike pence to anti-abortion crowd: trump's sup...\n",
            "18378                         reality show slowly sinks in\n",
            "1611     hey, taylor swift, caitlyn jenner got a call f...\n",
            "432                     sheets changed after every breakup\n",
            "21411    a transgender student who was reportedly banne...\n",
            "                               ...                        \n",
            "25402         rupaul is getting a star on the walk of fame\n",
            "18863             composer dan licht on writing for dexter\n",
            "16943    perfect response to heckler somewhere in prop ...\n",
            "11755              local band cleverly alters product logo\n",
            "21809          bus driver appears to have had rough summer\n",
            "Name: headline, Length: 17895, dtype: object\n"
          ],
          "name": "stdout"
        }
      ]
    },
    {
      "cell_type": "code",
      "metadata": {
        "id": "sVkJSLAd0jd5",
        "colab": {
          "base_uri": "https://localhost:8080/"
        },
        "outputId": "3b7bfba0-9a2f-472b-cc0a-c1706efdf9a1"
      },
      "source": [
        "X_train = Normalize(X_train)\n",
        "print(X_train.size)\n",
        "print(X_train)"
      ],
      "execution_count": null,
      "outputs": [
        {
          "output_type": "stream",
          "text": [
            "17895\n",
            "0        mike pence antiabortion crowd trumps supreme c...\n",
            "1                                reality show slowly sinks\n",
            "2           hey taylor swift caitlyn jenner got call kanye\n",
            "3                             sheets changed every breakup\n",
            "4        transgender student reportedly banned school r...\n",
            "                               ...                        \n",
            "17890                        rupaul getting star walk fame\n",
            "17891                    composer dan licht writing dexter\n",
            "17892    perfect response heckler somewhere prop comedi...\n",
            "17893              local band cleverly alters product logo\n",
            "17894                      bus driver appears rough summer\n",
            "Length: 17895, dtype: object\n"
          ],
          "name": "stdout"
        }
      ]
    },
    {
      "cell_type": "code",
      "metadata": {
        "id": "ga1VvWRhaL3s",
        "colab": {
          "base_uri": "https://localhost:8080/"
        },
        "outputId": "1e14ebaa-a633-450f-8c0e-e9e0043a8849"
      },
      "source": [
        "print(X_train[0])"
      ],
      "execution_count": null,
      "outputs": [
        {
          "output_type": "stream",
          "text": [
            "mike pence antiabortion crowd trumps supreme court pick mold antonin scalia\n"
          ],
          "name": "stdout"
        }
      ]
    },
    {
      "cell_type": "code",
      "metadata": {
        "id": "86wkvigF2G-i"
      },
      "source": [
        "def CreateListWord(ListHeadLine):\n",
        "    all_words = []\n",
        "    for headline in ListHeadLine:\n",
        "        all_words.extend(headline.split())\n",
        "    return all_words"
      ],
      "execution_count": null,
      "outputs": []
    },
    {
      "cell_type": "code",
      "metadata": {
        "id": "Mi6e3VO4gH94"
      },
      "source": [
        "def WordToVector(text, F):\n",
        "    X_counts = pd.Series(Counter(CreateListWord(pd.Series(text))))    \n",
        "    new = X_counts.reindex(F.index, fill_value= 0)\n",
        "    return list(new) "
      ],
      "execution_count": null,
      "outputs": []
    },
    {
      "cell_type": "code",
      "metadata": {
        "id": "lqCnjJNHnIXF"
      },
      "source": [
        "def CreateVectorTable(X, mask):\n",
        "    ans = []\n",
        "    for headline in X:\n",
        "        ans.append(WordToVector(headline, mask))\n",
        "    ans = np.array(ans)\n",
        "    return ans"
      ],
      "execution_count": null,
      "outputs": []
    },
    {
      "cell_type": "code",
      "metadata": {
        "id": "B7Z_a9dQ3NW3",
        "colab": {
          "base_uri": "https://localhost:8080/"
        },
        "outputId": "147f7156-c71a-48ce-b33e-0fd8e20f42e9"
      },
      "source": [
        "mask = pd.Series(Counter(CreateListWord(X_train)))\n",
        "ans = CreateVectorTable(X_train, mask)\n",
        "print(ans)"
      ],
      "execution_count": null,
      "outputs": [
        {
          "output_type": "stream",
          "text": [
            "[[1 1 1 ... 0 0 0]\n",
            " [0 0 0 ... 0 0 0]\n",
            " [0 0 1 ... 0 0 0]\n",
            " ...\n",
            " [0 0 0 ... 0 0 0]\n",
            " [0 0 0 ... 1 0 0]\n",
            " [0 0 0 ... 0 1 1]]\n"
          ],
          "name": "stdout"
        }
      ]
    },
    {
      "cell_type": "code",
      "metadata": {
        "id": "dyPLnsDio9UH"
      },
      "source": [
        "from sklearn.linear_model import LogisticRegression\n",
        "logreg = LogisticRegression(C=1e5,max_iter=100000)"
      ],
      "execution_count": null,
      "outputs": []
    },
    {
      "cell_type": "code",
      "metadata": {
        "colab": {
          "base_uri": "https://localhost:8080/"
        },
        "id": "7QY76kr2txZZ",
        "outputId": "3cdc8a1c-a28d-4ef7-bb12-f8cc33db40ea"
      },
      "source": [
        "logreg.fit(ans, Y_train)"
      ],
      "execution_count": null,
      "outputs": [
        {
          "output_type": "execute_result",
          "data": {
            "text/plain": [
              "LogisticRegression(C=100000.0, class_weight=None, dual=False,\n",
              "                   fit_intercept=True, intercept_scaling=1, l1_ratio=None,\n",
              "                   max_iter=100000, multi_class='auto', n_jobs=None,\n",
              "                   penalty='l2', random_state=None, solver='lbfgs', tol=0.0001,\n",
              "                   verbose=0, warm_start=False)"
            ]
          },
          "metadata": {
            "tags": []
          },
          "execution_count": 14
        }
      ]
    },
    {
      "cell_type": "code",
      "metadata": {
        "id": "P3RSoAi8IRQI"
      },
      "source": [
        "X_test = Normalize(X_test)"
      ],
      "execution_count": null,
      "outputs": []
    },
    {
      "cell_type": "code",
      "metadata": {
        "id": "fZg2ekOst3Wu"
      },
      "source": [
        "X_Test_Vector = CreateVectorTable(X_test, mask)"
      ],
      "execution_count": null,
      "outputs": []
    },
    {
      "cell_type": "code",
      "metadata": {
        "colab": {
          "base_uri": "https://localhost:8080/"
        },
        "id": "tMjKhkuj2Fgw",
        "outputId": "d065c20f-5fb3-4973-84a7-41c21269ab03"
      },
      "source": [
        "print(X_Test_Vector)"
      ],
      "execution_count": null,
      "outputs": [
        {
          "output_type": "stream",
          "text": [
            "[[0 0 0 ... 0 0 0]\n",
            " [0 0 0 ... 0 0 0]\n",
            " [0 0 0 ... 0 0 0]\n",
            " ...\n",
            " [0 0 0 ... 0 0 0]\n",
            " [0 0 0 ... 0 0 0]\n",
            " [0 0 0 ... 0 0 0]]\n"
          ],
          "name": "stdout"
        }
      ]
    },
    {
      "cell_type": "code",
      "metadata": {
        "colab": {
          "base_uri": "https://localhost:8080/"
        },
        "id": "mXmLv7BMMvEb",
        "outputId": "d221e903-489e-410f-a178-311132974199"
      },
      "source": [
        "logreg.score(X_Test_Vector, Y_test)"
      ],
      "execution_count": null,
      "outputs": [
        {
          "output_type": "execute_result",
          "data": {
            "text/plain": [
              "0.7607215793056501"
            ]
          },
          "metadata": {
            "tags": []
          },
          "execution_count": 22
        }
      ]
    },
    {
      "cell_type": "code",
      "metadata": {
        "id": "B82ZUmm9M8Wz"
      },
      "source": [
        "data = pd.read_json(\"/content/CS114.L11.KHCL/LogisticsRegression/ThucHanh/Sarcasm_Project/Sarcasm_Headlines_Dataset_v2.json\", lines=True)"
      ],
      "execution_count": null,
      "outputs": []
    },
    {
      "cell_type": "code",
      "metadata": {
        "id": "lAyEz2OvNoqH"
      },
      "source": [
        "del data['article_link']"
      ],
      "execution_count": null,
      "outputs": []
    },
    {
      "cell_type": "code",
      "metadata": {
        "id": "D9XP9_H4Nyac"
      },
      "source": [
        "X_test1, X_test2, Y_test1, Y_test2 = train_test_split(data['headline'], data['is_sarcastic'], test_size= 0.5)"
      ],
      "execution_count": null,
      "outputs": []
    },
    {
      "cell_type": "code",
      "metadata": {
        "colab": {
          "base_uri": "https://localhost:8080/"
        },
        "id": "akqQCbntOKbH",
        "outputId": "df91ed60-4327-4b6f-a98b-da17007bba84"
      },
      "source": [
        "X_test1 = Normalize(X_test1)\n",
        "\n",
        "X_test1 = CreateVectorTable(X_test1, mask)\n"
      ],
      "execution_count": null,
      "outputs": [
        {
          "output_type": "stream",
          "text": [
            "/usr/local/lib/python3.6/dist-packages/ipykernel_launcher.py:2: DeprecationWarning: The default dtype for empty Series will be 'object' instead of 'float64' in a future version. Specify a dtype explicitly to silence this warning.\n",
            "  \n"
          ],
          "name": "stderr"
        }
      ]
    },
    {
      "cell_type": "code",
      "metadata": {
        "id": "3P8R0GqAOq6K"
      },
      "source": [
        "Y_test1 = list(Y_test1)"
      ],
      "execution_count": null,
      "outputs": []
    },
    {
      "cell_type": "code",
      "metadata": {
        "colab": {
          "base_uri": "https://localhost:8080/"
        },
        "id": "muaDr7U5Vzd3",
        "outputId": "052ac3bd-0380-4570-f170-d2d151232c69"
      },
      "source": [
        "logreg.score(X_test1, Y_test1)"
      ],
      "execution_count": null,
      "outputs": [
        {
          "output_type": "execute_result",
          "data": {
            "text/plain": [
              "0.9046753791320148"
            ]
          },
          "metadata": {
            "tags": []
          },
          "execution_count": 30
        }
      ]
    },
    {
      "cell_type": "code",
      "metadata": {
        "id": "VVGO26q2YBng"
      },
      "source": [
        "X_test2 = CreateVectorTable(X_test2, mask)"
      ],
      "execution_count": null,
      "outputs": []
    },
    {
      "cell_type": "code",
      "metadata": {
        "colab": {
          "base_uri": "https://localhost:8080/"
        },
        "id": "Z40piVaobdFK",
        "outputId": "6d843b90-55ad-42c2-e240-dba8907e6b25"
      },
      "source": [
        "Y_test2 = list(Y_test2)\n",
        "logreg.score(X_test2, Y_test2)"
      ],
      "execution_count": null,
      "outputs": [
        {
          "output_type": "execute_result",
          "data": {
            "text/plain": [
              "0.9350104821802935"
            ]
          },
          "metadata": {
            "tags": []
          },
          "execution_count": 21
        }
      ]
    }
  ]
}