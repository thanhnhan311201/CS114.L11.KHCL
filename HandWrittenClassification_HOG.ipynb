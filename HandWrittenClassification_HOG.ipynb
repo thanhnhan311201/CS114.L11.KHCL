{
  "nbformat": 4,
  "nbformat_minor": 0,
  "metadata": {
    "colab": {
      "name": "HandWrittenClassification_HOG.ipynb",
      "provenance": [],
      "collapsed_sections": [],
      "authorship_tag": "ABX9TyNMZSGT1iYsszPWY+7aap9d",
      "include_colab_link": true
    },
    "kernelspec": {
      "name": "python3",
      "display_name": "Python 3"
    },
    "accelerator": "GPU"
  },
  "cells": [
    {
      "cell_type": "markdown",
      "metadata": {
        "id": "view-in-github",
        "colab_type": "text"
      },
      "source": [
        "<a href=\"https://colab.research.google.com/github/thanhnhan311201/CS114.L11.KHCL/blob/master/HandWrittenClassification_HOG.ipynb\" target=\"_parent\"><img src=\"https://colab.research.google.com/assets/colab-badge.svg\" alt=\"Open In Colab\"/></a>"
      ]
    },
    {
      "cell_type": "code",
      "metadata": {
        "colab": {
          "base_uri": "https://localhost:8080/"
        },
        "id": "p_aIsTWOGNeg",
        "outputId": "99722350-6cdc-45b8-ae3d-10fe335d3944"
      },
      "source": [
        "from google.colab import drive\n",
        "drive.mount('/content/drive')"
      ],
      "execution_count": null,
      "outputs": [
        {
          "output_type": "stream",
          "text": [
            "Mounted at /content/drive\n"
          ],
          "name": "stdout"
        }
      ]
    },
    {
      "cell_type": "code",
      "metadata": {
        "id": "zjtGmn8JGu2S"
      },
      "source": [
        "import numpy as np\n",
        "import pandas as pd\n",
        "import matplotlib.pyplot as plt\n",
        "import os"
      ],
      "execution_count": null,
      "outputs": []
    },
    {
      "cell_type": "code",
      "metadata": {
        "colab": {
          "base_uri": "https://localhost:8080/"
        },
        "id": "YBOoPGbH2GrR",
        "outputId": "8dcbe38c-75a6-4c3a-bb0e-6082cca59818"
      },
      "source": [
        "list_class = sorted(os.listdir('/content/drive/MyDrive/Dataset/train'))\r\n",
        "print(list_class)"
      ],
      "execution_count": null,
      "outputs": [
        {
          "output_type": "stream",
          "text": [
            "['a', 'à', 'á', 'â', 'ầ', 'ấ', 'ẫ', 'ẩ', 'ã', 'ă', 'ằ', 'ắ', 'ẵ', 'ẳ', 'ả', 'ạ', 'ậ', 'ặ', 'b', 'c', 'd', 'e', 'è', 'é', 'ê', 'ề', 'ế', 'ễ', 'ể', 'ẽ', 'ẻ', 'ẹ', 'ệ', 'g', 'h', 'i', 'ì', 'í', 'ĩ', 'ỉ', 'ị', 'k', 'l', 'm', 'n', 'o', 'ò', 'ó', 'ô', 'ồ', 'ố', 'ỗ', 'ổ', 'õ', 'ỏ', 'ơ', 'ờ', 'ớ', 'ỡ', 'ở', 'ợ', 'ọ', 'ộ', 'p', 'q', 'r', 's', 't', 'u', 'ù', 'ú', 'ũ', 'ủ', 'ư', 'ừ', 'ứ', 'ữ', 'ử', 'ự', 'ụ', 'v', 'x', 'y', 'ỳ', 'ý', 'ỹ', 'ỷ', 'ỵ', 'đ']\n"
          ],
          "name": "stdout"
        }
      ]
    },
    {
      "cell_type": "code",
      "metadata": {
        "id": "jl6mHxJDHXrM"
      },
      "source": [
        "data_train_hog = pd.read_csv('/content/drive/MyDrive/Dataset/hogcsv/X_train.csv', header=None)\n",
        "data_val_hog = pd.read_csv('/content/drive/MyDrive/Dataset/hogcsv/X_vali.csv', header=None)\n",
        "label_train_hog = pd.read_csv('/content/drive/MyDrive/Dataset/hogcsv/Y_train.csv', header= None)\n",
        "label_val_hog = pd.read_csv('/content/drive/MyDrive/Dataset/hogcsv/Y_vali.csv', header= None)"
      ],
      "execution_count": null,
      "outputs": []
    },
    {
      "cell_type": "code",
      "metadata": {
        "colab": {
          "base_uri": "https://localhost:8080/"
        },
        "id": "Tv84TmvCIPXp",
        "outputId": "de993412-366b-473b-f53c-0c1b10e47fee"
      },
      "source": [
        "X_train  = np.array(data_train_hog)\n",
        "X_val = np.array(data_val_hog)\n",
        "print(X_train.shape, X_val.shape)"
      ],
      "execution_count": null,
      "outputs": [
        {
          "output_type": "stream",
          "text": [
            "(11865, 2907) (2984, 2907)\n"
          ],
          "name": "stdout"
        }
      ]
    },
    {
      "cell_type": "code",
      "metadata": {
        "colab": {
          "base_uri": "https://localhost:8080/"
        },
        "id": "bg4_1P-EI4qH",
        "outputId": "c051b35c-07f9-4e86-e6a5-798dcbf7bfb0"
      },
      "source": [
        "Y_train = np.array(label_train_hog).ravel()\n",
        "Y_val =  np.array(label_val_hog).ravel()\n",
        "print(Y_train.shape, Y_val.shape)"
      ],
      "execution_count": null,
      "outputs": [
        {
          "output_type": "stream",
          "text": [
            "(11865,) (2984,)\n"
          ],
          "name": "stdout"
        }
      ]
    },
    {
      "cell_type": "code",
      "metadata": {
        "id": "uFq9GGcLO4No"
      },
      "source": [
        "from sklearn.metrics import classification_report, confusion_matrix, accuracy_score\n",
        "from sklearn.svm import SVC"
      ],
      "execution_count": null,
      "outputs": []
    },
    {
      "cell_type": "markdown",
      "metadata": {
        "id": "F_miT78v3X0x"
      },
      "source": [
        "# Naive Bayes"
      ]
    },
    {
      "cell_type": "code",
      "metadata": {
        "colab": {
          "base_uri": "https://localhost:8080/"
        },
        "id": "mpjRUhHx2mwA",
        "outputId": "f077a5e7-41a0-47f2-9cae-e8d2968073b8"
      },
      "source": [
        "from sklearn.naive_bayes import MultinomialNB\r\n",
        "clf = MultinomialNB()\r\n",
        "clf.fit(X_train,Y_train)\r\n",
        "print(accuracy_score(Y_val,clf.predict(X_val)))"
      ],
      "execution_count": null,
      "outputs": [
        {
          "output_type": "stream",
          "text": [
            "0.1638739946380697\n"
          ],
          "name": "stdout"
        }
      ]
    },
    {
      "cell_type": "markdown",
      "metadata": {
        "id": "li-VyRCcJYFu"
      },
      "source": [
        "#Model Logistic Regression\n"
      ]
    },
    {
      "cell_type": "code",
      "metadata": {
        "id": "j4bs9ZG9JQ3I"
      },
      "source": [
        "from sklearn.linear_model import LogisticRegressionCV"
      ],
      "execution_count": null,
      "outputs": []
    },
    {
      "cell_type": "code",
      "metadata": {
        "id": "EG2UzozUKXRX",
        "colab": {
          "base_uri": "https://localhost:8080/",
          "height": 354
        },
        "outputId": "1788d4a7-2fc1-4809-fd59-d24a89f44f08"
      },
      "source": [
        "Lgr = LogisticRegressionCV(solver= 'liblinear', max_iter=100)\n",
        "Lgr.fit(X_train, Y_train)\n",
        "print(accuracy_score(Y_val, Lgr.predict(X_val)))"
      ],
      "execution_count": null,
      "outputs": [
        {
          "output_type": "error",
          "ename": "KeyboardInterrupt",
          "evalue": "ignored",
          "traceback": [
            "\u001b[0;31m---------------------------------------------------------------------------\u001b[0m",
            "\u001b[0;31mKeyboardInterrupt\u001b[0m                         Traceback (most recent call last)",
            "\u001b[0;32m<ipython-input-14-6c4cc184658e>\u001b[0m in \u001b[0;36m<module>\u001b[0;34m()\u001b[0m\n\u001b[1;32m      1\u001b[0m \u001b[0mLgr\u001b[0m \u001b[0;34m=\u001b[0m \u001b[0mLogisticRegressionCV\u001b[0m\u001b[0;34m(\u001b[0m\u001b[0msolver\u001b[0m\u001b[0;34m=\u001b[0m \u001b[0;34m'liblinear'\u001b[0m\u001b[0;34m,\u001b[0m \u001b[0mmax_iter\u001b[0m\u001b[0;34m=\u001b[0m\u001b[0;36m100\u001b[0m\u001b[0;34m)\u001b[0m\u001b[0;34m\u001b[0m\u001b[0;34m\u001b[0m\u001b[0m\n\u001b[0;32m----> 2\u001b[0;31m \u001b[0mLgr\u001b[0m\u001b[0;34m.\u001b[0m\u001b[0mfit\u001b[0m\u001b[0;34m(\u001b[0m\u001b[0mX_train\u001b[0m\u001b[0;34m,\u001b[0m \u001b[0mY_train\u001b[0m\u001b[0;34m)\u001b[0m\u001b[0;34m\u001b[0m\u001b[0;34m\u001b[0m\u001b[0m\n\u001b[0m\u001b[1;32m      3\u001b[0m \u001b[0mprint\u001b[0m\u001b[0;34m(\u001b[0m\u001b[0maccuracy_score\u001b[0m\u001b[0;34m(\u001b[0m\u001b[0mY_val\u001b[0m\u001b[0;34m,\u001b[0m \u001b[0mLgr\u001b[0m\u001b[0;34m.\u001b[0m\u001b[0mpredict\u001b[0m\u001b[0;34m(\u001b[0m\u001b[0mX_val\u001b[0m\u001b[0;34m)\u001b[0m\u001b[0;34m)\u001b[0m\u001b[0;34m)\u001b[0m\u001b[0;34m\u001b[0m\u001b[0;34m\u001b[0m\u001b[0m\n",
            "\u001b[0;32m/usr/local/lib/python3.6/dist-packages/sklearn/linear_model/_logistic.py\u001b[0m in \u001b[0;36mfit\u001b[0;34m(self, X, y, sample_weight)\u001b[0m\n\u001b[1;32m   2083\u001b[0m                       \u001b[0ml1_ratio\u001b[0m\u001b[0;34m=\u001b[0m\u001b[0ml1_ratio\u001b[0m\u001b[0;34m\u001b[0m\u001b[0;34m\u001b[0m\u001b[0m\n\u001b[1;32m   2084\u001b[0m                       )\n\u001b[0;32m-> 2085\u001b[0;31m             \u001b[0;32mfor\u001b[0m \u001b[0mlabel\u001b[0m \u001b[0;32min\u001b[0m \u001b[0miter_encoded_labels\u001b[0m\u001b[0;34m\u001b[0m\u001b[0;34m\u001b[0m\u001b[0m\n\u001b[0m\u001b[1;32m   2086\u001b[0m             \u001b[0;32mfor\u001b[0m \u001b[0mtrain\u001b[0m\u001b[0;34m,\u001b[0m \u001b[0mtest\u001b[0m \u001b[0;32min\u001b[0m \u001b[0mfolds\u001b[0m\u001b[0;34m\u001b[0m\u001b[0;34m\u001b[0m\u001b[0m\n\u001b[1;32m   2087\u001b[0m             for l1_ratio in l1_ratios_)\n",
            "\u001b[0;32m/usr/local/lib/python3.6/dist-packages/joblib/parallel.py\u001b[0m in \u001b[0;36m__call__\u001b[0;34m(self, iterable)\u001b[0m\n\u001b[1;32m   1042\u001b[0m                 \u001b[0mself\u001b[0m\u001b[0;34m.\u001b[0m\u001b[0m_iterating\u001b[0m \u001b[0;34m=\u001b[0m \u001b[0mself\u001b[0m\u001b[0;34m.\u001b[0m\u001b[0m_original_iterator\u001b[0m \u001b[0;32mis\u001b[0m \u001b[0;32mnot\u001b[0m \u001b[0;32mNone\u001b[0m\u001b[0;34m\u001b[0m\u001b[0;34m\u001b[0m\u001b[0m\n\u001b[1;32m   1043\u001b[0m \u001b[0;34m\u001b[0m\u001b[0m\n\u001b[0;32m-> 1044\u001b[0;31m             \u001b[0;32mwhile\u001b[0m \u001b[0mself\u001b[0m\u001b[0;34m.\u001b[0m\u001b[0mdispatch_one_batch\u001b[0m\u001b[0;34m(\u001b[0m\u001b[0miterator\u001b[0m\u001b[0;34m)\u001b[0m\u001b[0;34m:\u001b[0m\u001b[0;34m\u001b[0m\u001b[0;34m\u001b[0m\u001b[0m\n\u001b[0m\u001b[1;32m   1045\u001b[0m                 \u001b[0;32mpass\u001b[0m\u001b[0;34m\u001b[0m\u001b[0;34m\u001b[0m\u001b[0m\n\u001b[1;32m   1046\u001b[0m \u001b[0;34m\u001b[0m\u001b[0m\n",
            "\u001b[0;32m/usr/local/lib/python3.6/dist-packages/joblib/parallel.py\u001b[0m in \u001b[0;36mdispatch_one_batch\u001b[0;34m(self, iterator)\u001b[0m\n\u001b[1;32m    857\u001b[0m                 \u001b[0;32mreturn\u001b[0m \u001b[0;32mFalse\u001b[0m\u001b[0;34m\u001b[0m\u001b[0;34m\u001b[0m\u001b[0m\n\u001b[1;32m    858\u001b[0m             \u001b[0;32melse\u001b[0m\u001b[0;34m:\u001b[0m\u001b[0;34m\u001b[0m\u001b[0;34m\u001b[0m\u001b[0m\n\u001b[0;32m--> 859\u001b[0;31m                 \u001b[0mself\u001b[0m\u001b[0;34m.\u001b[0m\u001b[0m_dispatch\u001b[0m\u001b[0;34m(\u001b[0m\u001b[0mtasks\u001b[0m\u001b[0;34m)\u001b[0m\u001b[0;34m\u001b[0m\u001b[0;34m\u001b[0m\u001b[0m\n\u001b[0m\u001b[1;32m    860\u001b[0m                 \u001b[0;32mreturn\u001b[0m \u001b[0;32mTrue\u001b[0m\u001b[0;34m\u001b[0m\u001b[0;34m\u001b[0m\u001b[0m\n\u001b[1;32m    861\u001b[0m \u001b[0;34m\u001b[0m\u001b[0m\n",
            "\u001b[0;32m/usr/local/lib/python3.6/dist-packages/joblib/parallel.py\u001b[0m in \u001b[0;36m_dispatch\u001b[0;34m(self, batch)\u001b[0m\n\u001b[1;32m    775\u001b[0m         \u001b[0;32mwith\u001b[0m \u001b[0mself\u001b[0m\u001b[0;34m.\u001b[0m\u001b[0m_lock\u001b[0m\u001b[0;34m:\u001b[0m\u001b[0;34m\u001b[0m\u001b[0;34m\u001b[0m\u001b[0m\n\u001b[1;32m    776\u001b[0m             \u001b[0mjob_idx\u001b[0m \u001b[0;34m=\u001b[0m \u001b[0mlen\u001b[0m\u001b[0;34m(\u001b[0m\u001b[0mself\u001b[0m\u001b[0;34m.\u001b[0m\u001b[0m_jobs\u001b[0m\u001b[0;34m)\u001b[0m\u001b[0;34m\u001b[0m\u001b[0;34m\u001b[0m\u001b[0m\n\u001b[0;32m--> 777\u001b[0;31m             \u001b[0mjob\u001b[0m \u001b[0;34m=\u001b[0m \u001b[0mself\u001b[0m\u001b[0;34m.\u001b[0m\u001b[0m_backend\u001b[0m\u001b[0;34m.\u001b[0m\u001b[0mapply_async\u001b[0m\u001b[0;34m(\u001b[0m\u001b[0mbatch\u001b[0m\u001b[0;34m,\u001b[0m \u001b[0mcallback\u001b[0m\u001b[0;34m=\u001b[0m\u001b[0mcb\u001b[0m\u001b[0;34m)\u001b[0m\u001b[0;34m\u001b[0m\u001b[0;34m\u001b[0m\u001b[0m\n\u001b[0m\u001b[1;32m    778\u001b[0m             \u001b[0;31m# A job can complete so quickly than its callback is\u001b[0m\u001b[0;34m\u001b[0m\u001b[0;34m\u001b[0m\u001b[0;34m\u001b[0m\u001b[0m\n\u001b[1;32m    779\u001b[0m             \u001b[0;31m# called before we get here, causing self._jobs to\u001b[0m\u001b[0;34m\u001b[0m\u001b[0;34m\u001b[0m\u001b[0;34m\u001b[0m\u001b[0m\n",
            "\u001b[0;32m/usr/local/lib/python3.6/dist-packages/joblib/_parallel_backends.py\u001b[0m in \u001b[0;36mapply_async\u001b[0;34m(self, func, callback)\u001b[0m\n\u001b[1;32m    206\u001b[0m     \u001b[0;32mdef\u001b[0m \u001b[0mapply_async\u001b[0m\u001b[0;34m(\u001b[0m\u001b[0mself\u001b[0m\u001b[0;34m,\u001b[0m \u001b[0mfunc\u001b[0m\u001b[0;34m,\u001b[0m \u001b[0mcallback\u001b[0m\u001b[0;34m=\u001b[0m\u001b[0;32mNone\u001b[0m\u001b[0;34m)\u001b[0m\u001b[0;34m:\u001b[0m\u001b[0;34m\u001b[0m\u001b[0;34m\u001b[0m\u001b[0m\n\u001b[1;32m    207\u001b[0m         \u001b[0;34m\"\"\"Schedule a func to be run\"\"\"\u001b[0m\u001b[0;34m\u001b[0m\u001b[0;34m\u001b[0m\u001b[0m\n\u001b[0;32m--> 208\u001b[0;31m         \u001b[0mresult\u001b[0m \u001b[0;34m=\u001b[0m \u001b[0mImmediateResult\u001b[0m\u001b[0;34m(\u001b[0m\u001b[0mfunc\u001b[0m\u001b[0;34m)\u001b[0m\u001b[0;34m\u001b[0m\u001b[0;34m\u001b[0m\u001b[0m\n\u001b[0m\u001b[1;32m    209\u001b[0m         \u001b[0;32mif\u001b[0m \u001b[0mcallback\u001b[0m\u001b[0;34m:\u001b[0m\u001b[0;34m\u001b[0m\u001b[0;34m\u001b[0m\u001b[0m\n\u001b[1;32m    210\u001b[0m             \u001b[0mcallback\u001b[0m\u001b[0;34m(\u001b[0m\u001b[0mresult\u001b[0m\u001b[0;34m)\u001b[0m\u001b[0;34m\u001b[0m\u001b[0;34m\u001b[0m\u001b[0m\n",
            "\u001b[0;32m/usr/local/lib/python3.6/dist-packages/joblib/_parallel_backends.py\u001b[0m in \u001b[0;36m__init__\u001b[0;34m(self, batch)\u001b[0m\n\u001b[1;32m    570\u001b[0m         \u001b[0;31m# Don't delay the application, to avoid keeping the input\u001b[0m\u001b[0;34m\u001b[0m\u001b[0;34m\u001b[0m\u001b[0;34m\u001b[0m\u001b[0m\n\u001b[1;32m    571\u001b[0m         \u001b[0;31m# arguments in memory\u001b[0m\u001b[0;34m\u001b[0m\u001b[0;34m\u001b[0m\u001b[0;34m\u001b[0m\u001b[0m\n\u001b[0;32m--> 572\u001b[0;31m         \u001b[0mself\u001b[0m\u001b[0;34m.\u001b[0m\u001b[0mresults\u001b[0m \u001b[0;34m=\u001b[0m \u001b[0mbatch\u001b[0m\u001b[0;34m(\u001b[0m\u001b[0;34m)\u001b[0m\u001b[0;34m\u001b[0m\u001b[0;34m\u001b[0m\u001b[0m\n\u001b[0m\u001b[1;32m    573\u001b[0m \u001b[0;34m\u001b[0m\u001b[0m\n\u001b[1;32m    574\u001b[0m     \u001b[0;32mdef\u001b[0m \u001b[0mget\u001b[0m\u001b[0;34m(\u001b[0m\u001b[0mself\u001b[0m\u001b[0;34m)\u001b[0m\u001b[0;34m:\u001b[0m\u001b[0;34m\u001b[0m\u001b[0;34m\u001b[0m\u001b[0m\n",
            "\u001b[0;32m/usr/local/lib/python3.6/dist-packages/joblib/parallel.py\u001b[0m in \u001b[0;36m__call__\u001b[0;34m(self)\u001b[0m\n\u001b[1;32m    261\u001b[0m         \u001b[0;32mwith\u001b[0m \u001b[0mparallel_backend\u001b[0m\u001b[0;34m(\u001b[0m\u001b[0mself\u001b[0m\u001b[0;34m.\u001b[0m\u001b[0m_backend\u001b[0m\u001b[0;34m,\u001b[0m \u001b[0mn_jobs\u001b[0m\u001b[0;34m=\u001b[0m\u001b[0mself\u001b[0m\u001b[0;34m.\u001b[0m\u001b[0m_n_jobs\u001b[0m\u001b[0;34m)\u001b[0m\u001b[0;34m:\u001b[0m\u001b[0;34m\u001b[0m\u001b[0;34m\u001b[0m\u001b[0m\n\u001b[1;32m    262\u001b[0m             return [func(*args, **kwargs)\n\u001b[0;32m--> 263\u001b[0;31m                     for func, args, kwargs in self.items]\n\u001b[0m\u001b[1;32m    264\u001b[0m \u001b[0;34m\u001b[0m\u001b[0m\n\u001b[1;32m    265\u001b[0m     \u001b[0;32mdef\u001b[0m \u001b[0m__reduce__\u001b[0m\u001b[0;34m(\u001b[0m\u001b[0mself\u001b[0m\u001b[0;34m)\u001b[0m\u001b[0;34m:\u001b[0m\u001b[0;34m\u001b[0m\u001b[0;34m\u001b[0m\u001b[0m\n",
            "\u001b[0;32m/usr/local/lib/python3.6/dist-packages/joblib/parallel.py\u001b[0m in \u001b[0;36m<listcomp>\u001b[0;34m(.0)\u001b[0m\n\u001b[1;32m    261\u001b[0m         \u001b[0;32mwith\u001b[0m \u001b[0mparallel_backend\u001b[0m\u001b[0;34m(\u001b[0m\u001b[0mself\u001b[0m\u001b[0;34m.\u001b[0m\u001b[0m_backend\u001b[0m\u001b[0;34m,\u001b[0m \u001b[0mn_jobs\u001b[0m\u001b[0;34m=\u001b[0m\u001b[0mself\u001b[0m\u001b[0;34m.\u001b[0m\u001b[0m_n_jobs\u001b[0m\u001b[0;34m)\u001b[0m\u001b[0;34m:\u001b[0m\u001b[0;34m\u001b[0m\u001b[0;34m\u001b[0m\u001b[0m\n\u001b[1;32m    262\u001b[0m             return [func(*args, **kwargs)\n\u001b[0;32m--> 263\u001b[0;31m                     for func, args, kwargs in self.items]\n\u001b[0m\u001b[1;32m    264\u001b[0m \u001b[0;34m\u001b[0m\u001b[0m\n\u001b[1;32m    265\u001b[0m     \u001b[0;32mdef\u001b[0m \u001b[0m__reduce__\u001b[0m\u001b[0;34m(\u001b[0m\u001b[0mself\u001b[0m\u001b[0;34m)\u001b[0m\u001b[0;34m:\u001b[0m\u001b[0;34m\u001b[0m\u001b[0;34m\u001b[0m\u001b[0m\n",
            "\u001b[0;32m/usr/local/lib/python3.6/dist-packages/sklearn/linear_model/_logistic.py\u001b[0m in \u001b[0;36m_log_reg_scoring_path\u001b[0;34m(X, y, train, test, pos_class, Cs, scoring, fit_intercept, max_iter, tol, class_weight, verbose, solver, penalty, dual, intercept_scaling, multi_class, random_state, max_squared_sum, sample_weight, l1_ratio)\u001b[0m\n\u001b[1;32m   1150\u001b[0m         \u001b[0mpenalty\u001b[0m\u001b[0;34m=\u001b[0m\u001b[0mpenalty\u001b[0m\u001b[0;34m,\u001b[0m \u001b[0mintercept_scaling\u001b[0m\u001b[0;34m=\u001b[0m\u001b[0mintercept_scaling\u001b[0m\u001b[0;34m,\u001b[0m\u001b[0;34m\u001b[0m\u001b[0;34m\u001b[0m\u001b[0m\n\u001b[1;32m   1151\u001b[0m         \u001b[0mrandom_state\u001b[0m\u001b[0;34m=\u001b[0m\u001b[0mrandom_state\u001b[0m\u001b[0;34m,\u001b[0m \u001b[0mcheck_input\u001b[0m\u001b[0;34m=\u001b[0m\u001b[0;32mFalse\u001b[0m\u001b[0;34m,\u001b[0m\u001b[0;34m\u001b[0m\u001b[0;34m\u001b[0m\u001b[0m\n\u001b[0;32m-> 1152\u001b[0;31m         max_squared_sum=max_squared_sum, sample_weight=sample_weight)\n\u001b[0m\u001b[1;32m   1153\u001b[0m \u001b[0;34m\u001b[0m\u001b[0m\n\u001b[1;32m   1154\u001b[0m     \u001b[0mlog_reg\u001b[0m \u001b[0;34m=\u001b[0m \u001b[0mLogisticRegression\u001b[0m\u001b[0;34m(\u001b[0m\u001b[0msolver\u001b[0m\u001b[0;34m=\u001b[0m\u001b[0msolver\u001b[0m\u001b[0;34m,\u001b[0m \u001b[0mmulti_class\u001b[0m\u001b[0;34m=\u001b[0m\u001b[0mmulti_class\u001b[0m\u001b[0;34m)\u001b[0m\u001b[0;34m\u001b[0m\u001b[0;34m\u001b[0m\u001b[0m\n",
            "\u001b[0;32m/usr/local/lib/python3.6/dist-packages/sklearn/linear_model/_logistic.py\u001b[0m in \u001b[0;36m_logistic_regression_path\u001b[0;34m(X, y, pos_class, Cs, fit_intercept, max_iter, tol, verbose, solver, coef, class_weight, dual, penalty, intercept_scaling, multi_class, random_state, check_input, max_squared_sum, sample_weight, l1_ratio)\u001b[0m\n\u001b[1;32m    948\u001b[0m                 \u001b[0mX\u001b[0m\u001b[0;34m,\u001b[0m \u001b[0mtarget\u001b[0m\u001b[0;34m,\u001b[0m \u001b[0mC\u001b[0m\u001b[0;34m,\u001b[0m \u001b[0mfit_intercept\u001b[0m\u001b[0;34m,\u001b[0m \u001b[0mintercept_scaling\u001b[0m\u001b[0;34m,\u001b[0m \u001b[0;32mNone\u001b[0m\u001b[0;34m,\u001b[0m\u001b[0;34m\u001b[0m\u001b[0;34m\u001b[0m\u001b[0m\n\u001b[1;32m    949\u001b[0m                 \u001b[0mpenalty\u001b[0m\u001b[0;34m,\u001b[0m \u001b[0mdual\u001b[0m\u001b[0;34m,\u001b[0m \u001b[0mverbose\u001b[0m\u001b[0;34m,\u001b[0m \u001b[0mmax_iter\u001b[0m\u001b[0;34m,\u001b[0m \u001b[0mtol\u001b[0m\u001b[0;34m,\u001b[0m \u001b[0mrandom_state\u001b[0m\u001b[0;34m,\u001b[0m\u001b[0;34m\u001b[0m\u001b[0;34m\u001b[0m\u001b[0m\n\u001b[0;32m--> 950\u001b[0;31m                 sample_weight=sample_weight)\n\u001b[0m\u001b[1;32m    951\u001b[0m             \u001b[0;32mif\u001b[0m \u001b[0mfit_intercept\u001b[0m\u001b[0;34m:\u001b[0m\u001b[0;34m\u001b[0m\u001b[0;34m\u001b[0m\u001b[0m\n\u001b[1;32m    952\u001b[0m                 \u001b[0mw0\u001b[0m \u001b[0;34m=\u001b[0m \u001b[0mnp\u001b[0m\u001b[0;34m.\u001b[0m\u001b[0mconcatenate\u001b[0m\u001b[0;34m(\u001b[0m\u001b[0;34m[\u001b[0m\u001b[0mcoef_\u001b[0m\u001b[0;34m.\u001b[0m\u001b[0mravel\u001b[0m\u001b[0;34m(\u001b[0m\u001b[0;34m)\u001b[0m\u001b[0;34m,\u001b[0m \u001b[0mintercept_\u001b[0m\u001b[0;34m]\u001b[0m\u001b[0;34m)\u001b[0m\u001b[0;34m\u001b[0m\u001b[0;34m\u001b[0m\u001b[0m\n",
            "\u001b[0;32m/usr/local/lib/python3.6/dist-packages/sklearn/svm/_base.py\u001b[0m in \u001b[0;36m_fit_liblinear\u001b[0;34m(X, y, C, fit_intercept, intercept_scaling, class_weight, penalty, dual, verbose, max_iter, tol, random_state, multi_class, loss, epsilon, sample_weight)\u001b[0m\n\u001b[1;32m    937\u001b[0m         \u001b[0mX\u001b[0m\u001b[0;34m,\u001b[0m \u001b[0my_ind\u001b[0m\u001b[0;34m,\u001b[0m \u001b[0msp\u001b[0m\u001b[0;34m.\u001b[0m\u001b[0misspmatrix\u001b[0m\u001b[0;34m(\u001b[0m\u001b[0mX\u001b[0m\u001b[0;34m)\u001b[0m\u001b[0;34m,\u001b[0m \u001b[0msolver_type\u001b[0m\u001b[0;34m,\u001b[0m \u001b[0mtol\u001b[0m\u001b[0;34m,\u001b[0m \u001b[0mbias\u001b[0m\u001b[0;34m,\u001b[0m \u001b[0mC\u001b[0m\u001b[0;34m,\u001b[0m\u001b[0;34m\u001b[0m\u001b[0;34m\u001b[0m\u001b[0m\n\u001b[1;32m    938\u001b[0m         \u001b[0mclass_weight_\u001b[0m\u001b[0;34m,\u001b[0m \u001b[0mmax_iter\u001b[0m\u001b[0;34m,\u001b[0m \u001b[0mrnd\u001b[0m\u001b[0;34m.\u001b[0m\u001b[0mrandint\u001b[0m\u001b[0;34m(\u001b[0m\u001b[0mnp\u001b[0m\u001b[0;34m.\u001b[0m\u001b[0miinfo\u001b[0m\u001b[0;34m(\u001b[0m\u001b[0;34m'i'\u001b[0m\u001b[0;34m)\u001b[0m\u001b[0;34m.\u001b[0m\u001b[0mmax\u001b[0m\u001b[0;34m)\u001b[0m\u001b[0;34m,\u001b[0m\u001b[0;34m\u001b[0m\u001b[0;34m\u001b[0m\u001b[0m\n\u001b[0;32m--> 939\u001b[0;31m         epsilon, sample_weight)\n\u001b[0m\u001b[1;32m    940\u001b[0m     \u001b[0;31m# Regarding rnd.randint(..) in the above signature:\u001b[0m\u001b[0;34m\u001b[0m\u001b[0;34m\u001b[0m\u001b[0;34m\u001b[0m\u001b[0m\n\u001b[1;32m    941\u001b[0m     \u001b[0;31m# seed for srand in range [0..INT_MAX); due to limitations in Numpy\u001b[0m\u001b[0;34m\u001b[0m\u001b[0;34m\u001b[0m\u001b[0;34m\u001b[0m\u001b[0m\n",
            "\u001b[0;31mKeyboardInterrupt\u001b[0m: "
          ]
        }
      ]
    },
    {
      "cell_type": "code",
      "metadata": {
        "colab": {
          "base_uri": "https://localhost:8080/"
        },
        "id": "6bQ-WdlmAPH9",
        "outputId": "13dc35c0-be41-459a-c29a-b6ea421e72c5"
      },
      "source": [
        "Lgr1 = LogisticRegressionCV(solver= 'lbfgs', max_iter=1000)\n",
        "Lgr1.fit(X_train, Y_train)\n",
        "print(accuracy_score(Y_val, Lgr1.predict(X_val)))"
      ],
      "execution_count": null,
      "outputs": [
        {
          "output_type": "stream",
          "text": [
            "0.27245308310991956\n"
          ],
          "name": "stdout"
        }
      ]
    },
    {
      "cell_type": "code",
      "metadata": {
        "colab": {
          "base_uri": "https://localhost:8080/"
        },
        "id": "eD8KBH5BzyLk",
        "outputId": "7dfa1069-62f7-4c16-c0d2-317401de3b25"
      },
      "source": [
        "Lgr2 = LogisticRegressionCV(solver= 'lbfgs', max_iter=2000)\n",
        "Lgr2.fit(X_train, Y_train)\n",
        "print(accuracy_score(Y_val, Lgr1.predict(X_val)))"
      ],
      "execution_count": null,
      "outputs": [
        {
          "output_type": "stream",
          "text": [
            "0.27245308310991956\n"
          ],
          "name": "stdout"
        }
      ]
    },
    {
      "cell_type": "markdown",
      "metadata": {
        "id": "C3iCNJPuKTrX"
      },
      "source": [
        "# Model SVM\n"
      ]
    },
    {
      "cell_type": "code",
      "metadata": {
        "colab": {
          "base_uri": "https://localhost:8080/"
        },
        "id": "a08Yl3bzOhz6",
        "outputId": "9fafacb6-75ec-42e6-992a-f06ef7e66306"
      },
      "source": [
        "from sklearn.svm import LinearSVC\n",
        "model1_hog = LinearSVC(C=1e-3)\n",
        "#best: 1e-3\n",
        "model1_hog.fit(X_train, Y_train)\n",
        "y_pred = model1_hog.predict(X_val)\n",
        "print(accuracy_score(Y_val, y_pred))"
      ],
      "execution_count": null,
      "outputs": [
        {
          "output_type": "stream",
          "text": [
            "0.2667560321715818\n"
          ],
          "name": "stdout"
        }
      ]
    },
    {
      "cell_type": "code",
      "metadata": {
        "colab": {
          "base_uri": "https://localhost:8080/"
        },
        "id": "Yq4R7NU2It8E",
        "outputId": "70d1dda1-b4c0-46b7-fe28-6c46d94819a9"
      },
      "source": [
        "print(classification_report(Y_val, y_pred, target_names=list_class))"
      ],
      "execution_count": null,
      "outputs": [
        {
          "output_type": "stream",
          "text": [
            "              precision    recall  f1-score   support\n",
            "\n",
            "           a       0.22      0.39      0.28        36\n",
            "          à       0.30      0.28      0.29        36\n",
            "          á       0.27      0.25      0.26        36\n",
            "          â       0.16      0.17      0.16        35\n",
            "         ầ       0.38      0.34      0.36        35\n",
            "         ấ       0.26      0.25      0.26        36\n",
            "         ẫ       0.24      0.19      0.22        36\n",
            "         ẩ       0.32      0.33      0.33        36\n",
            "          ã       0.22      0.14      0.17        36\n",
            "          ă       0.32      0.33      0.32        36\n",
            "         ằ       0.25      0.28      0.26        36\n",
            "         ắ       0.30      0.17      0.21        36\n",
            "         ẵ       0.18      0.25      0.21        36\n",
            "         ẳ       0.26      0.22      0.24        36\n",
            "          ả       0.24      0.19      0.22        36\n",
            "          ạ       0.25      0.28      0.26        36\n",
            "         ậ       0.41      0.40      0.41        35\n",
            "         ặ       0.16      0.22      0.19        36\n",
            "           b       0.32      0.29      0.30        35\n",
            "           c       0.20      0.15      0.17        34\n",
            "           d       0.38      0.38      0.38        34\n",
            "           e       0.23      0.15      0.18        34\n",
            "          è       0.23      0.29      0.25        28\n",
            "          é       0.32      0.25      0.28        28\n",
            "          ê       0.17      0.04      0.06        28\n",
            "         ề       0.32      0.32      0.32        28\n",
            "         ế       0.24      0.29      0.26        28\n",
            "         ễ       0.19      0.14      0.16        28\n",
            "         ể       0.21      0.21      0.21        28\n",
            "          ẽ       0.25      0.07      0.11        28\n",
            "          ẻ       0.27      0.25      0.26        28\n",
            "          ẹ       0.27      0.14      0.19        28\n",
            "         ệ       0.27      0.11      0.15        28\n",
            "           g       0.19      0.11      0.14        28\n",
            "           h       0.31      0.18      0.23        28\n",
            "           i       0.11      0.04      0.05        28\n",
            "          ì       0.19      0.11      0.14        28\n",
            "          í       0.17      0.04      0.06        28\n",
            "          ĩ       0.43      0.43      0.43        28\n",
            "          ỉ       0.31      0.29      0.30        28\n",
            "          ị       0.26      0.21      0.24        28\n",
            "           k       0.25      0.35      0.29        40\n",
            "           l       0.24      0.40      0.30        40\n",
            "           m       0.39      0.43      0.41        28\n",
            "           n       0.14      0.07      0.10        28\n",
            "           o       0.26      0.33      0.29        36\n",
            "          ò       0.25      0.28      0.26        36\n",
            "          ó       0.27      0.19      0.23        36\n",
            "          ô       0.30      0.33      0.32        36\n",
            "         ồ       0.24      0.25      0.24        36\n",
            "         ố       0.19      0.14      0.16        36\n",
            "         ỗ       0.12      0.14      0.13        36\n",
            "         ổ       0.18      0.19      0.19        36\n",
            "          õ       0.21      0.14      0.17        36\n",
            "          ỏ       0.22      0.14      0.17        36\n",
            "          ơ       0.19      0.17      0.18        36\n",
            "         ờ       0.21      0.28      0.24        36\n",
            "         ớ       0.21      0.19      0.20        36\n",
            "         ỡ       0.22      0.22      0.22        36\n",
            "         ở       0.27      0.28      0.27        36\n",
            "         ợ       0.28      0.28      0.28        36\n",
            "          ọ       0.46      0.33      0.39        36\n",
            "         ộ       0.21      0.25      0.23        36\n",
            "           p       0.42      0.64      0.51        36\n",
            "           q       0.43      0.59      0.49        34\n",
            "           r       0.12      0.09      0.10        35\n",
            "           s       0.39      0.32      0.35        34\n",
            "           t       0.35      0.50      0.41        34\n",
            "           u       0.40      0.53      0.46        30\n",
            "          ù       0.36      0.29      0.32        28\n",
            "          ú       0.29      0.14      0.19        28\n",
            "          ũ       0.19      0.11      0.14        28\n",
            "          ủ       0.24      0.21      0.23        28\n",
            "          ư       0.22      0.32      0.26        28\n",
            "         ừ       0.35      0.21      0.27        28\n",
            "         ứ       0.32      0.21      0.26        28\n",
            "         ữ       0.14      0.11      0.12        28\n",
            "         ử       0.11      0.07      0.09        28\n",
            "         ự       0.20      0.11      0.14        28\n",
            "          ụ       0.19      0.11      0.14        27\n",
            "           v       0.25      0.11      0.15        28\n",
            "           x       0.19      0.25      0.21        40\n",
            "           y       0.23      0.20      0.21        30\n",
            "          ỳ       0.30      0.55      0.39        51\n",
            "          ý       0.23      0.47      0.31        53\n",
            "          ỹ       0.40      0.79      0.53        52\n",
            "          ỷ       0.25      0.52      0.34        52\n",
            "          ỵ       0.30      0.36      0.33        36\n",
            "           đ       0.32      0.24      0.27        34\n",
            "\n",
            "    accuracy                           0.27      2984\n",
            "   macro avg       0.26      0.25      0.25      2984\n",
            "weighted avg       0.26      0.27      0.25      2984\n",
            "\n"
          ],
          "name": "stdout"
        }
      ]
    },
    {
      "cell_type": "code",
      "metadata": {
        "colab": {
          "base_uri": "https://localhost:8080/"
        },
        "id": "OQgAgqmxXms2",
        "outputId": "0436e28e-5e0e-4445-90eb-cc4cd29897bc"
      },
      "source": [
        "\n",
        "model2_hog = SVC(C=1e-4, kernel='rbf')\n",
        "model2_hog.fit(X_train, Y_train)\n",
        "y_pred = model2_hog.predict(X_val)\n",
        "print(accuracy_score(Y_val, y_pred))"
      ],
      "execution_count": null,
      "outputs": [
        {
          "output_type": "stream",
          "text": [
            "0.017761394101876677\n"
          ],
          "name": "stdout"
        }
      ]
    },
    {
      "cell_type": "code",
      "metadata": {
        "colab": {
          "base_uri": "https://localhost:8080/"
        },
        "id": "ZjrAprXvew5x",
        "outputId": "30fff261-ff9c-44fa-eabc-28e11062a0cc"
      },
      "source": [
        "model3_hog = SVC(C=1)\n",
        "model3_hog.fit(X_train, Y_train)\n",
        "y_pred = model3_hog.predict(X_val)\n",
        "print(accuracy_score(Y_val, y_pred))"
      ],
      "execution_count": null,
      "outputs": [
        {
          "output_type": "stream",
          "text": [
            "0.2691018766756032\n"
          ],
          "name": "stdout"
        }
      ]
    },
    {
      "cell_type": "code",
      "metadata": {
        "colab": {
          "base_uri": "https://localhost:8080/"
        },
        "id": "LYEnU_AgsFqY",
        "outputId": "cec81b7e-d2af-4b4f-9885-d3e0543e6b95"
      },
      "source": [
        "print(classification_report(Y_val, model3_hog.predict(X_val), target_names=list_class))"
      ],
      "execution_count": null,
      "outputs": [
        {
          "output_type": "stream",
          "text": [
            "              precision    recall  f1-score   support\n",
            "\n",
            "           a       0.31      0.64      0.42        36\n",
            "          à       0.36      0.36      0.36        36\n",
            "          á       0.18      0.19      0.19        36\n",
            "          â       0.27      0.11      0.16        35\n",
            "         ầ       0.50      0.23      0.31        35\n",
            "         ấ       0.29      0.36      0.32        36\n",
            "         ẫ       0.35      0.25      0.29        36\n",
            "         ẩ       0.41      0.31      0.35        36\n",
            "          ã       0.60      0.08      0.15        36\n",
            "          ă       0.18      0.28      0.22        36\n",
            "         ằ       0.29      0.28      0.28        36\n",
            "         ắ       0.21      0.11      0.15        36\n",
            "         ẵ       0.18      0.44      0.26        36\n",
            "         ẳ       0.16      0.31      0.21        36\n",
            "          ả       0.28      0.14      0.19        36\n",
            "          ạ       0.40      0.28      0.33        36\n",
            "         ậ       0.50      0.54      0.52        35\n",
            "         ặ       0.17      0.44      0.25        36\n",
            "           b       0.33      0.17      0.23        35\n",
            "           c       0.67      0.12      0.20        34\n",
            "           d       0.69      0.26      0.38        34\n",
            "           e       0.38      0.18      0.24        34\n",
            "          è       0.22      0.18      0.20        28\n",
            "          é       0.22      0.61      0.32        28\n",
            "          ê       0.00      0.00      0.00        28\n",
            "         ề       0.23      0.18      0.20        28\n",
            "         ế       0.23      0.25      0.24        28\n",
            "         ễ       0.00      0.00      0.00        28\n",
            "         ể       0.00      0.00      0.00        28\n",
            "          ẽ       0.00      0.00      0.00        28\n",
            "          ẻ       0.54      0.25      0.34        28\n",
            "          ẹ       0.27      0.11      0.15        28\n",
            "         ệ       1.00      0.04      0.07        28\n",
            "           g       1.00      0.04      0.07        28\n",
            "           h       0.67      0.07      0.13        28\n",
            "           i       0.20      0.04      0.06        28\n",
            "          ì       1.00      0.14      0.25        28\n",
            "          í       0.50      0.04      0.07        28\n",
            "          ĩ       0.55      0.43      0.48        28\n",
            "          ỉ       0.36      0.36      0.36        28\n",
            "          ị       0.40      0.29      0.33        28\n",
            "           k       0.24      0.40      0.30        40\n",
            "           l       0.29      0.35      0.31        40\n",
            "           m       0.54      0.25      0.34        28\n",
            "           n       0.50      0.11      0.18        28\n",
            "           o       0.17      0.42      0.24        36\n",
            "          ò       0.30      0.25      0.27        36\n",
            "          ó       0.58      0.19      0.29        36\n",
            "          ô       0.20      0.44      0.27        36\n",
            "         ồ       0.29      0.25      0.27        36\n",
            "         ố       0.21      0.08      0.12        36\n",
            "         ỗ       0.15      0.39      0.21        36\n",
            "         ổ       0.17      0.44      0.24        36\n",
            "          õ       0.24      0.11      0.15        36\n",
            "          ỏ       0.19      0.19      0.19        36\n",
            "          ơ       0.11      0.17      0.13        36\n",
            "         ờ       0.41      0.33      0.37        36\n",
            "         ớ       0.39      0.19      0.26        36\n",
            "         ỡ       0.31      0.28      0.29        36\n",
            "         ở       0.40      0.28      0.33        36\n",
            "         ợ       0.53      0.22      0.31        36\n",
            "          ọ       0.44      0.11      0.18        36\n",
            "         ộ       0.22      0.39      0.28        36\n",
            "           p       0.54      0.58      0.56        36\n",
            "           q       0.62      0.29      0.40        34\n",
            "           r       0.33      0.14      0.20        35\n",
            "           s       0.30      0.24      0.26        34\n",
            "           t       0.41      0.53      0.46        34\n",
            "           u       0.36      0.53      0.43        30\n",
            "          ù       0.32      0.25      0.28        28\n",
            "          ú       0.20      0.14      0.17        28\n",
            "          ũ       0.12      0.04      0.06        28\n",
            "          ủ       0.22      0.25      0.23        28\n",
            "          ư       0.38      0.39      0.39        28\n",
            "         ừ       0.29      0.07      0.11        28\n",
            "         ứ       0.29      0.14      0.19        28\n",
            "         ữ       0.50      0.04      0.07        28\n",
            "         ử       0.00      0.00      0.00        28\n",
            "         ự       0.00      0.00      0.00        28\n",
            "          ụ       0.09      0.07      0.08        27\n",
            "           v       0.00      0.00      0.00        28\n",
            "           x       0.15      0.38      0.21        40\n",
            "           y       1.00      0.13      0.24        30\n",
            "          ỳ       0.17      0.78      0.28        51\n",
            "          ý       0.40      0.26      0.32        53\n",
            "          ỹ       0.58      0.71      0.64        52\n",
            "          ỷ       0.19      0.75      0.30        52\n",
            "          ỵ       0.48      0.44      0.46        36\n",
            "           đ       0.43      0.26      0.33        34\n",
            "\n",
            "    accuracy                           0.27      2984\n",
            "   macro avg       0.34      0.25      0.24      2984\n",
            "weighted avg       0.34      0.27      0.25      2984\n",
            "\n"
          ],
          "name": "stdout"
        },
        {
          "output_type": "stream",
          "text": [
            "/usr/local/lib/python3.6/dist-packages/sklearn/metrics/_classification.py:1272: UndefinedMetricWarning: Precision and F-score are ill-defined and being set to 0.0 in labels with no predicted samples. Use `zero_division` parameter to control this behavior.\n",
            "  _warn_prf(average, modifier, msg_start, len(result))\n"
          ],
          "name": "stderr"
        }
      ]
    },
    {
      "cell_type": "code",
      "metadata": {
        "colab": {
          "base_uri": "https://localhost:8080/"
        },
        "id": "X2s2U0vMjaIA",
        "outputId": "af2426b7-ec84-4ec1-e30c-50b927d77a2a"
      },
      "source": [
        "model3_hog = SVC(C=2)\n",
        "model3_hog.fit(X_train, Y_train)\n",
        "y_pred = model3_hog.predict(X_val)\n",
        "print(accuracy_score(Y_val, y_pred))\n",
        "print(classification_report(Y_val, y_pred))"
      ],
      "execution_count": null,
      "outputs": [
        {
          "output_type": "stream",
          "text": [
            "0.3140080428954424\n",
            "              precision    recall  f1-score   support\n",
            "\n",
            "           0       0.37      0.61      0.46        36\n",
            "           1       0.39      0.33      0.36        36\n",
            "           2       0.28      0.28      0.28        36\n",
            "           3       0.19      0.17      0.18        35\n",
            "           4       0.36      0.26      0.30        35\n",
            "           5       0.28      0.36      0.31        36\n",
            "           6       0.48      0.36      0.41        36\n",
            "           7       0.54      0.39      0.45        36\n",
            "           8       0.33      0.08      0.13        36\n",
            "           9       0.29      0.33      0.31        36\n",
            "          10       0.28      0.31      0.29        36\n",
            "          11       0.25      0.14      0.18        36\n",
            "          12       0.17      0.44      0.25        36\n",
            "          13       0.18      0.33      0.23        36\n",
            "          14       0.25      0.19      0.22        36\n",
            "          15       0.41      0.31      0.35        36\n",
            "          16       0.51      0.60      0.55        35\n",
            "          17       0.18      0.44      0.25        36\n",
            "          18       0.56      0.29      0.38        35\n",
            "          19       0.69      0.32      0.44        34\n",
            "          20       0.78      0.41      0.54        34\n",
            "          21       0.32      0.21      0.25        34\n",
            "          22       0.35      0.29      0.31        28\n",
            "          23       0.29      0.50      0.36        28\n",
            "          24       0.33      0.07      0.12        28\n",
            "          25       0.32      0.29      0.30        28\n",
            "          26       0.23      0.25      0.24        28\n",
            "          27       0.00      0.00      0.00        28\n",
            "          28       0.25      0.14      0.18        28\n",
            "          29       0.50      0.14      0.22        28\n",
            "          30       0.40      0.29      0.33        28\n",
            "          31       0.17      0.11      0.13        28\n",
            "          32       0.67      0.07      0.13        28\n",
            "          33       0.60      0.11      0.18        28\n",
            "          34       0.71      0.18      0.29        28\n",
            "          35       0.15      0.07      0.10        28\n",
            "          36       0.67      0.21      0.32        28\n",
            "          37       0.60      0.11      0.18        28\n",
            "          38       0.56      0.50      0.53        28\n",
            "          39       0.38      0.36      0.37        28\n",
            "          40       0.37      0.25      0.30        28\n",
            "          41       0.21      0.47      0.29        40\n",
            "          42       0.41      0.35      0.38        40\n",
            "          43       0.67      0.43      0.52        28\n",
            "          44       0.33      0.14      0.20        28\n",
            "          45       0.28      0.44      0.34        36\n",
            "          46       0.32      0.28      0.30        36\n",
            "          47       0.45      0.25      0.32        36\n",
            "          48       0.33      0.47      0.39        36\n",
            "          49       0.28      0.25      0.26        36\n",
            "          50       0.33      0.17      0.22        36\n",
            "          51       0.14      0.33      0.20        36\n",
            "          52       0.15      0.36      0.21        36\n",
            "          53       0.26      0.14      0.18        36\n",
            "          54       0.20      0.19      0.20        36\n",
            "          55       0.11      0.19      0.14        36\n",
            "          56       0.41      0.33      0.37        36\n",
            "          57       0.32      0.25      0.28        36\n",
            "          58       0.35      0.31      0.33        36\n",
            "          59       0.34      0.28      0.31        36\n",
            "          60       0.58      0.31      0.40        36\n",
            "          61       0.47      0.19      0.27        36\n",
            "          62       0.22      0.39      0.28        36\n",
            "          63       0.57      0.58      0.58        36\n",
            "          64       0.71      0.35      0.47        34\n",
            "          65       0.38      0.26      0.31        35\n",
            "          66       0.43      0.29      0.35        34\n",
            "          67       0.51      0.59      0.55        34\n",
            "          68       0.43      0.60      0.50        30\n",
            "          69       0.38      0.29      0.33        28\n",
            "          70       0.29      0.25      0.27        28\n",
            "          71       0.21      0.11      0.14        28\n",
            "          72       0.35      0.32      0.33        28\n",
            "          73       0.40      0.43      0.41        28\n",
            "          74       0.41      0.25      0.31        28\n",
            "          75       0.40      0.29      0.33        28\n",
            "          76       0.75      0.11      0.19        28\n",
            "          77       0.50      0.07      0.12        28\n",
            "          78       0.50      0.11      0.18        28\n",
            "          79       0.18      0.11      0.14        27\n",
            "          80       0.50      0.07      0.12        28\n",
            "          81       0.17      0.40      0.24        40\n",
            "          82       0.56      0.17      0.26        30\n",
            "          83       0.20      0.71      0.31        51\n",
            "          84       0.39      0.42      0.40        53\n",
            "          85       0.67      0.73      0.70        52\n",
            "          86       0.22      0.69      0.33        52\n",
            "          87       0.53      0.44      0.48        36\n",
            "          88       0.46      0.35      0.40        34\n",
            "\n",
            "    accuracy                           0.31      2984\n",
            "   macro avg       0.38      0.30      0.30      2984\n",
            "weighted avg       0.38      0.31      0.31      2984\n",
            "\n"
          ],
          "name": "stdout"
        }
      ]
    },
    {
      "cell_type": "code",
      "metadata": {
        "colab": {
          "base_uri": "https://localhost:8080/"
        },
        "id": "hH474G4zsdd_",
        "outputId": "7e6801c9-f477-4d36-a76b-cf531d4a4077"
      },
      "source": [
        "model4_hog = SVC(C=3)\n",
        "model4_hog.fit(X_train, Y_train)\n",
        "y_pred = model4_hog.predict(X_val)\n",
        "print(accuracy_score(Y_val, y_pred))\n",
        "print(classification_report(Y_val, y_pred))"
      ],
      "execution_count": null,
      "outputs": [
        {
          "output_type": "stream",
          "text": [
            "0.31668900804289546\n"
          ],
          "name": "stdout"
        }
      ]
    },
    {
      "cell_type": "code",
      "metadata": {
        "colab": {
          "base_uri": "https://localhost:8080/"
        },
        "id": "xznom3dZqJTK",
        "outputId": "06bd9f20-3ed4-4d9b-c4f1-873804084a7d"
      },
      "source": [
        "model5_hog = SVC(C=5)\n",
        "model5_hog.fit(X_train, Y_train)\n",
        "y_pred = model5_hog.predict(X_val)\n",
        "print(accuracy_score(Y_val, y_pred))"
      ],
      "execution_count": null,
      "outputs": [
        {
          "output_type": "stream",
          "text": [
            "0.31702412868632707\n"
          ],
          "name": "stdout"
        }
      ]
    },
    {
      "cell_type": "code",
      "metadata": {
        "colab": {
          "base_uri": "https://localhost:8080/"
        },
        "id": "EEHw_7kJQSSJ",
        "outputId": "0f685ce8-e155-45c6-97f9-4fd8a1e345f9"
      },
      "source": [
        "print(classification_report(Y_val, model5_hog.predict(X_val), target_names=list_class))"
      ],
      "execution_count": null,
      "outputs": [
        {
          "output_type": "stream",
          "text": [
            "              precision    recall  f1-score   support\n",
            "\n",
            "           a       0.39      0.58      0.47        36\n",
            "          à       0.36      0.33      0.35        36\n",
            "          á       0.26      0.28      0.27        36\n",
            "          â       0.19      0.17      0.18        35\n",
            "         ầ       0.35      0.26      0.30        35\n",
            "         ấ       0.28      0.36      0.31        36\n",
            "         ẫ       0.48      0.36      0.41        36\n",
            "         ẩ       0.52      0.39      0.44        36\n",
            "          ã       0.33      0.08      0.13        36\n",
            "          ă       0.29      0.33      0.31        36\n",
            "         ằ       0.29      0.31      0.30        36\n",
            "         ắ       0.25      0.14      0.18        36\n",
            "         ẵ       0.17      0.44      0.25        36\n",
            "         ẳ       0.18      0.33      0.23        36\n",
            "          ả       0.26      0.19      0.22        36\n",
            "          ạ       0.38      0.31      0.34        36\n",
            "         ậ       0.50      0.60      0.55        35\n",
            "         ặ       0.18      0.44      0.25        36\n",
            "           b       0.53      0.29      0.37        35\n",
            "           c       0.79      0.32      0.46        34\n",
            "           d       0.83      0.44      0.58        34\n",
            "           e       0.28      0.21      0.24        34\n",
            "          è       0.38      0.29      0.33        28\n",
            "          é       0.33      0.50      0.39        28\n",
            "          ê       0.25      0.07      0.11        28\n",
            "         ề       0.32      0.29      0.30        28\n",
            "         ế       0.23      0.25      0.24        28\n",
            "         ễ       0.00      0.00      0.00        28\n",
            "         ể       0.27      0.14      0.19        28\n",
            "          ẽ       0.50      0.14      0.22        28\n",
            "          ẻ       0.35      0.25      0.29        28\n",
            "          ẹ       0.19      0.14      0.16        28\n",
            "         ệ       0.67      0.07      0.13        28\n",
            "           g       0.60      0.11      0.18        28\n",
            "           h       0.62      0.18      0.28        28\n",
            "           i       0.15      0.07      0.10        28\n",
            "          ì       1.00      0.21      0.35        28\n",
            "          í       0.57      0.14      0.23        28\n",
            "          ĩ       0.58      0.54      0.56        28\n",
            "          ỉ       0.40      0.36      0.38        28\n",
            "          ị       0.42      0.29      0.34        28\n",
            "           k       0.21      0.47      0.29        40\n",
            "           l       0.42      0.38      0.39        40\n",
            "           m       0.67      0.43      0.52        28\n",
            "           n       0.33      0.18      0.23        28\n",
            "           o       0.29      0.42      0.34        36\n",
            "          ò       0.34      0.31      0.32        36\n",
            "          ó       0.43      0.25      0.32        36\n",
            "          ô       0.34      0.44      0.39        36\n",
            "         ồ       0.28      0.25      0.26        36\n",
            "         ố       0.32      0.17      0.22        36\n",
            "         ỗ       0.14      0.33      0.19        36\n",
            "         ổ       0.15      0.36      0.21        36\n",
            "          õ       0.26      0.14      0.18        36\n",
            "          ỏ       0.19      0.19      0.19        36\n",
            "          ơ       0.11      0.19      0.14        36\n",
            "         ờ       0.40      0.33      0.36        36\n",
            "         ớ       0.33      0.25      0.29        36\n",
            "         ỡ       0.35      0.31      0.33        36\n",
            "         ở       0.33      0.28      0.30        36\n",
            "         ợ       0.58      0.31      0.40        36\n",
            "          ọ       0.50      0.22      0.31        36\n",
            "         ộ       0.22      0.39      0.28        36\n",
            "           p       0.58      0.58      0.58        36\n",
            "           q       0.71      0.35      0.47        34\n",
            "           r       0.48      0.29      0.36        35\n",
            "           s       0.45      0.29      0.36        34\n",
            "           t       0.51      0.59      0.55        34\n",
            "           u       0.43      0.53      0.48        30\n",
            "          ù       0.43      0.32      0.37        28\n",
            "          ú       0.32      0.25      0.28        28\n",
            "          ũ       0.21      0.11      0.14        28\n",
            "          ủ       0.35      0.32      0.33        28\n",
            "          ư       0.38      0.43      0.40        28\n",
            "         ừ       0.39      0.25      0.30        28\n",
            "         ứ       0.40      0.29      0.33        28\n",
            "         ữ       0.60      0.11      0.18        28\n",
            "         ử       0.50      0.07      0.12        28\n",
            "         ự       0.50      0.11      0.18        28\n",
            "          ụ       0.20      0.11      0.14        27\n",
            "           v       0.43      0.11      0.17        28\n",
            "           x       0.17      0.40      0.24        40\n",
            "           y       0.56      0.17      0.26        30\n",
            "          ỳ       0.20      0.73      0.31        51\n",
            "          ý       0.40      0.43      0.42        53\n",
            "          ỹ       0.68      0.75      0.72        52\n",
            "          ỷ       0.22      0.69      0.33        52\n",
            "          ỵ       0.53      0.44      0.48        36\n",
            "           đ       0.48      0.35      0.41        34\n",
            "\n",
            "    accuracy                           0.32      2984\n",
            "   macro avg       0.38      0.30      0.31      2984\n",
            "weighted avg       0.38      0.32      0.31      2984\n",
            "\n"
          ],
          "name": "stdout"
        }
      ]
    },
    {
      "cell_type": "code",
      "metadata": {
        "colab": {
          "base_uri": "https://localhost:8080/"
        },
        "id": "8EjpXBG9vswz",
        "outputId": "12bf5595-7642-4df5-deeb-0453586f5bfe"
      },
      "source": [
        "model6_hog = SVC(C=8)\n",
        "model6_hog.fit(X_train, Y_train)\n",
        "y_pred = model6_hog.predict(X_val)\n",
        "print(accuracy_score(Y_val, y_pred))"
      ],
      "execution_count": null,
      "outputs": [
        {
          "output_type": "stream",
          "text": [
            "0.31702412868632707\n"
          ],
          "name": "stdout"
        }
      ]
    },
    {
      "cell_type": "code",
      "metadata": {
        "colab": {
          "base_uri": "https://localhost:8080/"
        },
        "id": "lZCH_mtPpicI",
        "outputId": "e52415c9-be40-4d0f-dc62-28e3c37c3801"
      },
      "source": [
        "model7_hog = SVC(C=12)\n",
        "model7_hog.fit(X_train, Y_train)\n",
        "y_pred = model7_hog.predict(X_val)\n",
        "print(accuracy_score(Y_val, y_pred))"
      ],
      "execution_count": null,
      "outputs": [
        {
          "output_type": "stream",
          "text": [
            "0.31702412868632707\n"
          ],
          "name": "stdout"
        }
      ]
    },
    {
      "cell_type": "code",
      "metadata": {
        "id": "CzJzkx6M5JlY"
      },
      "source": [
        "model8_hog = SVC(C=5, gamma=0.0001, probability=True)\n",
        "model8_hog.fit(X_train, Y_train)\n",
        "y_pred = model8_hog.predict(X_val)\n",
        "print(accuracy_score(Y_val, y_pred))"
      ],
      "execution_count": null,
      "outputs": []
    },
    {
      "cell_type": "code",
      "metadata": {
        "id": "3n52qsZKPbKq"
      },
      "source": [
        "from sklearn.tree import DecisionTreeClassifier\n",
        "from sklearn.model_selection import GridSearchCV\n",
        "DTree = DecisionTreeClassifier(criterion='entropy')\n",
        "DTree.fit(X_train, Y_train)\n"
      ],
      "execution_count": null,
      "outputs": []
    },
    {
      "cell_type": "code",
      "metadata": {
        "colab": {
          "base_uri": "https://localhost:8080/"
        },
        "id": "5nuG4HpWbDDU",
        "outputId": "342eb211-0552-452c-ace2-71f00cb5da3c"
      },
      "source": [
        "print(accuracy_score(Y_val, DTree.predict(X_val)))    "
      ],
      "execution_count": null,
      "outputs": [
        {
          "output_type": "stream",
          "text": [
            "0.10556300268096515\n"
          ],
          "name": "stdout"
        }
      ]
    },
    {
      "cell_type": "code",
      "metadata": {
        "id": "YuYBJ9SnTlnm",
        "colab": {
          "base_uri": "https://localhost:8080/"
        },
        "outputId": "29338032-1cd4-4677-a9b9-23c090ae27cd"
      },
      "source": [
        "from sklearn.neural_network import MLPClassifier\n",
        "model9_hog = MLPClassifier(activation= 'relu',hidden_layer_sizes= (6000, ), max_iter= 300)\n",
        "model9_hog.fit(X_train, Y_train)\n",
        "y_pred = model9_hog.predict(X_val)\n",
        "print(accuracy_score(Y_val, y_pred))"
      ],
      "execution_count": null,
      "outputs": [
        {
          "output_type": "stream",
          "text": [
            "0.3314343163538874\n"
          ],
          "name": "stdout"
        }
      ]
    },
    {
      "cell_type": "code",
      "metadata": {
        "colab": {
          "base_uri": "https://localhost:8080/"
        },
        "id": "ujzx7HlhnGf7",
        "outputId": "8a6f5d93-805a-4c15-8406-b6967bae4fcd"
      },
      "source": [
        "print(classification_report(Y_val, model9_hog.predict(X_val), target_names=list_class))"
      ],
      "execution_count": null,
      "outputs": [
        {
          "output_type": "stream",
          "text": [
            "              precision    recall  f1-score   support\n",
            "\n",
            "           a       0.35      0.42      0.38        36\n",
            "          à       0.30      0.28      0.29        36\n",
            "          á       0.41      0.25      0.31        36\n",
            "          â       0.17      0.23      0.20        35\n",
            "         ầ       0.30      0.26      0.28        35\n",
            "         ấ       0.24      0.25      0.24        36\n",
            "         ẫ       0.50      0.44      0.47        36\n",
            "         ẩ       0.35      0.39      0.37        36\n",
            "          ã       0.17      0.14      0.15        36\n",
            "          ă       0.30      0.28      0.29        36\n",
            "         ằ       0.26      0.25      0.26        36\n",
            "         ắ       0.36      0.25      0.30        36\n",
            "         ẵ       0.23      0.28      0.25        36\n",
            "         ẳ       0.20      0.28      0.24        36\n",
            "          ả       0.24      0.25      0.24        36\n",
            "          ạ       0.33      0.33      0.33        36\n",
            "         ậ       0.59      0.54      0.57        35\n",
            "         ặ       0.21      0.28      0.24        36\n",
            "           b       0.42      0.37      0.39        35\n",
            "           c       0.35      0.35      0.35        34\n",
            "           d       0.43      0.44      0.43        34\n",
            "           e       0.22      0.21      0.21        34\n",
            "          è       0.54      0.68      0.60        28\n",
            "          é       0.33      0.43      0.38        28\n",
            "          ê       0.11      0.07      0.09        28\n",
            "         ề       0.44      0.39      0.42        28\n",
            "         ế       0.31      0.32      0.32        28\n",
            "         ễ       0.30      0.25      0.27        28\n",
            "         ể       0.27      0.25      0.26        28\n",
            "          ẽ       0.29      0.21      0.24        28\n",
            "          ẻ       0.38      0.36      0.37        28\n",
            "          ẹ       0.16      0.14      0.15        28\n",
            "         ệ       0.20      0.18      0.19        28\n",
            "           g       0.32      0.25      0.28        28\n",
            "           h       0.23      0.21      0.22        28\n",
            "           i       0.14      0.11      0.12        28\n",
            "          ì       0.35      0.29      0.31        28\n",
            "          í       0.25      0.11      0.15        28\n",
            "          ĩ       0.48      0.43      0.45        28\n",
            "          ỉ       0.28      0.39      0.32        28\n",
            "          ị       0.38      0.29      0.33        28\n",
            "           k       0.25      0.30      0.27        40\n",
            "           l       0.30      0.40      0.34        40\n",
            "           m       0.58      0.54      0.56        28\n",
            "           n       0.24      0.18      0.20        28\n",
            "           o       0.37      0.44      0.41        36\n",
            "          ò       0.36      0.36      0.36        36\n",
            "          ó       0.24      0.22      0.23        36\n",
            "          ô       0.35      0.39      0.37        36\n",
            "         ồ       0.24      0.28      0.26        36\n",
            "         ố       0.21      0.25      0.23        36\n",
            "         ỗ       0.22      0.28      0.25        36\n",
            "         ổ       0.19      0.19      0.19        36\n",
            "          õ       0.20      0.19      0.20        36\n",
            "          ỏ       0.28      0.25      0.26        36\n",
            "          ơ       0.23      0.25      0.24        36\n",
            "         ờ       0.22      0.31      0.26        36\n",
            "         ớ       0.27      0.22      0.24        36\n",
            "         ỡ       0.26      0.28      0.27        36\n",
            "         ở       0.30      0.31      0.30        36\n",
            "         ợ       0.29      0.28      0.29        36\n",
            "          ọ       0.43      0.44      0.44        36\n",
            "         ộ       0.27      0.22      0.24        36\n",
            "           p       0.56      0.69      0.62        36\n",
            "           q       0.47      0.53      0.50        34\n",
            "           r       0.36      0.34      0.35        35\n",
            "           s       0.44      0.35      0.39        34\n",
            "           t       0.58      0.56      0.57        34\n",
            "           u       0.53      0.67      0.59        30\n",
            "          ù       0.48      0.36      0.41        28\n",
            "          ú       0.47      0.25      0.33        28\n",
            "          ũ       0.29      0.21      0.24        28\n",
            "          ủ       0.40      0.43      0.41        28\n",
            "          ư       0.41      0.43      0.42        28\n",
            "         ừ       0.38      0.32      0.35        28\n",
            "         ứ       0.35      0.32      0.33        28\n",
            "         ữ       0.17      0.11      0.13        28\n",
            "         ử       0.19      0.14      0.16        28\n",
            "         ự       0.15      0.11      0.12        28\n",
            "          ụ       0.21      0.15      0.17        27\n",
            "           v       0.25      0.21      0.23        28\n",
            "           x       0.23      0.28      0.25        40\n",
            "           y       0.37      0.33      0.35        30\n",
            "          ỳ       0.39      0.55      0.46        51\n",
            "          ý       0.33      0.47      0.39        53\n",
            "          ỹ       0.68      0.83      0.75        52\n",
            "          ỷ       0.44      0.50      0.47        52\n",
            "          ỵ       0.56      0.50      0.53        36\n",
            "           đ       0.37      0.38      0.38        34\n",
            "\n",
            "    accuracy                           0.33      2984\n",
            "   macro avg       0.33      0.32      0.32      2984\n",
            "weighted avg       0.33      0.33      0.33      2984\n",
            "\n"
          ],
          "name": "stdout"
        }
      ]
    },
    {
      "cell_type": "code",
      "metadata": {
        "id": "CML_aK_TYvLU"
      },
      "source": [
        "model10_hog = MLPClassifier(activation= 'relu', solver= 'sgd',hidden_layer_sizes= (5000, ), max_iter= 300)\n",
        "model10_hog.fit(X_train, Y_train)\n",
        "y_pred = model10_hog.predict(X_val)\n",
        "print(accuracy_score(Y_val, y_pred))"
      ],
      "execution_count": null,
      "outputs": []
    },
    {
      "cell_type": "code",
      "metadata": {
        "id": "-u3TEN39h5Ta"
      },
      "source": [
        "data_test = pd.read_csv('/content/drive/MyDrive/Dataset/hogcsv/X_test.csv')\r\n",
        "label_test = pd.read_csv('/content/drive/MyDrive/Dataset/hogcsv/Y_test.csv')"
      ],
      "execution_count": null,
      "outputs": []
    },
    {
      "cell_type": "code",
      "metadata": {
        "id": "_2uRLMqfo6Dz"
      },
      "source": [
        "X_test = np.array(data_test)\r\n",
        "Y_test = np.array(label_test)"
      ],
      "execution_count": null,
      "outputs": []
    },
    {
      "cell_type": "code",
      "metadata": {
        "colab": {
          "base_uri": "https://localhost:8080/"
        },
        "id": "NGs3vTqppDVj",
        "outputId": "d25b846b-7b10-4e06-b128-d62881d0b4f5"
      },
      "source": [
        "#model5_hog : SVC(C= 5)\r\n",
        "print(\"SVC Model accuracy: \", accuracy_score(Y_test, model5_hog.predict(X_test)))\r\n",
        "#model9_hog : MLPClassifier\r\n",
        "print(\"MLPClassifier Model accuracy: \", accuracy_score(Y_test, model9_hog.predict(X_test)))\r\n"
      ],
      "execution_count": null,
      "outputs": [
        {
          "output_type": "stream",
          "text": [
            "SVC Model accuracy:  0.0544069640914037\n",
            "MLPClassifier Model accuracy:  0.06673920928545521\n"
          ],
          "name": "stdout"
        }
      ]
    },
    {
      "cell_type": "code",
      "metadata": {
        "colab": {
          "base_uri": "https://localhost:8080/"
        },
        "id": "fne3e0GnqOda",
        "outputId": "61f313ad-3cd4-4634-ddcc-e0692bf33055"
      },
      "source": [
        "print(classification_report(Y_test, model5_hog.predict(X_test), target_names=list_class))"
      ],
      "execution_count": null,
      "outputs": [
        {
          "output_type": "stream",
          "text": [
            "              precision    recall  f1-score   support\n",
            "\n",
            "           a       0.07      0.03      0.05        29\n",
            "          à       0.00      0.00      0.00        30\n",
            "          á       0.00      0.00      0.00        30\n",
            "          â       0.00      0.00      0.00        30\n",
            "         ầ       1.00      0.03      0.06        30\n",
            "         ấ       0.07      0.17      0.10        30\n",
            "         ẫ       0.83      0.17      0.28        30\n",
            "         ẩ       0.36      0.13      0.20        30\n",
            "          ã       0.00      0.00      0.00        30\n",
            "          ă       0.20      0.03      0.06        30\n",
            "         ằ       0.05      0.07      0.06        30\n",
            "         ắ       0.00      0.00      0.00        30\n",
            "         ẵ       0.04      0.10      0.05        30\n",
            "         ẳ       0.01      0.07      0.02        30\n",
            "          ả       0.00      0.00      0.00        30\n",
            "          ạ       0.17      0.03      0.06        30\n",
            "         ậ       0.00      0.00      0.00        30\n",
            "         ặ       0.06      0.10      0.07        30\n",
            "           b       0.57      0.13      0.22        30\n",
            "           c       0.38      0.10      0.16        30\n",
            "           d       0.50      0.13      0.21        30\n",
            "           e       0.12      0.13      0.13        30\n",
            "          è       0.00      0.00      0.00        30\n",
            "          é       0.00      0.00      0.00        30\n",
            "          ê       0.00      0.00      0.00        30\n",
            "         ề       0.00      0.00      0.00        30\n",
            "         ế       0.00      0.00      0.00        30\n",
            "         ễ       0.04      0.13      0.06        30\n",
            "         ể       0.00      0.00      0.00        30\n",
            "          ẽ       0.00      0.00      0.00        30\n",
            "          ẻ       0.00      0.00      0.00        30\n",
            "          ẹ       0.00      0.00      0.00        30\n",
            "         ệ       0.19      0.10      0.13        30\n",
            "           g       0.00      0.00      0.00        30\n",
            "           h       0.00      0.00      0.00        30\n",
            "           i       0.00      0.00      0.00        40\n",
            "          ì       0.00      0.00      0.00        30\n",
            "          í       0.00      0.00      0.00        30\n",
            "          ĩ       0.00      0.00      0.00        30\n",
            "          ỉ       0.00      0.00      0.00        30\n",
            "          ị       0.00      0.00      0.00        30\n",
            "           k       0.13      0.12      0.12        60\n",
            "           l       0.22      0.18      0.20        50\n",
            "           m       0.00      0.00      0.00        30\n",
            "           n       0.00      0.00      0.00        29\n",
            "           o       0.18      0.10      0.13        30\n",
            "          ò       0.00      0.00      0.00        30\n",
            "          ó       0.00      0.00      0.00        30\n",
            "          ô       0.50      0.10      0.17        30\n",
            "         ồ       0.03      0.13      0.05        30\n",
            "         ố       0.00      0.00      0.00        30\n",
            "         ỗ       0.01      0.03      0.01        30\n",
            "         ổ       0.03      0.37      0.05        30\n",
            "          õ       0.00      0.00      0.00        30\n",
            "          ỏ       0.00      0.00      0.00        30\n",
            "          ơ       0.00      0.00      0.00        30\n",
            "         ờ       0.14      0.03      0.05        30\n",
            "         ớ       0.07      0.13      0.09        30\n",
            "         ỡ       0.25      0.03      0.06        30\n",
            "         ở       0.27      0.13      0.18        30\n",
            "         ợ       1.00      0.07      0.12        30\n",
            "          ọ       0.00      0.00      0.00        30\n",
            "         ộ       0.07      0.13      0.09        30\n",
            "           p       1.00      0.03      0.06        30\n",
            "           q       0.50      0.03      0.06        30\n",
            "           r       0.14      0.07      0.09        30\n",
            "           s       0.30      0.10      0.15        30\n",
            "           t       0.08      0.07      0.07        30\n",
            "           u       0.00      0.00      0.00        30\n",
            "          ù       0.00      0.00      0.00        30\n",
            "          ú       0.00      0.00      0.00        30\n",
            "          ũ       0.00      0.00      0.00        30\n",
            "          ủ       0.00      0.00      0.00        30\n",
            "          ư       0.00      0.00      0.00        30\n",
            "         ừ       0.00      0.00      0.00        30\n",
            "         ứ       0.00      0.00      0.00        30\n",
            "         ữ       0.20      0.03      0.06        30\n",
            "         ử       0.00      0.00      0.00        30\n",
            "         ự       0.00      0.00      0.00        30\n",
            "          ụ       0.00      0.00      0.00        30\n",
            "           v       0.00      0.00      0.00        30\n",
            "           x       0.04      0.02      0.02        60\n",
            "           y       0.00      0.00      0.00        39\n",
            "          ỳ       0.04      0.53      0.07        30\n",
            "          ý       0.02      0.07      0.04        30\n",
            "          ỹ       0.00      0.00      0.00        30\n",
            "          ỷ       0.03      0.37      0.06        30\n",
            "          ỵ       0.00      0.00      0.00        20\n",
            "           đ       0.43      0.20      0.27        30\n",
            "\n",
            "    accuracy                           0.05      2757\n",
            "   macro avg       0.12      0.05      0.05      2757\n",
            "weighted avg       0.12      0.05      0.05      2757\n",
            "\n"
          ],
          "name": "stdout"
        },
        {
          "output_type": "stream",
          "text": [
            "/usr/local/lib/python3.6/dist-packages/sklearn/metrics/_classification.py:1272: UndefinedMetricWarning: Precision and F-score are ill-defined and being set to 0.0 in labels with no predicted samples. Use `zero_division` parameter to control this behavior.\n",
            "  _warn_prf(average, modifier, msg_start, len(result))\n"
          ],
          "name": "stderr"
        }
      ]
    }
  ]
}