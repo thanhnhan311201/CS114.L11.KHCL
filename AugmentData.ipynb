{
  "nbformat": 4,
  "nbformat_minor": 0,
  "metadata": {
    "colab": {
      "name": "AugmentData.ipynb",
      "provenance": [],
      "collapsed_sections": [],
      "authorship_tag": "ABX9TyPFj/3GMpYDJFDQewVAV38D",
      "include_colab_link": true
    },
    "kernelspec": {
      "name": "python3",
      "display_name": "Python 3"
    }
  },
  "cells": [
    {
      "cell_type": "markdown",
      "metadata": {
        "id": "view-in-github",
        "colab_type": "text"
      },
      "source": [
        "<a href=\"https://colab.research.google.com/github/thanhnhan311201/CS114.L11.KHCL/blob/master/AugmentData.ipynb\" target=\"_parent\"><img src=\"https://colab.research.google.com/assets/colab-badge.svg\" alt=\"Open In Colab\"/></a>"
      ]
    },
    {
      "cell_type": "code",
      "metadata": {
        "colab": {
          "base_uri": "https://localhost:8080/"
        },
        "id": "ODOiIirMCcCV",
        "outputId": "473b0af1-a6c6-4f9f-eece-d7304330d6a6"
      },
      "source": [
        "from google.colab import drive\r\n",
        "drive.mount('/content/drive/')"
      ],
      "execution_count": null,
      "outputs": [
        {
          "output_type": "stream",
          "text": [
            "Mounted at /content/drive/\n"
          ],
          "name": "stdout"
        }
      ]
    },
    {
      "cell_type": "code",
      "metadata": {
        "id": "nw6tRRS6CsA-"
      },
      "source": [
        "import os\r\n",
        "import numpy as np\r\n",
        "import cv2\r\n",
        "import random\r\n",
        "import matplotlib.pyplot as plt\r\n",
        "from sklearn.model_selection import train_test_split\r\n",
        "from sklearn.linear_model import LogisticRegression\r\n",
        "from sklearn.metrics import mean_squared_error, r2_score\r\n",
        "from sklearn.metrics import confusion_matrix\r\n",
        "from sklearn.metrics import classification_report\r\n",
        "from sklearn.metrics import accuracy_score\r\n",
        "from skimage.feature import hog\r\n",
        "from PIL import Image, ImageChops"
      ],
      "execution_count": null,
      "outputs": []
    },
    {
      "cell_type": "code",
      "metadata": {
        "colab": {
          "base_uri": "https://localhost:8080/",
          "height": 1000
        },
        "id": "GO_gcVuBESM9",
        "outputId": "0b56a659-b4eb-4025-8a07-fb87e3cc4429"
      },
      "source": [
        "def trim(im):\r\n",
        "    bg = Image.new(im.mode, im.size, im.getpixel((0,0)))\r\n",
        "    diff = ImageChops.difference(im, bg)\r\n",
        "    diff = ImageChops.add(diff, diff, 3.0, -100)\r\n",
        "    bbox = diff.getbbox()\r\n",
        "    return im.crop(bbox)\r\n",
        "\r\n",
        "img = Image.open(\"/content/drive/MyDrive/Dataset/Dataset/a/10321.jpg\").convert('LA')\r\n",
        "img = trim(img).resize((16,16))\r\n",
        "img = np.asarray(img)[:,:,0]\r\n",
        "\r\n",
        "print('Original')\r\n",
        "plt.imshow(img)\r\n",
        "plt.show()\r\n",
        "\r\n",
        "print('Blur')\r\n",
        "b = cv2.blur(img,(3,3))\r\n",
        "plt.imshow(b)\r\n",
        "plt.show()\r\n",
        "\r\n",
        "print('Rotate 30*')\r\n",
        "r1 = cv2.getRotationMatrix2D((img.shape[0]/2,img.shape[1]/2),30,1)\r\n",
        "r1 = cv2.warpAffine(img,r1,(img.shape[0],img.shape[1]))\r\n",
        "plt.imshow(r1)\r\n",
        "plt.show()\r\n",
        "\r\n",
        "print('Rotate -30*')\r\n",
        "r2 = cv2.getRotationMatrix2D((img.shape[0]/2,img.shape[1]/2),-30,1)\r\n",
        "r2 = cv2.warpAffine(img,r2,(img.shape[0],img.shape[1]))\r\n",
        "plt.imshow(r2)\r\n",
        "plt.show()"
      ],
      "execution_count": null,
      "outputs": [
        {
          "output_type": "stream",
          "text": [
            "Original\n"
          ],
          "name": "stdout"
        },
        {
          "output_type": "display_data",
          "data": {
            "image/png": "[encoded data removed]",
            "text/plain": [
              "<Figure size 432x288 with 1 Axes>"
            ]
          },
          "metadata": {
            "tags": [],
            "needs_background": "light"
          }
        },
        {
          "output_type": "stream",
          "text": [
            "Blur\n"
          ],
          "name": "stdout"
        },
        {
          "output_type": "display_data",
          "data": {
            "image/png": "[encoded data removed]",
            "text/plain": [
              "<Figure size 432x288 with 1 Axes>"
            ]
          },
          "metadata": {
            "tags": [],
            "needs_background": "light"
          }
        },
        {
          "output_type": "stream",
          "text": [
            "Rotate 30*\n"
          ],
          "name": "stdout"
        },
        {
          "output_type": "display_data",
          "data": {
            "image/png": "[encoded data removed]",
            "text/plain": [
              "<Figure size 432x288 with 1 Axes>"
            ]
          },
          "metadata": {
            "tags": [],
            "needs_background": "light"
          }
        },
        {
          "output_type": "stream",
          "text": [
            "Rotate -30*\n"
          ],
          "name": "stdout"
        },
        {
          "output_type": "display_data",
          "data": {
            "image/png": "[encoded data removed]",
            "text/plain": [
              "<Figure size 432x288 with 1 Axes>"
            ]
          },
          "metadata": {
            "tags": [],
            "needs_background": "light"
          }
        }
      ]
    },
    {
      "cell_type": "code",
      "metadata": {
        "id": "CefmQsrYZPhT"
      },
      "source": [
        "def Add_Train_Vali(path, l, flag):\r\n",
        "  global X_train, Y_train, X_vali, Y_vali, X_test, Y_test,count\r\n",
        "  list_file = os.listdir(path)\r\n",
        "  list_file = [path+list_file[i] for i in range(len(list_file))]\r\n",
        "  labels = [l for i in range(len(list_file))]\r\n",
        "  for i in list_file:\r\n",
        "    img = Image.open(i).convert('LA')\r\n",
        "    img = trim(img).resize((16,16))\r\n",
        "    img = np.asarray(img)[:,:,0]\r\n",
        "\r\n",
        "    b = cv2.blur(img,(3,3))\r\n",
        "    r1 = cv2.getRotationMatrix2D((img.shape[0]/2,img.shape[1]/2),30,1)\r\n",
        "    r1 = cv2.warpAffine(img,r1,(img.shape[0],img.shape[1]))\r\n",
        "    r2 = cv2.getRotationMatrix2D((img.shape[0]/2,img.shape[1]/2),-30,1)\r\n",
        "    r2 = cv2.warpAffine(img,r2,(img.shape[0],img.shape[1]))\r\n",
        "\r\n",
        "    img = hog(img, pixels_per_cell=(2,2), cells_per_block=(2,2), visualize=False) # Xử lý ảnh với hog\r\n",
        "    b = hog(b, pixels_per_cell=(2,2), cells_per_block=(2,2), visualize=False) # Xử lý ảnh với hog\r\n",
        "    r1 = hog(r1, pixels_per_cell=(2,2), cells_per_block=(2,2), visualize=False) # Xử lý ảnh với hog\r\n",
        "    r2 = hog(r2, pixels_per_cell=(2,2), cells_per_block=(2,2), visualize=False) # Xử lý ảnh với hog\r\n",
        "    \r\n",
        "    if flag==1:\r\n",
        "      X_train.append(img)\r\n",
        "      X_train.append(b)\r\n",
        "      X_train.append(r1)\r\n",
        "      X_train.append(r2)\r\n",
        "      Y_train+=[l,l,l,l]\r\n",
        "    if flag==0:\r\n",
        "      X_vali.append(img)\r\n",
        "      X_vali.append(b)\r\n",
        "      X_vali.append(r1)\r\n",
        "      X_vali.append(r2)\r\n",
        "      Y_vali+=[l,l,l,l]\r\n",
        "    if flag==-1:\r\n",
        "      X_test.append(img)\r\n",
        "      X_test.append(b)\r\n",
        "      X_test.append(r1)\r\n",
        "      X_test.append(r2)\r\n",
        "      Y_test+=[l,l,l,l]"
      ],
      "execution_count": null,
      "outputs": []
    },
    {
      "cell_type": "code",
      "metadata": {
        "id": "4wFyc9mzbcLB"
      },
      "source": [
        "datatrain_Path = '/content/drive/MyDrive/Dataset/train/'\r\n",
        "list_label = os.listdir(datatrain_Path)\r\n",
        "list_label = sorted(list_label)\r\n",
        "dic = {list_label[i]:i for i in range(len(list_label))}\r\n",
        "X_train = []\r\n",
        "Y_train = []\r\n",
        "X_vali = []\r\n",
        "Y_vali = []\r\n",
        "X_test = []\r\n",
        "Y_test = []\r\n"
      ],
      "execution_count": null,
      "outputs": []
    },
    {
      "cell_type": "code",
      "metadata": {
        "id": "IOQP6WXacvrp"
      },
      "source": [
        "count=0\r\n",
        "for i in list_label:\r\n",
        "  Add_Train_Vali(datatrain_Path+i+'/',dic[i],1)"
      ],
      "execution_count": null,
      "outputs": []
    },
    {
      "cell_type": "code",
      "metadata": {
        "id": "mjXDj4fhfj_d"
      },
      "source": [
        "import pandas as pd\r\n",
        "np_sample = X_train\r\n",
        "pd.DataFrame(np_sample).to_csv('/content/drive/MyDrive/BackUpData/AugmentData/X_train_augment_hog_16x16.csv',  header=None, index=None)\r\n",
        "np_sample = Y_train\r\n",
        "pd.DataFrame(np_sample).to_csv('/content/drive/MyDrive/BackUpData/AugmentData/Y_train_augment_hog_16x16.csv',  header=None, index=None)"
      ],
      "execution_count": null,
      "outputs": []
    },
    {
      "cell_type": "code",
      "metadata": {
        "id": "cBdKuO9sfU_-"
      },
      "source": [
        "datavali_Path = '/content/drive/MyDrive/Dataset/validation/'\r\n",
        "count=0\r\n",
        "for i in list_label:\r\n",
        "  Add_Train_Vali(datavali_Path+i+'/',dic[i],0)"
      ],
      "execution_count": null,
      "outputs": []
    },
    {
      "cell_type": "code",
      "metadata": {
        "id": "1qWaVihlftVA"
      },
      "source": [
        "np_sample = X_vali\r\n",
        "pd.DataFrame(np_sample).to_csv('/content/drive/MyDrive/BackUpData/AugmentData/X_vali_augment_hog_16x16.csv',  header=None, index=None)\r\n",
        "np_sample = Y_vali\r\n",
        "pd.DataFrame(np_sample).to_csv('/content/drive/MyDrive/BackUpData/AugmentData/Y_vali_augment_hog_16x16.csv',  header=None, index=None)"
      ],
      "execution_count": null,
      "outputs": []
    },
    {
      "cell_type": "code",
      "metadata": {
        "id": "CUfPwd_8fcBW"
      },
      "source": [
        "datatest_Path = '/content/drive/MyDrive/Dataset/TestingData/'\r\n",
        "count=0\r\n",
        "for i in list_label:\r\n",
        "  Add_Train_Vali(datatest_Path+i+'/',dic[i],-1)"
      ],
      "execution_count": null,
      "outputs": []
    },
    {
      "cell_type": "code",
      "metadata": {
        "id": "YEniraXDf021"
      },
      "source": [
        "np_sample = X_test\r\n",
        "pd.DataFrame(np_sample).to_csv('/content/drive/MyDrive/BackUpData/AugmentData/X_test_augment_hog_16x16.csv',  header=None, index=None)\r\n",
        "np_sample = Y_test\r\n",
        "pd.DataFrame(np_sample).to_csv('/content/drive/MyDrive/BackUpData/AugmentData/Y_test_augment_hog_16x16.csv',  header=None, index=None)"
      ],
      "execution_count": null,
      "outputs": []
    },
    {
      "cell_type": "code",
      "metadata": {
        "colab": {
          "base_uri": "https://localhost:8080/"
        },
        "id": "8H802PSLeaFc",
        "outputId": "f300b16c-d150-4dc3-c6a0-38f70469067a"
      },
      "source": [
        "print(len(X_train))\r\n",
        "print(len(Y_train))\r\n",
        "print(len(X_vali))\r\n",
        "print(len(Y_vali))\r\n",
        "print(len(X_test))\r\n",
        "print(len(Y_test))"
      ],
      "execution_count": null,
      "outputs": [
        {
          "output_type": "stream",
          "text": [
            "47460\n",
            "47460\n",
            "11936\n",
            "11936\n",
            "11032\n",
            "11032\n"
          ],
          "name": "stdout"
        }
      ]
    }
  ]
}