{
  "nbformat": 4,
  "nbformat_minor": 0,
  "metadata": {
    "colab": {
      "name": "MLVietnameseHandwritingLettersClassification.ipynb",
      "provenance": [],
      "collapsed_sections": [],
      "toc_visible": true,
      "include_colab_link": true
    },
    "kernelspec": {
      "display_name": "Python 3",
      "name": "python3"
    },
    "accelerator": "GPU"
  },
  "cells": [
    {
      "cell_type": "markdown",
      "metadata": {
        "id": "view-in-github",
        "colab_type": "text"
      },
      "source": [
        "<a href=\"https://colab.research.google.com/github/thanhnhan311201/CS114.L11.KHCL/blob/master/MLVietnameseHandwritingLettersClassification.ipynb\" target=\"_parent\"><img src=\"https://colab.research.google.com/assets/colab-badge.svg\" alt=\"Open In Colab\"/></a>"
      ]
    },
    {
      "cell_type": "markdown",
      "metadata": {
        "id": "baVpTcxVaBhb"
      },
      "source": [
        "# Prepare data"
      ]
    },
    {
      "cell_type": "code",
      "metadata": {
        "colab": {
          "base_uri": "https://localhost:8080/"
        },
        "id": "2ZdjE7SHZmWA",
        "outputId": "206089b4-9e93-4b39-c681-02116847c65b"
      },
      "source": [
        "# Mount Drive từ google drive\r\n",
        "from google.colab import drive\r\n",
        "drive.mount('/content/drive/')"
      ],
      "execution_count": 1,
      "outputs": [
        {
          "output_type": "stream",
          "text": [
            "Mounted at /content/drive/\n"
          ],
          "name": "stdout"
        }
      ]
    },
    {
      "cell_type": "code",
      "metadata": {
        "id": "qzaLXqKqZxyj"
      },
      "source": [
        "# Import một số thư viện cần thiết\r\n",
        "import os\r\n",
        "import numpy as np\r\n",
        "import cv2\r\n",
        "import matplotlib.pyplot as plt\r\n",
        "from sklearn.model_selection import train_test_split\r\n",
        "from sklearn.linear_model import LogisticRegression\r\n",
        "from sklearn.metrics import mean_squared_error, r2_score\r\n",
        "from sklearn.metrics import confusion_matrix\r\n",
        "from sklearn.metrics import classification_report\r\n",
        "from sklearn.metrics import plot_confusion_matrix\r\n",
        "from sklearn.metrics import accuracy_score\r\n",
        "from skimage.feature import hog\r\n",
        "import pandas as pd\r\n"
      ],
      "execution_count": 2,
      "outputs": []
    },
    {
      "cell_type": "markdown",
      "metadata": {
        "id": "bQ9SFi07Z9Kd"
      },
      "source": [
        "## Read data"
      ]
    },
    {
      "cell_type": "code",
      "metadata": {
        "id": "IaLAaUT1aH75",
        "colab": {
          "base_uri": "https://localhost:8080/"
        },
        "outputId": "6d8257bf-c06c-4cfd-e999-a5057e313b0f"
      },
      "source": [
        "# Lấy đường dẫn và nhãn\r\n",
        "path_X_train = '/content/drive/MyDrive/BackUpData/AugmentData/X_train_augment_hog_16x16.csv'\r\n",
        "path_Y_train = '/content/drive/MyDrive/BackUpData/AugmentData/Y_train_augment_hog_16x16.csv'\r\n",
        "path_X_vali = '/content/drive/MyDrive/BackUpData/AugmentData/X_val_16x16_hog.csv'\r\n",
        "path_Y_vali = '/content/drive/MyDrive/BackUpData/AugmentData/Y_val_16x16_hog.csv'\r\n",
        "path_X_test = '/content/drive/MyDrive/BackUpData/AugmentData/X_test_16x16_hog.csv'\r\n",
        "path_Y_test = '/content/drive/MyDrive/BackUpData/AugmentData/Y_test_16x16_hog.csv'\r\n",
        "\r\n",
        "\r\n",
        "labels = os.listdir('/content/drive/MyDrive/Dataset/Dataset')\r\n",
        "labels = sorted(labels)\r\n",
        "print(labels)"
      ],
      "execution_count": 3,
      "outputs": [
        {
          "output_type": "stream",
          "text": [
            "['a', 'à', 'á', 'â', 'ầ', 'ấ', 'ẫ', 'ẩ', 'ã', 'ă', 'ằ', 'ắ', 'ẵ', 'ẳ', 'ả', 'ạ', 'ậ', 'ặ', 'b', 'c', 'd', 'e', 'è', 'é', 'ê', 'ề', 'ế', 'ễ', 'ể', 'ẽ', 'ẻ', 'ẹ', 'ệ', 'g', 'h', 'i', 'ì', 'í', 'ĩ', 'ỉ', 'ị', 'k', 'l', 'm', 'n', 'o', 'ò', 'ó', 'ô', 'ồ', 'ố', 'ỗ', 'ổ', 'õ', 'ỏ', 'ơ', 'ờ', 'ớ', 'ỡ', 'ở', 'ợ', 'ọ', 'ộ', 'p', 'q', 'r', 's', 't', 'u', 'ù', 'ú', 'ũ', 'ủ', 'ư', 'ừ', 'ứ', 'ữ', 'ử', 'ự', 'ụ', 'v', 'x', 'y', 'ỳ', 'ý', 'ỹ', 'ỷ', 'ỵ', 'đ']\n"
          ],
          "name": "stdout"
        }
      ]
    },
    {
      "cell_type": "code",
      "metadata": {
        "id": "pa-Ry2lqZ8qA"
      },
      "source": [
        "# Đọc và chuyển dữ liệu sang ndarray\r\n",
        "X_train = pd.read_csv(path_X_train,header=None).to_numpy()\r\n",
        "Y_train = pd.read_csv(path_Y_train,header=None).to_numpy()\r\n",
        "X_vali = pd.read_csv(path_X_vali,header=None).to_numpy()\r\n",
        "Y_vali = pd.read_csv(path_Y_vali,header=None).to_numpy()\r\n",
        "X_test = pd.read_csv(path_X_test,header=None).to_numpy()\r\n",
        "Y_test = pd.read_csv(path_Y_test,header=None).to_numpy()"
      ],
      "execution_count": 4,
      "outputs": []
    },
    {
      "cell_type": "code",
      "metadata": {
        "colab": {
          "base_uri": "https://localhost:8080/"
        },
        "id": "G6l0_fHDamTU",
        "outputId": "7f9d3ab0-8cb2-43d9-d7e0-c9bf951bf245"
      },
      "source": [
        "# Kích thước dữ liệu\r\n",
        "print(len(X_train),len(Y_train))\r\n",
        "print(len(X_vali),len(Y_vali))\r\n",
        "print(len(X_test),len(Y_test))\r\n",
        "print(X_train)"
      ],
      "execution_count": 5,
      "outputs": [
        {
          "output_type": "stream",
          "text": [
            "47460 47460\n",
            "2984 2984\n",
            "2758 2758\n",
            "[[0.01703058 0.24517535 0.         ... 0.         0.         0.        ]\n",
            " [0.18171535 0.         0.         ... 0.         0.         0.        ]\n",
            " [0.         0.         0.         ... 0.         0.         0.        ]\n",
            " ...\n",
            " [0.         0.         0.         ... 0.         0.         0.        ]\n",
            " [0.         0.         0.         ... 0.         0.         0.        ]\n",
            " [0.17950429 0.         0.         ... 0.         0.         0.        ]]\n"
          ],
          "name": "stdout"
        }
      ]
    },
    {
      "cell_type": "markdown",
      "metadata": {
        "id": "P676H1KUL2dr"
      },
      "source": [
        "**Dùng các model để huấn luyện và dự đoán**"
      ]
    },
    {
      "cell_type": "markdown",
      "metadata": {
        "id": "n0rp0LM2vyec"
      },
      "source": [
        "#Sử dụng model MLPClassifier "
      ]
    },
    {
      "cell_type": "code",
      "metadata": {
        "id": "bD8fi6yWv3iN"
      },
      "source": [
        "from sklearn.neural_network import MLPClassifier"
      ],
      "execution_count": 6,
      "outputs": []
    },
    {
      "cell_type": "code",
      "metadata": {
        "id": "FIhEa9ogxHcZ"
      },
      "source": [
        "Y_train = Y_train.ravel()\n",
        "Y_test = Y_test.ravel()\n",
        "Y_vali = Y_vali.ravel()"
      ],
      "execution_count": 7,
      "outputs": []
    },
    {
      "cell_type": "code",
      "metadata": {
        "colab": {
          "base_uri": "https://localhost:8080/"
        },
        "id": "rPfnOk_dv8cB",
        "outputId": "457209d5-e950-4d21-e251-88ac9c2275ce"
      },
      "source": [
        "MLP1_hog = MLPClassifier(hidden_layer_sizes=(1000), max_iter=500)\n",
        "MLP1_hog.fit(X_train, Y_train)"
      ],
      "execution_count": 8,
      "outputs": [
        {
          "output_type": "execute_result",
          "data": {
            "text/plain": [
              "MLPClassifier(activation='relu', alpha=0.0001, batch_size='auto', beta_1=0.9,\n",
              "              beta_2=0.999, early_stopping=False, epsilon=1e-08,\n",
              "              hidden_layer_sizes=1000, learning_rate='constant',\n",
              "              learning_rate_init=0.001, max_fun=15000, max_iter=500,\n",
              "              momentum=0.9, n_iter_no_change=10, nesterovs_momentum=True,\n",
              "              power_t=0.5, random_state=None, shuffle=True, solver='adam',\n",
              "              tol=0.0001, validation_fraction=0.1, verbose=False,\n",
              "              warm_start=False)"
            ]
          },
          "metadata": {
            "tags": []
          },
          "execution_count": 8
        }
      ]
    },
    {
      "cell_type": "code",
      "metadata": {
        "colab": {
          "base_uri": "https://localhost:8080/"
        },
        "id": "2PjjpyZywQ_V",
        "outputId": "a1a690c1-fafd-446f-9230-dfa3242e6374"
      },
      "source": [
        "print(accuracy_score(Y_vali, MLP1_hog.predict(X_vali)))"
      ],
      "execution_count": 9,
      "outputs": [
        {
          "output_type": "stream",
          "text": [
            "0.4597855227882037\n"
          ],
          "name": "stdout"
        }
      ]
    },
    {
      "cell_type": "code",
      "metadata": {
        "colab": {
          "base_uri": "https://localhost:8080/"
        },
        "id": "155evN_I0TkQ",
        "outputId": "990e1c21-5e2c-423f-816b-6c5eb889b3be"
      },
      "source": [
        "print(accuracy_score(Y_test, MLP1_hog.predict(X_test)))"
      ],
      "execution_count": 12,
      "outputs": [
        {
          "output_type": "stream",
          "text": [
            "0.20594633792603337\n"
          ],
          "name": "stdout"
        }
      ]
    },
    {
      "cell_type": "code",
      "metadata": {
        "id": "4irrhvAi2HRy",
        "colab": {
          "base_uri": "https://localhost:8080/"
        },
        "outputId": "0af80525-f844-45ce-bc08-45b5e3e876e4"
      },
      "source": [
        "MLP2_hog = MLPClassifier(hidden_layer_sizes=(1000, 1000, 1000), max_iter=500)\n",
        "MLP2_hog.fit(X_train, Y_train)\n",
        "print(accuracy_score(Y_vali, MLP2_hog.predict(X_vali)))\n"
      ],
      "execution_count": 13,
      "outputs": [
        {
          "output_type": "stream",
          "text": [
            "0.49631367292225204\n"
          ],
          "name": "stdout"
        }
      ]
    },
    {
      "cell_type": "code",
      "metadata": {
        "id": "q2RvGop84GXf",
        "colab": {
          "base_uri": "https://localhost:8080/"
        },
        "outputId": "609a9280-1b23-45ce-e8ff-a8f640778d70"
      },
      "source": [
        "print(classification_report(Y_test, MLP2_hog.predict(X_test),target_names=labels))"
      ],
      "execution_count": 14,
      "outputs": [
        {
          "output_type": "stream",
          "text": [
            "              precision    recall  f1-score   support\n",
            "\n",
            "           a       0.31      0.13      0.19        30\n",
            "          à       0.18      0.40      0.25        30\n",
            "          á       0.41      0.30      0.35        30\n",
            "          â       0.08      0.03      0.05        30\n",
            "         ầ       0.11      0.10      0.11        30\n",
            "         ấ       0.35      0.23      0.28        30\n",
            "         ẫ       0.29      0.27      0.28        30\n",
            "         ẩ       0.28      0.30      0.29        30\n",
            "          ã       0.12      0.27      0.17        30\n",
            "          ă       0.58      0.23      0.33        30\n",
            "         ằ       0.18      0.20      0.19        30\n",
            "         ắ       0.21      0.27      0.24        30\n",
            "         ẵ       0.22      0.27      0.24        30\n",
            "         ẳ       0.15      0.43      0.22        30\n",
            "          ả       0.35      0.60      0.44        30\n",
            "          ạ       0.64      0.47      0.54        30\n",
            "         ậ       0.76      0.43      0.55        30\n",
            "         ặ       0.33      0.10      0.15        30\n",
            "           b       0.80      0.27      0.40        30\n",
            "           c       0.55      0.40      0.46        30\n",
            "           d       0.35      0.60      0.44        30\n",
            "           e       0.33      0.70      0.45        30\n",
            "          è       0.33      0.23      0.27        30\n",
            "          é       0.67      0.20      0.31        30\n",
            "          ê       0.14      0.03      0.05        30\n",
            "         ề       0.14      0.23      0.18        30\n",
            "         ế       0.36      0.43      0.39        30\n",
            "         ễ       0.00      0.00      0.00        30\n",
            "         ể       0.21      0.27      0.23        30\n",
            "          ẽ       0.42      0.33      0.37        30\n",
            "          ẻ       0.14      0.10      0.12        30\n",
            "          ẹ       0.07      0.03      0.05        30\n",
            "         ệ       0.16      0.23      0.19        30\n",
            "           g       0.16      0.23      0.19        30\n",
            "           h       0.16      0.13      0.15        30\n",
            "           i       0.26      0.30      0.28        40\n",
            "          ì       0.40      0.33      0.36        30\n",
            "          í       0.18      0.40      0.25        30\n",
            "          ĩ       0.57      0.13      0.22        30\n",
            "          ỉ       0.31      0.30      0.31        30\n",
            "          ị       0.08      0.03      0.05        30\n",
            "           k       0.12      0.30      0.17        60\n",
            "           l       0.35      0.60      0.44        50\n",
            "           m       0.67      0.20      0.31        30\n",
            "           n       0.33      0.03      0.06        29\n",
            "           o       0.89      0.27      0.41        30\n",
            "          ò       0.42      0.27      0.33        30\n",
            "          ó       0.65      0.37      0.47        30\n",
            "          ô       0.58      0.23      0.33        30\n",
            "         ồ       0.25      0.27      0.26        30\n",
            "         ố       0.19      0.23      0.21        30\n",
            "         ỗ       0.15      0.23      0.18        30\n",
            "         ổ       0.17      0.23      0.20        30\n",
            "          õ       0.14      0.17      0.15        30\n",
            "          ỏ       0.37      0.47      0.41        30\n",
            "          ơ       0.22      0.37      0.27        30\n",
            "         ờ       0.20      0.33      0.25        30\n",
            "         ớ       0.38      0.33      0.36        30\n",
            "         ỡ       0.70      0.47      0.56        30\n",
            "         ở       0.22      0.23      0.23        30\n",
            "         ợ       0.61      0.37      0.46        30\n",
            "          ọ       0.26      0.37      0.30        30\n",
            "         ộ       0.29      0.13      0.18        30\n",
            "           p       0.84      0.53      0.65        30\n",
            "           q       0.57      0.27      0.36        30\n",
            "           r       0.22      0.37      0.27        30\n",
            "           s       0.41      0.40      0.41        30\n",
            "           t       0.55      0.40      0.46        30\n",
            "           u       0.33      0.03      0.06        30\n",
            "          ù       0.06      0.03      0.04        30\n",
            "          ú       0.21      0.10      0.14        30\n",
            "          ũ       0.19      0.13      0.16        30\n",
            "          ủ       0.23      0.10      0.14        30\n",
            "          ư       0.00      0.00      0.00        30\n",
            "         ừ       0.08      0.03      0.05        30\n",
            "         ứ       0.15      0.07      0.09        30\n",
            "         ữ       0.17      0.23      0.20        30\n",
            "         ử       0.15      0.17      0.16        30\n",
            "         ự       0.14      0.17      0.15        30\n",
            "          ụ       0.38      0.10      0.16        30\n",
            "           v       0.10      0.13      0.12        30\n",
            "           x       0.27      0.23      0.25        60\n",
            "           y       0.23      0.21      0.22        39\n",
            "          ỳ       0.18      0.47      0.26        30\n",
            "          ý       0.27      0.23      0.25        30\n",
            "          ỹ       0.60      0.30      0.40        30\n",
            "          ỷ       0.21      0.30      0.25        30\n",
            "          ỵ       0.21      0.15      0.18        20\n",
            "           đ       0.31      0.40      0.35        30\n",
            "\n",
            "    accuracy                           0.26      2758\n",
            "   macro avg       0.31      0.26      0.26      2758\n",
            "weighted avg       0.31      0.26      0.26      2758\n",
            "\n"
          ],
          "name": "stdout"
        }
      ]
    },
    {
      "cell_type": "code",
      "metadata": {
        "colab": {
          "base_uri": "https://localhost:8080/"
        },
        "id": "dttN72qrxElX",
        "outputId": "358952b5-76a4-4b8e-c336-7a794b69cbd2"
      },
      "source": [
        "print(classification_report(Y_test, MLP3_hog.predict(X_test),target_names=labels))"
      ],
      "execution_count": 17,
      "outputs": [
        {
          "output_type": "stream",
          "text": [
            "              precision    recall  f1-score   support\n",
            "\n",
            "           a       0.44      0.13      0.21        30\n",
            "          à       0.20      0.13      0.16        30\n",
            "          á       0.38      0.10      0.16        30\n",
            "          â       0.00      0.00      0.00        30\n",
            "         ầ       0.29      0.17      0.21        30\n",
            "         ấ       0.20      0.30      0.24        30\n",
            "         ẫ       0.28      0.43      0.34        30\n",
            "         ẩ       0.29      0.20      0.24        30\n",
            "          ã       0.13      0.07      0.09        30\n",
            "          ă       1.00      0.10      0.18        30\n",
            "         ằ       0.16      0.23      0.19        30\n",
            "         ắ       0.21      0.23      0.22        30\n",
            "         ẵ       0.16      0.30      0.20        30\n",
            "         ẳ       0.13      0.30      0.19        30\n",
            "          ả       0.58      0.23      0.33        30\n",
            "          ạ       0.45      0.47      0.46        30\n",
            "         ậ       0.59      0.33      0.43        30\n",
            "         ặ       0.33      0.37      0.35        30\n",
            "           b       0.44      0.47      0.45        30\n",
            "           c       0.50      0.37      0.42        30\n",
            "           d       0.41      0.43      0.42        30\n",
            "           e       0.40      0.53      0.46        30\n",
            "          è       0.40      0.07      0.11        30\n",
            "          é       0.62      0.17      0.26        30\n",
            "          ê       0.12      0.03      0.05        30\n",
            "         ề       0.10      0.10      0.10        30\n",
            "         ế       0.62      0.27      0.37        30\n",
            "         ễ       0.07      0.10      0.09        30\n",
            "         ể       0.14      0.23      0.18        30\n",
            "          ẽ       0.28      0.30      0.29        30\n",
            "          ẻ       0.19      0.13      0.16        30\n",
            "          ẹ       0.08      0.07      0.07        30\n",
            "         ệ       0.22      0.23      0.23        30\n",
            "           g       0.26      0.30      0.28        30\n",
            "           h       0.08      0.13      0.10        30\n",
            "           i       0.23      0.45      0.31        40\n",
            "          ì       0.31      0.27      0.29        30\n",
            "          í       0.23      0.47      0.31        30\n",
            "          ĩ       0.16      0.20      0.18        30\n",
            "          ỉ       0.17      0.10      0.12        30\n",
            "          ị       0.15      0.07      0.09        30\n",
            "           k       0.23      0.30      0.26        60\n",
            "           l       0.28      0.66      0.39        50\n",
            "           m       0.75      0.30      0.43        30\n",
            "           n       0.44      0.14      0.21        29\n",
            "           o       0.73      0.27      0.39        30\n",
            "          ò       0.35      0.20      0.26        30\n",
            "          ó       0.46      0.20      0.28        30\n",
            "          ô       0.88      0.23      0.37        30\n",
            "         ồ       0.25      0.43      0.32        30\n",
            "         ố       0.23      0.20      0.21        30\n",
            "         ỗ       0.11      0.30      0.16        30\n",
            "         ổ       0.14      0.23      0.17        30\n",
            "          õ       0.09      0.07      0.08        30\n",
            "          ỏ       0.44      0.27      0.33        30\n",
            "          ơ       0.24      0.47      0.31        30\n",
            "         ờ       0.38      0.10      0.16        30\n",
            "         ớ       0.30      0.20      0.24        30\n",
            "         ỡ       0.52      0.47      0.49        30\n",
            "         ở       0.36      0.30      0.33        30\n",
            "         ợ       0.48      0.50      0.49        30\n",
            "          ọ       0.42      0.17      0.24        30\n",
            "         ộ       0.30      0.37      0.33        30\n",
            "           p       0.62      0.43      0.51        30\n",
            "           q       0.55      0.53      0.54        30\n",
            "           r       0.37      0.43      0.40        30\n",
            "           s       0.26      0.30      0.28        30\n",
            "           t       0.33      0.40      0.36        30\n",
            "           u       0.50      0.03      0.06        30\n",
            "          ù       0.21      0.10      0.14        30\n",
            "          ú       0.40      0.07      0.11        30\n",
            "          ũ       0.25      0.10      0.14        30\n",
            "          ủ       0.19      0.10      0.13        30\n",
            "          ư       0.00      0.00      0.00        30\n",
            "         ừ       0.18      0.13      0.15        30\n",
            "         ứ       0.27      0.10      0.15        30\n",
            "         ữ       0.09      0.07      0.08        30\n",
            "         ử       0.24      0.27      0.25        30\n",
            "         ự       0.13      0.23      0.16        30\n",
            "          ụ       0.11      0.07      0.08        30\n",
            "           v       0.22      0.40      0.29        30\n",
            "           x       0.24      0.37      0.29        60\n",
            "           y       0.19      0.26      0.22        39\n",
            "          ỳ       0.18      0.53      0.27        30\n",
            "          ý       0.16      0.27      0.20        30\n",
            "          ỹ       0.22      0.27      0.24        30\n",
            "          ỷ       0.15      0.20      0.17        30\n",
            "          ỵ       0.15      0.10      0.12        20\n",
            "           đ       0.38      0.33      0.36        30\n",
            "\n",
            "    accuracy                           0.25      2758\n",
            "   macro avg       0.30      0.25      0.24      2758\n",
            "weighted avg       0.30      0.25      0.25      2758\n",
            "\n"
          ],
          "name": "stdout"
        }
      ]
    }
  ]
}