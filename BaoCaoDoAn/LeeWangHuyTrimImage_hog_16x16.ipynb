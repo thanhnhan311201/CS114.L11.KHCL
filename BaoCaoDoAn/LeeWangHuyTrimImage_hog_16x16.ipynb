{
  "nbformat": 4,
  "nbformat_minor": 0,
  "metadata": {
    "colab": {
      "name": "LeeWangHuyTrimImage_hog_16x16.ipynb",
      "provenance": [],
      "collapsed_sections": [],
      "toc_visible": true,
      "include_colab_link": true
    },
    "kernelspec": {
      "display_name": "Python 3",
      "name": "python3"
    }
  },
  "cells": [
    {
      "cell_type": "markdown",
      "metadata": {
        "id": "view-in-github",
        "colab_type": "text"
      },
      "source": [
        "<a href=\"https://colab.research.google.com/github/thanhnhan311201/CS114.L11.KHCL/blob/master/LeeWangHuyTrimImage_hog_16x16.ipynb\" target=\"_parent\"><img src=\"https://colab.research.google.com/assets/colab-badge.svg\" alt=\"Open In Colab\"/></a>"
      ]
    },
    {
      "cell_type": "markdown",
      "metadata": {
        "id": "ovnSzDiigOSC"
      },
      "source": [
        "# Đọc ảnh, cắt ảnh và dùng HOG rút trích đặc trưng"
      ]
    },
    {
      "cell_type": "code",
      "metadata": {
        "colab": {
          "base_uri": "https://localhost:8080/"
        },
        "id": "xJ8HPrfjgt7w",
        "outputId": "ab88a3e3-5584-459a-9d1c-6f8bab089780"
      },
      "source": [
        "from google.colab import drive\n",
        "drive.mount('/content/drive')"
      ],
      "execution_count": 10,
      "outputs": [
        {
          "output_type": "stream",
          "text": [
            "Drive already mounted at /content/drive; to attempt to forcibly remount, call drive.mount(\"/content/drive\", force_remount=True).\n"
          ],
          "name": "stdout"
        }
      ]
    },
    {
      "cell_type": "code",
      "metadata": {
        "id": "hIHsiDY_ha8x"
      },
      "source": [
        "from PIL import Image, ImageChops\n",
        "import matplotlib.pyplot as plt\n",
        "import cv2\n",
        "import numpy as np"
      ],
      "execution_count": 13,
      "outputs": []
    },
    {
      "cell_type": "code",
      "metadata": {
        "id": "AjIbm2p-mxdM"
      },
      "source": [
        "\n",
        "def trim(im):\n",
        "    bg = Image.new(im.mode, im.size, im.getpixel((0,0)))\n",
        "    diff = ImageChops.difference(im, bg)\n",
        "    diff = ImageChops.add(diff, diff, 3.0, -100)\n",
        "    bbox = diff.getbbox()\n",
        "    return im.crop(bbox)\n",
        "    "
      ],
      "execution_count": 14,
      "outputs": []
    },
    {
      "cell_type": "code",
      "metadata": {
        "colab": {
          "base_uri": "https://localhost:8080/",
          "height": 565
        },
        "id": "lv02ZslYg-TJ",
        "outputId": "451f7e0c-8b9e-4a91-e7ec-bd09e620f2c2"
      },
      "source": [
        "# Show thử một ảnh sau khi loại bỏ khoảng trắng xung quanh chữ và dùng HOG\n",
        "im = Image.open(\"/content/drive/MyDrive/Dataset/Dataset/a/10321.jpg\").convert('LA')\n",
        "plt.imshow(im, cmap= 'gray')\n",
        "print(im.size)\n",
        "im = trim(im)\n",
        "im = im.resize((16, 16))\n",
        "img,im = hog(im, pixels_per_cell=(2,2), cells_per_block=(2,2), visualize=True)\n",
        "plt.figure()\n",
        "\n",
        "plt.imshow(im)\n",
        "print(im.size)\n",
        "print(np.asarray(im).flatten().shape)"
      ],
      "execution_count": 17,
      "outputs": [
        {
          "output_type": "stream",
          "text": [
            "(47, 53)\n",
            "256\n",
            "(256,)\n"
          ],
          "name": "stdout"
        },
        {
          "output_type": "display_data",
          "data": {
            "image/png": "[encoded data removed]",
            "text/plain": [
              "<Figure size 432x288 with 1 Axes>"
            ]
          },
          "metadata": {
            "tags": [],
            "needs_background": "light"
          }
        },
        {
          "output_type": "display_data",
          "data": {
            "image/png": "[encoded data removed]",
            "text/plain": [
              "<Figure size 432x288 with 1 Axes>"
            ]
          },
          "metadata": {
            "tags": [],
            "needs_background": "light"
          }
        }
      ]
    },
    {
      "cell_type": "code",
      "metadata": {
        "id": "5Zv1S8FSl2SY"
      },
      "source": [
        "import os\n",
        "import pandas as pd\n",
        "import matplotlib.pyplot as plt\n",
        "import cv2 \n",
        "import numpy as np\n",
        "from skimage.feature import hog"
      ],
      "execution_count": 4,
      "outputs": []
    },
    {
      "cell_type": "code",
      "metadata": {
        "id": "rwMWR_ZumGZc"
      },
      "source": [
        "FJoin = os.path.join\n",
        "def getLink(path):\n",
        "    ans = []\n",
        "    label = []\n",
        "    index = 0\n",
        "    list_folder = [FJoin(path, f) for f in sorted(os.listdir(path))]\n",
        "    for f in list_folder:\n",
        "        list_img = [FJoin(f, img_id) for img_id in sorted(os.listdir(f))]\n",
        "        for img_link in list_img:\n",
        "            ans.append(img_link)\n",
        "            label.append(index)\n",
        "        index += 1\n",
        "    return ans, label\n"
      ],
      "execution_count": 5,
      "outputs": []
    },
    {
      "cell_type": "code",
      "metadata": {
        "colab": {
          "base_uri": "https://localhost:8080/"
        },
        "id": "5f3OAt8DmIGx",
        "outputId": "cf67bf01-19ac-4508-c3e6-028ad8bca44c"
      },
      "source": [
        "train_path = '/content/drive/MyDrive/Dataset/train'\n",
        "vali_path = '/content/drive/MyDrive/Dataset/validation'\n",
        "test_path = '/content/drive/MyDrive/Dataset/TestingData'\n",
        "link_train, label_train = getLink(train_path)\n",
        "link_vali, label_vali = getLink(vali_path)\n",
        "link_test, label_test = getLink(test_path)\n",
        "print(len(link_train))\n",
        "print(len(link_vali))\n",
        "print(len(link_test)) "
      ],
      "execution_count": 6,
      "outputs": [
        {
          "output_type": "stream",
          "text": [
            "11865\n",
            "2984\n",
            "2758\n"
          ],
          "name": "stdout"
        }
      ]
    },
    {
      "cell_type": "code",
      "metadata": {
        "id": "0avcbd3BmLiU"
      },
      "source": [
        "def getFeature_Label(link, label):\n",
        "    list_feature = []\n",
        "    for img_link in link:\n",
        "        img = Image.open(img_link).convert('LA')\n",
        "        img = trim(img)\n",
        "        img = img.resize((16, 16))\n",
        "        img = hog(img, pixels_per_cell=(2,2), cells_per_block=(2,2), visualize=False)\n",
        "        list_feature.append(np.asarray(img).ravel())\n",
        "        print(np.asarray(img).ravel().shape)\n",
        "    return np.array(list_feature), np.array(label)"
      ],
      "execution_count": 9,
      "outputs": []
    },
    {
      "cell_type": "markdown",
      "metadata": {
        "id": "3gxVIUeogE3p"
      },
      "source": [
        "# Lấy feature và lưu lại dưới dạng file .csv"
      ]
    },
    {
      "cell_type": "code",
      "metadata": {
        "id": "UCRcjyzsm4Qb",
        "colab": {
          "base_uri": "https://localhost:8080/"
        },
        "outputId": "f153638f-58f6-4c86-c790-45da35c669e5"
      },
      "source": [
        "X_train, Y_train = getFeature_Label(link_train, label_train)"
      ],
      "execution_count": 8,
      "outputs": [
        {
          "output_type": "stream",
          "text": [
            "(1764,)\n"
          ],
          "name": "stdout"
        }
      ]
    },
    {
      "cell_type": "code",
      "metadata": {
        "id": "bxCvlzieqrDI"
      },
      "source": [
        "pd.DataFrame(X_train).to_csv('/content/drive/MyDrive/BackUpData/TrimImage/X_train_16x16_hog.csv', header= None, index=None)\r\n",
        "pd.DataFrame(Y_train).to_csv('/content/drive/MyDrive/BackUpData/TrimImage/Y_train_16x16_hog.csv', header= None, index=None)"
      ],
      "execution_count": null,
      "outputs": []
    },
    {
      "cell_type": "code",
      "metadata": {
        "colab": {
          "background_save": true
        },
        "id": "tyHo9MClMT_w"
      },
      "source": [
        "X_test, Y_test = getFeature_Label(link_test, label_test)\n",
        "X_val, Y_val = getFeature_Label(link_vali, label_vali)"
      ],
      "execution_count": null,
      "outputs": []
    },
    {
      "cell_type": "code",
      "metadata": {
        "colab": {
          "base_uri": "https://localhost:8080/"
        },
        "id": "VBDiGVy-VodO",
        "outputId": "1a88fccf-4791-4e0c-a476-e3cc4119d122"
      },
      "source": [
        "print(X_test.shape)\r\n",
        "print(X_val.shape)"
      ],
      "execution_count": null,
      "outputs": [
        {
          "output_type": "stream",
          "text": [
            "(2758, 1764)\n",
            "(2984, 1764)\n"
          ],
          "name": "stdout"
        }
      ]
    },
    {
      "cell_type": "code",
      "metadata": {
        "id": "SM1s0LpRajA2"
      },
      "source": [
        "pd.DataFrame(X_test).to_csv('/content/drive/MyDrive/BackUpData/AugmentData/X_test_16x16_hog.csv', header= None, index=None)\n",
        "pd.DataFrame(X_val).to_csv('/content/drive/MyDrive/BackUpData/AugmentData/X_val_16x16_hog.csv', header= None, index=None)"
      ],
      "execution_count": null,
      "outputs": []
    },
    {
      "cell_type": "code",
      "metadata": {
        "id": "20pjvAVJarDi"
      },
      "source": [
        "pd.DataFrame(Y_test).to_csv('/content/drive/MyDrive/BackUpData/AugmentData/Y_test_16x16_hog.csv', header= None, index=None)\r\n",
        "pd.DataFrame(Y_val).to_csv('/content/drive/MyDrive/BackUpData/AugmentData/Y_val_16x16_hog.csv', header= None, index=None)"
      ],
      "execution_count": null,
      "outputs": []
    }
  ]
}