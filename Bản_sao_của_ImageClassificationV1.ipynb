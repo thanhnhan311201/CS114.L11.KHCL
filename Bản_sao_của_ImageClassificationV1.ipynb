{
  "nbformat": 4,
  "nbformat_minor": 0,
  "metadata": {
    "accelerator": "GPU",
    "colab": {
      "name": "Bản sao của ImageClassificationV1.ipynb",
      "provenance": [],
      "collapsed_sections": [],
      "toc_visible": true,
      "include_colab_link": true
    },
    "kernelspec": {
      "display_name": "Python 3",
      "name": "python3"
    }
  },
  "cells": [
    {
      "cell_type": "markdown",
      "metadata": {
        "id": "view-in-github",
        "colab_type": "text"
      },
      "source": [
        "<a href=\"https://colab.research.google.com/github/thanhnhan311201/CS114.L11.KHCL/blob/master/B%E1%BA%A3n_sao_c%E1%BB%A7a_ImageClassificationV1.ipynb\" target=\"_parent\"><img src=\"https://colab.research.google.com/assets/colab-badge.svg\" alt=\"Open In Colab\"/></a>"
      ]
    },
    {
      "cell_type": "code",
      "metadata": {
        "colab": {
          "base_uri": "https://localhost:8080/"
        },
        "id": "I17uYTtAojaO",
        "outputId": "4076db53-7586-49b6-cb6f-de4fbf8d123b"
      },
      "source": [
        "from google.colab import drive\n",
        "drive.mount('/content/drive')"
      ],
      "execution_count": null,
      "outputs": [
        {
          "output_type": "stream",
          "text": [
            "Mounted at /content/drive\n"
          ],
          "name": "stdout"
        }
      ]
    },
    {
      "cell_type": "code",
      "metadata": {
        "id": "KupWT-Pfo7Cs"
      },
      "source": [
        "train_path = '/content/drive/MyDrive/Dataset/train'\n",
        "validation_path = '/content/drive/MyDrive/Dataset/validation'"
      ],
      "execution_count": null,
      "outputs": []
    },
    {
      "cell_type": "code",
      "metadata": {
        "id": "JOMvDgZ-qf4T"
      },
      "source": [
        "from skimage.feature import hog\n",
        "from skimage.io import imread, imshow\n",
        "from skimage.transform import rescale\n",
        "import numpy as np \n",
        "import matplotlib.pyplot as plt\n",
        "import pandas as pd\n",
        "import cv2 \n",
        "import os\n",
        "from PIL import Image\n",
        "import skimage"
      ],
      "execution_count": null,
      "outputs": []
    },
    {
      "cell_type": "code",
      "metadata": {
        "id": "mZ8C00FT0LIt"
      },
      "source": [
        "FJoin = os.path.join"
      ],
      "execution_count": null,
      "outputs": []
    },
    {
      "cell_type": "markdown",
      "metadata": {
        "id": "rPYGQFNFz1-S"
      },
      "source": [
        "# Lấy link ảnh và labels cho tập train và validation"
      ]
    },
    {
      "cell_type": "code",
      "metadata": {
        "id": "NUfPs9Sxz1lB"
      },
      "source": [
        "link_train = []\n",
        "link_val = []\n",
        "label_train = []\n",
        "label_val = []"
      ],
      "execution_count": null,
      "outputs": []
    },
    {
      "cell_type": "code",
      "metadata": {
        "id": "Q6yn02hO0DvY"
      },
      "source": [
        "list_folder_train = sorted([FJoin(train_path, f) for f in os.listdir(train_path)])\n",
        "list_folder_val = sorted([FJoin(validation_path, f) for f in os.listdir(validation_path)])"
      ],
      "execution_count": null,
      "outputs": []
    },
    {
      "cell_type": "code",
      "metadata": {
        "id": "KjZHgw4YYmPE"
      },
      "source": [
        "def getClass(a_path):\n",
        "    without_extra_slash = os.path.normpath(a_path)\n",
        "    last_part = os.path.basename(without_extra_slash)\n",
        "\n",
        "    return last_part"
      ],
      "execution_count": null,
      "outputs": []
    },
    {
      "cell_type": "code",
      "metadata": {
        "id": "6NNUJydy0mAo"
      },
      "source": [
        "def getImageLink_label(list_folder):\n",
        "    list_link = []\n",
        "    list_label = []\n",
        "    index = 0\n",
        "    for folder in list_folder:\n",
        "        img_link = [FJoin(folder, f) for f in os.listdir(folder)]\n",
        "        for link in img_link:\n",
        "            list_link.append(link)\n",
        "            list_label.append(index)\n",
        "        index += 1\n",
        "    return list_link, list_label"
      ],
      "execution_count": null,
      "outputs": []
    },
    {
      "cell_type": "code",
      "metadata": {
        "id": "SFRehNFi1u6-"
      },
      "source": [
        "link_train, label_train = getImageLink_label(list_folder_train)\n",
        "link_val, label_val = getImageLink_label(list_folder_val)"
      ],
      "execution_count": null,
      "outputs": []
    },
    {
      "cell_type": "markdown",
      "metadata": {
        "id": "IicgbL032ayN"
      },
      "source": [
        "# Preprocessing"
      ]
    },
    {
      "cell_type": "markdown",
      "metadata": {
        "id": "2it6vasN4E7Y"
      },
      "source": [
        "- grayScale "
      ]
    },
    {
      "cell_type": "code",
      "metadata": {
        "colab": {
          "base_uri": "https://localhost:8080/",
          "height": 345
        },
        "id": "N5rDhcpxv0JW",
        "outputId": "1943f14d-27ca-4c3c-8e15-f6e36609abd3"
      },
      "source": [
        "img = cv2.imread('/content/drive/MyDrive/HandWritenDataset/train/a/10320.jpg')\n",
        "img_gray = skimage.color.rgb2gray(img)\n",
        "plt.imshow(img, cmap= 'gray')\n",
        "plt.figure()\n",
        "plt.imshow(img_gray, cmap= 'gray')\n",
        "print(img.flatten().shape)\n",
        "print(img_gray.flatten().shape)"
      ],
      "execution_count": null,
      "outputs": [
        {
          "output_type": "error",
          "ename": "AttributeError",
          "evalue": "ignored",
          "traceback": [
            "\u001b[0;31m---------------------------------------------------------------------------\u001b[0m",
            "\u001b[0;31mAttributeError\u001b[0m                            Traceback (most recent call last)",
            "\u001b[0;32m<ipython-input-12-d5200dcc0e32>\u001b[0m in \u001b[0;36m<module>\u001b[0;34m()\u001b[0m\n\u001b[1;32m      1\u001b[0m \u001b[0mimg\u001b[0m \u001b[0;34m=\u001b[0m \u001b[0mcv2\u001b[0m\u001b[0;34m.\u001b[0m\u001b[0mimread\u001b[0m\u001b[0;34m(\u001b[0m\u001b[0;34m'/content/drive/MyDrive/HandWritenDataset/train/a/10320.jpg'\u001b[0m\u001b[0;34m)\u001b[0m\u001b[0;34m\u001b[0m\u001b[0;34m\u001b[0m\u001b[0m\n\u001b[0;32m----> 2\u001b[0;31m \u001b[0mimg_gray\u001b[0m \u001b[0;34m=\u001b[0m \u001b[0mskimage\u001b[0m\u001b[0;34m.\u001b[0m\u001b[0mcolor\u001b[0m\u001b[0;34m.\u001b[0m\u001b[0mrgb2gray\u001b[0m\u001b[0;34m(\u001b[0m\u001b[0mimg\u001b[0m\u001b[0;34m)\u001b[0m\u001b[0;34m\u001b[0m\u001b[0;34m\u001b[0m\u001b[0m\n\u001b[0m\u001b[1;32m      3\u001b[0m \u001b[0mplt\u001b[0m\u001b[0;34m.\u001b[0m\u001b[0mimshow\u001b[0m\u001b[0;34m(\u001b[0m\u001b[0mimg\u001b[0m\u001b[0;34m,\u001b[0m \u001b[0mcmap\u001b[0m\u001b[0;34m=\u001b[0m \u001b[0;34m'gray'\u001b[0m\u001b[0;34m)\u001b[0m\u001b[0;34m\u001b[0m\u001b[0;34m\u001b[0m\u001b[0m\n\u001b[1;32m      4\u001b[0m \u001b[0mplt\u001b[0m\u001b[0;34m.\u001b[0m\u001b[0mfigure\u001b[0m\u001b[0;34m(\u001b[0m\u001b[0;34m)\u001b[0m\u001b[0;34m\u001b[0m\u001b[0;34m\u001b[0m\u001b[0m\n\u001b[1;32m      5\u001b[0m \u001b[0mplt\u001b[0m\u001b[0;34m.\u001b[0m\u001b[0mimshow\u001b[0m\u001b[0;34m(\u001b[0m\u001b[0mimg_gray\u001b[0m\u001b[0;34m,\u001b[0m \u001b[0mcmap\u001b[0m\u001b[0;34m=\u001b[0m \u001b[0;34m'gray'\u001b[0m\u001b[0;34m)\u001b[0m\u001b[0;34m\u001b[0m\u001b[0;34m\u001b[0m\u001b[0m\n",
            "\u001b[0;32m/usr/local/lib/python3.6/dist-packages/skimage/color/colorconv.py\u001b[0m in \u001b[0;36mrgb2gray\u001b[0;34m(rgb)\u001b[0m\n\u001b[1;32m    787\u001b[0m     \"\"\"\n\u001b[1;32m    788\u001b[0m \u001b[0;34m\u001b[0m\u001b[0m\n\u001b[0;32m--> 789\u001b[0;31m     \u001b[0;32mif\u001b[0m \u001b[0mrgb\u001b[0m\u001b[0;34m.\u001b[0m\u001b[0mndim\u001b[0m \u001b[0;34m==\u001b[0m \u001b[0;36m2\u001b[0m\u001b[0;34m:\u001b[0m\u001b[0;34m\u001b[0m\u001b[0;34m\u001b[0m\u001b[0m\n\u001b[0m\u001b[1;32m    790\u001b[0m         \u001b[0;32mreturn\u001b[0m \u001b[0mnp\u001b[0m\u001b[0;34m.\u001b[0m\u001b[0mascontiguousarray\u001b[0m\u001b[0;34m(\u001b[0m\u001b[0mrgb\u001b[0m\u001b[0;34m)\u001b[0m\u001b[0;34m\u001b[0m\u001b[0;34m\u001b[0m\u001b[0m\n\u001b[1;32m    791\u001b[0m \u001b[0;34m\u001b[0m\u001b[0m\n",
            "\u001b[0;31mAttributeError\u001b[0m: 'NoneType' object has no attribute 'ndim'"
          ]
        }
      ]
    },
    {
      "cell_type": "code",
      "metadata": {
        "id": "DzBashbR3Hqr"
      },
      "source": [
        "def getfeatureGrayScale(list_link_img):\n",
        "    ans = []\n",
        "    for x in list_link_img:\n",
        "        img = cv2.imread(x,0)\n",
        "        ans.append(img.flatten())\n",
        "    return np.array(ans)"
      ],
      "execution_count": null,
      "outputs": []
    },
    {
      "cell_type": "code",
      "metadata": {
        "id": "QRTOfjWa610X",
        "colab": {
          "base_uri": "https://localhost:8080/"
        },
        "outputId": "409d21ec-c273-4722-abe6-15ee28967ca2"
      },
      "source": [
        "X_train_gray = getfeatureGrayScale(link_train)\n",
        "X_val_gray = getfeatureGrayScale(link_val)\n",
        "print(X_train_gray.shape)"
      ],
      "execution_count": null,
      "outputs": [
        {
          "output_type": "stream",
          "text": [
            "(11865, 2491)\n"
          ],
          "name": "stdout"
        }
      ]
    },
    {
      "cell_type": "code",
      "metadata": {
        "id": "rX0qbMdIXy82"
      },
      "source": [
        "Y_train = np.array(label_train)\n",
        "Y_val = np.array(label_val)"
      ],
      "execution_count": null,
      "outputs": []
    },
    {
      "cell_type": "markdown",
      "metadata": {
        "id": "-iYYDlUearFc"
      },
      "source": [
        "# Thử các model khác nhau để tìm ra model có độ chính xác cao nhất.\n"
      ]
    },
    {
      "cell_type": "code",
      "metadata": {
        "id": "zyXyVy8wqHOF"
      },
      "source": [
        "from sklearn.metrics import classification_report, accuracy_score"
      ],
      "execution_count": null,
      "outputs": []
    },
    {
      "cell_type": "code",
      "metadata": {
        "id": "2ayPllE4ePhA",
        "colab": {
          "base_uri": "https://localhost:8080/"
        },
        "outputId": "bf0b897f-4ab1-4cd3-f967-1dee7b8dcde1"
      },
      "source": [
        "from sklearn.svm import LinearSVC\n",
        "model_gray = LinearSVC()\n",
        "model_gray.fit(X_train_gray, Y_train)\n",
        "y_pred = model_gray.predict(X_val_gray)\n",
        "print('Percentage correct: ', accuracy_score(y_pred = y_pred, y_true = Y_val))"
      ],
      "execution_count": null,
      "outputs": [
        {
          "output_type": "stream",
          "text": [
            "Percentage correct:  0.12768096514745308\n"
          ],
          "name": "stdout"
        },
        {
          "output_type": "stream",
          "text": [
            "/usr/local/lib/python3.6/dist-packages/sklearn/svm/_base.py:947: ConvergenceWarning: Liblinear failed to converge, increase the number of iterations.\n",
            "  \"the number of iterations.\", ConvergenceWarning)\n"
          ],
          "name": "stderr"
        }
      ]
    },
    {
      "cell_type": "code",
      "metadata": {
        "id": "Kcy79AFfqOO-",
        "colab": {
          "base_uri": "https://localhost:8080/"
        },
        "outputId": "d0eaadea-3718-4fbc-d333-e4a06c4928be"
      },
      "source": [
        "print(classification_report(model_gray.predict(X_val_gray), Y_val))"
      ],
      "execution_count": null,
      "outputs": [
        {
          "output_type": "stream",
          "text": [
            "              precision    recall  f1-score   support\n",
            "\n",
            "           0       0.19      0.09      0.13        75\n",
            "           1       0.11      0.07      0.09        56\n",
            "           2       0.19      0.12      0.15        58\n",
            "           3       0.11      0.19      0.14        21\n",
            "           4       0.11      0.20      0.15        20\n",
            "           5       0.11      0.19      0.14        21\n",
            "           6       0.17      0.33      0.22        18\n",
            "           7       0.17      0.32      0.22        19\n",
            "           8       0.14      0.12      0.13        43\n",
            "           9       0.17      0.09      0.12        65\n",
            "          10       0.11      0.20      0.14        20\n",
            "          11       0.17      0.19      0.18        31\n",
            "          12       0.11      0.22      0.15        18\n",
            "          13       0.14      0.28      0.19        18\n",
            "          14       0.28      0.20      0.24        49\n",
            "          15       0.14      0.12      0.13        42\n",
            "          16       0.17      0.15      0.16        41\n",
            "          17       0.11      0.17      0.14        23\n",
            "          18       0.14      0.14      0.14        37\n",
            "          19       0.24      0.18      0.21        44\n",
            "          20       0.15      0.14      0.14        35\n",
            "          21       0.18      0.09      0.12        69\n",
            "          22       0.11      0.09      0.10        32\n",
            "          23       0.04      0.03      0.03        32\n",
            "          24       0.04      0.04      0.04        23\n",
            "          25       0.04      0.05      0.04        19\n",
            "          26       0.11      0.08      0.09        36\n",
            "          27       0.00      0.00      0.00         4\n",
            "          28       0.04      0.12      0.06         8\n",
            "          29       0.04      0.07      0.05        14\n",
            "          30       0.21      0.14      0.17        42\n",
            "          31       0.04      0.03      0.03        34\n",
            "          32       0.00      0.00      0.00         9\n",
            "          33       0.00      0.00      0.00        10\n",
            "          34       0.07      0.11      0.09        19\n",
            "          35       0.00      0.00      0.00        27\n",
            "          36       0.11      0.12      0.11        25\n",
            "          37       0.25      0.18      0.21        39\n",
            "          38       0.29      0.35      0.31        23\n",
            "          39       0.11      0.12      0.11        25\n",
            "          40       0.11      0.07      0.09        42\n",
            "          41       0.07      0.12      0.09        25\n",
            "          42       0.10      0.06      0.08        65\n",
            "          43       0.11      0.20      0.14        15\n",
            "          44       0.04      0.04      0.04        28\n",
            "          45       0.17      0.07      0.10        85\n",
            "          46       0.17      0.13      0.15        45\n",
            "          47       0.11      0.06      0.08        62\n",
            "          48       0.19      0.11      0.14        66\n",
            "          49       0.14      0.16      0.15        31\n",
            "          50       0.19      0.26      0.22        27\n",
            "          51       0.14      0.42      0.21        12\n",
            "          52       0.08      0.12      0.10        24\n",
            "          53       0.11      0.12      0.11        34\n",
            "          54       0.14      0.09      0.11        55\n",
            "          55       0.08      0.18      0.11        17\n",
            "          56       0.08      0.17      0.11        18\n",
            "          57       0.08      0.13      0.10        23\n",
            "          58       0.08      0.18      0.11        17\n",
            "          59       0.14      0.23      0.17        22\n",
            "          60       0.14      0.10      0.12        49\n",
            "          61       0.17      0.13      0.14        47\n",
            "          62       0.14      0.24      0.18        21\n",
            "          63       0.22      0.15      0.18        52\n",
            "          64       0.26      0.23      0.24        40\n",
            "          65       0.11      0.08      0.10        49\n",
            "          66       0.09      0.04      0.06        68\n",
            "          67       0.21      0.10      0.13        71\n",
            "          68       0.20      0.10      0.13        59\n",
            "          69       0.07      0.06      0.07        31\n",
            "          70       0.00      0.00      0.00        36\n",
            "          71       0.11      0.12      0.12        24\n",
            "          72       0.11      0.10      0.10        30\n",
            "          73       0.11      0.07      0.08        43\n",
            "          74       0.00      0.00      0.00        14\n",
            "          75       0.04      0.03      0.03        30\n",
            "          76       0.00      0.00      0.00        10\n",
            "          77       0.07      0.12      0.09        17\n",
            "          78       0.07      0.13      0.09        15\n",
            "          79       0.07      0.05      0.06        38\n",
            "          80       0.00      0.00      0.00        26\n",
            "          81       0.05      0.06      0.05        36\n",
            "          82       0.10      0.16      0.12        19\n",
            "          83       0.12      0.18      0.14        34\n",
            "          84       0.21      0.23      0.22        47\n",
            "          85       0.38      0.47      0.42        43\n",
            "          86       0.13      0.30      0.19        23\n",
            "          87       0.22      0.32      0.26        25\n",
            "          88       0.24      0.27      0.25        30\n",
            "\n",
            "    accuracy                           0.13      2984\n",
            "   macro avg       0.12      0.14      0.12      2984\n",
            "weighted avg       0.14      0.13      0.13      2984\n",
            "\n"
          ],
          "name": "stdout"
        }
      ]
    },
    {
      "cell_type": "code",
      "metadata": {
        "id": "_GiwcSrUIAj9",
        "colab": {
          "base_uri": "https://localhost:8080/"
        },
        "outputId": "9cb40e5f-48f9-4bc2-e52b-cd8d802a091c"
      },
      "source": [
        "from sklearn.svm import SVC\n",
        "model1_gray = SVC(max_iter= 1000)\n",
        "\n",
        "model1_gray.fit(X_train_gray, Y_train)\n",
        "y_pred = model1_gray.predict(X_val_gray)\n",
        "print('Percentage correct: ', accuracy_score(y_pred = y_pred, y_true = Y_val))\n"
      ],
      "execution_count": null,
      "outputs": [
        {
          "output_type": "stream",
          "text": [
            "Percentage correct:  0.2349195710455764\n"
          ],
          "name": "stdout"
        }
      ]
    },
    {
      "cell_type": "code",
      "metadata": {
        "id": "1lMNmJ3HqdVq",
        "colab": {
          "base_uri": "https://localhost:8080/"
        },
        "outputId": "5a59e514-9b6f-4b6d-cb7d-7266bda0e98a"
      },
      "source": [
        "print(classification_report(model1_gray.predict(X_val_gray), Y_val))"
      ],
      "execution_count": null,
      "outputs": [
        {
          "output_type": "stream",
          "text": [
            "              precision    recall  f1-score   support\n",
            "\n",
            "           0       0.39      0.20      0.27        69\n",
            "           1       0.14      0.22      0.17        23\n",
            "           2       0.31      0.24      0.27        45\n",
            "           3       0.14      0.14      0.14        36\n",
            "           4       0.14      0.16      0.15        32\n",
            "           5       0.17      0.14      0.15        42\n",
            "           6       0.11      0.17      0.13        24\n",
            "           7       0.25      0.21      0.23        42\n",
            "           8       0.08      0.09      0.09        33\n",
            "           9       0.19      0.18      0.19        39\n",
            "          10       0.25      0.31      0.28        29\n",
            "          11       0.14      0.20      0.16        25\n",
            "          12       0.31      0.12      0.17        93\n",
            "          13       0.17      0.18      0.17        34\n",
            "          14       0.22      0.26      0.24        31\n",
            "          15       0.33      0.24      0.28        50\n",
            "          16       0.29      0.33      0.31        30\n",
            "          17       0.42      0.13      0.20       117\n",
            "          18       0.23      0.30      0.26        27\n",
            "          19       0.24      0.42      0.30        19\n",
            "          20       0.15      0.18      0.16        28\n",
            "          21       0.12      0.16      0.14        25\n",
            "          22       0.14      0.22      0.17        18\n",
            "          23       0.18      0.12      0.14        42\n",
            "          24       0.04      0.33      0.06         3\n",
            "          25       0.04      0.05      0.04        22\n",
            "          26       0.11      0.14      0.12        21\n",
            "          27       0.11      0.30      0.16        10\n",
            "          28       0.11      0.16      0.13        19\n",
            "          29       0.04      0.11      0.05         9\n",
            "          30       0.18      0.36      0.24        14\n",
            "          31       0.04      0.25      0.06         4\n",
            "          32       0.11      0.75      0.19         4\n",
            "          33       0.18      0.26      0.21        19\n",
            "          34       0.04      0.50      0.07         2\n",
            "          35       0.14      0.14      0.14        28\n",
            "          36       0.14      0.19      0.16        21\n",
            "          37       0.25      0.30      0.27        23\n",
            "          38       0.43      0.57      0.49        21\n",
            "          39       0.36      0.32      0.34        31\n",
            "          40       0.29      0.27      0.28        30\n",
            "          41       0.42      0.16      0.24       104\n",
            "          42       0.33      0.23      0.27        57\n",
            "          43       0.32      0.33      0.33        27\n",
            "          44       0.00      0.00      0.00         2\n",
            "          45       0.39      0.12      0.19       114\n",
            "          46       0.11      0.27      0.16        15\n",
            "          47       0.36      0.28      0.32        46\n",
            "          48       0.28      0.20      0.23        50\n",
            "          49       0.22      0.40      0.29        20\n",
            "          50       0.17      0.32      0.22        19\n",
            "          51       0.28      0.23      0.25        43\n",
            "          52       0.39      0.17      0.24        83\n",
            "          53       0.08      0.14      0.10        22\n",
            "          54       0.19      0.17      0.18        42\n",
            "          55       0.25      0.20      0.23        44\n",
            "          56       0.17      0.23      0.19        26\n",
            "          57       0.17      0.21      0.19        28\n",
            "          58       0.19      0.15      0.17        48\n",
            "          59       0.17      0.23      0.19        26\n",
            "          60       0.17      0.20      0.18        30\n",
            "          61       0.22      0.27      0.24        30\n",
            "          62       0.33      0.30      0.32        40\n",
            "          63       0.42      0.56      0.48        27\n",
            "          64       0.32      0.42      0.37        26\n",
            "          65       0.17      0.26      0.21        23\n",
            "          66       0.12      0.14      0.13        29\n",
            "          67       0.38      0.28      0.32        47\n",
            "          68       0.30      0.16      0.20        58\n",
            "          69       0.07      0.11      0.09        18\n",
            "          70       0.14      0.18      0.16        22\n",
            "          71       0.07      0.40      0.12         5\n",
            "          72       0.11      0.20      0.14        15\n",
            "          73       0.29      0.28      0.28        29\n",
            "          74       0.04      0.05      0.04        19\n",
            "          75       0.04      0.25      0.06         4\n",
            "          76       0.25      0.25      0.25        28\n",
            "          77       0.18      0.26      0.21        19\n",
            "          78       0.11      0.38      0.17         8\n",
            "          79       0.15      0.25      0.19        16\n",
            "          80       0.04      0.50      0.07         2\n",
            "          81       0.45      0.16      0.23       116\n",
            "          82       0.13      0.80      0.23         5\n",
            "          83       0.57      0.32      0.41        92\n",
            "          84       0.53      0.51      0.52        55\n",
            "          85       0.69      0.73      0.71        49\n",
            "          86       0.44      0.33      0.38        69\n",
            "          87       0.42      0.60      0.49        25\n",
            "          88       0.29      0.36      0.32        28\n",
            "\n",
            "    accuracy                           0.23      2984\n",
            "   macro avg       0.22      0.26      0.22      2984\n",
            "weighted avg       0.29      0.23      0.24      2984\n",
            "\n"
          ],
          "name": "stdout"
        }
      ]
    },
    {
      "cell_type": "code",
      "metadata": {
        "id": "y5uonCXKMyWy",
        "colab": {
          "base_uri": "https://localhost:8080/"
        },
        "outputId": "eaa2c782-4eae-4c12-99db-5aeb6731a708"
      },
      "source": [
        "from sklearn.linear_model import SGDClassifier\n",
        "model2_gray = SGDClassifier(random_state=42, max_iter=1000, tol=1e-3)\n",
        "model2_gray.fit(X_train_gray, Y_train)\n",
        "y_pred = model2_gray.predict(X_val_gray)\n",
        "print('Percentage correct: ', accuracy_score(y_pred = y_pred, y_true = Y_val))\n"
      ],
      "execution_count": null,
      "outputs": [
        {
          "output_type": "stream",
          "text": [
            "Percentage correct:  0.11159517426273459\n"
          ],
          "name": "stdout"
        }
      ]
    },
    {
      "cell_type": "code",
      "metadata": {
        "id": "msLMkGDQQmlZ",
        "colab": {
          "base_uri": "https://localhost:8080/"
        },
        "outputId": "65747931-b085-4018-d848-69f4da6cabb3"
      },
      "source": [
        "from sklearn.tree import DecisionTreeClassifier\n",
        "model3_gray = DecisionTreeClassifier()\n",
        "model3_gray.fit(X_train_gray, Y_train)\n",
        "y_pred = model3_gray.predict(X_val_gray)\n",
        "print('Percentage correct: ', accuracy_score(y_pred = y_pred, y_true = Y_val))"
      ],
      "execution_count": null,
      "outputs": [
        {
          "output_type": "stream",
          "text": [
            "Percentage correct:  0.09048257372654156\n"
          ],
          "name": "stdout"
        }
      ]
    },
    {
      "cell_type": "code",
      "metadata": {
        "id": "DwXnNyPFSyXd",
        "colab": {
          "base_uri": "https://localhost:8080/"
        },
        "outputId": "5ca3758f-1ba6-44d3-b2dd-c8f89b47505d"
      },
      "source": [
        "from sklearn.naive_bayes import BernoulliNB\n",
        "model4 = BernoulliNB()\n",
        "model4.fit(X_train_gray, Y_train)\n"
      ],
      "execution_count": null,
      "outputs": [
        {
          "output_type": "execute_result",
          "data": {
            "text/plain": [
              "BernoulliNB(alpha=1.0, binarize=0.0, class_prior=None, fit_prior=True)"
            ]
          },
          "metadata": {
            "tags": []
          },
          "execution_count": 27
        }
      ]
    },
    {
      "cell_type": "code",
      "metadata": {
        "id": "JIe-7gQiWZab",
        "colab": {
          "base_uri": "https://localhost:8080/"
        },
        "outputId": "20712ad9-8264-4a92-b1d3-6c0b96781ec4"
      },
      "source": [
        "y_pred = model4.predict(X_val_gray)\n",
        "print('Percentage correct: ', accuracy_score(y_pred = y_pred, y_true = Y_val))"
      ],
      "execution_count": null,
      "outputs": [
        {
          "output_type": "stream",
          "text": [
            "Percentage correct:  0.1380697050938338\n"
          ],
          "name": "stdout"
        }
      ]
    },
    {
      "cell_type": "code",
      "metadata": {
        "id": "P2WmjBjQ3Ihc",
        "colab": {
          "base_uri": "https://localhost:8080/"
        },
        "outputId": "2e7a6f4f-d7f6-4416-a961-a150ae7590c0"
      },
      "source": [
        "print(y_pred)"
      ],
      "execution_count": null,
      "outputs": [
        {
          "output_type": "stream",
          "text": [
            "[68  0 68 ... 79 73 41]\n"
          ],
          "name": "stdout"
        }
      ]
    }
  ]
}