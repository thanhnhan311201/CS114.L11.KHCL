{
  "nbformat": 4,
  "nbformat_minor": 0,
  "metadata": {
    "colab": {
      "name": "NewHousePricesPredict.ipynb",
      "provenance": [],
      "authorship_tag": "ABX9TyNZEb3pU7KjU7lybn/+DWs3",
      "include_colab_link": true
    },
    "kernelspec": {
      "name": "python3",
      "display_name": "Python 3"
    }
  },
  "cells": [
    {
      "cell_type": "markdown",
      "metadata": {
        "id": "view-in-github",
        "colab_type": "text"
      },
      "source": [
        "<a href=\"https://colab.research.google.com/github/thanhnhan311201/CS114.L11.KHCL/blob/master/NewHousePricesPredict.ipynb\" target=\"_parent\"><img src=\"https://colab.research.google.com/assets/colab-badge.svg\" alt=\"Open In Colab\"/></a>"
      ]
    },
    {
      "cell_type": "code",
      "metadata": {
        "colab": {
          "resources": {
            "http://localhost:8080/nbextensions/google.colab/files.js": {
              "data": "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",
              "ok": true,
              "headers": [
                [
                  "content-type",
                  "application/javascript"
                ]
              ],
              "status": 200,
              "status_text": ""
            }
          },
          "base_uri": "https://localhost:8080/",
          "height": 55
        },
        "id": "xmgFSGGfi9zG",
        "outputId": "8407bc3a-9e11-41f6-85be-32aee636e960"
      },
      "source": [
        "from google.colab import files\n",
        "files.upload()"
      ],
      "execution_count": null,
      "outputs": [
        {
          "output_type": "display_data",
          "data": {
            "text/html": [
              "\n",
              "     <input type=\"file\" id=\"files-2f5da36b-9ced-4ce4-81ce-a81b882779f4\" name=\"files[]\" multiple disabled\n",
              "        style=\"border:none\" />\n",
              "     <output id=\"result-2f5da36b-9ced-4ce4-81ce-a81b882779f4\">\n",
              "      Upload widget is only available when the cell has been executed in the\n",
              "      current browser session. Please rerun this cell to enable.\n",
              "      </output>\n",
              "      <script src=\"/nbextensions/google.colab/files.js\"></script> "
            ],
            "text/plain": [
              "<IPython.core.display.HTML object>"
            ]
          },
          "metadata": {
            "tags": []
          }
        },
        {
          "output_type": "execute_result",
          "data": {
            "text/plain": [
              "{}"
            ]
          },
          "metadata": {
            "tags": []
          },
          "execution_count": 158
        }
      ]
    },
    {
      "cell_type": "code",
      "metadata": {
        "colab": {
          "base_uri": "https://localhost:8080/"
        },
        "id": "KyNaSU_ljDCr",
        "outputId": "aef9f5d6-d0ca-4eb6-b31a-a38fab133f3c"
      },
      "source": [
        "!unzip house-prices-advanced-regression-techniques.zip"
      ],
      "execution_count": null,
      "outputs": [
        {
          "output_type": "stream",
          "text": [
            "Archive:  house-prices-advanced-regression-techniques.zip\n",
            "replace data_description.txt? [y]es, [n]o, [A]ll, [N]one, [r]ename: N\n"
          ],
          "name": "stdout"
        }
      ]
    },
    {
      "cell_type": "code",
      "metadata": {
        "id": "_vq-ShhXjUS5"
      },
      "source": [
        "import pandas as pd\n",
        "import matplotlib.pyplot as plt"
      ],
      "execution_count": null,
      "outputs": []
    },
    {
      "cell_type": "code",
      "metadata": {
        "id": "AJBbMTRrjdNm"
      },
      "source": [
        "train = pd.read_csv('train.csv')\n",
        "test = pd.read_csv('test.csv')"
      ],
      "execution_count": null,
      "outputs": []
    },
    {
      "cell_type": "code",
      "metadata": {
        "id": "mdpmFI2Mjk-g"
      },
      "source": [
        "drop_col = [col for col in train.columns if train[col].isnull().sum()/train[col].isnull().count() >= 0.7]"
      ],
      "execution_count": null,
      "outputs": []
    },
    {
      "cell_type": "code",
      "metadata": {
        "id": "clom7C1RkJ4j"
      },
      "source": [
        "train = train.drop(columns= drop_col)\n",
        "test  = test.drop(columns= drop_col)"
      ],
      "execution_count": null,
      "outputs": []
    },
    {
      "cell_type": "code",
      "metadata": {
        "colab": {
          "base_uri": "https://localhost:8080/"
        },
        "id": "53mcHfBvkkgn",
        "outputId": "f0dfc3d3-72fd-4e77-e92a-90999ef6e2fb"
      },
      "source": [
        "for col in train.columns:\n",
        "    print(col, train[col].isnull().sum()/train[col].isnull().count() )"
      ],
      "execution_count": null,
      "outputs": [
        {
          "output_type": "stream",
          "text": [
            "Id 0.0\n",
            "MSSubClass 0.0\n",
            "MSZoning 0.0\n",
            "LotFrontage 0.1773972602739726\n",
            "LotArea 0.0\n",
            "Street 0.0\n",
            "LotShape 0.0\n",
            "LandContour 0.0\n",
            "Utilities 0.0\n",
            "LotConfig 0.0\n",
            "LandSlope 0.0\n",
            "Neighborhood 0.0\n",
            "Condition1 0.0\n",
            "Condition2 0.0\n",
            "BldgType 0.0\n",
            "HouseStyle 0.0\n",
            "OverallQual 0.0\n",
            "OverallCond 0.0\n",
            "YearBuilt 0.0\n",
            "YearRemodAdd 0.0\n",
            "RoofStyle 0.0\n",
            "RoofMatl 0.0\n",
            "Exterior1st 0.0\n",
            "Exterior2nd 0.0\n",
            "MasVnrType 0.005479452054794521\n",
            "MasVnrArea 0.005479452054794521\n",
            "ExterQual 0.0\n",
            "ExterCond 0.0\n",
            "Foundation 0.0\n",
            "BsmtQual 0.025342465753424658\n",
            "BsmtCond 0.025342465753424658\n",
            "BsmtExposure 0.026027397260273973\n",
            "BsmtFinType1 0.025342465753424658\n",
            "BsmtFinSF1 0.0\n",
            "BsmtFinType2 0.026027397260273973\n",
            "BsmtFinSF2 0.0\n",
            "BsmtUnfSF 0.0\n",
            "TotalBsmtSF 0.0\n",
            "Heating 0.0\n",
            "HeatingQC 0.0\n",
            "CentralAir 0.0\n",
            "Electrical 0.0006849315068493151\n",
            "1stFlrSF 0.0\n",
            "2ndFlrSF 0.0\n",
            "LowQualFinSF 0.0\n",
            "GrLivArea 0.0\n",
            "BsmtFullBath 0.0\n",
            "BsmtHalfBath 0.0\n",
            "FullBath 0.0\n",
            "HalfBath 0.0\n",
            "BedroomAbvGr 0.0\n",
            "KitchenAbvGr 0.0\n",
            "KitchenQual 0.0\n",
            "TotRmsAbvGrd 0.0\n",
            "Functional 0.0\n",
            "Fireplaces 0.0\n",
            "FireplaceQu 0.4726027397260274\n",
            "GarageType 0.05547945205479452\n",
            "GarageYrBlt 0.05547945205479452\n",
            "GarageFinish 0.05547945205479452\n",
            "GarageCars 0.0\n",
            "GarageArea 0.0\n",
            "GarageQual 0.05547945205479452\n",
            "GarageCond 0.05547945205479452\n",
            "PavedDrive 0.0\n",
            "WoodDeckSF 0.0\n",
            "OpenPorchSF 0.0\n",
            "EnclosedPorch 0.0\n",
            "3SsnPorch 0.0\n",
            "ScreenPorch 0.0\n",
            "PoolArea 0.0\n",
            "MiscVal 0.0\n",
            "MoSold 0.0\n",
            "YrSold 0.0\n",
            "SaleType 0.0\n",
            "SaleCondition 0.0\n",
            "SalePrice 0.0\n"
          ],
          "name": "stdout"
        }
      ]
    },
    {
      "cell_type": "code",
      "metadata": {
        "id": "nzJrscsKky8I"
      },
      "source": [
        "for col in train.columns:\n",
        "    if train[col].isnull().sum() > 0:\n",
        "        if train[col].dtypes == 'O':\n",
        "            train[col].fillna(train.mode()[col][0], inplace= True)\n",
        "        else:\n",
        "            train[col].fillna(train[col].mean(), inplace= True)"
      ],
      "execution_count": null,
      "outputs": []
    },
    {
      "cell_type": "code",
      "metadata": {
        "id": "uygfF-zBlvgL"
      },
      "source": [
        "for col in test.columns:\n",
        "    if test[col].isnull().sum() > 0:\n",
        "        if test[col].dtypes == 'O':\n",
        "            test[col].fillna(test.mode()[col][0], inplace= True)\n",
        "        else:\n",
        "            test[col].fillna(test[col].mean(), inplace= True)"
      ],
      "execution_count": null,
      "outputs": []
    },
    {
      "cell_type": "code",
      "metadata": {
        "colab": {
          "base_uri": "https://localhost:8080/"
        },
        "id": "R9r7C_WsmpSI",
        "outputId": "6d44ccdd-8d9c-4f52-9aab-6dbc41bcfa32"
      },
      "source": [
        "train.info()"
      ],
      "execution_count": null,
      "outputs": [
        {
          "output_type": "stream",
          "text": [
            "<class 'pandas.core.frame.DataFrame'>\n",
            "RangeIndex: 1460 entries, 0 to 1459\n",
            "Data columns (total 77 columns):\n",
            " #   Column         Non-Null Count  Dtype  \n",
            "---  ------         --------------  -----  \n",
            " 0   Id             1460 non-null   int64  \n",
            " 1   MSSubClass     1460 non-null   int64  \n",
            " 2   MSZoning       1460 non-null   object \n",
            " 3   LotFrontage    1460 non-null   float64\n",
            " 4   LotArea        1460 non-null   int64  \n",
            " 5   Street         1460 non-null   object \n",
            " 6   LotShape       1460 non-null   object \n",
            " 7   LandContour    1460 non-null   object \n",
            " 8   Utilities      1460 non-null   object \n",
            " 9   LotConfig      1460 non-null   object \n",
            " 10  LandSlope      1460 non-null   object \n",
            " 11  Neighborhood   1460 non-null   object \n",
            " 12  Condition1     1460 non-null   object \n",
            " 13  Condition2     1460 non-null   object \n",
            " 14  BldgType       1460 non-null   object \n",
            " 15  HouseStyle     1460 non-null   object \n",
            " 16  OverallQual    1460 non-null   int64  \n",
            " 17  OverallCond    1460 non-null   int64  \n",
            " 18  YearBuilt      1460 non-null   int64  \n",
            " 19  YearRemodAdd   1460 non-null   int64  \n",
            " 20  RoofStyle      1460 non-null   object \n",
            " 21  RoofMatl       1460 non-null   object \n",
            " 22  Exterior1st    1460 non-null   object \n",
            " 23  Exterior2nd    1460 non-null   object \n",
            " 24  MasVnrType     1460 non-null   object \n",
            " 25  MasVnrArea     1460 non-null   float64\n",
            " 26  ExterQual      1460 non-null   object \n",
            " 27  ExterCond      1460 non-null   object \n",
            " 28  Foundation     1460 non-null   object \n",
            " 29  BsmtQual       1460 non-null   object \n",
            " 30  BsmtCond       1460 non-null   object \n",
            " 31  BsmtExposure   1460 non-null   object \n",
            " 32  BsmtFinType1   1460 non-null   object \n",
            " 33  BsmtFinSF1     1460 non-null   int64  \n",
            " 34  BsmtFinType2   1460 non-null   object \n",
            " 35  BsmtFinSF2     1460 non-null   int64  \n",
            " 36  BsmtUnfSF      1460 non-null   int64  \n",
            " 37  TotalBsmtSF    1460 non-null   int64  \n",
            " 38  Heating        1460 non-null   object \n",
            " 39  HeatingQC      1460 non-null   object \n",
            " 40  CentralAir     1460 non-null   object \n",
            " 41  Electrical     1460 non-null   object \n",
            " 42  1stFlrSF       1460 non-null   int64  \n",
            " 43  2ndFlrSF       1460 non-null   int64  \n",
            " 44  LowQualFinSF   1460 non-null   int64  \n",
            " 45  GrLivArea      1460 non-null   int64  \n",
            " 46  BsmtFullBath   1460 non-null   int64  \n",
            " 47  BsmtHalfBath   1460 non-null   int64  \n",
            " 48  FullBath       1460 non-null   int64  \n",
            " 49  HalfBath       1460 non-null   int64  \n",
            " 50  BedroomAbvGr   1460 non-null   int64  \n",
            " 51  KitchenAbvGr   1460 non-null   int64  \n",
            " 52  KitchenQual    1460 non-null   object \n",
            " 53  TotRmsAbvGrd   1460 non-null   int64  \n",
            " 54  Functional     1460 non-null   object \n",
            " 55  Fireplaces     1460 non-null   int64  \n",
            " 56  FireplaceQu    1460 non-null   object \n",
            " 57  GarageType     1460 non-null   object \n",
            " 58  GarageYrBlt    1460 non-null   float64\n",
            " 59  GarageFinish   1460 non-null   object \n",
            " 60  GarageCars     1460 non-null   int64  \n",
            " 61  GarageArea     1460 non-null   int64  \n",
            " 62  GarageQual     1460 non-null   object \n",
            " 63  GarageCond     1460 non-null   object \n",
            " 64  PavedDrive     1460 non-null   object \n",
            " 65  WoodDeckSF     1460 non-null   int64  \n",
            " 66  OpenPorchSF    1460 non-null   int64  \n",
            " 67  EnclosedPorch  1460 non-null   int64  \n",
            " 68  3SsnPorch      1460 non-null   int64  \n",
            " 69  ScreenPorch    1460 non-null   int64  \n",
            " 70  PoolArea       1460 non-null   int64  \n",
            " 71  MiscVal        1460 non-null   int64  \n",
            " 72  MoSold         1460 non-null   int64  \n",
            " 73  YrSold         1460 non-null   int64  \n",
            " 74  SaleType       1460 non-null   object \n",
            " 75  SaleCondition  1460 non-null   object \n",
            " 76  SalePrice      1460 non-null   int64  \n",
            "dtypes: float64(3), int64(35), object(39)\n",
            "memory usage: 878.4+ KB\n"
          ],
          "name": "stdout"
        }
      ]
    },
    {
      "cell_type": "code",
      "metadata": {
        "id": "wvaXtDyBmXsr"
      },
      "source": [
        "train = train.drop(columns=['Utilities'])\n",
        "test = test.drop(columns=['Utilities'])"
      ],
      "execution_count": null,
      "outputs": []
    },
    {
      "cell_type": "code",
      "metadata": {
        "colab": {
          "base_uri": "https://localhost:8080/",
          "height": 419
        },
        "id": "jGwuOeZztHKF",
        "outputId": "f89239de-ac5b-426a-a0a4-c0560b3a8e2d"
      },
      "source": [
        "train[['YearBuilt','YearRemodAdd','GarageYrBlt']]"
      ],
      "execution_count": null,
      "outputs": [
        {
          "output_type": "execute_result",
          "data": {
            "text/html": [
              "<div>\n",
              "<style scoped>\n",
              "    .dataframe tbody tr th:only-of-type {\n",
              "        vertical-align: middle;\n",
              "    }\n",
              "\n",
              "    .dataframe tbody tr th {\n",
              "        vertical-align: top;\n",
              "    }\n",
              "\n",
              "    .dataframe thead th {\n",
              "        text-align: right;\n",
              "    }\n",
              "</style>\n",
              "<table border=\"1\" class=\"dataframe\">\n",
              "  <thead>\n",
              "    <tr style=\"text-align: right;\">\n",
              "      <th></th>\n",
              "      <th>YearBuilt</th>\n",
              "      <th>YearRemodAdd</th>\n",
              "      <th>GarageYrBlt</th>\n",
              "    </tr>\n",
              "  </thead>\n",
              "  <tbody>\n",
              "    <tr>\n",
              "      <th>0</th>\n",
              "      <td>2003</td>\n",
              "      <td>2003</td>\n",
              "      <td>2003.0</td>\n",
              "    </tr>\n",
              "    <tr>\n",
              "      <th>1</th>\n",
              "      <td>1976</td>\n",
              "      <td>1976</td>\n",
              "      <td>1976.0</td>\n",
              "    </tr>\n",
              "    <tr>\n",
              "      <th>2</th>\n",
              "      <td>2001</td>\n",
              "      <td>2002</td>\n",
              "      <td>2001.0</td>\n",
              "    </tr>\n",
              "    <tr>\n",
              "      <th>3</th>\n",
              "      <td>1915</td>\n",
              "      <td>1970</td>\n",
              "      <td>1998.0</td>\n",
              "    </tr>\n",
              "    <tr>\n",
              "      <th>4</th>\n",
              "      <td>2000</td>\n",
              "      <td>2000</td>\n",
              "      <td>2000.0</td>\n",
              "    </tr>\n",
              "    <tr>\n",
              "      <th>...</th>\n",
              "      <td>...</td>\n",
              "      <td>...</td>\n",
              "      <td>...</td>\n",
              "    </tr>\n",
              "    <tr>\n",
              "      <th>1455</th>\n",
              "      <td>1999</td>\n",
              "      <td>2000</td>\n",
              "      <td>1999.0</td>\n",
              "    </tr>\n",
              "    <tr>\n",
              "      <th>1456</th>\n",
              "      <td>1978</td>\n",
              "      <td>1988</td>\n",
              "      <td>1978.0</td>\n",
              "    </tr>\n",
              "    <tr>\n",
              "      <th>1457</th>\n",
              "      <td>1941</td>\n",
              "      <td>2006</td>\n",
              "      <td>1941.0</td>\n",
              "    </tr>\n",
              "    <tr>\n",
              "      <th>1458</th>\n",
              "      <td>1950</td>\n",
              "      <td>1996</td>\n",
              "      <td>1950.0</td>\n",
              "    </tr>\n",
              "    <tr>\n",
              "      <th>1459</th>\n",
              "      <td>1965</td>\n",
              "      <td>1965</td>\n",
              "      <td>1965.0</td>\n",
              "    </tr>\n",
              "  </tbody>\n",
              "</table>\n",
              "<p>1460 rows × 3 columns</p>\n",
              "</div>"
            ],
            "text/plain": [
              "      YearBuilt  YearRemodAdd  GarageYrBlt\n",
              "0          2003          2003       2003.0\n",
              "1          1976          1976       1976.0\n",
              "2          2001          2002       2001.0\n",
              "3          1915          1970       1998.0\n",
              "4          2000          2000       2000.0\n",
              "...         ...           ...          ...\n",
              "1455       1999          2000       1999.0\n",
              "1456       1978          1988       1978.0\n",
              "1457       1941          2006       1941.0\n",
              "1458       1950          1996       1950.0\n",
              "1459       1965          1965       1965.0\n",
              "\n",
              "[1460 rows x 3 columns]"
            ]
          },
          "metadata": {
            "tags": []
          },
          "execution_count": 225
        }
      ]
    },
    {
      "cell_type": "code",
      "metadata": {
        "id": "ONz0woLEuQMf"
      },
      "source": [
        "#Dua thời gian ở 'YearBuilt','YearRemodAdd','GarageYrBlt' thành khoảng thời gian trước khi nhà được bán\n",
        "for feature in ['YearBuilt','YearRemodAdd','GarageYrBlt']:\n",
        "    train[feature] = train['YrSold'] - train[feature]\n",
        "    test[feature] = test['YrSold'] - test[feature]"
      ],
      "execution_count": null,
      "outputs": []
    },
    {
      "cell_type": "code",
      "metadata": {
        "colab": {
          "base_uri": "https://localhost:8080/",
          "height": 419
        },
        "id": "86VVoKu2uanK",
        "outputId": "9f004cf5-17a9-4e23-fd5b-c0b8b28fcd78"
      },
      "source": [
        "train[['YearBuilt','YearRemodAdd','GarageYrBlt']]"
      ],
      "execution_count": null,
      "outputs": [
        {
          "output_type": "execute_result",
          "data": {
            "text/html": [
              "<div>\n",
              "<style scoped>\n",
              "    .dataframe tbody tr th:only-of-type {\n",
              "        vertical-align: middle;\n",
              "    }\n",
              "\n",
              "    .dataframe tbody tr th {\n",
              "        vertical-align: top;\n",
              "    }\n",
              "\n",
              "    .dataframe thead th {\n",
              "        text-align: right;\n",
              "    }\n",
              "</style>\n",
              "<table border=\"1\" class=\"dataframe\">\n",
              "  <thead>\n",
              "    <tr style=\"text-align: right;\">\n",
              "      <th></th>\n",
              "      <th>YearBuilt</th>\n",
              "      <th>YearRemodAdd</th>\n",
              "      <th>GarageYrBlt</th>\n",
              "    </tr>\n",
              "  </thead>\n",
              "  <tbody>\n",
              "    <tr>\n",
              "      <th>0</th>\n",
              "      <td>5</td>\n",
              "      <td>5</td>\n",
              "      <td>5.0</td>\n",
              "    </tr>\n",
              "    <tr>\n",
              "      <th>1</th>\n",
              "      <td>31</td>\n",
              "      <td>31</td>\n",
              "      <td>31.0</td>\n",
              "    </tr>\n",
              "    <tr>\n",
              "      <th>2</th>\n",
              "      <td>7</td>\n",
              "      <td>6</td>\n",
              "      <td>7.0</td>\n",
              "    </tr>\n",
              "    <tr>\n",
              "      <th>3</th>\n",
              "      <td>91</td>\n",
              "      <td>36</td>\n",
              "      <td>8.0</td>\n",
              "    </tr>\n",
              "    <tr>\n",
              "      <th>4</th>\n",
              "      <td>8</td>\n",
              "      <td>8</td>\n",
              "      <td>8.0</td>\n",
              "    </tr>\n",
              "    <tr>\n",
              "      <th>...</th>\n",
              "      <td>...</td>\n",
              "      <td>...</td>\n",
              "      <td>...</td>\n",
              "    </tr>\n",
              "    <tr>\n",
              "      <th>1455</th>\n",
              "      <td>8</td>\n",
              "      <td>7</td>\n",
              "      <td>8.0</td>\n",
              "    </tr>\n",
              "    <tr>\n",
              "      <th>1456</th>\n",
              "      <td>32</td>\n",
              "      <td>22</td>\n",
              "      <td>32.0</td>\n",
              "    </tr>\n",
              "    <tr>\n",
              "      <th>1457</th>\n",
              "      <td>69</td>\n",
              "      <td>4</td>\n",
              "      <td>69.0</td>\n",
              "    </tr>\n",
              "    <tr>\n",
              "      <th>1458</th>\n",
              "      <td>60</td>\n",
              "      <td>14</td>\n",
              "      <td>60.0</td>\n",
              "    </tr>\n",
              "    <tr>\n",
              "      <th>1459</th>\n",
              "      <td>43</td>\n",
              "      <td>43</td>\n",
              "      <td>43.0</td>\n",
              "    </tr>\n",
              "  </tbody>\n",
              "</table>\n",
              "<p>1460 rows × 3 columns</p>\n",
              "</div>"
            ],
            "text/plain": [
              "      YearBuilt  YearRemodAdd  GarageYrBlt\n",
              "0             5             5          5.0\n",
              "1            31            31         31.0\n",
              "2             7             6          7.0\n",
              "3            91            36          8.0\n",
              "4             8             8          8.0\n",
              "...         ...           ...          ...\n",
              "1455          8             7          8.0\n",
              "1456         32            22         32.0\n",
              "1457         69             4         69.0\n",
              "1458         60            14         60.0\n",
              "1459         43            43         43.0\n",
              "\n",
              "[1460 rows x 3 columns]"
            ]
          },
          "metadata": {
            "tags": []
          },
          "execution_count": 227
        }
      ]
    },
    {
      "cell_type": "code",
      "metadata": {
        "id": "Lz9hhQj0uusL"
      },
      "source": [
        "X = train.drop(columns=['Id', 'SalePrice'])"
      ],
      "execution_count": null,
      "outputs": []
    },
    {
      "cell_type": "code",
      "metadata": {
        "id": "XoQ_MKxXv0-J"
      },
      "source": [
        "X_test = test.drop(columns='Id')"
      ],
      "execution_count": null,
      "outputs": []
    },
    {
      "cell_type": "code",
      "metadata": {
        "id": "RHlbFzCKwUmw"
      },
      "source": [
        "Y = train['SalePrice']"
      ],
      "execution_count": null,
      "outputs": []
    },
    {
      "cell_type": "code",
      "metadata": {
        "id": "fO0VP5LjnN9R"
      },
      "source": [
        "from sklearn.preprocessing import LabelEncoder, MinMaxScaler"
      ],
      "execution_count": null,
      "outputs": []
    },
    {
      "cell_type": "code",
      "metadata": {
        "id": "Ut7C4zTPQw75"
      },
      "source": [
        "from sklearn.decomposition import PCA "
      ],
      "execution_count": null,
      "outputs": []
    },
    {
      "cell_type": "code",
      "metadata": {
        "colab": {
          "base_uri": "https://localhost:8080/",
          "height": 224
        },
        "id": "8utTnqAJRvHx",
        "outputId": "2989ee4e-1435-4aac-8ab0-e9e57f00b151"
      },
      "source": [
        "for col in X.columns:\n",
        "    if X[col].dtypes == 'O':\n",
        "        lbl = LabelEncoder()\n",
        "        X[col] = lbl.fit_transform(X[col])+1\n",
        "        X_test[col] = lbl.fit_transform(X_test[col])+1\n",
        "X.head()"
      ],
      "execution_count": null,
      "outputs": [
        {
          "output_type": "execute_result",
          "data": {
            "text/html": [
              "<div>\n",
              "<style scoped>\n",
              "    .dataframe tbody tr th:only-of-type {\n",
              "        vertical-align: middle;\n",
              "    }\n",
              "\n",
              "    .dataframe tbody tr th {\n",
              "        vertical-align: top;\n",
              "    }\n",
              "\n",
              "    .dataframe thead th {\n",
              "        text-align: right;\n",
              "    }\n",
              "</style>\n",
              "<table border=\"1\" class=\"dataframe\">\n",
              "  <thead>\n",
              "    <tr style=\"text-align: right;\">\n",
              "      <th></th>\n",
              "      <th>MSSubClass</th>\n",
              "      <th>MSZoning</th>\n",
              "      <th>LotFrontage</th>\n",
              "      <th>LotArea</th>\n",
              "      <th>Street</th>\n",
              "      <th>LotShape</th>\n",
              "      <th>LandContour</th>\n",
              "      <th>LotConfig</th>\n",
              "      <th>LandSlope</th>\n",
              "      <th>Neighborhood</th>\n",
              "      <th>Condition1</th>\n",
              "      <th>Condition2</th>\n",
              "      <th>BldgType</th>\n",
              "      <th>HouseStyle</th>\n",
              "      <th>OverallQual</th>\n",
              "      <th>OverallCond</th>\n",
              "      <th>YearBuilt</th>\n",
              "      <th>YearRemodAdd</th>\n",
              "      <th>RoofStyle</th>\n",
              "      <th>RoofMatl</th>\n",
              "      <th>Exterior1st</th>\n",
              "      <th>Exterior2nd</th>\n",
              "      <th>MasVnrType</th>\n",
              "      <th>MasVnrArea</th>\n",
              "      <th>ExterQual</th>\n",
              "      <th>ExterCond</th>\n",
              "      <th>Foundation</th>\n",
              "      <th>BsmtQual</th>\n",
              "      <th>BsmtCond</th>\n",
              "      <th>BsmtExposure</th>\n",
              "      <th>BsmtFinType1</th>\n",
              "      <th>BsmtFinSF1</th>\n",
              "      <th>BsmtFinType2</th>\n",
              "      <th>BsmtFinSF2</th>\n",
              "      <th>BsmtUnfSF</th>\n",
              "      <th>TotalBsmtSF</th>\n",
              "      <th>Heating</th>\n",
              "      <th>HeatingQC</th>\n",
              "      <th>CentralAir</th>\n",
              "      <th>Electrical</th>\n",
              "      <th>1stFlrSF</th>\n",
              "      <th>2ndFlrSF</th>\n",
              "      <th>LowQualFinSF</th>\n",
              "      <th>GrLivArea</th>\n",
              "      <th>BsmtFullBath</th>\n",
              "      <th>BsmtHalfBath</th>\n",
              "      <th>FullBath</th>\n",
              "      <th>HalfBath</th>\n",
              "      <th>BedroomAbvGr</th>\n",
              "      <th>KitchenAbvGr</th>\n",
              "      <th>KitchenQual</th>\n",
              "      <th>TotRmsAbvGrd</th>\n",
              "      <th>Functional</th>\n",
              "      <th>Fireplaces</th>\n",
              "      <th>FireplaceQu</th>\n",
              "      <th>GarageType</th>\n",
              "      <th>GarageYrBlt</th>\n",
              "      <th>GarageFinish</th>\n",
              "      <th>GarageCars</th>\n",
              "      <th>GarageArea</th>\n",
              "      <th>GarageQual</th>\n",
              "      <th>GarageCond</th>\n",
              "      <th>PavedDrive</th>\n",
              "      <th>WoodDeckSF</th>\n",
              "      <th>OpenPorchSF</th>\n",
              "      <th>EnclosedPorch</th>\n",
              "      <th>3SsnPorch</th>\n",
              "      <th>ScreenPorch</th>\n",
              "      <th>PoolArea</th>\n",
              "      <th>MiscVal</th>\n",
              "      <th>MoSold</th>\n",
              "      <th>YrSold</th>\n",
              "      <th>SaleType</th>\n",
              "      <th>SaleCondition</th>\n",
              "    </tr>\n",
              "  </thead>\n",
              "  <tbody>\n",
              "    <tr>\n",
              "      <th>0</th>\n",
              "      <td>60</td>\n",
              "      <td>4</td>\n",
              "      <td>65.0</td>\n",
              "      <td>8450</td>\n",
              "      <td>2</td>\n",
              "      <td>4</td>\n",
              "      <td>4</td>\n",
              "      <td>5</td>\n",
              "      <td>1</td>\n",
              "      <td>6</td>\n",
              "      <td>3</td>\n",
              "      <td>3</td>\n",
              "      <td>1</td>\n",
              "      <td>6</td>\n",
              "      <td>7</td>\n",
              "      <td>5</td>\n",
              "      <td>5</td>\n",
              "      <td>5</td>\n",
              "      <td>2</td>\n",
              "      <td>2</td>\n",
              "      <td>13</td>\n",
              "      <td>14</td>\n",
              "      <td>2</td>\n",
              "      <td>196.0</td>\n",
              "      <td>3</td>\n",
              "      <td>5</td>\n",
              "      <td>3</td>\n",
              "      <td>3</td>\n",
              "      <td>4</td>\n",
              "      <td>4</td>\n",
              "      <td>3</td>\n",
              "      <td>706</td>\n",
              "      <td>6</td>\n",
              "      <td>0</td>\n",
              "      <td>150</td>\n",
              "      <td>856</td>\n",
              "      <td>2</td>\n",
              "      <td>1</td>\n",
              "      <td>2</td>\n",
              "      <td>5</td>\n",
              "      <td>856</td>\n",
              "      <td>854</td>\n",
              "      <td>0</td>\n",
              "      <td>1710</td>\n",
              "      <td>1</td>\n",
              "      <td>0</td>\n",
              "      <td>2</td>\n",
              "      <td>1</td>\n",
              "      <td>3</td>\n",
              "      <td>1</td>\n",
              "      <td>3</td>\n",
              "      <td>8</td>\n",
              "      <td>7</td>\n",
              "      <td>0</td>\n",
              "      <td>3</td>\n",
              "      <td>2</td>\n",
              "      <td>5.0</td>\n",
              "      <td>2</td>\n",
              "      <td>2</td>\n",
              "      <td>548</td>\n",
              "      <td>5</td>\n",
              "      <td>5</td>\n",
              "      <td>3</td>\n",
              "      <td>0</td>\n",
              "      <td>61</td>\n",
              "      <td>0</td>\n",
              "      <td>0</td>\n",
              "      <td>0</td>\n",
              "      <td>0</td>\n",
              "      <td>0</td>\n",
              "      <td>2</td>\n",
              "      <td>2008</td>\n",
              "      <td>9</td>\n",
              "      <td>5</td>\n",
              "    </tr>\n",
              "    <tr>\n",
              "      <th>1</th>\n",
              "      <td>20</td>\n",
              "      <td>4</td>\n",
              "      <td>80.0</td>\n",
              "      <td>9600</td>\n",
              "      <td>2</td>\n",
              "      <td>4</td>\n",
              "      <td>4</td>\n",
              "      <td>3</td>\n",
              "      <td>1</td>\n",
              "      <td>25</td>\n",
              "      <td>2</td>\n",
              "      <td>3</td>\n",
              "      <td>1</td>\n",
              "      <td>3</td>\n",
              "      <td>6</td>\n",
              "      <td>8</td>\n",
              "      <td>31</td>\n",
              "      <td>31</td>\n",
              "      <td>2</td>\n",
              "      <td>2</td>\n",
              "      <td>9</td>\n",
              "      <td>9</td>\n",
              "      <td>3</td>\n",
              "      <td>0.0</td>\n",
              "      <td>4</td>\n",
              "      <td>5</td>\n",
              "      <td>2</td>\n",
              "      <td>3</td>\n",
              "      <td>4</td>\n",
              "      <td>2</td>\n",
              "      <td>1</td>\n",
              "      <td>978</td>\n",
              "      <td>6</td>\n",
              "      <td>0</td>\n",
              "      <td>284</td>\n",
              "      <td>1262</td>\n",
              "      <td>2</td>\n",
              "      <td>1</td>\n",
              "      <td>2</td>\n",
              "      <td>5</td>\n",
              "      <td>1262</td>\n",
              "      <td>0</td>\n",
              "      <td>0</td>\n",
              "      <td>1262</td>\n",
              "      <td>0</td>\n",
              "      <td>1</td>\n",
              "      <td>2</td>\n",
              "      <td>0</td>\n",
              "      <td>3</td>\n",
              "      <td>1</td>\n",
              "      <td>4</td>\n",
              "      <td>6</td>\n",
              "      <td>7</td>\n",
              "      <td>1</td>\n",
              "      <td>5</td>\n",
              "      <td>2</td>\n",
              "      <td>31.0</td>\n",
              "      <td>2</td>\n",
              "      <td>2</td>\n",
              "      <td>460</td>\n",
              "      <td>5</td>\n",
              "      <td>5</td>\n",
              "      <td>3</td>\n",
              "      <td>298</td>\n",
              "      <td>0</td>\n",
              "      <td>0</td>\n",
              "      <td>0</td>\n",
              "      <td>0</td>\n",
              "      <td>0</td>\n",
              "      <td>0</td>\n",
              "      <td>5</td>\n",
              "      <td>2007</td>\n",
              "      <td>9</td>\n",
              "      <td>5</td>\n",
              "    </tr>\n",
              "    <tr>\n",
              "      <th>2</th>\n",
              "      <td>60</td>\n",
              "      <td>4</td>\n",
              "      <td>68.0</td>\n",
              "      <td>11250</td>\n",
              "      <td>2</td>\n",
              "      <td>1</td>\n",
              "      <td>4</td>\n",
              "      <td>5</td>\n",
              "      <td>1</td>\n",
              "      <td>6</td>\n",
              "      <td>3</td>\n",
              "      <td>3</td>\n",
              "      <td>1</td>\n",
              "      <td>6</td>\n",
              "      <td>7</td>\n",
              "      <td>5</td>\n",
              "      <td>7</td>\n",
              "      <td>6</td>\n",
              "      <td>2</td>\n",
              "      <td>2</td>\n",
              "      <td>13</td>\n",
              "      <td>14</td>\n",
              "      <td>2</td>\n",
              "      <td>162.0</td>\n",
              "      <td>3</td>\n",
              "      <td>5</td>\n",
              "      <td>3</td>\n",
              "      <td>3</td>\n",
              "      <td>4</td>\n",
              "      <td>3</td>\n",
              "      <td>3</td>\n",
              "      <td>486</td>\n",
              "      <td>6</td>\n",
              "      <td>0</td>\n",
              "      <td>434</td>\n",
              "      <td>920</td>\n",
              "      <td>2</td>\n",
              "      <td>1</td>\n",
              "      <td>2</td>\n",
              "      <td>5</td>\n",
              "      <td>920</td>\n",
              "      <td>866</td>\n",
              "      <td>0</td>\n",
              "      <td>1786</td>\n",
              "      <td>1</td>\n",
              "      <td>0</td>\n",
              "      <td>2</td>\n",
              "      <td>1</td>\n",
              "      <td>3</td>\n",
              "      <td>1</td>\n",
              "      <td>3</td>\n",
              "      <td>6</td>\n",
              "      <td>7</td>\n",
              "      <td>1</td>\n",
              "      <td>5</td>\n",
              "      <td>2</td>\n",
              "      <td>7.0</td>\n",
              "      <td>2</td>\n",
              "      <td>2</td>\n",
              "      <td>608</td>\n",
              "      <td>5</td>\n",
              "      <td>5</td>\n",
              "      <td>3</td>\n",
              "      <td>0</td>\n",
              "      <td>42</td>\n",
              "      <td>0</td>\n",
              "      <td>0</td>\n",
              "      <td>0</td>\n",
              "      <td>0</td>\n",
              "      <td>0</td>\n",
              "      <td>9</td>\n",
              "      <td>2008</td>\n",
              "      <td>9</td>\n",
              "      <td>5</td>\n",
              "    </tr>\n",
              "    <tr>\n",
              "      <th>3</th>\n",
              "      <td>70</td>\n",
              "      <td>4</td>\n",
              "      <td>60.0</td>\n",
              "      <td>9550</td>\n",
              "      <td>2</td>\n",
              "      <td>1</td>\n",
              "      <td>4</td>\n",
              "      <td>1</td>\n",
              "      <td>1</td>\n",
              "      <td>7</td>\n",
              "      <td>3</td>\n",
              "      <td>3</td>\n",
              "      <td>1</td>\n",
              "      <td>6</td>\n",
              "      <td>7</td>\n",
              "      <td>5</td>\n",
              "      <td>91</td>\n",
              "      <td>36</td>\n",
              "      <td>2</td>\n",
              "      <td>2</td>\n",
              "      <td>14</td>\n",
              "      <td>16</td>\n",
              "      <td>3</td>\n",
              "      <td>0.0</td>\n",
              "      <td>4</td>\n",
              "      <td>5</td>\n",
              "      <td>1</td>\n",
              "      <td>4</td>\n",
              "      <td>2</td>\n",
              "      <td>4</td>\n",
              "      <td>1</td>\n",
              "      <td>216</td>\n",
              "      <td>6</td>\n",
              "      <td>0</td>\n",
              "      <td>540</td>\n",
              "      <td>756</td>\n",
              "      <td>2</td>\n",
              "      <td>3</td>\n",
              "      <td>2</td>\n",
              "      <td>5</td>\n",
              "      <td>961</td>\n",
              "      <td>756</td>\n",
              "      <td>0</td>\n",
              "      <td>1717</td>\n",
              "      <td>1</td>\n",
              "      <td>0</td>\n",
              "      <td>1</td>\n",
              "      <td>0</td>\n",
              "      <td>3</td>\n",
              "      <td>1</td>\n",
              "      <td>3</td>\n",
              "      <td>7</td>\n",
              "      <td>7</td>\n",
              "      <td>1</td>\n",
              "      <td>3</td>\n",
              "      <td>6</td>\n",
              "      <td>8.0</td>\n",
              "      <td>3</td>\n",
              "      <td>3</td>\n",
              "      <td>642</td>\n",
              "      <td>5</td>\n",
              "      <td>5</td>\n",
              "      <td>3</td>\n",
              "      <td>0</td>\n",
              "      <td>35</td>\n",
              "      <td>272</td>\n",
              "      <td>0</td>\n",
              "      <td>0</td>\n",
              "      <td>0</td>\n",
              "      <td>0</td>\n",
              "      <td>2</td>\n",
              "      <td>2006</td>\n",
              "      <td>9</td>\n",
              "      <td>1</td>\n",
              "    </tr>\n",
              "    <tr>\n",
              "      <th>4</th>\n",
              "      <td>60</td>\n",
              "      <td>4</td>\n",
              "      <td>84.0</td>\n",
              "      <td>14260</td>\n",
              "      <td>2</td>\n",
              "      <td>1</td>\n",
              "      <td>4</td>\n",
              "      <td>3</td>\n",
              "      <td>1</td>\n",
              "      <td>16</td>\n",
              "      <td>3</td>\n",
              "      <td>3</td>\n",
              "      <td>1</td>\n",
              "      <td>6</td>\n",
              "      <td>8</td>\n",
              "      <td>5</td>\n",
              "      <td>8</td>\n",
              "      <td>8</td>\n",
              "      <td>2</td>\n",
              "      <td>2</td>\n",
              "      <td>13</td>\n",
              "      <td>14</td>\n",
              "      <td>2</td>\n",
              "      <td>350.0</td>\n",
              "      <td>3</td>\n",
              "      <td>5</td>\n",
              "      <td>3</td>\n",
              "      <td>3</td>\n",
              "      <td>4</td>\n",
              "      <td>1</td>\n",
              "      <td>3</td>\n",
              "      <td>655</td>\n",
              "      <td>6</td>\n",
              "      <td>0</td>\n",
              "      <td>490</td>\n",
              "      <td>1145</td>\n",
              "      <td>2</td>\n",
              "      <td>1</td>\n",
              "      <td>2</td>\n",
              "      <td>5</td>\n",
              "      <td>1145</td>\n",
              "      <td>1053</td>\n",
              "      <td>0</td>\n",
              "      <td>2198</td>\n",
              "      <td>1</td>\n",
              "      <td>0</td>\n",
              "      <td>2</td>\n",
              "      <td>1</td>\n",
              "      <td>4</td>\n",
              "      <td>1</td>\n",
              "      <td>3</td>\n",
              "      <td>9</td>\n",
              "      <td>7</td>\n",
              "      <td>1</td>\n",
              "      <td>5</td>\n",
              "      <td>2</td>\n",
              "      <td>8.0</td>\n",
              "      <td>2</td>\n",
              "      <td>3</td>\n",
              "      <td>836</td>\n",
              "      <td>5</td>\n",
              "      <td>5</td>\n",
              "      <td>3</td>\n",
              "      <td>192</td>\n",
              "      <td>84</td>\n",
              "      <td>0</td>\n",
              "      <td>0</td>\n",
              "      <td>0</td>\n",
              "      <td>0</td>\n",
              "      <td>0</td>\n",
              "      <td>12</td>\n",
              "      <td>2008</td>\n",
              "      <td>9</td>\n",
              "      <td>5</td>\n",
              "    </tr>\n",
              "  </tbody>\n",
              "</table>\n",
              "</div>"
            ],
            "text/plain": [
              "   MSSubClass  MSZoning  LotFrontage  ...  YrSold  SaleType  SaleCondition\n",
              "0          60         4         65.0  ...    2008         9              5\n",
              "1          20         4         80.0  ...    2007         9              5\n",
              "2          60         4         68.0  ...    2008         9              5\n",
              "3          70         4         60.0  ...    2006         9              1\n",
              "4          60         4         84.0  ...    2008         9              5\n",
              "\n",
              "[5 rows x 74 columns]"
            ]
          },
          "metadata": {
            "tags": []
          },
          "execution_count": 233
        }
      ]
    },
    {
      "cell_type": "code",
      "metadata": {
        "id": "D0dVoDr_SZb6"
      },
      "source": [
        "MMS = MinMaxScaler()\n",
        "X = MMS.fit_transform(X)\n",
        "X_test = MMS.fit_transform(X_test)"
      ],
      "execution_count": null,
      "outputs": []
    },
    {
      "cell_type": "code",
      "metadata": {
        "id": "oqkGDzBGTB9h"
      },
      "source": [
        "from sklearn.model_selection import train_test_split\n",
        "X_train, X_val, Y_train, Y_val = train_test_split(X, Y, test_size = 0.3)"
      ],
      "execution_count": null,
      "outputs": []
    },
    {
      "cell_type": "code",
      "metadata": {
        "colab": {
          "base_uri": "https://localhost:8080/"
        },
        "id": "2-v6Gw9fZETU",
        "outputId": "6c1ea44e-0f73-410f-f075-eb738bdfff73"
      },
      "source": [
        "print(X_train.shape, Y_train.shape)"
      ],
      "execution_count": null,
      "outputs": [
        {
          "output_type": "stream",
          "text": [
            "(1022, 74) (1022,)\n"
          ],
          "name": "stdout"
        }
      ]
    },
    {
      "cell_type": "code",
      "metadata": {
        "id": "nRdZsePTU0CO"
      },
      "source": [
        "from sklearn.metrics import r2_score"
      ],
      "execution_count": null,
      "outputs": []
    },
    {
      "cell_type": "code",
      "metadata": {
        "colab": {
          "base_uri": "https://localhost:8080/"
        },
        "id": "Z97YPjAtUkL4",
        "outputId": "e7d3703a-44f7-468e-ad99-117b0c31cdbc"
      },
      "source": [
        "from xgboost import XGBRegressor\n",
        "model = XGBRegressor()\n",
        "model.fit(X_train, Y_train)\n",
        "print(r2_score(Y_val, model.predict(X_val)))"
      ],
      "execution_count": null,
      "outputs": [
        {
          "output_type": "stream",
          "text": [
            "[07:37:25] WARNING: /workspace/src/objective/regression_obj.cu:152: reg:linear is now deprecated in favor of reg:squarederror.\n",
            "0.9088512338845144\n"
          ],
          "name": "stdout"
        }
      ]
    },
    {
      "cell_type": "code",
      "metadata": {
        "colab": {
          "base_uri": "https://localhost:8080/"
        },
        "id": "a6O1xO3GVP4Y",
        "outputId": "839e1cde-ab4e-4753-87fb-5db7555866e5"
      },
      "source": [
        "model.predict(X_test)"
      ],
      "execution_count": null,
      "outputs": [
        {
          "output_type": "execute_result",
          "data": {
            "text/plain": [
              "array([139512.16, 169923.62, 193146.25, ..., 185558.38, 150681.92,\n",
              "       241386.88], dtype=float32)"
            ]
          },
          "metadata": {
            "tags": []
          },
          "execution_count": 239
        }
      ]
    },
    {
      "cell_type": "code",
      "metadata": {
        "id": "SiqQoop8VfKu"
      },
      "source": [
        "params = {\"learning_rate\"    : [0.05, 0.10, 0.15, 0.20, 0.25, 0.30 ] ,\n",
        " \"max_depth\"        : [ 3, 4, 5, 6, 8, 10, 12, 15],\n",
        " \"min_child_weight\" : [ 1, 3, 5, 7 ],\n",
        " \"gamma\"            : [ 0.0, 0.1, 0.2 , 0.3, 0.4 ],\n",
        " \"colsample_bytree\" : [ 0.3, 0.4, 0.5 , 0.7 ] }"
      ],
      "execution_count": null,
      "outputs": []
    },
    {
      "cell_type": "code",
      "metadata": {
        "id": "UHNk87jqWqTK"
      },
      "source": [
        "xgb = XGBRegressor()"
      ],
      "execution_count": null,
      "outputs": []
    },
    {
      "cell_type": "code",
      "metadata": {
        "id": "gmiQZB2OW3u2"
      },
      "source": [
        "from sklearn.model_selection import RandomizedSearchCV\n"
      ],
      "execution_count": null,
      "outputs": []
    },
    {
      "cell_type": "code",
      "metadata": {
        "id": "ML6aozYwXIiv"
      },
      "source": [
        "random_cv = RandomizedSearchCV(estimator=xgb,\n",
        "                               param_distributions=params,\n",
        "                               cv=5,n_iter=50,\n",
        "                               scoring='neg_mean_absolute_error',n_jobs=4,\n",
        "                               verbose=5,\n",
        "                               return_train_score=True,\n",
        "                               random_state=42)"
      ],
      "execution_count": null,
      "outputs": []
    },
    {
      "cell_type": "code",
      "metadata": {
        "colab": {
          "base_uri": "https://localhost:8080/"
        },
        "id": "B7ZRrPTFY3sX",
        "outputId": "335b3660-146c-4333-f99b-f4c691468cab"
      },
      "source": [
        "random_cv.fit(X_train, Y_train)"
      ],
      "execution_count": null,
      "outputs": [
        {
          "output_type": "stream",
          "text": [
            "Fitting 5 folds for each of 50 candidates, totalling 250 fits\n"
          ],
          "name": "stdout"
        },
        {
          "output_type": "stream",
          "text": [
            "[Parallel(n_jobs=4)]: Using backend LokyBackend with 4 concurrent workers.\n",
            "[Parallel(n_jobs=4)]: Done  10 tasks      | elapsed:    5.8s\n",
            "[Parallel(n_jobs=4)]: Done  64 tasks      | elapsed:   18.8s\n",
            "[Parallel(n_jobs=4)]: Done 154 tasks      | elapsed:   41.5s\n",
            "[Parallel(n_jobs=4)]: Done 250 out of 250 | elapsed:  1.0min finished\n"
          ],
          "name": "stderr"
        },
        {
          "output_type": "stream",
          "text": [
            "[07:37:10] WARNING: /workspace/src/objective/regression_obj.cu:152: reg:linear is now deprecated in favor of reg:squarederror.\n"
          ],
          "name": "stdout"
        },
        {
          "output_type": "execute_result",
          "data": {
            "text/plain": [
              "RandomizedSearchCV(cv=5, error_score=nan,\n",
              "                   estimator=XGBRegressor(base_score=0.5, booster='gbtree',\n",
              "                                          colsample_bylevel=1,\n",
              "                                          colsample_bynode=1,\n",
              "                                          colsample_bytree=1, gamma=0,\n",
              "                                          importance_type='gain',\n",
              "                                          learning_rate=0.1, max_delta_step=0,\n",
              "                                          max_depth=3, min_child_weight=1,\n",
              "                                          missing=None, n_estimators=100,\n",
              "                                          n_jobs=1, nthread=None,\n",
              "                                          objective='reg:linear',\n",
              "                                          random_state=0, reg_alpha=...\n",
              "                   iid='deprecated', n_iter=50, n_jobs=4,\n",
              "                   param_distributions={'colsample_bytree': [0.3, 0.4, 0.5,\n",
              "                                                             0.7],\n",
              "                                        'gamma': [0.0, 0.1, 0.2, 0.3, 0.4],\n",
              "                                        'learning_rate': [0.05, 0.1, 0.15, 0.2,\n",
              "                                                          0.25, 0.3],\n",
              "                                        'max_depth': [3, 4, 5, 6, 8, 10, 12,\n",
              "                                                      15],\n",
              "                                        'min_child_weight': [1, 3, 5, 7]},\n",
              "                   pre_dispatch='2*n_jobs', random_state=42, refit=True,\n",
              "                   return_train_score=True, scoring='neg_mean_absolute_error',\n",
              "                   verbose=5)"
            ]
          },
          "metadata": {
            "tags": []
          },
          "execution_count": 188
        }
      ]
    },
    {
      "cell_type": "code",
      "metadata": {
        "id": "ziH2rhIRZpW_"
      },
      "source": [
        "model_1 = random_cv.best_estimator_"
      ],
      "execution_count": null,
      "outputs": []
    },
    {
      "cell_type": "code",
      "metadata": {
        "colab": {
          "base_uri": "https://localhost:8080/"
        },
        "id": "5A7aEYSEZujE",
        "outputId": "4a63eb0c-488d-49a6-8f3f-bf7487cdf019"
      },
      "source": [
        "model_1.fit(X_train, Y_train)\n",
        "print(r2_score(Y_val, model_1.predict(X_val)))"
      ],
      "execution_count": null,
      "outputs": [
        {
          "output_type": "stream",
          "text": [
            "[07:37:10] WARNING: /workspace/src/objective/regression_obj.cu:152: reg:linear is now deprecated in favor of reg:squarederror.\n",
            "0.8854782876914444\n"
          ],
          "name": "stdout"
        }
      ]
    },
    {
      "cell_type": "code",
      "metadata": {
        "colab": {
          "base_uri": "https://localhost:8080/"
        },
        "id": "Od-iwNBwcuaf",
        "outputId": "e9b27865-ae83-4365-8d8e-f9b47862b7e8"
      },
      "source": [
        "model_1.fit(X, Y)"
      ],
      "execution_count": null,
      "outputs": [
        {
          "output_type": "stream",
          "text": [
            "[07:37:11] WARNING: /workspace/src/objective/regression_obj.cu:152: reg:linear is now deprecated in favor of reg:squarederror.\n"
          ],
          "name": "stdout"
        },
        {
          "output_type": "execute_result",
          "data": {
            "text/plain": [
              "XGBRegressor(base_score=0.5, booster='gbtree', colsample_bylevel=1,\n",
              "             colsample_bynode=1, colsample_bytree=0.3, gamma=0.3,\n",
              "             importance_type='gain', learning_rate=0.05, max_delta_step=0,\n",
              "             max_depth=10, min_child_weight=7, missing=None, n_estimators=100,\n",
              "             n_jobs=1, nthread=None, objective='reg:linear', random_state=0,\n",
              "             reg_alpha=0, reg_lambda=1, scale_pos_weight=1, seed=None,\n",
              "             silent=None, subsample=1, verbosity=1)"
            ]
          },
          "metadata": {
            "tags": []
          },
          "execution_count": 191
        }
      ]
    },
    {
      "cell_type": "code",
      "metadata": {
        "colab": {
          "base_uri": "https://localhost:8080/"
        },
        "id": "UgwAM2T-aJEb",
        "outputId": "d305ed60-99eb-4420-cb34-7ba8966326d6"
      },
      "source": [
        "print(model_1.predict(X_test))"
      ],
      "execution_count": null,
      "outputs": [
        {
          "output_type": "stream",
          "text": [
            "[135968.28 157257.22 183749.27 ... 170455.44 125494.55 250052.22]\n"
          ],
          "name": "stdout"
        }
      ]
    },
    {
      "cell_type": "code",
      "metadata": {
        "id": "7DGeWcVUaTFO"
      },
      "source": [
        "y_pred = model.predict(X_test)"
      ],
      "execution_count": null,
      "outputs": []
    },
    {
      "cell_type": "code",
      "metadata": {
        "id": "fXXT4gSdad1O"
      },
      "source": [
        "ans = pd.DataFrame({'Id': test['Id'], 'SalePrice': y_pred})"
      ],
      "execution_count": null,
      "outputs": []
    },
    {
      "cell_type": "code",
      "metadata": {
        "id": "RGtzebaVayQL"
      },
      "source": [
        "ans.to_csv(\"./submission.csv\", index = False)"
      ],
      "execution_count": null,
      "outputs": []
    },
    {
      "cell_type": "code",
      "metadata": {
        "id": "RlAxrpL5wAdp"
      },
      "source": [
        "def writefile(y_pred):\n",
        "    ans = pd.DataFrame({'Id': test['Id'], 'SalePrice': y_pred})\n",
        "    ans.to_csv(\"./submission.csv\", index = False)"
      ],
      "execution_count": null,
      "outputs": []
    },
    {
      "cell_type": "code",
      "metadata": {
        "colab": {
          "base_uri": "https://localhost:8080/"
        },
        "id": "cVqvHskzcIHf",
        "outputId": "6d8b71a2-a925-4b8b-a596-cc7fd4936ecb"
      },
      "source": [
        "from sklearn.tree import DecisionTreeRegressor\n",
        "DTree = DecisionTreeRegressor()\n",
        "DTree.fit(X_train, Y_train)\n",
        "print(r2_score(Y_val, model_1.predict(X_val)))"
      ],
      "execution_count": null,
      "outputs": [
        {
          "output_type": "stream",
          "text": [
            "0.9844988539447077\n"
          ],
          "name": "stdout"
        }
      ]
    },
    {
      "cell_type": "code",
      "metadata": {
        "id": "x6AKPggGdH5_"
      },
      "source": [
        "DTree.fit(X, Y)\n",
        "y_pred = DTree.predict(X_test)\n",
        "ans = pd.DataFrame({'Id': test['Id'], 'SalePrice': y_pred})\n",
        "ans.to_csv(\"./submission.csv\", index = False)"
      ],
      "execution_count": null,
      "outputs": []
    },
    {
      "cell_type": "code",
      "metadata": {
        "colab": {
          "base_uri": "https://localhost:8080/"
        },
        "id": "f80MXfbWdTQZ",
        "outputId": "802c76a5-5db4-4a89-8d04-0c57a39e5169"
      },
      "source": [
        "max_val= 0\n",
        "max_depth = 0\n",
        "for i in list(range(1, 100)):\n",
        "    dtree = DecisionTreeRegressor(max_depth= i)\n",
        "    dtree.fit(X_train, Y_train)\n",
        "    res = r2_score(Y_val, dtree.predict(X_val))\n",
        "    print(i, res)\n",
        "    if res > max_val:\n",
        "        max_val = res;\n",
        "        max_depth = i\n",
        "print(\"Max_val: \", max_val)\n",
        "print(\"max depth\", max_depth)"
      ],
      "execution_count": null,
      "outputs": [
        {
          "output_type": "stream",
          "text": [
            "1 0.4622722530216138\n",
            "2 0.617109297469115\n",
            "3 0.7262083934050438\n",
            "4 0.7520731190986987\n",
            "5 0.7354161921299922\n",
            "6 0.7455173353976914\n",
            "7 0.7274055275960829\n",
            "8 0.7298573160174727\n",
            "9 0.7153172017168865\n",
            "10 0.6868766957800647\n",
            "11 0.7282766609520284\n",
            "12 0.7446630164123973\n",
            "13 0.7318560620532479\n",
            "14 0.7165178706408297\n",
            "15 0.7404768818056542\n",
            "16 0.7009673995701975\n",
            "17 0.7161405318969829\n",
            "18 0.7237820817174008\n",
            "19 0.7015303007169575\n",
            "20 0.7319690449527497\n",
            "21 0.7583104044830169\n",
            "22 0.7077475510939286\n",
            "23 0.7045173783183464\n",
            "24 0.7155887425152931\n",
            "25 0.6993141777637792\n",
            "26 0.706175925759829\n",
            "27 0.7124295399178526\n",
            "28 0.6869868023656001\n",
            "29 0.7150515081307396\n",
            "30 0.714933108917321\n",
            "31 0.7158092611391863\n",
            "32 0.7116078721856334\n",
            "33 0.7005793826389102\n",
            "34 0.7430524415605101\n",
            "35 0.7216181828512993\n",
            "36 0.6826641879833296\n",
            "37 0.6952565922732561\n",
            "38 0.7367751880398008\n",
            "39 0.7329533106103743\n",
            "40 0.7162189157121476\n",
            "41 0.7235918587226654\n",
            "42 0.7165901179132896\n",
            "43 0.7298006246091608\n",
            "44 0.7028806038464327\n",
            "45 0.7373645312337811\n",
            "46 0.7105074345533144\n",
            "47 0.7065744092642745\n",
            "48 0.7130425321957101\n",
            "49 0.6780421274946238\n",
            "50 0.6932133905040512\n",
            "51 0.6941336206038636\n",
            "52 0.7311614473017944\n",
            "53 0.7283606608348869\n",
            "54 0.6886537439195235\n",
            "55 0.6992556050231544\n",
            "56 0.7126564867824423\n",
            "57 0.736845709727119\n",
            "58 0.7028282668405239\n",
            "59 0.7065718908066319\n",
            "60 0.6917913750463651\n",
            "61 0.7010944298840955\n",
            "62 0.702563747863689\n",
            "63 0.7138846909501022\n",
            "64 0.6777619038359229\n",
            "65 0.7004513208361363\n",
            "66 0.7001908126620029\n",
            "67 0.7172958323459732\n",
            "68 0.7262211021672831\n",
            "69 0.7269007381099104\n",
            "70 0.6806767826150106\n",
            "71 0.7033730223592468\n",
            "72 0.7404431318014646\n",
            "73 0.6899197179469576\n",
            "74 0.7171669174633784\n",
            "75 0.7364897082974593\n",
            "76 0.7114388864275898\n",
            "77 0.6956056451577901\n",
            "78 0.6981587920231216\n",
            "79 0.7041520870505372\n",
            "80 0.6705020121866764\n",
            "81 0.6774664059921534\n",
            "82 0.7032501412351762\n",
            "83 0.7310787466617312\n",
            "84 0.7275923741551507\n",
            "85 0.7009075441687436\n",
            "86 0.7141881027562521\n",
            "87 0.7208848590350485\n",
            "88 0.6987055884101447\n",
            "89 0.7171475206853118\n",
            "90 0.7295981563490892\n",
            "91 0.7161110025704929\n",
            "92 0.693611683305273\n",
            "93 0.7126891516423777\n",
            "94 0.7443884610917695\n",
            "95 0.7270325302464797\n",
            "96 0.7131935606427421\n",
            "97 0.6956190021265511\n",
            "98 0.6617276617889829\n",
            "99 0.7100919144773575\n",
            "Max_val:  0.7583104044830169\n",
            "max depth 21\n"
          ],
          "name": "stdout"
        }
      ]
    },
    {
      "cell_type": "code",
      "metadata": {
        "colab": {
          "base_uri": "https://localhost:8080/"
        },
        "id": "0PXWyWlDd6V5",
        "outputId": "4b5f84f6-c3d6-4bf3-e64d-2a09edf2394a"
      },
      "source": [
        "DTree = DecisionTreeRegressor(max_depth= 6)\n",
        "DTree.fit(X, Y)"
      ],
      "execution_count": null,
      "outputs": [
        {
          "output_type": "execute_result",
          "data": {
            "text/plain": [
              "DecisionTreeRegressor(ccp_alpha=0.0, criterion='mse', max_depth=6,\n",
              "                      max_features=None, max_leaf_nodes=None,\n",
              "                      min_impurity_decrease=0.0, min_impurity_split=None,\n",
              "                      min_samples_leaf=1, min_samples_split=2,\n",
              "                      min_weight_fraction_leaf=0.0, presort='deprecated',\n",
              "                      random_state=None, splitter='best')"
            ]
          },
          "metadata": {
            "tags": []
          },
          "execution_count": 200
        }
      ]
    },
    {
      "cell_type": "code",
      "metadata": {
        "id": "mqyGySMtvvds"
      },
      "source": [
        "y_pred = DTree.predict(X_test)"
      ],
      "execution_count": null,
      "outputs": []
    },
    {
      "cell_type": "code",
      "metadata": {
        "colab": {
          "base_uri": "https://localhost:8080/"
        },
        "id": "sBLMZ-0Cv4hA",
        "outputId": "1a457569-209c-4324-eb3e-606efb9535cf"
      },
      "source": [
        "print(y_pred)"
      ],
      "execution_count": null,
      "outputs": [
        {
          "output_type": "stream",
          "text": [
            "[141044.80645161 141044.80645161 177793.80203046 ... 141044.80645161\n",
            " 141044.80645161 329283.75      ]\n"
          ],
          "name": "stdout"
        }
      ]
    },
    {
      "cell_type": "code",
      "metadata": {
        "id": "TUDAfCq9v6rS"
      },
      "source": [
        "writefile(y_pred)"
      ],
      "execution_count": null,
      "outputs": []
    },
    {
      "cell_type": "code",
      "metadata": {
        "id": "y99d0xQi14cg"
      },
      "source": [
        "from sklearn.ensemble import GradientBoostingRegressor"
      ],
      "execution_count": null,
      "outputs": []
    },
    {
      "cell_type": "code",
      "metadata": {
        "id": "Y_LWyy9VwNKD"
      },
      "source": [
        "gradient_boosting_regressor= GradientBoostingRegressor(alpha=0.9, criterion='friedman_mse', init=None,\n",
        "             learning_rate=0.05135418594969088, loss='ls', max_depth=5,\n",
        "             max_features=None, max_leaf_nodes=None,\n",
        "             min_impurity_decrease=0.0, min_impurity_split=None,\n",
        "             min_samples_leaf=1, min_samples_split=2,\n",
        "             min_weight_fraction_leaf=0.0, n_estimators=944,\n",
        "             n_iter_no_change=None, presort='auto', random_state=None,\n",
        "             subsample=0.3717049745395081, tol=0.0001,\n",
        "             validation_fraction=0.1, verbose=0, warm_start=False)\n"
      ],
      "execution_count": null,
      "outputs": []
    },
    {
      "cell_type": "code",
      "metadata": {
        "colab": {
          "base_uri": "https://localhost:8080/"
        },
        "id": "lGP6ajSY2GXh",
        "outputId": "e13ac87a-945a-4680-d52d-369adad2d3f3"
      },
      "source": [
        "gradient_boosting_regressor.fit(X, Y)\n",
        "#print(r2_score(Y_val, gradient_boosting_regressor.predict(X_val)))"
      ],
      "execution_count": null,
      "outputs": [
        {
          "output_type": "stream",
          "text": [
            "/usr/local/lib/python3.6/dist-packages/sklearn/ensemble/_gb.py:1342: FutureWarning: The parameter 'presort' is deprecated and has no effect. It will be removed in v0.24. You can suppress this warning by not passing any value to the 'presort' parameter. We also recommend using HistGradientBoosting models instead.\n",
            "  FutureWarning)\n"
          ],
          "name": "stderr"
        },
        {
          "output_type": "execute_result",
          "data": {
            "text/plain": [
              "GradientBoostingRegressor(alpha=0.9, ccp_alpha=0.0, criterion='friedman_mse',\n",
              "                          init=None, learning_rate=0.05135418594969088,\n",
              "                          loss='ls', max_depth=5, max_features=None,\n",
              "                          max_leaf_nodes=None, min_impurity_decrease=0.0,\n",
              "                          min_impurity_split=None, min_samples_leaf=1,\n",
              "                          min_samples_split=2, min_weight_fraction_leaf=0.0,\n",
              "                          n_estimators=944, n_iter_no_change=None,\n",
              "                          presort='auto', random_state=None,\n",
              "                          subsample=0.3717049745395081, tol=0.0001,\n",
              "                          validation_fraction=0.1, verbose=0, warm_start=False)"
            ]
          },
          "metadata": {
            "tags": []
          },
          "execution_count": 206
        }
      ]
    },
    {
      "cell_type": "code",
      "metadata": {
        "colab": {
          "base_uri": "https://localhost:8080/"
        },
        "id": "irAcXXGv6DIC",
        "outputId": "da25cd79-3086-4402-f595-2b59a442f56d"
      },
      "source": [
        "y_pred = gradient_boosting_regressor.predict(X_test)\n",
        "print(y_pred)"
      ],
      "execution_count": null,
      "outputs": [
        {
          "output_type": "stream",
          "text": [
            "[146471.90129705 182826.16870504 201579.17346284 ... 171255.22699191\n",
            " 132955.5600326  248360.48520456]\n"
          ],
          "name": "stdout"
        }
      ]
    },
    {
      "cell_type": "code",
      "metadata": {
        "id": "_hmshHDm6KCj"
      },
      "source": [
        "writefile(y_pred)"
      ],
      "execution_count": null,
      "outputs": []
    },
    {
      "cell_type": "code",
      "metadata": {
        "id": "o8C8lKND8KuV"
      },
      "source": [
        " pca = PCA(n_components=2)"
      ],
      "execution_count": null,
      "outputs": []
    },
    {
      "cell_type": "code",
      "metadata": {
        "colab": {
          "base_uri": "https://localhost:8080/"
        },
        "id": "6cC8zVG08aD9",
        "outputId": "b28fe9e9-c9b7-4d4b-f2ba-42a2290e86e1"
      },
      "source": [
        "pca.fit(X)"
      ],
      "execution_count": null,
      "outputs": [
        {
          "output_type": "execute_result",
          "data": {
            "text/plain": [
              "PCA(copy=True, iterated_power='auto', n_components=2, random_state=None,\n",
              "    svd_solver='auto', tol=0.0, whiten=False)"
            ]
          },
          "metadata": {
            "tags": []
          },
          "execution_count": 210
        }
      ]
    },
    {
      "cell_type": "code",
      "metadata": {
        "id": "h7GO9i_58ncf"
      },
      "source": [
        "dumyX = pca.transform(X)\n",
        "dumyX_test = pca.transform(X_test)"
      ],
      "execution_count": null,
      "outputs": []
    },
    {
      "cell_type": "code",
      "metadata": {
        "colab": {
          "base_uri": "https://localhost:8080/"
        },
        "id": "u18_xB3u82Up",
        "outputId": "15a1ecee-bc14-4732-e16b-fc0fcb9cd6b8"
      },
      "source": [
        "gradient_boosting_regressor.fit(dumyX, Y)"
      ],
      "execution_count": null,
      "outputs": [
        {
          "output_type": "stream",
          "text": [
            "/usr/local/lib/python3.6/dist-packages/sklearn/ensemble/_gb.py:1342: FutureWarning: The parameter 'presort' is deprecated and has no effect. It will be removed in v0.24. You can suppress this warning by not passing any value to the 'presort' parameter. We also recommend using HistGradientBoosting models instead.\n",
            "  FutureWarning)\n"
          ],
          "name": "stderr"
        },
        {
          "output_type": "execute_result",
          "data": {
            "text/plain": [
              "GradientBoostingRegressor(alpha=0.9, ccp_alpha=0.0, criterion='friedman_mse',\n",
              "                          init=None, learning_rate=0.05135418594969088,\n",
              "                          loss='ls', max_depth=5, max_features=None,\n",
              "                          max_leaf_nodes=None, min_impurity_decrease=0.0,\n",
              "                          min_impurity_split=None, min_samples_leaf=1,\n",
              "                          min_samples_split=2, min_weight_fraction_leaf=0.0,\n",
              "                          n_estimators=944, n_iter_no_change=None,\n",
              "                          presort='auto', random_state=None,\n",
              "                          subsample=0.3717049745395081, tol=0.0001,\n",
              "                          validation_fraction=0.1, verbose=0, warm_start=False)"
            ]
          },
          "metadata": {
            "tags": []
          },
          "execution_count": 212
        }
      ]
    },
    {
      "cell_type": "code",
      "metadata": {
        "id": "BNA8DRkS88Nj"
      },
      "source": [
        "y_pred = gradient_boosting_regressor.predict(dumyX_test)"
      ],
      "execution_count": null,
      "outputs": []
    },
    {
      "cell_type": "code",
      "metadata": {
        "colab": {
          "base_uri": "https://localhost:8080/"
        },
        "id": "lEE8S2hB9C58",
        "outputId": "95307a0d-8fb3-46ca-e548-f7700c4a200e"
      },
      "source": [
        "print(y_pred)"
      ],
      "execution_count": null,
      "outputs": [
        {
          "output_type": "stream",
          "text": [
            "[119449.93023133 143578.90255559 169247.84942379 ... 125530.55662813\n",
            " 134558.32048075 211297.39932436]\n"
          ],
          "name": "stdout"
        }
      ]
    },
    {
      "cell_type": "code",
      "metadata": {
        "id": "ANKVzIAo9ODq"
      },
      "source": [
        "writefile(y_pred)"
      ],
      "execution_count": null,
      "outputs": []
    },
    {
      "cell_type": "code",
      "metadata": {
        "colab": {
          "resources": {
            "http://localhost:8080/nbextensions/google.colab/files.js": {
              "data": "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",
              "ok": true,
              "headers": [
                [
                  "content-type",
                  "application/javascript"
                ]
              ],
              "status": 200,
              "status_text": ""
            }
          },
          "base_uri": "https://localhost:8080/",
          "height": 109
        },
        "id": "LKV6ElSi_aUI",
        "outputId": "1065c284-1a95-4458-d2c3-dab983e7f09c"
      },
      "source": [
        "files.upload()"
      ],
      "execution_count": null,
      "outputs": [
        {
          "output_type": "display_data",
          "data": {
            "text/html": [
              "\n",
              "     <input type=\"file\" id=\"files-c7ce9155-b5ed-45af-a755-5d342e6d3baa\" name=\"files[]\" multiple disabled\n",
              "        style=\"border:none\" />\n",
              "     <output id=\"result-c7ce9155-b5ed-45af-a755-5d342e6d3baa\">\n",
              "      Upload widget is only available when the cell has been executed in the\n",
              "      current browser session. Please rerun this cell to enable.\n",
              "      </output>\n",
              "      <script src=\"/nbextensions/google.colab/files.js\"></script> "
            ],
            "text/plain": [
              "<IPython.core.display.HTML object>"
            ]
          },
          "metadata": {
            "tags": []
          }
        },
        {
          "output_type": "stream",
          "text": [
            "Saving submission (4).csv to submission (4).csv\n"
          ],
          "name": "stdout"
        },
        {
          "output_type": "execute_result",
          "data": {
            "text/plain": [
              "{'submission (4).csv': b'Id,SalePrice\\n1461,124756.39248212724\\n1462,157784.5674134797\\n1463,187994.47779614167\\n1464,194790.33912195163\\n1465,184291.62296437382\\n1466,178613.59865220173\\n1467,172505.47677360266\\n1468,171685.8497738619\\n1469,178454.17694246545\\n1470,129435.82754710583\\n1471,190469.79079985502\\n1472,98451.45449326189\\n1473,101595.23161552212\\n1474,145529.84228229293\\n1475,117930.96588436367\\n1476,384629.90628511034\\n1477,256659.31386990106\\n1478,303126.9563280991\\n1479,293327.96752483665\\n1480,498196.87920178834\\n1481,322483.3310325169\\n1482,208051.47755666717\\n1483,178388.39663344392\\n1484,167493.0021850632\\n1485,179936.84314015822\\n1486,195366.77243920625\\n1487,353162.67497928435\\n1488,232871.70963835888\\n1489,211209.45992122794\\n1490,244518.21802207414\\n1491,188877.5579649902\\n1492,100420.12732229046\\n1493,187438.5627013024\\n1494,298201.7726577514\\n1495,288976.10508867964\\n1496,259205.39480030572\\n1497,180730.77072121797\\n1498,160518.86705465819\\n1499,163278.61603154137\\n1500,159475.6257769534\\n1501,173381.65349252647\\n1502,157635.2800504087\\n1503,267506.68785958056\\n1504,244627.64444216542\\n1505,236355.96445884564\\n1506,188111.04665345378\\n1507,249449.40150057845\\n1508,195664.69338183402\\n1509,166273.21956988017\\n1510,156680.38364312737\\n1511,152784.38582857465\\n1512,169099.53172311548\\n1513,136503.29912117342\\n1514,162972.9037801643\\n1515,192679.32296089397\\n1516,146682.0458479808\\n1517,168763.1669657219\\n1518,132738.8690386621\\n1519,217995.86438151676\\n1520,138334.1116035004\\n1521,141607.97915146046\\n1522,176013.05539485355\\n1523,112290.69808961132\\n1524,121473.6220617621\\n1525,122756.8503189628\\n1526,113332.72558420271\\n1527,104421.15131197369\\n1528,130802.80940221823\\n1529,150592.43756468705\\n1530,165141.94244164464\\n1531,102504.28281755757\\n1532,93101.93445429481\\n1533,143601.8843660134\\n1534,117440.83373876406\\n1535,155298.16985856855\\n1536,103700.14622823623\\n1537,66021.89062759976\\n1538,159215.83786905342\\n1539,186006.36054943607\\n1540,98237.88940682341\\n1541,131301.94418274864\\n1542,135204.31060649574\\n1543,210923.11506166664\\n1544,72533.15817674142\\n1545,106228.81212201386\\n1546,128559.34278533279\\n1547,138639.1214043022\\n1548,136171.97588878367\\n1549,111959.85980179253\\n1550,144600.9107375865\\n1551,101650.65400758041\\n1552,142215.21895283804\\n1553,169958.91468571237\\n1554,118813.52679063451\\n1555,184404.2924622333\\n1556,103760.8855782134\\n1557,103199.88094455718\\n1558,92863.90138011695\\n1559,86383.47066751875\\n1560,127482.208633426\\n1561,134666.94195754884\\n1562,126026.32969636704\\n1563,124605.85941400996\\n1564,162859.366296009\\n1565,155081.40620363457\\n1566,231032.41930600168\\n1567,68029.16004158604\\n1568,222308.34224690706\\n1569,144385.68087948614\\n1570,142104.49006741593\\n1571,113044.80130920865\\n1572,147258.72567967518\\n1573,230330.15534628622\\n1574,113151.12537899296\\n1575,216038.13704044992\\n1576,239681.77720822959\\n1577,194756.28055833903\\n1578,145952.39022194775\\n1579,156336.0469299761\\n1580,188449.8540788776\\n1581,151422.87066697978\\n1582,130479.17543144106\\n1583,335421.56634300255\\n1584,235732.5908691898\\n1585,140719.31071184852\\n1586,61744.09908069153\\n1587,95044.74114684577\\n1588,158632.3953172161\\n1589,91763.07335145754\\n1590,128697.42432561103\\n1591,98108.9151052131\\n1592,122729.30111297187\\n1593,130303.85995149046\\n1594,127329.35699655567\\n1595,116140.91390446674\\n1596,230159.15234710483\\n1597,181002.5826269474\\n1598,190372.06554081754\\n1599,160155.11927769316\\n1600,162051.8174770938\\n1601,64203.774388171696\\n1602,104565.44574770678\\n1603,94175.5880230119\\n1604,271329.1207773216\\n1605,231694.00909025097\\n1606,166555.78086693946\\n1607,146187.84846190765\\n1608,201492.1464212608\\n1609,196901.8459378491\\n1610,170888.81338840362\\n1611,140768.525682374\\n1612,157865.89082439043\\n1613,162216.53268355498\\n1614,120333.4730284235\\n1615,88826.56342611775\\n1616,69597.56609278829\\n1617,87340.36651380133\\n1618,123997.90160809911\\n1619,148095.657513041\\n1620,166619.11663064192\\n1621,141251.0631849774\\n1622,131047.16886470138\\n1623,270667.48393063876\\n1624,212816.32405870385\\n1625,116684.92997859498\\n1626,149958.60356281494\\n1627,188835.31866837575\\n1628,264891.19277862174\\n1629,177745.73669996174\\n1630,383911.70256897464\\n1631,212523.3510662277\\n1632,234532.52082541265\\n1633,167334.68461700052\\n1634,186946.75259630752\\n1635,177273.95906391565\\n1636,159632.01522422285\\n1637,195209.06508648608\\n1638,186209.2189167086\\n1639,183633.7530381919\\n1640,263722.3372890828\\n1641,175698.0500527295\\n1642,230273.94207972568\\n1643,211995.4757553278\\n1644,235877.04615360952\\n1645,207406.4983848736\\n1646,162068.23084050315\\n1647,157589.3211973075\\n1648,138305.9460777392\\n1649,140728.77833052212\\n1650,116945.9491618377\\n1651,122444.14617804276\\n1652,98253.51870055431\\n1653,98178.05389096001\\n1654,151594.50654227508\\n1655,146805.65872548142\\n1656,143154.88922433287\\n1657,153299.11926779512\\n1658,138673.32810408866\\n1659,122993.43185215506\\n1660,153215.62459734493\\n1661,471525.3794085064\\n1662,400053.2896540528\\n1663,364321.2810844993\\n1664,505345.4727079533\\n1665,311723.7643520658\\n1666,353543.33794770803\\n1667,376238.7879412268\\n1668,338277.78966685507\\n1669,304377.59691491385\\n1670,351911.3648370703\\n1671,260019.63579476177\\n1672,469525.76640593854\\n1673,296969.64601459965\\n1674,244513.14744354517\\n1675,188214.51437184928\\n1676,199756.6303883829\\n1677,215423.7628973594\\n1678,477572.7713533748\\n1679,428165.1638962657\\n1680,344518.4902356212\\n1681,241180.82504929567\\n1682,306056.4221791502\\n1683,181732.5795177202\\n1684,168422.22867412612\\n1685,165168.18794729508\\n1686,168327.52672481036\\n1687,162169.94666034065\\n1688,188366.88210751797\\n1689,194240.08044122826\\n1690,185563.07237047798\\n1691,176584.3025513442\\n1692,250788.5701094206\\n1693,167879.7844308632\\n1694,182919.1433832822\\n1695,165658.56174648707\\n1696,263204.6025179231\\n1697,172034.82662653804\\n1698,383050.2681981216\\n1699,336767.4716155823\\n1700,254358.75422778112\\n1701,270932.515226877\\n1702,243494.2323201209\\n1703,250933.1761596413\\n1704,278564.36494044913\\n1705,232097.74056571146\\n1706,441914.23470684944\\n1707,206394.49775337154\\n1708,208361.8780093378\\n1709,251748.77138203566\\n1710,222848.63596929927\\n1711,272589.79089031334\\n1712,253852.4552350655\\n1713,279153.27967731835\\n1714,225643.71002505886\\n1715,215008.38814653654\\n1716,185244.93298941283\\n1717,170006.67797044874\\n1718,135972.97563680235\\n1719,194110.13051527078\\n1720,248733.24043954842\\n1721,161756.1913738729\\n1722,132199.27757907638\\n1723,160734.6950206678\\n1724,200427.89570602242\\n1725,232730.2266577313\\n1726,197132.7184606545\\n1727,161820.14482030997\\n1728,174250.95859064\\n1729,167609.19094677625\\n1730,169165.70500272498\\n1731,124692.27809308349\\n1732,127233.90234726602\\n1733,119357.88348509742\\n1734,118800.72667926963\\n1735,129943.17342810385\\n1736,118080.09140088882\\n1737,346963.1125841221\\n1738,237024.82761793165\\n1739,292836.44311067916\\n1740,232169.89346627725\\n1741,185488.7902572626\\n1742,174227.2786529048\\n1743,181122.1087089936\\n1744,321644.98436854617\\n1745,221525.40507577584\\n1746,201310.32136757558\\n1747,223558.55381056535\\n1748,230488.64727052648\\n1749,154227.08493025965\\n1750,127820.46948997257\\n1751,233927.10075909388\\n1752,123915.39708590915\\n1753,155977.09970649227\\n1754,184980.0471415972\\n1755,168948.45331480113\\n1756,127464.16647472777\\n1757,123349.07730635308\\n1758,148756.1654371674\\n1759,161709.4290164064\\n1760,162369.9530042234\\n1761,135615.84523988987\\n1762,188183.55426502146\\n1763,167421.1816600288\\n1764,120133.59292809738\\n1765,173368.80045032903\\n1766,169481.66484931926\\n1767,212835.60112027614\\n1768,149060.86172355537\\n1769,171313.62159296309\\n1770,147657.09045963452\\n1771,128043.40530807409\\n1772,126029.59746675089\\n1773,133754.53398995486\\n1774,133332.68182521444\\n1775,136780.53534387524\\n1776,127405.4566020906\\n1777,115781.20975798444\\n1778,139688.499363151\\n1779,126300.27380993338\\n1780,164912.59794898337\\n1781,129547.44791417032\\n1782,98458.98380977073\\n1783,148022.53897128586\\n1784,107112.36243013498\\n1785,136604.67991592723\\n1786,136997.77867465853\\n1787,166413.7083180241\\n1788,54254.08596750984\\n1789,103846.32722036191\\n1790,82414.59376640948\\n1791,173957.12064552237\\n1792,161564.66971949986\\n1793,129640.16500233198\\n1794,144467.13678153066\\n1795,134830.34714050358\\n1796,148939.00995095534\\n1797,116127.14750075087\\n1798,122655.58938175155\\n1799,115915.4394769055\\n1800,132016.8006678166\\n1801,137280.90938782517\\n1802,124784.57984395057\\n1803,145166.5028223707\\n1804,146623.34600497442\\n1805,134098.92809996297\\n1806,125630.11731950082\\n1807,117427.53514826673\\n1808,124072.93692518582\\n1809,123145.6914027493\\n1810,151037.4670850414\\n1811,95866.75628443372\\n1812,97978.73156905678\\n1813,123533.69381103336\\n1814,96862.57018318087\\n1815,46865.066510926314\\n1816,96583.58179098288\\n1817,118429.76365322269\\n1818,169063.1368364314\\n1819,123770.88242587078\\n1820,63610.30095192869\\n1821,106364.3492386651\\n1822,148714.79655566867\\n1823,42959.56450251791\\n1824,139844.3384563188\\n1825,137095.2450752052\\n1826,111567.36236104959\\n1827,103547.3709519193\\n1828,145906.98281155972\\n1829,111203.89077798405\\n1830,145993.30986259485\\n1831,147906.02377424488\\n1832,81554.641072507\\n1833,135677.35251680066\\n1834,114532.4795022032\\n1835,126657.62455177575\\n1836,132168.45842733624\\n1837,80193.64695691295\\n1838,125396.43144255049\\n1839,104252.26100416787\\n1840,172861.58457489006\\n1841,151252.7243874567\\n1842,95206.09107177274\\n1843,134770.38450277588\\n1844,146595.80066807917\\n1845,139604.3023259803\\n1846,153095.43952655673\\n1847,182803.43877045868\\n1848,58700.22993035838\\n1849,107360.54788268458\\n1850,118517.22304415844\\n1851,152230.0494502661\\n1852,123403.01503178262\\n1853,135287.64790515904\\n1854,164870.30061556914\\n1855,139277.08072881826\\n1856,211885.31463404186\\n1857,157723.06481352667\\n1858,139006.53219363216\\n1859,120110.2208528726\\n1860,154817.18060861743\\n1861,119923.04640404592\\n1862,289500.1438044357\\n1863,283608.27705940435\\n1864,283608.27705940435\\n1865,332248.7462545584\\n1866,329435.92802365246\\n1867,224639.27178004337\\n1868,287996.7371572831\\n1869,200157.5743943739\\n1870,222146.6579438327\\n1871,246014.77380762235\\n1872,174035.42910485863\\n1873,224554.99808881737\\n1874,142164.66226741587\\n1875,201548.124684095\\n1876,193383.57325357772\\n1877,211381.02825528858\\n1878,206203.8644176115\\n1879,136390.1690124173\\n1880,142037.37073697842\\n1881,256177.09618338945\\n1882,236351.52024380065\\n1883,193283.99561101448\\n1884,211397.08107687603\\n1885,240425.57792383523\\n1886,296057.5809284766\\n1887,197488.77854570028\\n1888,259283.86803359966\\n1889,161237.54395186985\\n1890,139283.9173123518\\n1891,139166.52302562864\\n1892,97729.55423853338\\n1893,137138.61744003757\\n1894,123175.50410548277\\n1895,136431.6476454022\\n1896,133060.43100832554\\n1897,124829.43015706095\\n1898,114190.880045324\\n1899,156050.01356424426\\n1900,140668.26837553058\\n1901,171343.74940006074\\n1902,135616.4429701414\\n1903,230220.26636258242\\n1904,138010.44586590244\\n1905,198631.03338279753\\n1906,162399.7440014612\\n1907,210064.15491299875\\n1908,119383.63411661313\\n1909,133910.16603006533\\n1910,124231.3462460479\\n1911,203702.1765431098\\n1912,281562.83204556163\\n1913,144813.93560103892\\n1914,71229.91415560208\\n1915,319800.35030436213\\n1916,52915.749734823265\\n1917,233816.0560477966\\n1918,137481.15623463425\\n1919,164468.8910925123\\n1920,135761.15875821796\\n1921,449914.0270838504\\n1922,344249.6203994353\\n1923,217458.580392178\\n1924,230575.1972415137\\n1925,210754.39029538247\\n1926,414857.0432545112\\n1927,136775.89967246185\\n1928,155271.18765116896\\n1929,122244.66940961695\\n1930,140635.06957842506\\n1931,142454.9460021456\\n1932,141473.4128128316\\n1933,198699.6806456853\\n1934,177628.91217038143\\n1935,176044.40223095217\\n1936,190076.4446039043\\n1937,178181.89630939218\\n1938,175250.36574630043\\n1939,236013.92908237586\\n1940,180336.25066480707\\n1941,174638.58473080918\\n1942,187164.5540831089\\n1943,207965.7589276721\\n1944,355353.3482880065\\n1945,421375.15237836103\\n1946,149735.5676914842\\n1947,306322.46293022204\\n1948,179710.307625135\\n1949,232024.55463750762\\n1950,170900.600056823\\n1951,261298.15009576766\\n1952,211488.33754804652\\n1953,177729.19724030647\\n1954,191002.97761408033\\n1955,140707.07688858206\\n1956,303784.12839736365\\n1957,158062.8135491547\\n1958,300711.1151192161\\n1959,143651.74691666928\\n1960,116897.82429340032\\n1961,132002.7136495948\\n1962,98056.73804566766\\n1963,107455.01358782707\\n1964,114550.88461059504\\n1965,143082.85561758283\\n1966,141623.5655968057\\n1967,298894.7497693278\\n1968,453306.75002058974\\n1969,421918.880278413\\n1970,445264.50531458535\\n1971,441796.5642913929\\n1972,388691.2764236432\\n1973,253540.1731282799\\n1974,317994.4255501961\\n1975,498081.6057182077\\n1976,263986.2845605429\\n1977,376496.8836105454\\n1978,374638.58278956276\\n1979,338568.14285681036\\n1980,210756.83941168903\\n1981,335834.28305456694\\n1982,227332.39274232212\\n1983,212271.50558895682\\n1984,166966.88128093272\\n1985,214236.9085336231\\n1986,212750.1006704807\\n1987,184865.6773192724\\n1988,174649.6482247933\\n1989,183177.14512050163\\n1990,211410.3721426246\\n1991,229873.70126112283\\n1992,216665.990139094\\n1993,163877.47285437977\\n1994,243274.13824034313\\n1995,183183.20626361106\\n1996,243209.4092640463\\n1997,323829.37288025016\\n1998,363053.64081871905\\n1999,263927.157018978\\n2000,319797.0827874525\\n2001,268463.51944576844\\n2002,252733.64165481736\\n2003,259893.68927408167\\n2004,282793.4095591744\\n2005,209075.85562281607\\n2006,219828.6053130892\\n2007,243339.7420733588\\n2008,220454.88760931478\\n2009,196152.95665248614\\n2010,192754.90270867222\\n2011,141537.60194904136\\n2012,181120.8654241356\\n2013,178619.0437703642\\n2014,185597.29103380028\\n2015,197278.90674101046\\n2016,201864.83824591877\\n2017,201066.7563245723\\n2018,127624.74577984228\\n2019,133482.3719389938\\n2020,106901.0386807629\\n2021,110562.08173734325\\n2022,175129.52949773704\\n2023,150650.66819111732\\n2024,269187.0102177524\\n2025,357547.89024904044\\n2026,176460.52832008543\\n2027,161233.35030051242\\n2028,147271.48038803917\\n2029,177472.35537966216\\n2030,270944.2457557662\\n2031,227848.7302497252\\n2032,246777.63172599074\\n2033,252709.09919579577\\n2034,160369.16745357317\\n2035,222784.95568923463\\n2036,191667.62278692448\\n2037,190021.5941850216\\n2038,292980.42417200253\\n2039,215318.63303166284\\n2040,304003.08133196196\\n2041,288190.37569655577\\n2042,201020.25735325096\\n2043,168271.10233396347\\n2044,165138.1413783124\\n2045,212652.65564194863\\n2046,144161.3050959346\\n2047,141847.00645485808\\n2048,140916.46629252576\\n2049,138155.62989576423\\n2050,176219.07363247965\\n2051,107483.02640195556\\n2052,135113.88086969103\\n2053,147268.01807214948\\n2054,83103.46392689135\\n2055,160970.2155215977\\n2056,148324.1419080858\\n2057,118179.13313480993\\n2058,216170.6856985994\\n2059,133935.6433100968\\n2060,168568.40959959038\\n2061,169892.29050606315\\n2062,136069.4635049674\\n2063,122763.64536140239\\n2064,145285.43537792706\\n2065,116118.01161964616\\n2066,171096.1115188244\\n2067,122023.18785053339\\n2068,140146.62733035753\\n2069,83008.95445787719\\n2070,111788.2479982347\\n2071,89762.00370618814\\n2072,125523.33912490947\\n2073,140119.41653426178\\n2074,185431.02637929533\\n2075,143523.76712336665\\n2076,120920.08615768251\\n2077,163335.94003776964\\n2078,127473.14563409472\\n2079,134971.46011178484\\n2080,116776.24586490526\\n2081,122285.90201853047\\n2082,130327.10606093731\\n2083,142458.54170958253\\n2084,114463.1866152338\\n2085,126748.3439455022\\n2086,122152.32102432853\\n2087,122727.43734099552\\n2088,92440.19994259626\\n2089,78892.3693959922\\n2090,127217.9268060063\\n2091,122636.63477569845\\n2092,124014.73022315919\\n2093,120851.41113874852\\n2094,101329.31802317422\\n2095,149300.08690717584\\n2096,79041.1195483625\\n2097,95714.40473142447\\n2098,140105.28523142225\\n2099,54943.48086465693\\n2100,88000.28692072927\\n2101,112840.21729697422\\n2102,120414.50406461136\\n2103,105696.84292678663\\n2104,127526.19968319352\\n2105,139871.73852829332\\n2106,58237.72438241623\\n2107,203442.9854621889\\n2108,109904.8749023133\\n2109,112296.43561044414\\n2110,128455.22479244716\\n2111,136715.29621240517\\n2112,137574.30963946827\\n2113,120123.14178654163\\n2114,105125.31279765347\\n2115,165894.87481376465\\n2116,118152.63381612905\\n2117,156288.53967862518\\n2118,124251.64754859536\\n2119,114323.72954137942\\n2120,112976.15617941371\\n2121,97199.09402335805\\n2122,102148.7528332805\\n2123,91609.86571815162\\n2124,173074.1588916038\\n2125,123242.44638715364\\n2126,147150.2799032804\\n2127,144929.96409506732\\n2128,137946.16151729887\\n2129,95346.36973217987\\n2130,151031.1818679473\\n2131,134909.97920988474\\n2132,118576.81239182857\\n2133,121982.04111167796\\n2134,116607.0055830487\\n2135,83317.87846324587\\n2136,81019.09286668035\\n2137,118469.08469648166\\n2138,132842.39464471053\\n2139,154029.2286362341\\n2140,143151.42689452705\\n2141,140797.85128401595\\n2142,130568.86571961267\\n2143,146935.03411632104\\n2144,105695.11370406793\\n2145,137983.54517072096\\n2146,175355.32529350955\\n2147,147112.96162788488\\n2148,129943.46990642222\\n2149,140088.6925152393\\n2150,236666.08031803716\\n2151,100217.63450833631\\n2152,161148.33568582856\\n2153,157755.03490396854\\n2154,110255.22896952643\\n2155,142148.30589265793\\n2156,263947.1493219151\\n2157,224728.08148502265\\n2158,225230.977375058\\n2159,205533.20338188807\\n2160,168035.73133216376\\n2161,244785.50826829887\\n2162,364186.4514722125\\n2163,330003.23107839306\\n2164,238674.8148684623\\n2165,229601.0458802762\\n2166,147440.7391461933\\n2167,211791.2756080658\\n2168,200142.08361949318\\n2169,198505.88468929453\\n2170,224726.66300363277\\n2171,158651.0669551399\\n2172,130405.65938377939\\n2173,165311.73381978943\\n2174,218988.4033906314\\n2175,294288.16619597137\\n2176,337515.35889403423\\n2177,247067.19679375654\\n2178,207094.99292155198\\n2179,139593.46600146827\\n2180,247747.0363639642\\n2181,188170.00346515572\\n2182,216570.65615164014\\n2183,192519.26491990912\\n2184,124814.78226572853\\n2185,127518.23491005822\\n2186,136988.28126535998\\n2187,152451.72379078827\\n2188,151496.74361095994\\n2189,241053.693528807\\n2190,81920.24625169777\\n2191,88725.83503120198\\n2192,94504.81381256941\\n2193,116639.6992860056\\n2194,107988.12319579214\\n2195,113657.885294798\\n2196,103659.49978511679\\n2197,121636.28755662972\\n2198,157009.39811566554\\n2199,183890.46981904013\\n2200,145396.7216598102\\n2201,140209.1542123422\\n2202,203887.08910511195\\n2203,164380.4321913606\\n2204,193255.4055461835\\n2205,116546.60340000805\\n2206,150380.15972429485\\n2207,215692.15164584224\\n2208,246352.02554275194\\n2209,231661.54527656356\\n2210,127699.60534641244\\n2211,114299.65104729419\\n2212,118635.06726007267\\n2213,112089.1187021355\\n2214,133820.65230108754\\n2215,106671.80213953317\\n2216,151226.3804208386\\n2217,69098.05552678769\\n2218,79128.25965509283\\n2219,70052.5556187428\\n2220,81042.45033263623\\n2221,326839.8251676844\\n2222,275854.59159913217\\n2223,266528.3713765004\\n2224,208658.7073344381\\n2225,123429.65798808179\\n2226,196562.25287391196\\n2227,207499.26002666078\\n2228,285371.93530536623\\n2229,252244.76615657558\\n2230,165894.88239511283\\n2231,210318.08211444772\\n2232,191486.80953072067\\n2233,164338.10515484132\\n2234,237976.42619075684\\n2235,248616.1627392643\\n2236,266907.75084158714\\n2237,342722.906723184\\n2238,197799.9106349183\\n2239,113316.35016240188\\n2240,161658.47150140328\\n2241,151447.95287942275\\n2242,123564.98657766567\\n2243,120441.93902509747\\n2244,104786.49292182922\\n2245,102865.20748093858\\n2246,140892.55850557183\\n2247,113458.55244815761\\n2248,122711.56672266655\\n2249,125112.56526934255\\n2250,134148.00610203875\\n2251,127839.68081489934\\n2252,158960.534760438\\n2253,153551.95388206682\\n2254,179844.96544329755\\n2255,197733.83909178534\\n2256,175311.20092873788\\n2257,206350.82902807253\\n2258,167104.67797341442\\n2259,177537.08613288793\\n2260,158136.49455382166\\n2261,191359.90321729053\\n2262,204384.89064328125\\n2263,349957.92177792103\\n2264,452462.26657143375\\n2265,175493.82150656657\\n2266,284331.7695720157\\n2267,372619.99147786194\\n2268,379543.1293118653\\n2269,142498.492255856\\n2270,182054.74933409135\\n2271,219966.67486553386\\n2272,202765.54226180678\\n2273,167550.55664408038\\n2274,177323.2394532946\\n2275,166048.9209191809\\n2276,204037.38285692164\\n2277,181122.3315020096\\n2278,146313.77676192956\\n2279,130167.64187409075\\n2280,114324.01961013599\\n2281,164980.199420046\\n2282,185066.23589092126\\n2283,103843.11181423206\\n2284,120420.35636200637\\n2285,137342.37355678345\\n2286,123891.78705207225\\n2287,364434.59845006693\\n2288,280790.6257292727\\n2289,390933.93286692287\\n2290,457314.28130455635\\n2291,327374.6909263681\\n2292,448042.70885729353\\n2293,462783.54082328087\\n2294,439030.5155362181\\n2295,443160.67379790364\\n2296,286775.95712648175\\n2297,306895.3736725815\\n2298,341274.98993273726\\n2299,389355.92612608615\\n2300,340449.2054907938\\n2301,306234.26193327736\\n2302,235892.63012527666\\n2303,237730.04966376326\\n2304,248799.40405319975\\n2305,183210.08700599728\\n2306,176736.6381844874\\n2307,189509.89719911042\\n2308,221885.5464375829\\n2309,277033.20447448385\\n2310,213989.84315807532\\n2311,185942.78783127308\\n2312,168094.04767000073\\n2313,173107.47466799914\\n2314,162230.8735248591\\n2315,169452.2947994392\\n2316,188955.36822402265\\n2317,180899.2129603671\\n2318,174866.15962319425\\n2319,171751.44396543826\\n2320,175761.24219401955\\n2321,234994.21587409536\\n2322,164368.984840391\\n2323,187008.31333479905\\n2324,168684.8373843349\\n2325,201216.29043867803\\n2326,165175.44319129805\\n2327,208442.37639910734\\n2328,233401.65784624344\\n2329,186879.39325976427\\n2330,183755.8902379959\\n2331,367646.73824524897\\n2332,430935.05352002004\\n2333,321183.86185437575\\n2334,267277.23520129663\\n2335,261865.69841109606\\n2336,323769.9867579511\\n2337,209292.16981727918\\n2338,274605.42431847623\\n2339,227831.7610543829\\n2340,390933.91698465205\\n2341,223269.66592679892\\n2342,224898.84234246454\\n2343,228110.07569622475\\n2344,231111.9075946341\\n2345,236101.35358822823\\n2346,214039.92892642817\\n2347,206039.16596373564\\n2348,246102.82325754696\\n2349,187858.33661251373\\n2350,282774.2865279112\\n2351,268514.77267165034\\n2352,254668.80088465748\\n2353,261914.11592825796\\n2354,137134.5450645233\\n2355,137882.4039665596\\n2356,153964.04748586874\\n2357,188006.99879732807\\n2358,194051.22851144202\\n2359,135693.0975481609\\n2360,117665.99460391898\\n2361,142690.90436384262\\n2362,262566.36136295623\\n2363,139256.06330511745\\n2364,153305.2074594027\\n2365,223573.25643130305\\n2366,200713.57750090308\\n2367,220907.30706410905\\n2368,212942.8135447568\\n2369,216003.1898843345\\n2370,180419.75021286978\\n2371,174970.9760651566\\n2372,194582.33761614948\\n2373,274678.1031802984\\n2374,326260.489765965\\n2375,247439.14749727328\\n2376,292073.6385809178\\n2377,362767.81581833045\\n2378,151974.7747883928\\n2379,204700.9599899906\\n2380,148440.56944650062\\n2381,160792.5397720578\\n2382,198038.06436487153\\n2383,199504.66250782562\\n2384,246420.20127053713\\n2385,167084.81697342134\\n2386,140439.2454945895\\n2387,140191.24295087083\\n2388,96152.6123528364\\n2389,117895.3651647236\\n2390,153189.78620124212\\n2391,146779.19261344883\\n2392,116344.1120447501\\n2393,160826.8958105336\\n2394,144130.71335698004\\n2395,205267.33536512053\\n2396,145382.45053723073\\n2397,204709.022305061\\n2398,131622.92207401045\\n2399,60803.08430266232\\n2400,61146.50623575106\\n2401,114032.54654593472\\n2402,144233.8698682295\\n2403,132065.95410469506\\n2404,150377.7397200683\\n2405,163947.75120987277\\n2406,145658.00952628083\\n2407,124093.37089164402\\n2408,144209.56299804803\\n2409,129335.76484330247\\n2410,160265.6582148741\\n2411,121057.61982009269\\n2412,155683.88016153578\\n2413,136353.40801252794\\n2414,158670.06924199002\\n2415,131157.6355213971\\n2416,122739.731918869\\n2417,135189.7732832371\\n2418,134238.11659867657\\n2419,122738.29625964176\\n2420,125478.93855864645\\n2421,147918.3073575109\\n2422,113033.87698821338\\n2423,132738.16195009614\\n2424,143948.23944845272\\n2425,224545.93295375726\\n2426,117014.00356845892\\n2427,138289.84301689334\\n2428,169752.9586974879\\n2429,112460.67690302024\\n2430,129844.08050608865\\n2431,120328.91283140687\\n2432,141742.49693520155\\n2433,144672.54788737817\\n2434,135342.43127589984\\n2435,146309.8115659908\\n2436,104118.05656254035\\n2437,115378.26569063362\\n2438,127539.91805547946\\n2439,110678.95296805842\\n2440,120492.22501919312\\n2441,78334.38841713761\\n2442,99310.49467242371\\n2443,130644.03356403823\\n2444,115081.84118834323\\n2445,83004.07191500407\\n2446,140834.03418888815\\n2447,194794.10387148795\\n2448,131070.15230294997\\n2449,114532.70703951488\\n2450,143416.4657502761\\n2451,130577.92598854266\\n2452,214898.9296804145\\n2453,93582.38843990008\\n2454,126541.1479693448\\n2455,114239.51397166452\\n2456,133273.4978297053\\n2457,130186.057140481\\n2458,119697.25270934707\\n2459,108804.93844606043\\n2460,133077.86323542922\\n2461,120375.1500546543\\n2462,141650.93529845198\\n2463,120500.0173506807\\n2464,180222.62246925666\\n2465,135997.5595420005\\n2466,112221.61057084457\\n2467,136478.4324362599\\n2468,79838.93548374026\\n2469,69805.16664170199\\n2470,188105.64290605238\\n2471,212312.13938828037\\n2472,160775.13773530722\\n2473,120841.99736926921\\n2474,85129.23144173673\\n2475,205098.38354953678\\n2476,115987.61073632349\\n2477,127364.87269638371\\n2478,141625.7763711887\\n2479,104889.8100898492\\n2480,140573.78646381863\\n2481,127253.15489337163\\n2482,131633.13715190467\\n2483,110642.18036681814\\n2484,123532.85288995343\\n2485,128527.35856132337\\n2486,157980.43389335094\\n2487,181346.68921726264\\n2488,161654.59074912072\\n2489,155270.30316884708\\n2490,152222.2638700658\\n2491,92918.95615479712\\n2492,193636.6496191838\\n2493,155944.18046910982\\n2494,146662.89139482725\\n2495,85526.62498153668\\n2496,255604.13655982888\\n2497,149510.17635848973\\n2498,109345.71464163484\\n2499,92504.21135479945\\n2500,124968.04215226627\\n2501,134562.2310705499\\n2502,137885.97337350855\\n2503,96360.80981525591\\n2504,161780.40451807354\\n2505,232728.86245327888\\n2506,253571.82953192515\\n2507,307851.1122515917\\n2508,250615.56358124828\\n2509,213640.81572180585\\n2510,215047.78230853454\\n2511,171663.197606847\\n2512,214382.1371165525\\n2513,223368.8895771294\\n2514,262725.32522318175\\n2515,154066.2201392126\\n2516,173981.2903955377\\n2517,143474.8738995372\\n2518,150631.03813219763\\n2519,232045.13370597595\\n2520,208341.96547495472\\n2521,186368.68550800867\\n2522,220002.81605213933\\n2523,120955.56719189874\\n2524,139278.37047180784\\n2525,142553.41320683074\\n2526,137203.18617936227\\n2527,111345.8322192562\\n2528,137059.3319479772\\n2529,143531.04657375507\\n2530,123779.70941157715\\n2531,240942.27443856501\\n2532,228286.9620421147\\n2533,195582.54663954893\\n2534,223678.25809851385\\n2535,300246.5560244131\\n2536,233055.76266678475\\n2537,226132.34884161485\\n2538,176014.3532613556\\n2539,186140.09365609792\\n2540,176911.31985249027\\n2541,177940.40507669406\\n2542,172519.88472376493\\n2543,127789.81033343979\\n2544,122775.41464836584\\n2545,129220.67697565943\\n2546,124778.74723617773\\n2547,136706.73773811822\\n2548,139787.37055113257\\n2549,162172.8884227919\\n2550,391152.1440660039\\n2551,140464.7764934588\\n2552,128748.52220582419\\n2553,81462.5133613355\\n2554,111500.39154538634\\n2555,124814.03356663098\\n2556,104314.20153958349\\n2557,109082.56828800129\\n2558,145722.10499727644\\n2559,137630.37940552316\\n2560,150095.58817245354\\n2561,150387.91414798787\\n2562,155189.96014034763\\n2563,151181.14895839104\\n2564,205391.04273743235\\n2565,148414.57219575596\\n2566,161208.19229148977\\n2567,129411.42741113012\\n2568,214507.64136949155\\n2569,203154.66841914266\\n2570,124616.910549219\\n2571,182204.98695017837\\n2572,135282.5929040621\\n2573,212910.91836946015\\n2574,265933.3795423432\\n2575,134483.7519627227\\n2576,135342.03714462597\\n2577,162298.44880924837\\n2578,82147.9618856518\\n2579,63139.586266715945\\n2580,127829.46775726487\\n2581,113695.21619883148\\n2582,124521.75438840136\\n2583,260747.12255890886\\n2584,162307.9925132604\\n2585,181935.12905484284\\n2586,207074.0139070961\\n2587,186943.0244354815\\n2588,139149.99201342862\\n2589,140847.48753610393\\n2590,218196.22938778688\\n2591,218437.64230370882\\n2592,221628.58302575158\\n2593,240370.3047320571\\n2594,171824.5029702006\\n2595,202786.42736425812\\n2596,312628.72329163266\\n2597,191882.62505948884\\n2598,278664.3308123415\\n2599,324975.05945505283\\n2600,128566.73374266081\\n2601,153135.1816838574\\n2602,75250.50990613484\\n2603,92882.32630923895\\n2604,85640.3748881759\\n2605,71193.48039019207\\n2606,149877.5457290958\\n2607,192649.83038482553\\n2608,208245.9494346854\\n2609,164313.89355065871\\n2610,111517.88176587671\\n2611,131951.3333025107\\n2612,153440.49989340742\\n2613,133797.59892386486\\n2614,127308.5502907148\\n2615,152921.4873745373\\n2616,145434.85913967344\\n2617,181649.30434158593\\n2618,189281.67384004558\\n2619,178299.52770601423\\n2620,186095.39801768202\\n2621,183406.25531182604\\n2622,186341.3752636137\\n2623,234938.36437698404\\n2624,299437.32256865676\\n2625,307595.8011225388\\n2626,172870.13369378942\\n2627,171819.43524002307\\n2628,475059.61849808483\\n2629,498019.4392595607\\n2630,365494.4717493849\\n2631,459385.7971590824\\n2632,421526.6744399568\\n2633,302216.5491664522\\n2634,396037.99537363584\\n2635,158507.27824429068\\n2636,182027.470333834\\n2637,184265.65621234552\\n2638,269977.90045587457\\n2639,182494.06671142898\\n2640,156022.14913904227\\n2641,105786.3811439994\\n2642,187935.66778706058\\n2643,101745.3411915922\\n2644,128665.54105839487\\n2645,106624.30944790544\\n2646,95723.60764357749\\n2647,107811.6107233339\\n2648,139695.26211633286\\n2649,149490.17784327726\\n2650,137653.0087278876\\n2651,141371.4556686061\\n2652,415168.15593688795\\n2653,239235.1641482653\\n2654,266813.85771337396\\n2655,423890.1567715736\\n2656,308596.3059098727\\n2657,328191.48455548397\\n2658,301702.7459380979\\n2659,311838.9613209892\\n2660,356913.8778202463\\n2661,359272.5426395404\\n2662,386910.3672133209\\n2663,281910.99679068994\\n2664,278392.1834609294\\n2665,333888.1184181954\\n2666,281027.0691776256\\n2667,162981.1336020633\\n2668,175960.26507331012\\n2669,181259.13374405866\\n2670,266457.9534901972\\n2671,180419.67910337076\\n2672,198197.1966542913\\n2673,204330.9647427583\\n2674,201256.82430462912\\n2675,173314.09586213657\\n2676,185988.6022535739\\n2677,195013.7315149874\\n2678,248605.57724512788\\n2679,278757.1637905256\\n2680,293907.5967433372\\n2681,417786.8583600391\\n2682,347889.74728148215\\n2683,518133.60060806444\\n2684,327291.3254522586\\n2685,341927.9132522102\\n2686,263833.530616082\\n2687,338244.63068709394\\n2688,216175.28420699976\\n2689,204824.5821095672\\n2690,430771.8025343579\\n2691,204126.9206017235\\n2692,136976.81659024666\\n2693,189236.22629896895\\n2694,136691.23973637837\\n2695,189016.46633732136\\n2696,181495.21068128722\\n2697,204567.76089646987\\n2698,201558.370274189\\n2699,171368.05054236486\\n2700,158368.2023356695\\n2701,157797.01073038785\\n2702,114459.27586208045\\n2703,115027.35440065023\\n2704,138981.70177660606\\n2705,123760.42166850693\\n2706,119156.45324077063\\n2707,126531.20406892116\\n2708,130897.48410933446\\n2709,111184.97572429225\\n2710,127573.58356717584\\n2711,281600.95990336005\\n2712,423809.76372153615\\n2713,172373.1176038263\\n2714,149606.51289752978\\n2715,172363.76790777425\\n2716,154801.0643301995\\n2717,193538.00507321075\\n2718,209067.8256965534\\n2719,160548.6143528428\\n2720,165536.5126590405\\n2721,137252.26045657025\\n2722,158290.92151291287\\n2723,133611.2997789866\\n2724,126685.6154239158\\n2725,131848.08919142425\\n2726,151458.1041231258\\n2727,170668.31890502328\\n2728,172006.91258842437\\n2729,149434.12134571496\\n2730,145293.85680368144\\n2731,127849.24770670006\\n2732,128275.54289827618\\n2733,154881.5658269298\\n2734,136414.46115977623\\n2735,139405.7148128273\\n2736,153829.30807430446\\n2737,124433.03997754215\\n2738,129713.33737260765\\n2739,154607.13980619278\\n2740,137811.00477739304\\n2741,143496.59534466406\\n2742,155814.82400586383\\n2743,150161.10073568908\\n2744,154867.71887557872\\n2745,143377.89241272575\\n2746,141912.60676713884\\n2747,147041.35321452224\\n2748,128050.4270767264\\n2749,135462.0723450352\\n2750,137604.01221261214\\n2751,137652.83307912326\\n2752,191166.30039550207\\n2753,152846.4036085423\\n2754,222860.5513839115\\n2755,131264.7918858929\\n2756,99245.42727051108\\n2757,71806.56296613492\\n2758,81904.1422116499\\n2759,156036.9849273313\\n2760,129086.11465171013\\n2761,146271.46129371424\\n2762,149731.0889370753\\n2763,179627.45433041075\\n2764,142264.3124909383\\n2765,271211.8814818383\\n2766,139600.8943735974\\n2767,89895.97575474996\\n2768,123229.43153307927\\n2769,134693.30748451082\\n2770,133784.47011203313\\n2771,107836.08673476933\\n2772,107129.88292428158\\n2773,176526.08805396818\\n2774,143533.68275566396\\n2775,115791.3733779413\\n2776,131754.7639938696\\n2777,141724.79432231965\\n2778,103359.7056813043\\n2779,140877.1041904349\\n2780,89269.01729564158\\n2781,95065.11286243654\\n2782,102527.41107730944\\n2783,98872.11682825859\\n2784,125036.05829845522\\n2785,147706.72821441025\\n2786,74891.00924290378\\n2787,120290.33159092137\\n2788,72274.38383985407\\n2789,169156.1425441136\\n2790,98730.11208263869\\n2791,117142.80749200853\\n2792,62589.91503079034\\n2793,173583.43227568414\\n2794,104519.92406549933\\n2795,122263.76822688068\\n2796,108734.71801919465\\n2797,183879.99788628326\\n2798,114892.59547249731\\n2799,117426.44582447692\\n2800,63659.15920298501\\n2801,111091.2169254193\\n2802,130169.0972879312\\n2803,148443.5856956487\\n2804,127870.48333082636\\n2805,106595.69736293328\\n2806,81556.54940396923\\n2807,160696.71187750745\\n2808,150925.54184845096\\n2809,132043.60340251052\\n2810,130922.48949870266\\n2811,160961.07410286184\\n2812,158880.69291947462\\n2813,152634.4924993929\\n2814,152672.87047175172\\n2815,99417.627820905\\n2816,249723.30697695317\\n2817,180429.33218149823\\n2818,131695.03050303442\\n2819,178503.57304374574\\n2820,142988.0958300681\\n2821,116388.83693594583\\n2822,200514.46619656836\\n2823,320165.79347213096\\n2824,200918.94306470692\\n2825,153240.0169217101\\n2826,136601.90890537706\\n2827,131830.65957287356\\n2828,215429.1219942835\\n2829,206318.76907656464\\n2830,236330.0467613489\\n2831,177727.25570361727\\n2832,250984.53546562724\\n2833,305176.7964933586\\n2834,214238.02836355325\\n2835,215823.6829900175\\n2836,193820.25223801282\\n2837,158434.9963139167\\n2838,148694.7942996124\\n2839,177243.54285975776\\n2840,201634.73535365798\\n2841,204654.6145833372\\n2842,230984.73531128757\\n2843,160362.2322081568\\n2844,155163.64906515554\\n2845,120301.12902224084\\n2846,219730.4438162048\\n2847,206152.70020653208\\n2848,206388.18065089703\\n2849,204795.53516514282\\n2850,273705.36350007483\\n2851,225987.51620903704\\n2852,221131.56580332026\\n2853,247146.1956112939\\n2854,141419.37926167462\\n2855,199448.44454689353\\n2856,200786.71655588786\\n2857,182229.2142974249\\n2858,196668.84951173535\\n2859,119707.06419415127\\n2860,127041.60171089738\\n2861,120870.0649386753\\n2862,196957.0891423409\\n2863,128824.6038450372\\n2864,226199.88987778887\\n2865,138526.3101449475\\n2866,133595.36409731698\\n2867,94376.86000700104\\n2868,94043.10711068193\\n2869,113431.98576814699\\n2870,118847.24992674847\\n2871,89078.36762679424\\n2872,50610.22509983984\\n2873,104107.65654914704\\n2874,140406.26098348733\\n2875,114901.63334425121\\n2876,154614.1120524613\\n2877,144532.46734821057\\n2878,168264.1110812625\\n2879,141908.25551226374\\n2880,104260.06244550024\\n2881,150550.5317622613\\n2882,167867.20257690668\\n2883,193163.79730488738\\n2884,191236.43419601687\\n2885,198203.7555527609\\n2886,227530.76853285823\\n2887,88526.63793672546\\n2888,137196.2765904843\\n2889,39970.565083373745\\n2890,78177.12334966107\\n2891,143310.88330589898\\n2892,43893.38661176914\\n2893,95356.83465747621\\n2894,58818.80663682445\\n2895,327436.18307569355\\n2896,281024.82164197485\\n2897,188434.52202429273\\n2898,136682.30387179306\\n2899,190752.54913443123\\n2900,159678.44905673608\\n2901,218257.6285962411\\n2902,200699.88143907473\\n2903,350198.23798964656\\n2904,348889.6221110624\\n2905,102804.36761747021\\n2906,206131.904492373\\n2907,110865.6333397461\\n2908,135471.8220626792\\n2909,130643.30723869847\\n2910,75566.69582930222\\n2911,72946.1435907038\\n2912,146125.64041563714\\n2913,79913.85921135484\\n2914,70998.79081790251\\n2915,81182.42446445802\\n2916,76211.8985828151\\n2917,158121.52887375728\\n2918,122077.95622570893\\n2919,208642.90699834336\\n'}"
            ]
          },
          "metadata": {
            "tags": []
          },
          "execution_count": 244
        }
      ]
    },
    {
      "cell_type": "code",
      "metadata": {
        "id": "2hURNO_t_kfh"
      },
      "source": [
        "Y_test = pd.read_csv('/content/submission (4).csv')"
      ],
      "execution_count": null,
      "outputs": []
    },
    {
      "cell_type": "code",
      "metadata": {
        "id": "p4i-r1KiAKai"
      },
      "source": [
        "Y_test = Y_test['SalePrice'].values"
      ],
      "execution_count": null,
      "outputs": []
    },
    {
      "cell_type": "code",
      "metadata": {
        "colab": {
          "base_uri": "https://localhost:8080/"
        },
        "id": "_L9hB3GI_2yp",
        "outputId": "8715506f-9797-438b-c222-d097d8cc39fd"
      },
      "source": [
        "print(r2_score(Y_test, y_pred))"
      ],
      "execution_count": null,
      "outputs": [
        {
          "output_type": "stream",
          "text": [
            "0.6344727922834268\n"
          ],
          "name": "stdout"
        }
      ]
    }
  ]
}