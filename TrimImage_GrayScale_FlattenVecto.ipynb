{
  "nbformat": 4,
  "nbformat_minor": 0,
  "metadata": {
    "colab": {
      "name": "TrimImage.ipynb",
      "provenance": [],
      "collapsed_sections": [],
      "authorship_tag": "ABX9TyOB5WNw6Yw7D8WfEGiBMC5E",
      "include_colab_link": true
    },
    "kernelspec": {
      "name": "python3",
      "display_name": "Python 3"
    }
  },
  "cells": [
    {
      "cell_type": "markdown",
      "metadata": {
        "id": "view-in-github",
        "colab_type": "text"
      },
      "source": [
        "<a href=\"https://colab.research.google.com/github/thanhnhan311201/CS114.L11.KHCL/blob/master/TrimImage_GrayScale_FlattenVecto.ipynb\" target=\"_parent\"><img src=\"https://colab.research.google.com/assets/colab-badge.svg\" alt=\"Open In Colab\"/></a>"
      ]
    },
    {
      "cell_type": "code",
      "metadata": {
        "colab": {
          "base_uri": "https://localhost:8080/"
        },
        "id": "xJ8HPrfjgt7w",
        "outputId": "f0a9b0bd-5e16-4635-e39c-077e5e5dc2e0"
      },
      "source": [
        "from google.colab import drive\n",
        "drive.mount('/content/drive')"
      ],
      "execution_count": 1,
      "outputs": [
        {
          "output_type": "stream",
          "text": [
            "Mounted at /content/drive\n"
          ],
          "name": "stdout"
        }
      ]
    },
    {
      "cell_type": "code",
      "metadata": {
        "id": "hIHsiDY_ha8x"
      },
      "source": [
        "from PIL import Image, ImageChops\n",
        "import matplotlib.pyplot as plt\n",
        "import cv2\n",
        "import numpy as np"
      ],
      "execution_count": 2,
      "outputs": []
    },
    {
      "cell_type": "code",
      "metadata": {
        "id": "AjIbm2p-mxdM"
      },
      "source": [
        "\n",
        "def trim(im):\n",
        "    bg = Image.new(im.mode, im.size, im.getpixel((0,0)))\n",
        "    diff = ImageChops.difference(im, bg)\n",
        "    diff = ImageChops.add(diff, diff, 3.0, -100)\n",
        "    bbox = diff.getbbox()\n",
        "    return im.crop(bbox)\n",
        "    "
      ],
      "execution_count": 3,
      "outputs": []
    },
    {
      "cell_type": "code",
      "metadata": {
        "colab": {
          "base_uri": "https://localhost:8080/",
          "height": 566
        },
        "id": "lv02ZslYg-TJ",
        "outputId": "bbf295c9-d35c-4f0a-f610-b91b95815190"
      },
      "source": [
        "\n",
        "\n",
        "im = Image.open(\"/content/drive/MyDrive/Dataset/Dataset/a/10321.jpg\").convert('LA')\n",
        "plt.imshow(im, cmap= 'gray')\n",
        "print(im.size)\n",
        "im = trim(im)\n",
        "im = im.resize((16, 16))\n",
        "\n",
        "plt.figure()\n",
        "\n",
        "plt.imshow(im, cmap= 'gray')\n",
        "print(im.size)\n",
        "print(np.asarray(im).flatten().shape)"
      ],
      "execution_count": 4,
      "outputs": [
        {
          "output_type": "stream",
          "text": [
            "(47, 53)\n",
            "(16, 16)\n",
            "(512,)\n"
          ],
          "name": "stdout"
        },
        {
          "output_type": "display_data",
          "data": {
            "image/png": "[encoded data removed]",
            "text/plain": [
              "<Figure size 432x288 with 1 Axes>"
            ]
          },
          "metadata": {
            "tags": [],
            "needs_background": "light"
          }
        },
        {
          "output_type": "display_data",
          "data": {
            "image/png": "[encoded data removed]",
            "text/plain": [
              "<Figure size 432x288 with 1 Axes>"
            ]
          },
          "metadata": {
            "tags": [],
            "needs_background": "light"
          }
        }
      ]
    },
    {
      "cell_type": "code",
      "metadata": {
        "colab": {
          "base_uri": "https://localhost:8080/",
          "height": 566
        },
        "id": "iXijX_RU9fyr",
        "outputId": "1bdb1508-a089-474c-b04e-43081bd7ee74"
      },
      "source": [
        "im = Image.open(\"/content/drive/MyDrive/Dataset/Dataset/ề/11842.jpg\").convert('LA')\n",
        "plt.imshow(im, cmap= 'gray')\n",
        "print(im.size)\n",
        "im = trim(im)\n",
        "im = im.resize((16, 16))\n",
        "\n",
        "plt.figure()\n",
        "\n",
        "plt.imshow(im, cmap= 'gray')\n",
        "print(im.size)\n",
        "print(np.asarray(im).flatten().shape)"
      ],
      "execution_count": 7,
      "outputs": [
        {
          "output_type": "stream",
          "text": [
            "(47, 53)\n",
            "(16, 16)\n",
            "(512,)\n"
          ],
          "name": "stdout"
        },
        {
          "output_type": "display_data",
          "data": {
            "image/png": "[encoded data removed]",
            "text/plain": [
              "<Figure size 432x288 with 1 Axes>"
            ]
          },
          "metadata": {
            "tags": [],
            "needs_background": "light"
          }
        },
        {
          "output_type": "display_data",
          "data": {
            "image/png": "[encoded data removed]",
            "text/plain": [
              "<Figure size 432x288 with 1 Axes>"
            ]
          },
          "metadata": {
            "tags": [],
            "needs_background": "light"
          }
        }
      ]
    },
    {
      "cell_type": "code",
      "metadata": {
        "id": "5Zv1S8FSl2SY"
      },
      "source": [
        "import os\n",
        "import pandas as pd\n",
        "import matplotlib.pyplot as plt\n",
        "import cv2 \n",
        "import numpy as np\n",
        "from skimage.feature import hog"
      ],
      "execution_count": null,
      "outputs": []
    },
    {
      "cell_type": "code",
      "metadata": {
        "id": "rwMWR_ZumGZc"
      },
      "source": [
        "FJoin = os.path.join\n",
        "def getLink(path):\n",
        "    ans = []\n",
        "    label = []\n",
        "    index = 0\n",
        "    list_folder = [FJoin(path, f) for f in sorted(os.listdir(path))]\n",
        "    for f in list_folder:\n",
        "        list_img = [FJoin(f, img_id) for img_id in sorted(os.listdir(f))]\n",
        "        for img_link in list_img:\n",
        "            ans.append(img_link)\n",
        "            label.append(index)\n",
        "        index += 1\n",
        "    return ans, label\n"
      ],
      "execution_count": null,
      "outputs": []
    },
    {
      "cell_type": "code",
      "metadata": {
        "colab": {
          "base_uri": "https://localhost:8080/"
        },
        "id": "5f3OAt8DmIGx",
        "outputId": "8c7cd892-7080-46a1-a8ae-52c44bf00188"
      },
      "source": [
        "train_path = '/content/drive/MyDrive/Dataset/train'\n",
        "vali_path = '/content/drive/MyDrive/Dataset/validation'\n",
        "test_path = '/content/drive/MyDrive/Dataset/TestingData'\n",
        "link_train, label_train = getLink(train_path)\n",
        "link_vali, label_vali = getLink(vali_path)\n",
        "link_test, label_test = getLink(test_path)\n",
        "print(len(link_train))\n",
        "print(len(link_vali))\n",
        "print(len(link_test)) "
      ],
      "execution_count": null,
      "outputs": [
        {
          "output_type": "stream",
          "text": [
            "11865\n",
            "2984\n",
            "2758\n"
          ],
          "name": "stdout"
        }
      ]
    },
    {
      "cell_type": "code",
      "metadata": {
        "id": "0avcbd3BmLiU"
      },
      "source": [
        "def getFeature_Label(link, label):\n",
        "    list_feature = []\n",
        "    for img_link in link:\n",
        "        img = Image.open(img_link).convert('LA')\n",
        "        img = trim(img)\n",
        "        img = img.resize((16, 16))\n",
        "        list_feature.append(np.asarray(img).ravel())\n",
        "    return np.array(list_feature), np.array(label)"
      ],
      "execution_count": null,
      "outputs": []
    },
    {
      "cell_type": "code",
      "metadata": {
        "id": "UCRcjyzsm4Qb"
      },
      "source": [
        "X_train, Y_train = getFeature_Label(link_train, label_train)"
      ],
      "execution_count": null,
      "outputs": []
    },
    {
      "cell_type": "code",
      "metadata": {
        "id": "bxCvlzieqrDI"
      },
      "source": [
        "pd.DataFrame(X_train).to_csv('/content/drive/MyDrive/BackUpData/TrimImage/X_train.csv', header= None, index=None)"
      ],
      "execution_count": null,
      "outputs": []
    },
    {
      "cell_type": "code",
      "metadata": {
        "id": "tyHo9MClMT_w"
      },
      "source": [
        "X_test, Y_test = getFeature_Label(link_test, label_test)\n",
        "X_val, Y_val = getFeature_Label(link_vali, label_vali)"
      ],
      "execution_count": null,
      "outputs": []
    },
    {
      "cell_type": "code",
      "metadata": {
        "colab": {
          "base_uri": "https://localhost:8080/"
        },
        "id": "VBDiGVy-VodO",
        "outputId": "8b429570-fd4c-46ae-efd4-e987632a3e94"
      },
      "source": [
        "print(X_train.shape)"
      ],
      "execution_count": null,
      "outputs": [
        {
          "output_type": "stream",
          "text": [
            "(11865, 512)\n"
          ],
          "name": "stdout"
        }
      ]
    },
    {
      "cell_type": "code",
      "metadata": {
        "id": "SM1s0LpRajA2"
      },
      "source": [
        "pd.DataFrame(X_test).to_csv('/content/drive/MyDrive/BackUpData/TrimImage/X_test.csv', header= None, index=None)\n",
        "pd.DataFrame(X_val).to_csv('/content/drive/MyDrive/BackUpData/TrimImage/X_val.csv', header= None, index=None)"
      ],
      "execution_count": null,
      "outputs": []
    },
    {
      "cell_type": "code",
      "metadata": {
        "id": "20pjvAVJarDi"
      },
      "source": [
        ""
      ],
      "execution_count": null,
      "outputs": []
    }
  ]
}