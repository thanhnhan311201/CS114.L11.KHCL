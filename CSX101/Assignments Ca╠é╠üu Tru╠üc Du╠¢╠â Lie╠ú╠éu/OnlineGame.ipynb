{
  "nbformat": 4,
  "nbformat_minor": 0,
  "metadata": {
    "colab": {
      "name": "OnlineGame.ipynb",
      "provenance": [],
      "collapsed_sections": [],
      "include_colab_link": true
    },
    "kernelspec": {
      "name": "python3",
      "display_name": "Python 3"
    }
  },
  "cells": [
    {
      "cell_type": "markdown",
      "metadata": {
        "id": "view-in-github",
        "colab_type": "text"
      },
      "source": [
        "<a href=\"https://colab.research.google.com/github/thanhnhan311201/CS114.L11.KHCL/blob/master/OnlineGame.ipynb\" target=\"_parent\"><img src=\"https://colab.research.google.com/assets/colab-badge.svg\" alt=\"Open In Colab\"/></a>"
      ]
    },
    {
      "cell_type": "markdown",
      "metadata": {
        "id": "NG27v7MjXY6S"
      },
      "source": [
        "# Code : Lê Quang Huy\n",
        "# Tên bài : OnlineGame \n",
        "# Link : Online game\n",
        "# Đề bài : \n",
        "Cho 1 hệ thống quản lý tài khoản có 2 truy vấn :\n",
        "- Truy vấn dạng 1 x: tài khoản có mã số x đã đăng nhập vào hệ thống  \n",
        "- Truy vấn dạng 2 x: Kiểm tra tài khoản x có đang online trong hệ thống hay không.\n",
        "- Có nhiều truy vấn loại 1 và 2, với mỗi truy vấn loại 2, xuất ra 1 nếu tài khoản đang online hoặc 0 nếu tài khoản offline.\n",
        "# Ý tưởng :\n",
        "Dùng dictionary để quản lý.\n",
        "- Với mỗi truy vấn loại 1 ta gán giá trị tại khóa x bằng 1.\n",
        "- Với mỗi giá trị loại 2 ta kiểm tra xem khóa x có trong dictionary hay không, nếu có trả về 1, ngược lại trả về 0."
      ]
    },
    {
      "cell_type": "code",
      "metadata": {
        "id": "2UkMGzuhWRLX"
      },
      "source": [
        "def read(str = 'i'): #return read(\"int\")\n",
        "\tif(str == \"float\"):\n",
        "\t\treturn map(float, input().split())\n",
        "\treturn map(int, input().split())\n",
        "\n",
        "\n",
        "def ReadArr():\n",
        "\treturn [int(x) for x in input().split()]\n",
        "\n",
        "if __name__ == '__main__':\n",
        "\tmydict = {}\n",
        "\twhile True:\n",
        "\t\ta = ReadArr()\n",
        "\t\tif a[0] == 0:\n",
        "\t\t\tbreak;\n",
        "\t\tif a[0] == 1:\n",
        "\t\t\tmydict[a[1]] = 1\n",
        "\t\telse:\n",
        "\t\t\tif a[1] in mydict:\n",
        "\t\t\t\tprint(1)\n",
        "\t\t\telse:\n",
        "\t\t\t\tprint(0)"
      ],
      "execution_count": null,
      "outputs": []
    }
  ]
}