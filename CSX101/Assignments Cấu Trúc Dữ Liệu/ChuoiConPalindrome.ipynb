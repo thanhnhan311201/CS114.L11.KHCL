{
  "nbformat": 4,
  "nbformat_minor": 0,
  "metadata": {
    "colab": {
      "name": "ChuoiConPalindrome.ipynb",
      "provenance": [],
      "collapsed_sections": [],
      "include_colab_link": true
    },
    "kernelspec": {
      "name": "python3",
      "display_name": "Python 3"
    }
  },
  "cells": [
    {
      "cell_type": "markdown",
      "metadata": {
        "id": "view-in-github",
        "colab_type": "text"
      },
      "source": [
        "<a href=\"https://colab.research.google.com/github/thanhnhan311201/CS114.L11.KHCL/blob/master/ChuoiConPalindrome.ipynb\" target=\"_parent\"><img src=\"https://colab.research.google.com/assets/colab-badge.svg\" alt=\"Open In Colab\"/></a>"
      ]
    },
    {
      "cell_type": "markdown",
      "metadata": {
        "id": "i0txRMPFiY9Z"
      },
      "source": [
        "# Code : Lê Quang Huy\n",
        "# Tên Bài : Chuỗi Con Palindrome\n",
        "# Link : https://khmt.uit.edu.vn/laptrinh/csx101/view_problem/5/43\n",
        "# Đề Bài : \n",
        "- Cho 1 xâu, Đếm số chuỗi con liên tiếp đỗi xứng trong xâu đó.\n",
        "# Ý tưởng :\n",
        "- Duyệt tuần tự tất cả phần tử trong xâu, xét xem có bao nhiêu xâu đối xứng nhận phần tử đó là trung tâm ."
      ]
    },
    {
      "cell_type": "code",
      "metadata": {
        "id": "s8xaf6VUiXhy"
      },
      "source": [
        "def Count1(S, i, j): \n",
        "\tif i<0 or j>=len(S):\n",
        "\t\treturn 0\n",
        "\tif S[i] != S[j]:\n",
        "\t\treturn 0\n",
        "\treturn 1 + Count1(S, i-1, j+1)\n",
        "\n",
        "def main():\n",
        "\tS = input()\n",
        "\tans = len(S)\n",
        "\tfor i in range(1,len(S)-1):\n",
        "\t\tans += Count1(S, i-1, i+1)\n",
        "\t\tif S[i] == S[i+1]:\n",
        "\t\t\tans += 1 + Count1(S, i-1, i+2)\n",
        "\n",
        "\tprint(ans)\n",
        "\n",
        "if __name__ == '__main__':\n",
        "\tmain()\t"
      ],
      "execution_count": null,
      "outputs": []
    }
  ]
}