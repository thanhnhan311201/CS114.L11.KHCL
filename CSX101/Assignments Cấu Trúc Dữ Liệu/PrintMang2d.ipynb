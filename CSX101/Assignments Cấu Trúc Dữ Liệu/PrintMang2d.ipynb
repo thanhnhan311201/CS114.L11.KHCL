{
  "nbformat": 4,
  "nbformat_minor": 0,
  "metadata": {
    "colab": {
      "name": "PrintMang2d.ipynb",
      "provenance": [],
      "collapsed_sections": [],
      "include_colab_link": true
    },
    "kernelspec": {
      "name": "python3",
      "display_name": "Python 3"
    }
  },
  "cells": [
    {
      "cell_type": "markdown",
      "metadata": {
        "id": "view-in-github",
        "colab_type": "text"
      },
      "source": [
        "<a href=\"https://colab.research.google.com/github/thanhnhan311201/CS114.L11.KHCL/blob/master/PrintMang2d.ipynb\" target=\"_parent\"><img src=\"https://colab.research.google.com/assets/colab-badge.svg\" alt=\"Open In Colab\"/></a>"
      ]
    },
    {
      "cell_type": "markdown",
      "metadata": {
        "id": "Xsaafd0YanqQ"
      },
      "source": [
        "# Code : Lê Quang Huy\n",
        "# Tên Bài : Print mảng 2d \n",
        "# Link : https://khmt.uit.edu.vn/laptrinh/csx101/view_problem/5/50\n",
        "# Đề bài :\n",
        "- In tất cả các phần tử trong 1 mảng 2 chiều sao cho mảng được căn lề phải ở mỗi cột và không có khoảng trắng thừa cuối mỗi phần tử trong mảng.\n",
        "# Ý tưởng :\n",
        "- Tìm độ dài lớn nhất của các phần tử trong mỗi cột\n",
        "- Trước khi in ra một phần tử, ta in thêm các khoảng trắng để cho độ dài của phần tử đang in bằng với độ dài của phần tử dài nhất của cột tương ứng với phần tử đó. "
      ]
    },
    {
      "cell_type": "code",
      "metadata": {
        "id": "4JYvh1nSahgc"
      },
      "source": [
        "def read(type = 'i'): #return read(\"int\")\n",
        "\tif(type == \"float\"):\n",
        "\t\treturn map(float, input().split())\n",
        "\treturn map(int, input().split())\n",
        "\n",
        "def ReadArr():\n",
        "\treturn [(int(x)) for x in input().split()]\n",
        "\n",
        "if __name__ == '__main__':\n",
        "\tn, m = read()\n",
        "\tL = [[]]*n\n",
        "\tmaxLength = [0]*m\n",
        "\t \n",
        "\tfor i in range(n):\n",
        "\t\tL[i] = ReadArr()\n",
        "\t\t\n",
        "\t\tfor j in range(m):\n",
        "\t\t\tmaxLength[j] = max(maxLength[j], len(str(L[i][j])))\n",
        "\n",
        "\tanswer = \"\"\n",
        "\ti = 0\n",
        "\n",
        "\tfor S in L:\n",
        "\t\tj = 0\n",
        "\t\tnew_line = \"\"\n",
        "\t\tSTR = str\n",
        "\t\tfor x in S:\n",
        "\t\t\tans = STR(x).rjust(maxLength[j], \" \")\n",
        "\t\t\tanswer = answer + ans \n",
        "\t\t\tif j < m-1:\n",
        "\t\t\t\tanswer = answer + \" \"\n",
        "\t\t\telse: answer = answer + \"\\n\"\n",
        "\t\t\tj+=1\n",
        "\t\ti+=1\n",
        "\tprint(answer)"
      ],
      "execution_count": null,
      "outputs": []
    }
  ]
}