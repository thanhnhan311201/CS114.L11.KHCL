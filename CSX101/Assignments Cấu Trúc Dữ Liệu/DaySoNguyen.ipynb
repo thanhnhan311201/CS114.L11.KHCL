{
  "nbformat": 4,
  "nbformat_minor": 0,
  "metadata": {
    "colab": {
      "name": "DaySoNguyen.ipynb",
      "provenance": [],
      "collapsed_sections": [],
      "include_colab_link": true
    },
    "kernelspec": {
      "name": "python3",
      "display_name": "Python 3"
    }
  },
  "cells": [
    {
      "cell_type": "markdown",
      "metadata": {
        "id": "view-in-github",
        "colab_type": "text"
      },
      "source": [
        "<a href=\"https://colab.research.google.com/github/thanhnhan311201/CS114.L11.KHCL/blob/master/DaySoNguyen.ipynb\" target=\"_parent\"><img src=\"https://colab.research.google.com/assets/colab-badge.svg\" alt=\"Open In Colab\"/></a>"
      ]
    },
    {
      "cell_type": "markdown",
      "metadata": {
        "id": "iKgZcCFqgVaj"
      },
      "source": [
        "# Code : Lê Quang Huy\n",
        "# Tên bài : Dãy số nguyên.\n",
        "# Link : https://khmt.uit.edu.vn/laptrinh/csx101/view_problem/5/44\n",
        "# Đề bài : \n",
        "- Tất cả các số nguyên dương được viết trên một dòng liên tiếp nhau tạo thành một dãy số có dạng \"123456789101112131415...\".\n",
        "\n",
        "- In ra chữ số thứ n (n<1000) trong dãy đó (chỉ số đầu tiên là 1).\n",
        "\n",
        "# Ý tưởng :\n",
        "- Vì vị trí yêu cầu của đề bài không quá 1000, ta tạo ra xâu theo yêu cầu của đề bài và trả lời truy vấn."
      ]
    },
    {
      "cell_type": "code",
      "metadata": {
        "id": "7E2gFdX3fZf2"
      },
      "source": [
        "n = int(input())\n",
        "\n",
        "S = \"\"\n",
        "\n",
        "for i in range(370):\n",
        "\tx = i+1\n",
        "\tS = S + str(x)\n",
        "\n",
        "print(S[n-1])"
      ],
      "execution_count": null,
      "outputs": []
    }
  ]
}