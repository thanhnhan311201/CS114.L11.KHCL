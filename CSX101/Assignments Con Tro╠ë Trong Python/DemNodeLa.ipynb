{
  "nbformat": 4,
  "nbformat_minor": 0,
  "metadata": {
    "colab": {
      "name": "DemNodeLa.ipynb",
      "provenance": [],
      "collapsed_sections": [],
      "include_colab_link": true
    },
    "kernelspec": {
      "name": "python3",
      "display_name": "Python 3"
    }
  },
  "cells": [
    {
      "cell_type": "markdown",
      "metadata": {
        "id": "view-in-github",
        "colab_type": "text"
      },
      "source": [
        "<a href=\"https://colab.research.google.com/github/thanhnhan311201/CS114.L11.KHCL/blob/master/DemNodeLa.ipynb\" target=\"_parent\"><img src=\"https://colab.research.google.com/assets/colab-badge.svg\" alt=\"Open In Colab\"/></a>"
      ]
    },
    {
      "cell_type": "markdown",
      "metadata": {
        "id": "_IBzMKEOQGwi"
      },
      "source": [
        "# Code: Lê Quang Huy.\n",
        "# Tên bài : Đếm Node Lá.\n",
        "# Link: https://khmt.uit.edu.vn/laptrinh/csx101/view_problem/6/51\n",
        "# Đề bài : \n",
        "- Cho một dãy số, hãy cho biết số node lá của cây nhị phân tìm kiếm thu được khi thêm lần lượt các số trong dãy vào cây\n",
        "# Ý tưởng :\n",
        "- Tổ chức cây nhị phân tìm kiếm.\n",
        "- Thêm lần lượt các số từ input vào dãy.\n",
        "- Duyệt tất cả các node trong cây và đếm số node không có node con trái và node con phải."
      ]
    },
    {
      "cell_type": "code",
      "metadata": {
        "id": "vjHIcbWRPzaT"
      },
      "source": [
        "def read(str = 'i'): #return read(\"int\")\n",
        "\tif(str == \"float\"):\n",
        "\t\treturn map(float, input().split())\n",
        "\treturn map(int, input().split())\n",
        "\n",
        "\n",
        "def ReadArr():\n",
        "\treturn [x for x in input().split()]\n",
        "\n",
        "class Node(object):\n",
        "\tdef __init__(self, val):\n",
        "\t\tself.data = val\n",
        "\t\tself.left = None\n",
        "\t\tself.right = None\n",
        "\n",
        "class Tree(object):# class cây tìm kiếm nhị phân.\n",
        "\t\"\"\"docstring for Tree\"\"\"\n",
        "\tdef __init__(self): # khởi tạo cây tìm kiếm nhị phân.\n",
        "\t\tself.root = None\n",
        "\n",
        "\tdef insert(self, val): # Hàm insert dùng để  thêm 1 node vào cây.\n",
        "\t\tif self.root is None:\n",
        "\t\t\tself.root = Node(val)\n",
        "\t\t\treturn\n",
        "\t\telse:\n",
        "\t\t\ttemp = self.root\n",
        "\t\t\twhile temp:\n",
        "\t\t\t\tif temp.data == val:\n",
        "\t\t\t\t\treturn\n",
        "\t\t\t\telif temp.data > val:\n",
        "\t\t\t\t\tif temp.left is None:\n",
        "\t\t\t\t\t\ttemp.left = Node(val)\n",
        "\t\t\t\t\telse:\n",
        "\t\t\t\t\t\ttemp = temp.left \n",
        "\t\t\t\telse:\n",
        "\t\t\t\t\tif temp.right is None:\n",
        "\t\t\t\t\t\ttemp.right = Node(val)\n",
        "\t\t\t\t\telse:\n",
        "\t\t\t\t\t\ttemp = temp.right\n",
        "\n",
        "\tdef __count__(self, root): # Thủ tục đệ quy dùng để  đếm số node lá \n",
        "\t\tif root is None:\n",
        "\t\t\treturn 0\n",
        "\n",
        "\t\tif root.left is None and root.right is None:\n",
        "\t\t\treturn 1\n",
        "\n",
        "\t\treturn self.__count__(root.left) + self.__count__(root.right)\n",
        "\n",
        "\n",
        "\tdef countLeaf(self): \n",
        "\t\treturn self.__count__(self.root)\n",
        "\n",
        "if __name__ == '__main__':\n",
        "\tT = Tree()\n",
        "\n",
        "\twhile True:\n",
        "\t\tn = int(input())\n",
        "\t\tif n == 0:\n",
        "\t\t\tbreak\n",
        "\n",
        "\t\tT.insert(n)\n",
        "\n",
        "\tans = T.countLeaf()\n",
        "\tprint(ans)"
      ],
      "execution_count": null,
      "outputs": []
    }
  ]
}