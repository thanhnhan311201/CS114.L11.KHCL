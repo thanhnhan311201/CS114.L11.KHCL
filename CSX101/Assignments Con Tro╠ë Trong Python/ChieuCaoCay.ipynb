{
  "nbformat": 4,
  "nbformat_minor": 0,
  "metadata": {
    "colab": {
      "name": "ChieuCaoCay.ipynb",
      "provenance": [],
      "collapsed_sections": [],
      "include_colab_link": true
    },
    "kernelspec": {
      "name": "python3",
      "display_name": "Python 3"
    }
  },
  "cells": [
    {
      "cell_type": "markdown",
      "metadata": {
        "id": "view-in-github",
        "colab_type": "text"
      },
      "source": [
        "<a href=\"https://colab.research.google.com/github/thanhnhan311201/CS114.L11.KHCL/blob/master/ChieuCaoCay.ipynb\" target=\"_parent\"><img src=\"https://colab.research.google.com/assets/colab-badge.svg\" alt=\"Open In Colab\"/></a>"
      ]
    },
    {
      "cell_type": "markdown",
      "metadata": {
        "id": "wwKCCc5ASiO2"
      },
      "source": [
        "# Code : Lê Quang Huy.\n",
        "# Tên Bài : Chiều Cao Cây.\n",
        "# Link : https://khmt.uit.edu.vn/laptrinh/csx101/view_problem/6/52.\n",
        "# Đề bài :\n",
        "Cho 1 danh sách với 4 loại truy vấn:\n",
        "- Dạng 0: Dòng bắt đầu bằng con số 0, theo sau là một số nguyên dương < 1000, chương trình cần phải thêm con số này vào đầu danh sách\n",
        "- Dạng 1: Dòng này bắt đầu bằng con số 1, theo sau là một số nguyên dương < 1000, chương trình cần phải thêm con số này vào cuối danh sách\n",
        "- Dạng 2: Dòng này bắt đầu bằng con số 2, theo sau là 2 số nguyên a, b < 1000, chương trình cần tìm vị trí đầu tiên mà số a xuất hiện trong danh sách, sau đó thêm số b vào sau số này. Nếu số a không có trong danh sách, thêm b vào đầu danh sách\n",
        "- Dạng 3: Dòng này bao gồm duy nhất một con số 3. Đây là dòng cuối cùng trong input, báo hiệu input kết thúc.\n",
        "- Sau khi kết thúc chuỗi thao tác trên, thêm lần lượt các số trong danh sách vào Cây tìm kiếm nhị phân thì chiều cao sẽ là bao nhiêu.\n",
        "# Ý tưởng :\n",
        "- Sử dụng deque() trong python làm danh sách để thực hiện các Truy vấn trên danh sách.\n",
        "- Xây dựng cây tìm kiếm nhị phân và thêm lần lượt các phần tử trong danh sách trên vào cây.\n",
        "- Xây dựng hàm tính chiều cao cây."
      ]
    },
    {
      "cell_type": "code",
      "metadata": {
        "id": "d_-C5IbGServ"
      },
      "source": [
        "from collections import *\n",
        "\n",
        "\n",
        "def read(str='i'):  # return read(\"int\")\n",
        "    if(str == \"float\"):\n",
        "        return map(float, input().split())\n",
        "    return map(int, input().split())\n",
        "\n",
        "\n",
        "def ReadArr():\n",
        "    return [int(x) for x in input().split()]\n",
        "\n",
        "\n",
        "class Node(object):\n",
        "    def __init__(self, val):\n",
        "        self.data = val\n",
        "        self.left = None\n",
        "        self.right = None\n",
        "\n",
        "\n",
        "class Tree(object):#Class cây tìm kiếm nhị phân.\n",
        "    \"\"\"docstring for Tree\"\"\"\n",
        "\n",
        "    def __init__(self):\n",
        "        self.root = None\n",
        "\n",
        "    def insert(self, val): #Hàm insert dùng để thêm 1 phần tử vào cây.\n",
        "        if self.root is None:\n",
        "            self.root = Node(val)\n",
        "            return\n",
        "        else:\n",
        "            temp = self.root\n",
        "            while temp:\n",
        "                if temp.data == val:\n",
        "                    return\n",
        "                elif temp.data > val:\n",
        "                    if temp.left is None:\n",
        "                        temp.left = Node(val)\n",
        "                    else:\n",
        "                        temp = temp.left\n",
        "                else:\n",
        "                    if temp.right is None:\n",
        "                        temp.right = Node(val)\n",
        "                    else:\n",
        "                        temp = temp.right\n",
        "\n",
        "    def __countHeight__(self, root): #Thủ tục đệ quy tính chiều cao của cây.\n",
        "        if root is None: # nếu node rỗng thì trả về giá trị 0\n",
        "            return 0\n",
        "\n",
        "        left = self.__countHeight__(root.left) + 1 # Duyệt chiều cao node bên trái\n",
        "        right = self.__countHeight__(root.right) + 1 # Duyệt chiều cao node bên phải.\n",
        "        return max(left, right) # Chiều cao lớn nhất của 2 nhánh sẽ là chiều cao của cây.\n",
        "\n",
        "    def countHeigh(self):# Gọi thủ tục đệ quy trả lời truy vấn chiều cao của cây.\n",
        "        return self.__countHeight__(self.root)\n",
        "\n",
        "\n",
        "if __name__ == '__main__':\n",
        "    T = Tree()\n",
        "    Q = deque()\n",
        "    check = [0]*1000\n",
        "    while True:\n",
        "        a = ReadArr()\n",
        "        if a[0] == 3:\n",
        "            break\n",
        "        elif a[0] == 0:\n",
        "            Q.appendleft(a[1])\n",
        "            check[a[1]] = 1\n",
        "        elif a[0] == 1:\n",
        "            Q.append(a[1])\n",
        "            check[a[1]] = 1\n",
        "        else:\n",
        "            if check[a[1]]:\n",
        "                Q.insert(Q.index(a[1])+1, a[2])\n",
        "            else:\n",
        "                Q.append(a[2])\n",
        "    for x in Q:\n",
        "        T.insert(x)\n",
        "    print(T.countHeigh())"
      ],
      "execution_count": null,
      "outputs": []
    }
  ]
}