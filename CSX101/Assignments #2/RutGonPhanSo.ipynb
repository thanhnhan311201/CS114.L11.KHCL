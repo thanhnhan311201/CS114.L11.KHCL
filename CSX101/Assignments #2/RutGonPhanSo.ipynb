{
  "nbformat": 4,
  "nbformat_minor": 0,
  "metadata": {
    "colab": {
      "name": "RutGonPhanSo.ipynb",
      "provenance": [],
      "collapsed_sections": [],
      "authorship_tag": "ABX9TyNB4T/ky4M+vMO0zewUhvIv",
      "include_colab_link": true
    },
    "kernelspec": {
      "name": "python3",
      "display_name": "Python 3"
    }
  },
  "cells": [
    {
      "cell_type": "markdown",
      "metadata": {
        "id": "view-in-github",
        "colab_type": "text"
      },
      "source": [
        "<a href=\"https://colab.research.google.com/github/thanhnhan311201/CS114.L11.KHCL/blob/master/RutGonPhanSo.ipynb\" target=\"_parent\"><img src=\"https://colab.research.google.com/assets/colab-badge.svg\" alt=\"Open In Colab\"/></a>"
      ]
    },
    {
      "cell_type": "markdown",
      "metadata": {
        "id": "ZIz2uqP-LM5L"
      },
      "source": [
        "# Code: Nguyễn Thành Nghĩa\n",
        "# Tên bài: Rút Gọn Phân Số\n",
        "# Link: https://khmt.uit.edu.vn/laptrinh/csx101/view_problem/2/17\n",
        "# Đề bài:\n",
        "Viết chương trình rút gọn phân số.\n",
        "\n",
        "**Dữ liệu**:\n",
        "- Dòng đầu tiên là một số nguyên n (1≤n≤100) — Số lượng phân số cần rút gọn\n",
        "- n dòng tiếp theo là hai số nguyên a,b(a,b≥1) — a,b lần lượt là tử số và mẫu số.\n",
        "\n",
        "**Kết quả**: Ứng với n dòng, in ra theo thứ tự tử số và mẫu số (cách nhau một khoảng trắng) sau khi rút gọn; mẫu số chỉ được in khi lớn hơn 1.\n",
        "# Ý tưởng:\n",
        "- Sử dụng thư viện fractions để rút gọn phân số\n",
        "- Khi mẫu số lớn hơn 1 in ra cả tử số và mẫu số, ngược lại chỉ in ra tử số"
      ]
    },
    {
      "cell_type": "code",
      "metadata": {
        "id": "-VN6rmjxLL24"
      },
      "source": [
        "# import thư viện fractions\n",
        "from fractions import Fraction\n",
        "\n",
        "n = int(input())\n",
        "if(n>=1 or n <=100):\n",
        "    for i in range(n):\n",
        "        [a,b] = input().split()\n",
        "        x = Fraction(int(a),int(b))\n",
        "        if(x.denominator > 1):\n",
        "            print(x.numerator,\" \",x.denominator)\n",
        "        else:\n",
        "            print(x.numerator)"
      ],
      "execution_count": null,
      "outputs": []
    }
  ]
}