{
  "nbformat": 4,
  "nbformat_minor": 0,
  "metadata": {
    "colab": {
      "name": "KeoCatGiay.ipynb",
      "provenance": [],
      "collapsed_sections": [],
      "authorship_tag": "ABX9TyPGPkg/v1nosy0S/v7NWh23",
      "include_colab_link": true
    },
    "kernelspec": {
      "name": "python3",
      "display_name": "Python 3"
    }
  },
  "cells": [
    {
      "cell_type": "markdown",
      "metadata": {
        "id": "view-in-github",
        "colab_type": "text"
      },
      "source": [
        "<a href=\"https://colab.research.google.com/github/thanhnhan311201/CS114.L11.KHCL/blob/master/KeoCatGiay.ipynb\" target=\"_parent\"><img src=\"https://colab.research.google.com/assets/colab-badge.svg\" alt=\"Open In Colab\"/></a>"
      ]
    },
    {
      "cell_type": "markdown",
      "metadata": {
        "id": "x1qmdfOpQ66c"
      },
      "source": [
        "# Code: Nguyễn Thành Nghĩa\n",
        "# Tên bài: Kéo cắt giấy\n",
        "# Link: https://khmt.uit.edu.vn/laptrinh/csx101/view_problem/2\n",
        "# Đề bài:\n",
        "Để trang trí phòng phục vụ tổ chức sinh nhật cho một người bạn Alice lấy một tờ giấy màu thủ công kẻ ô vuông kích thước n×m (n hàng và m cột), cắt thành hình lò xo xoắn theo hướng phải sang trái và có độ rộng của đường bằng 1:\n",
        "- Bắt đầu từ biên phải cột 0 cắt lên trên cho đến khi cách lề trên một ô,\n",
        "- Cắt sang phải theo đường biên dưới cho đến khi cách lề phải một ô,\n",
        "- Cắt xuống dưới, rồi sang trái, sau đó lên trên,  . . . để có băng giấy độ rộng 1 ô,\n",
        "- Quá trình cắt sẽ dừng khi không cách cắt tiếp mà không làm đứt băng giấy.\n",
        "\n",
        "Hãy tính tổng độ dài đường cắt theo đơn vị ô.\n",
        "\n",
        "**Dữ liệu**: Vào từ thiết bị nhập chuẩn gồm một dòng chứa 2 số nguyên n và m (2 ≤ n, m ≤ 109).\n",
        "\n",
        "**Kết quả**: Đưa ra thiết bị xuất chuẩn một số nguyên – độ dài đường cắt.\n",
        "#Ý tưởng: \n",
        "- Quá trình cắt giấy dừng lại khi cạnh nhỏ nhất của tờ giấy nxm bằng 1\n",
        "- Tính tổng các cạnh cắt từ cạnh nhỏ nhất đến khi cạnh đó bằng 1 \n",
        "- Lần cắt của cạnh lớn hơn bắt đầu từ cạnh đó -2 đến khi cắt đúng số lần cạnh nhỏ hơn đã cắt\n"
      ]
    },
    {
      "cell_type": "code",
      "metadata": {
        "id": "LXNqYTorRO3Z"
      },
      "source": [
        "# hàm tính tổng các số từ a đến b\n",
        "def TinhTong_a2b(a,b):\n",
        "\treturn b*(b+1)//2 - a*(a-1)//2\n",
        "\n",
        "[n,m] = input().split()\n",
        "n = int(n)\n",
        "m = int(m)\n",
        "a = min(m,n)\n",
        "b = max(m,n)\n",
        "print(int(TinhTong_a2b(1,a-1)+TinhTong_a2b(b-a,b-2)))"
      ],
      "execution_count": null,
      "outputs": []
    }
  ]
}