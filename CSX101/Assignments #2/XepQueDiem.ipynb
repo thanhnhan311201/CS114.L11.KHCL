{
  "nbformat": 4,
  "nbformat_minor": 0,
  "metadata": {
    "colab": {
      "name": "XepQueDiem.ipynb",
      "provenance": [],
      "collapsed_sections": [],
      "authorship_tag": "ABX9TyNNtvLk8S5Etj+nnPnbQTvz",
      "include_colab_link": true
    },
    "kernelspec": {
      "name": "python3",
      "display_name": "Python 3"
    }
  },
  "cells": [
    {
      "cell_type": "markdown",
      "metadata": {
        "id": "view-in-github",
        "colab_type": "text"
      },
      "source": [
        "<a href=\"https://colab.research.google.com/github/thanhnhan311201/CS114.L11.KHCL/blob/master/XepQueDiem.ipynb\" target=\"_parent\"><img src=\"https://colab.research.google.com/assets/colab-badge.svg\" alt=\"Open In Colab\"/></a>"
      ]
    },
    {
      "cell_type": "markdown",
      "metadata": {
        "id": "-6h7I0yZ8IwY"
      },
      "source": [
        "# Code: Nguyễn Thành Nghĩa\n",
        "# Tên bài: Xếp Que Diêm\n",
        "# Link: https://khmt.uit.edu.vn/laptrinh/csx101/view_problem/2/22\n",
        "# Đề bài:\n",
        "Một phương trình đúng (PTĐ) được định nghĩa là phương trình có dạng \n",
        "a + b = c, trong đó a,b,c>0.\n",
        "\n",
        "Ví dụ: phương trình 2+2=4 (| | + | | = | | | |) và 1+2=3 (| + | | = | | |) là PTĐ.\n",
        "\n",
        "Còn 1+2=4 (| + | | = | | | |), 2+2=3 (| | + | | = | | |) và 0+1=1 ( + | = |) không phải là PTĐ.\n",
        "\n",
        "Bây giờ bạn có n que diêm. Bạn muốn sử dụng tất cả số que diêm đó để xếp thành một PTĐ. Không may thay, có một số trường hợp bạn không thể xếp được nếu bạn dùng tất cả n que diêm. Nhưng nếu bạn ra chợ mua thêm k que diêm nữa thì bạn có thể xếp được.\n",
        "\n",
        "Ví dụ, n=2, bạn cần mua thêm 2 cây diêm nữa để xếp thành | + | = | |.n=5, bạn cần mua thêm 1 cây diêm nữa để xếp thành | | + | = | | |.\n",
        "\n",
        "Nhiệm vụ của bạn là tìm ra số que diêm cần mua ít nhất để có thể xếp thành PTĐ.\n",
        "\n",
        "**Dữ liệu**:\n",
        "- Dòng đầu tiên là một số nguyên q (1≤q≤100) — số lượng testcase. \n",
        "\n",
        "- q dòng tiếp theo, mỗi dòng là một số nguyên n (2≤n≤109) — số lượng que diêm có ban đầu.\n",
        "\n",
        "**Kết quả**: Với mỗi testcase xuất ra trên một dòng số lượng que diêm tối thiểu cần phải mua để có thể xếp thành PTĐ.\n",
        "# Ý tưởng:\n",
        "- Số lượng que diêm tối thiểu để có 1 phương trình đúng là 4 ( | + | = ||), nếu testcase: n < 4 thì trả về (4 - n),\n",
        "- Ngược lại ta có thể thấy một số chẵn n >= 4 luôn có thể phân tích được thành phương trình đúng: (n-4)/2 + 2 = 2 + (n-4)/2,\n",
        "- Nếu testcase n là một số lẻ, ta cộng thêm 1."
      ]
    },
    {
      "cell_type": "code",
      "metadata": {
        "id": "GByaJ9kz8EHq",
        "outputId": "dfe93974-5d7f-416c-8aba-ca9abdc21ffd",
        "colab": {
          "base_uri": "https://localhost:8080/"
        }
      },
      "source": [
        "# Hàm tìm số que diêm cần mua thêm ít nhất\n",
        "def Finding(n):\n",
        "  # n < 4 thì trả về (4 - n)\n",
        "\tx = n - 4\n",
        "\tif x < 0:\n",
        "\t\treturn  abs(x)\n",
        "  # nếu n là một số chẵn, không cần thêm nữa, ngược lại cần mua thêm 1 que diêm\n",
        "\tif n % 2 == 0:\n",
        "\t\treturn 0\n",
        "\treturn 1\n",
        "\n",
        "q = int(input())\n",
        "\n",
        "for i in range(q):\n",
        "\tn = int(input())\n",
        "\tprint(Finding(n))"
      ],
      "execution_count": null,
      "outputs": [
        {
          "output_type": "stream",
          "text": [
            "2\n",
            "2\n",
            "2\n",
            "4\n",
            "0\n"
          ],
          "name": "stdout"
        }
      ]
    }
  ]
}