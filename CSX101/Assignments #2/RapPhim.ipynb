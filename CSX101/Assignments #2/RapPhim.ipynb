{
  "nbformat": 4,
  "nbformat_minor": 0,
  "metadata": {
    "colab": {
      "name": "RapPhim.ipynb",
      "provenance": [],
      "collapsed_sections": [],
      "authorship_tag": "ABX9TyP10WY3mpky2TJ7g6M5L2dm",
      "include_colab_link": true
    },
    "kernelspec": {
      "name": "python3",
      "display_name": "Python 3"
    }
  },
  "cells": [
    {
      "cell_type": "markdown",
      "metadata": {
        "id": "view-in-github",
        "colab_type": "text"
      },
      "source": [
        "<a href=\"https://colab.research.google.com/github/thanhnhan311201/CS114.L11.KHCL/blob/master/RapPhim.ipynb\" target=\"_parent\"><img src=\"https://colab.research.google.com/assets/colab-badge.svg\" alt=\"Open In Colab\"/></a>"
      ]
    },
    {
      "cell_type": "markdown",
      "metadata": {
        "id": "f-4IGqToA1vP"
      },
      "source": [
        "# Code: Nguyễn Thành Nghĩa\n",
        "# Tên bài: Rạp phim\n",
        "# Link: https://khmt.uit.edu.vn/laptrinh/csx101/view_problem/2/19\n",
        "# Đề bài:\n",
        "Một rạp phim có diện tích sàn là n x m. Nhân lễ kỉ niệm, người ta cần lót gạch cho sàn của rạp bằng các viên gạch hình vuông với cạnh có kích thước là a. Xác định số lượng viên gạch cần ít nhất để phủ toàn bộ sàn, biết rằng diện tích toàn bộ số gạch được dùng có thể lớn hơn diện tích thực tế của sàn và các viên gạch phải được giữ nguyên, không được cắt ra.\n",
        "\n",
        "**Dữ liệu**: Ba số nguyên dương n, m, a\n",
        "\n",
        "**Kết quả**: Số lượng gạch ít nhất cần để lót sàn.\n",
        "# Ý tưởng:\n",
        "- Tìm phần nguyên của [m/a] và [n/a], nếu m/a hay n/a không chia hết cho a thì lấy phần nguyên của m/a hay n/a cộng thêm 1\n",
        "- Diện tích nhỏ nhất cần tìm bằng tích 2 kết quả vừa tìm được"
      ]
    },
    {
      "cell_type": "code",
      "metadata": {
        "id": "HtJOXV-0A0cH"
      },
      "source": [
        "# Hàm tìm số lượng gạch ít nhất cần để lót sàn\n",
        "def Finding(n, m, a):\n",
        "\tn = n/a\n",
        "\tm = m/a\n",
        "  # Tìm phần nguyên của [m/a] và [n/a], nếu m/a hay n/a không chia hết cho a thì lấy phần nguyên của m/a hay n/a cộng thêm 1\n",
        "\tif n != round(n):\n",
        "\t\tn = int(n)+1\n",
        "\tif m != round(m):\n",
        "\t\tm = int(m)+1\n",
        "  # Diện tích nhỏ nhất bằng tích 2 kết quả vừa tìm được\n",
        "\treturn int(m*n)\n",
        "\n",
        "a = input().split()\n",
        "for i in range(len(a)):\n",
        "\ta[i] = int(a[i])\n",
        "\n",
        "print(Finding(a[0],a[1],a[2]))"
      ],
      "execution_count": null,
      "outputs": []
    }
  ]
}