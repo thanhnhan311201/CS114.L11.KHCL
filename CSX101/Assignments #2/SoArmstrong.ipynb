{
  "nbformat": 4,
  "nbformat_minor": 0,
  "metadata": {
    "colab": {
      "name": "SoArmstrong.ipynb",
      "provenance": [],
      "collapsed_sections": [],
      "authorship_tag": "ABX9TyNo/Ke/GVBi5N1eiICQOv6n",
      "include_colab_link": true
    },
    "kernelspec": {
      "name": "python3",
      "display_name": "Python 3"
    }
  },
  "cells": [
    {
      "cell_type": "markdown",
      "metadata": {
        "id": "view-in-github",
        "colab_type": "text"
      },
      "source": [
        "<a href=\"https://colab.research.google.com/github/thanhnhan311201/CS114.L11.KHCL/blob/master/SoArmstrong.ipynb\" target=\"_parent\"><img src=\"https://colab.research.google.com/assets/colab-badge.svg\" alt=\"Open In Colab\"/></a>"
      ]
    },
    {
      "cell_type": "markdown",
      "metadata": {
        "id": "CVdgF0HTIKgm"
      },
      "source": [
        "# Code: Nguyễn Thành Nghĩa\n",
        "# Tên bài: Số Armstrong\n",
        "# Link: https://khmt.uit.edu.vn/laptrinh/csx101/view_problem/2/11\n",
        "# Đề bài:\n",
        "Kiểm tra Số Armstrong (Số Armstrong là số có K chữ số và tổng lũy thừa bậc K của các chữ số bằng chính nó)\n",
        "\n",
        "**Dữ liệu**: Một số nguyên không âm\n",
        "\n",
        "**Kết quả**: Xuất True nếu số nhập vào là số Armstrong, ngược lại False\n",
        "# Ý tưởng:\n",
        "- Tính tổng luỹ thừa bậc K của các số có trong K\n",
        "- Tổng tìm được nếu bằng K xuất True, ngược lại xuất False"
      ]
    },
    {
      "cell_type": "code",
      "metadata": {
        "id": "uxxCfgtpII57"
      },
      "source": [
        "# Hàm kiểm tra số Armstrong\n",
        "def Armstrong(k):\n",
        "    s = 0;\n",
        "    # Tính tổng luỹ thừa bậc K của các số có trong K\n",
        "    for i in range(len(k)):\n",
        "        s = s + int(k[i])**len(k)\n",
        "    # Tổng tìm được nếu bằng K xuất True, ngược lại xuất False\n",
        "    if str(s) == k:\n",
        "        return True\n",
        "    return False\n",
        "\n",
        "k = input()\n",
        "print(Armstrong(k))"
      ],
      "execution_count": null,
      "outputs": []
    }
  ]
}