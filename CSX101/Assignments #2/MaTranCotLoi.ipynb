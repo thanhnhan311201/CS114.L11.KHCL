{
  "nbformat": 4,
  "nbformat_minor": 0,
  "metadata": {
    "colab": {
      "name": "MaTranCotLoi.ipynb",
      "provenance": [],
      "collapsed_sections": [],
      "authorship_tag": "ABX9TyP+IStCJeOGWEpJcLS9YbM2",
      "include_colab_link": true
    },
    "kernelspec": {
      "name": "python3",
      "display_name": "Python 3"
    }
  },
  "cells": [
    {
      "cell_type": "markdown",
      "metadata": {
        "id": "view-in-github",
        "colab_type": "text"
      },
      "source": [
        "<a href=\"https://colab.research.google.com/github/thanhnhan311201/CS114.L11.KHCL/blob/master/MaTranCotLoi.ipynb\" target=\"_parent\"><img src=\"https://colab.research.google.com/assets/colab-badge.svg\" alt=\"Open In Colab\"/></a>"
      ]
    },
    {
      "cell_type": "markdown",
      "metadata": {
        "id": "LD9Uvx_m57tq"
      },
      "source": [
        "# Code: Nguyễn Thành Nghĩa\n",
        "# Tên bài: Ma trận cốt lõi\n",
        "# Link: https://khmt.uit.edu.vn/laptrinh/csx101/view_problem/2/9\n",
        "# Đề bài:\n",
        "Bình có một ma trận 5x5, bao gồm 24 số không và 1 số một với thứ tự ngẫu nhiên. Chỉ số các hàng và cột của ma trận được đánh số lần lượt từ 1 đến 5.\n",
        "\n",
        "Bình là một người rất kĩ tính và chỉ thích những thứ gì cân bằng và đồng đều. Chính vì vậy, anh ấy chỉ thích các ma trận mà có vị trí số một nằm ở giữa. Các bước hợp lệ để thay đổi một ma trận bao gồm: hoán vị hai hàng liền kề của ma trận và hoán vị hai cột liền kề của ma trận.\n",
        "\n",
        "Hãy giúp Bình tìm số bước hợp lệ tối thiểu để biến một ma trận thỏa mãn sở thích của anh ấy.\n",
        "\n",
        "**Dữ liệu**: Một ma trận 5x5 chứa 24 số không và 1 số một.\n",
        "\n",
        "**Kết quả**: Số bước hợp lệ tối thiểu để biến đổi ma trận.\n",
        "# Ý tưởng:\n",
        "- TÌm vị trí của số 1 trong ma trận\n",
        "- Tính số bước bằng tổng toạ độ của vector có điểm bắt đầu từ vị trí giữa ma trận đến vị trí có số 1"
      ]
    },
    {
      "cell_type": "code",
      "metadata": {
        "id": "gmKLKSPP6DkG"
      },
      "source": [
        "# Tìm vị trí của số 1 trong ma trận\n",
        "pos1 = (0,0)\n",
        "for i in range(5):\n",
        "\tmaxtrix = input().split()\n",
        "\tfor j in range(5):\n",
        "\t\tif(maxtrix[j] == '1'):\n",
        "\t\t\tpos1 = (i,j)\n",
        "\t\t\tbreak\n",
        "# Tính số bước bằng tổng toạ độ của vector có điểm bắt đầu từ vị trí giữa ma trận đến vị trí có số 1, sau đó in ra\n",
        "print(abs(pos1[0]-2) + abs(pos1[1]-2))"
      ],
      "execution_count": null,
      "outputs": []
    }
  ]
}