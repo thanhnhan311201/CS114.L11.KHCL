{
  "nbformat": 4,
  "nbformat_minor": 0,
  "metadata": {
    "colab": {
      "name": "SoGanNhuMayMan.ipynb",
      "provenance": [],
      "collapsed_sections": [],
      "authorship_tag": "ABX9TyPgiDAwGPY0nyENqHZpU1IU",
      "include_colab_link": true
    },
    "kernelspec": {
      "name": "python3",
      "display_name": "Python 3"
    }
  },
  "cells": [
    {
      "cell_type": "markdown",
      "metadata": {
        "id": "view-in-github",
        "colab_type": "text"
      },
      "source": [
        "<a href=\"https://colab.research.google.com/github/thanhnhan311201/CS114.L11.KHCL/blob/master/SoGanNhuMayMan.ipynb\" target=\"_parent\"><img src=\"https://colab.research.google.com/assets/colab-badge.svg\" alt=\"Open In Colab\"/></a>"
      ]
    },
    {
      "cell_type": "markdown",
      "metadata": {
        "id": "1wdu0kC_2_W_"
      },
      "source": [
        "# Code: Nguyễn Thành Nghĩa\n",
        "# Tên bài: Số gần như may mắn\n",
        "# Link: https://khmt.uit.edu.vn/laptrinh/csx101/view_problem/2/10\n",
        "# Đề bài:\n",
        "Số may mắn là các số nguyên dương chỉ chứa các chữ số là 4 hoặc 7.\n",
        "\n",
        "Bình thích sự may mắn, tuy nhiên số lượng số may mắn không nhiều. Chính vì thế, Bình định nghĩa ra một loại số mới, gọi là số gần may mắn với điều kiện số chữ số may mắn trong số đó là một số may mắn.\n",
        "\n",
        "**Dữ liệu**:Một số nguyên dương n (n <= 1018).\n",
        "\n",
        "**Kết quả**: In ra YES nếu số đó là một số gần may mắn, ngược lại in NO.\n",
        "# Ý tưởng: \n",
        "Đếm số lượng số may mắn có trong n, và trả về kết quả theo yêu cầu đề bài.\n"
      ]
    },
    {
      "cell_type": "code",
      "metadata": {
        "id": "2cIHgZV43Cpo"
      },
      "source": [
        "# Nhập số nguyên dương n\n",
        "s = input()\n",
        "# Đếm số lượng số may mắn có trong n\n",
        "count = 0\n",
        "for i in range(len(s)):\n",
        "\tif s[i]=='7' or s[i]== '4':\n",
        "\t\tcount +=1\n",
        "# In ra YES nếu số lượng số may mắn là 7 hoặc 4, ngược lại in ra No\n",
        "if count == 7 or count == 4:\n",
        "\tprint(\"YES\")\n",
        "else:\n",
        "\tprint(\"NO\")"
      ],
      "execution_count": null,
      "outputs": []
    }
  ]
}