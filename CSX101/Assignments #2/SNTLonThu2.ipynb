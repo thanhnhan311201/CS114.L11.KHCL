{
  "nbformat": 4,
  "nbformat_minor": 0,
  "metadata": {
    "colab": {
      "name": "SNTLonThu2.ipynb",
      "provenance": [],
      "collapsed_sections": [],
      "authorship_tag": "ABX9TyOQOr7t5BsBXFOJlQcn0wrB",
      "include_colab_link": true
    },
    "kernelspec": {
      "name": "python3",
      "display_name": "Python 3"
    }
  },
  "cells": [
    {
      "cell_type": "markdown",
      "metadata": {
        "id": "view-in-github",
        "colab_type": "text"
      },
      "source": [
        "<a href=\"https://colab.research.google.com/github/thanhnhan311201/CS114.L11.KHCL/blob/master/SNTLonThu2.ipynb\" target=\"_parent\"><img src=\"https://colab.research.google.com/assets/colab-badge.svg\" alt=\"Open In Colab\"/></a>"
      ]
    },
    {
      "cell_type": "markdown",
      "metadata": {
        "id": "v3sOQcWNDghj"
      },
      "source": [
        "# Code: Nguyễn Thành Nghĩa\n",
        "# Tên bài: Số Nguyên Tố Lớn Thứ 2\n",
        "# Link: https://khmt.uit.edu.vn/laptrinh/csx101/view_problem/2/32\n",
        "# Đề bài:\n",
        "Số nguyên tố là số nguyên lớn hơn 1, chỉ chia hết cho 1 và chính nó.\n",
        "\n",
        "Yêu cầu: cho số nguyên dương N, hãy chỉ ra số nguyên tố lớn thứ 2 không vượt quá N.\n",
        "\n",
        "Ví dụ: với N = 10, số nguyên tố lớn thứ 2 không vượt quá 10 là 5\n",
        "\n",
        "**Dữ liệu**: nhập từ thiết bị nhập chuẩn gồm 1 số nguyên dương N (3 < N ≤ 1014)\n",
        "\n",
        "**Kết quả**: ghi ra thiết bị xuất chuẩn số tìm được.\n",
        "# Ý tưởng: \n",
        " Lùi dần từ N mỗi lần một đơn vị đến khi gặp được số nguyên tố thứ 2"
      ]
    },
    {
      "cell_type": "code",
      "metadata": {
        "id": "vqGoZj7hDajP"
      },
      "source": [
        "# Hàm kiểm tra số nguyên tố\n",
        "def isPrime(n):\n",
        "    if(n < 2):\n",
        "        return False\n",
        "    if(n==2):\n",
        "        return True\n",
        "    if n%2 == 0:\n",
        "        return False\n",
        "    i = 3\n",
        "    while i*i <= n:\n",
        "        if(n % i == 0):\n",
        "            return False\n",
        "        i = i+ 2;\n",
        "    return True\n",
        "\n",
        "n = int(input())\n",
        "dem = 0\n",
        "# lùi dần N mỗi lần 1 đơn vị đến khi biến dem = 2\n",
        "while(dem < 2):\n",
        "    if(isPrime(n)):\n",
        "        dem +=1\n",
        "    n-=1\n",
        "# Kết thúc vòng lặp số nguyên tố cần tìm bị lùi mất 1 đơn vị nên cần cộng thêm vào\n",
        "print(n+1)"
      ],
      "execution_count": null,
      "outputs": []
    }
  ]
}