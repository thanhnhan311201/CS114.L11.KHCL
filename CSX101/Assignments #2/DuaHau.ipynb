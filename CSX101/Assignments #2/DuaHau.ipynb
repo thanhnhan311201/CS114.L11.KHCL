{
  "nbformat": 4,
  "nbformat_minor": 0,
  "metadata": {
    "colab": {
      "name": "DuaHau.ipynb",
      "provenance": [],
      "collapsed_sections": [],
      "authorship_tag": "ABX9TyM25WCYKUph4zXuNxtKKPZp",
      "include_colab_link": true
    },
    "kernelspec": {
      "name": "python3",
      "display_name": "Python 3"
    }
  },
  "cells": [
    {
      "cell_type": "markdown",
      "metadata": {
        "id": "view-in-github",
        "colab_type": "text"
      },
      "source": [
        "<a href=\"https://colab.research.google.com/github/thanhnhan311201/CS114.L11.KHCL/blob/master/DuaHau.ipynb\" target=\"_parent\"><img src=\"https://colab.research.google.com/assets/colab-badge.svg\" alt=\"Open In Colab\"/></a>"
      ]
    },
    {
      "cell_type": "markdown",
      "metadata": {
        "id": "Pb1LUNVtCbQg"
      },
      "source": [
        "# Code: Nguyễn Thành Nghĩa\n",
        "# Tên bài: Dưa Hấu\n",
        "# Link: https://khmt.uit.edu.vn/laptrinh/csx101/view_problem/2/18\n",
        "# Đề bài:\n",
        "An và Bình rất thích ăn dưa hấu vì thế họ đi ra chợ chọn mua một trái to và chín nhất.  Về đến nhà, một vấn đề nảy sinh đó là việc chia phần trái dưa hấu cho cả 2, không chỉ thế, do 2 người bạn chỉ thích những con số chẵn, vì thế cần chia quả dưa hấu làm sao cho mỗi phần có khối lượng là một con số chẵn. Hãy giúp An và Bình kiểm tra xem có thể chia quả dưa hấu này hay không.\n",
        "\n",
        "**Dữ liệu**: Một số nguyên không âm\n",
        "\n",
        "**Kết quả**: Xuất YES nếu có thể chia, ngược lại NO\n",
        "# Ý tưởng: \n",
        " Tất cả số chẵn chia cho 2 đều là số chẵn trừ số 2"
      ]
    },
    {
      "cell_type": "code",
      "metadata": {
        "id": "uLdNKu0LCZVe"
      },
      "source": [
        "x = int(input())\n",
        "# Kiểm tra nếu số nhập vào là số chẵn và khác 2 thì in ra YES, ngược lại in ra NO\n",
        "if(x%2==0 and x!= 2):\n",
        "    print(\"YES\")\n",
        "else:\n",
        "    print(\"NO\")"
      ],
      "execution_count": null,
      "outputs": []
    }
  ]
}