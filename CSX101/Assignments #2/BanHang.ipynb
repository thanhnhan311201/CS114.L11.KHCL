{
  "nbformat": 4,
  "nbformat_minor": 0,
  "metadata": {
    "colab": {
      "name": "BanHang.ipynb",
      "provenance": [],
      "collapsed_sections": [],
      "authorship_tag": "ABX9TyPNrxwW7mwcEMSopsSidjGC",
      "include_colab_link": true
    },
    "kernelspec": {
      "name": "python3",
      "display_name": "Python 3"
    }
  },
  "cells": [
    {
      "cell_type": "markdown",
      "metadata": {
        "id": "view-in-github",
        "colab_type": "text"
      },
      "source": [
        "<a href=\"https://colab.research.google.com/github/thanhnhan311201/CS114.L11.KHCL/blob/master/BanHang.ipynb\" target=\"_parent\"><img src=\"https://colab.research.google.com/assets/colab-badge.svg\" alt=\"Open In Colab\"/></a>"
      ]
    },
    {
      "cell_type": "markdown",
      "metadata": {
        "id": "_CwBOSlWFO-7"
      },
      "source": [
        "# Code: Nguyễn Thành Nghĩa\n",
        "# Tên bài: Bán Hàng\n",
        "# Link: https://khmt.uit.edu.vn/laptrinh/csx101/view_problem/2/14\n",
        "# Đề bài:\n",
        "Nam đang là quản lí một cửa hàng nhỏ trong thị trấn. Cửa hàng của Nam có \n",
        "n\n",
        " hàng hóa, mỗi hàng hóa thứ \n",
        "i\n",
        " có giá \n",
        "a\n",
        "i\n",
        " đồng,\n",
        "\n",
        "Mỗi ngày, có rất nhiều khách hàng ghé cửa hàng của Nam và liên tục hỏi giá của từng sản phẩm. Do có quá nhiều hàng hóa nên Nam không thể nào nhớ hết giá của chúng. Vì thế, Nam đã quyết định bán đồng giá tất cả các hàng hóa trong cửa hàng của mình.\n",
        "\n",
        "Tuy nhiên, để không lỗ vốn, Nam muốn sau khi tất cả \n",
        "n\n",
        "  hàng hóa trong cửa hàng được bán hết thì thu được tổng số tiền bằng (hoặc lớn hơn) so với tổng giá hàng hóa bán với giá gốc.\n",
        "\n",
        "Mặt khác, Nam không muốn mất khách nếu giá bán quá lớn. Vì vậy, Nam phải bán \n",
        "n\n",
        " hàng hóa với giá tối thiểu sao cho tổng số tiền thu được sau khi bán hết hàng hóa có trong cửa hàng phải bằng (hoặc lớn hơn tối thiểu) so với tổng giá hàng hóa bán với giá gốc.\n",
        "\n",
        "Với mỗi testcase các bạn hãy giúp Nam tìm ra giá bán phù hợp.\n",
        "\n",
        "**Dữ liệu**: Dòng đầu tiên là một số nguyên \n",
        "q \n",
        "(\n",
        "1\n",
        "≤\n",
        "q\n",
        "≤\n",
        "100\n",
        ")\n",
        "— số lượng testcase. Theo sau mỗi \n",
        "q\n",
        " dòng là:\n",
        "\n",
        "Dòng đầu tiên của testcase là một số nguyên \n",
        "n  (\n",
        "1\n",
        "≤\n",
        "n\n",
        "≤\n",
        "100\n",
        ")\n",
        " — số lượng hàng hóa. Dòng thứ hai gồm \n",
        "n\n",
        "  số nguyên \n",
        "a\n",
        "1\n",
        ",\n",
        "a\n",
        "2\n",
        ",\n",
        ".\n",
        ".\n",
        ".\n",
        ",\n",
        "a\n",
        "n\n",
        "(\n",
        "1\n",
        "≤\n",
        "a\n",
        "i\n",
        "≤\n",
        "10\n",
        "7\n",
        ")\n",
        " — a\n",
        "i\n",
        " giá gốc của hàng hóa thứ \n",
        "i\n",
        ".\n",
        "\n",
        "**Kết quả**: Với mỗi testcase in ra giá bán đồng giá tối thiểu của \n",
        "n\n",
        " hàng hóa sao cho tổng số tiền thu được sau khi bán hết hàng hóa có trong cửa hàng phải bằng (hoặc lớn hơn tối thiểu) so với tổng giá hàng hóa bán với giá gốc.\n",
        "# Ý tưởng:\n",
        "- Tính trung bình giá của tất cả mặt hàng trong mỗi testcase\n",
        "- Với mỗi kết quả tìm được lấy phần nguyên của nó là giá bán đồng giá các mặt hàng cần tìm\n",
        "\n",
        "\n",
        "\n",
        "\n"
      ]
    },
    {
      "cell_type": "code",
      "metadata": {
        "id": "hRuRxtmHFAwK"
      },
      "source": [
        "q = int(input())\n",
        "\n",
        "for i in range(q):\n",
        "    n = int(input())\n",
        "    a = input().split()\n",
        "    # Tính trung bình giá của tất cả mặt hàng\n",
        "    for z in range(len(a)):\n",
        "        a[z] = int(a[z])\n",
        "    s = sum(a)/len(a)\n",
        "    # Lấy phần nguyên của trung bình giá vừa tìm được\n",
        "    if s != round(s):\n",
        "        s+=1\n",
        "    print(int(s))"
      ],
      "execution_count": null,
      "outputs": []
    }
  ]
}
