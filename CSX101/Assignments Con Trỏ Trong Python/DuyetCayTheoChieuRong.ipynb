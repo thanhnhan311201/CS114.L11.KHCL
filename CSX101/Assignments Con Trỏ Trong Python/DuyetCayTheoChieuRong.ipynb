{
  "nbformat": 4,
  "nbformat_minor": 0,
  "metadata": {
    "colab": {
      "name": "DuyetCayTheoChieuRong.ipynb",
      "provenance": [],
      "collapsed_sections": [],
      "include_colab_link": true
    },
    "kernelspec": {
      "name": "python3",
      "display_name": "Python 3"
    }
  },
  "cells": [
    {
      "cell_type": "markdown",
      "metadata": {
        "id": "view-in-github",
        "colab_type": "text"
      },
      "source": [
        "<a href=\"https://colab.research.google.com/github/thanhnhan311201/CS114.L11.KHCL/blob/master/DuyetCayTheoChieuRong.ipynb\" target=\"_parent\"><img src=\"https://colab.research.google.com/assets/colab-badge.svg\" alt=\"Open In Colab\"/></a>"
      ]
    },
    {
      "cell_type": "markdown",
      "metadata": {
        "id": "jrJb6-WhVmyT"
      },
      "source": [
        "# Code : Lê Quang Huy.\n",
        "# Tên Bài : Duyệt cây theo chiều rộng.\n",
        "# Link : https://khmt.uit.edu.vn/laptrinh/csx101/view_problem/6/53\n",
        "# Đề  bài : \n",
        "- Cho một dãy số. Lần lượt thêm các số trong dãy vào một cây nhị phân tìm kiếm, sau đó duyệt và xuất cây ra màn hình theo thứ tự duyệt theo chiều rộng (các node có mức thấp được xuất trước, đối với các node có cùng mức xuất node có giá trị nhỏ trước)\n",
        "- VD      \n",
        "           10\n",
        "          /  \\\n",
        "         7    20\n",
        "        / \\  \n",
        "       1  8 \n",
        " Sẽ được xuất ra thành : 10 7 20 1 8"
      ]
    },
    {
      "cell_type": "code",
      "metadata": {
        "id": "mcoV9u-7Vi--"
      },
      "source": [
        "from collections import *\n",
        "\n",
        "\n",
        "def read(str='i'):  # return read(\"int\")\n",
        "    if(str == \"float\"):\n",
        "        return map(float, input().split())\n",
        "    return map(int, input().split())\n",
        "\n",
        "\n",
        "def ReadArr():\n",
        "    return [x for x in input().split()]\n",
        "\n",
        "\n",
        "class Node(object):\n",
        "    def __init__(self, val):\n",
        "        self.data = val\n",
        "        self.left = None\n",
        "        self.right = None\n",
        "\n",
        "\n",
        "class Tree(object):\n",
        "    \"\"\"docstring for Tree\"\"\"\n",
        "\n",
        "    def __init__(self):\n",
        "        self.root = None\n",
        "\n",
        "    def insert(self, val):\n",
        "        if self.root is None:\n",
        "            self.root = Node(val)\n",
        "            return\n",
        "        else:\n",
        "            temp = self.root\n",
        "            while temp:\n",
        "                if temp.data == val:\n",
        "                    return\n",
        "                elif temp.data > val:\n",
        "                    if temp.left is None:\n",
        "                        temp.left = Node(val)\n",
        "                    else:\n",
        "                        temp = temp.left\n",
        "                else:\n",
        "                    if temp.right is None:\n",
        "                        temp.right = Node(val)\n",
        "                    else:\n",
        "                        temp = temp.right\n",
        "\n",
        "    def printLeaf(self):\n",
        "        Queue = deque()\n",
        "        Queue.append(self.root)\n",
        "        while len(Queue):\n",
        "            temp = Queue[0]\n",
        "            print(temp.data, end=\" \")\n",
        "            if temp.left:\n",
        "                Queue.append(temp.left)\n",
        "            if temp.right:\n",
        "                Queue.append(temp.right)\n",
        "            Queue.popleft()\n",
        "        print()\n",
        "\n",
        "\n",
        "if __name__ == '__main__':\n",
        "    T = Tree()\n",
        "\n",
        "    while True:\n",
        "        n = int(input())\n",
        "        if n == 0:\n",
        "            break\n",
        "\n",
        "        T.insert(n)\n",
        "\n",
        "    T.printLeaf()\n"
      ],
      "execution_count": null,
      "outputs": []
    }
  ]
}