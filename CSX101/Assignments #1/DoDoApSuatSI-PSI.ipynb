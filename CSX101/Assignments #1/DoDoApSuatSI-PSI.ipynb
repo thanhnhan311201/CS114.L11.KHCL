{
  "nbformat": 4,
  "nbformat_minor": 0,
  "metadata": {
    "colab": {
      "name": " Độ đo áp suất SI/PSI.ipynb",
      "provenance": [],
      "authorship_tag": "ABX9TyPp5hIhaQLANpess99daGVS",
      "include_colab_link": true
    },
    "kernelspec": {
      "name": "python3",
      "display_name": "Python 3"
    }
  },
  "cells": [
    {
      "cell_type": "markdown",
      "metadata": {
        "id": "view-in-github",
        "colab_type": "text"
      },
      "source": [
        "<a href=\"https://colab.research.google.com/github/thanhnhan311201/CS114.L11.KHCL/blob/master/%C4%90%E1%BB%99_%C4%91o_%C3%A1p_su%E1%BA%A5t_SI_PSI.ipynb\" target=\"_parent\"><img src=\"https://colab.research.google.com/assets/colab-badge.svg\" alt=\"Open In Colab\"/></a>"
      ]
    },
    {
      "cell_type": "markdown",
      "metadata": {
        "id": "fxxDQKFraijS"
      },
      "source": [
        "# Code: Phan Nguyễn Thành Nhân\n",
        "\n",
        "# Tên bài:  Độ đo áp suất SI/PSI\n",
        "\n",
        "# Link: https://khmt.uit.edu.vn/laptrinh/csx101/view_problem/1/5\n",
        "\n",
        "# Đề bài:\n",
        "\n",
        "Tìm ra áp suất chất lỏng/khí và cách đo đạt chúng là một vấn đề nghiên cứu vật lý thực nghiệm từng làm đau đầu nhiều nhà khoa học thời trung cổ. Đã có nhiều nhà khoa học khác nhau đề xuất các thang đo khác nhau. Tuy nhiên ngày nay một đơn vị đo áp suất phổ thông mà dễ hiểu là tính lực tác động (theo khối lượng) chia cho diện tích. Khổ nổi trong hệ đo lường quốc tế (SI) và hệ đo Imperial phổ biến ở Mỹ người ta đo khối lượng và áp suất bằng cách đơn vị khác nhau. Bạn Bình vừa mua một con mô-tô phân khối lớn hàng nhập nguyên chiếc từ Mỹ về, tài liệu hướng dẫn của xe ghi áp suất phù hợp khi bơm xe bằng đơn vị PSI (Pound / square inches - 1 pound lực trên một inch vuông). Còn ống bơm của Bình tích hợp đồng hồ đo áp suất bằng đơn vị kg/cm2 (1 kilogram lực trên một centimét vuông).\n",
        "\n",
        "Biết: 1 pound = 0.453592 kg\n",
        "\n",
        "và 1 inch = 2,54 cm\n",
        "\n",
        "Viết công thức giúp Bình đổi PSI sang kg/cm2\n",
        "\n",
        "**INPUT:** Một con số duy nhất theo đơn vị PSI\n",
        "\n",
        "**OUTPUT:** Một con số ương ứng theo đơn vị kg/cm2\n",
        "\n",
        "# Tóm tắt: \n",
        "- Sử dụng công thức chuyển đổi đơn vị PSI sang kg/cm2.\n",
        "- Sử dụng hàm normalize trong module decimal rút gọn số 0."
      ]
    },
    {
      "cell_type": "code",
      "metadata": {
        "id": "Zqhd3l85aXY1",
        "outputId": "00abef98-35ac-4dbd-aa94-41bed35ce8b2",
        "colab": {
          "base_uri": "https://localhost:8080/"
        }
      },
      "source": [
        "from decimal import *\n",
        "getcontext().prec = 6\n",
        "inp = float(input())\n",
        "res = inp * (0.453592/(2.54**2))\n",
        "print(Decimal(res).normalize())"
      ],
      "execution_count": 1,
      "outputs": [
        {
          "output_type": "stream",
          "text": [
            "30\n",
            "2.10921\n"
          ],
          "name": "stdout"
        }
      ]
    }
  ]
}