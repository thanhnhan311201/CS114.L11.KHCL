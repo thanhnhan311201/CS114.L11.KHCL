{
  "nbformat": 4,
  "nbformat_minor": 0,
  "metadata": {
    "colab": {
      "name": "TongUocSo.ipynb",
      "provenance": [],
      "authorship_tag": "ABX9TyPiK/WwGhPawgbfLC5e0oKa",
      "include_colab_link": true
    },
    "kernelspec": {
      "name": "python3",
      "display_name": "Python 3"
    }
  },
  "cells": [
    {
      "cell_type": "markdown",
      "metadata": {
        "id": "view-in-github",
        "colab_type": "text"
      },
      "source": [
        "<a href=\"https://colab.research.google.com/github/thanhnhan311201/CS114.L11.KHCL/blob/master/TongUocSo.ipynb\" target=\"_parent\"><img src=\"https://colab.research.google.com/assets/colab-badge.svg\" alt=\"Open In Colab\"/></a>"
      ]
    },
    {
      "cell_type": "markdown",
      "metadata": {
        "id": "LdN5llSPNlWP"
      },
      "source": [
        "# Code: Phan Nguyễn Thành Nhân\n",
        "\n",
        "# Tên bài: Bài kiểm tra\n",
        "\n",
        "# Link: https://khmt.uit.edu.vn/laptrinh/csx101/view_problem/1/6\n",
        "\n",
        "# Đề bài:\n",
        "\n",
        "Viết chương trình tính tổng các ước số thực sự của một số nguyên dương.\n",
        "\n",
        "**INPUT:** Số nguyên dương n giá trị không quá 1 tỷ.\n",
        "\n",
        "**OUTPUT:** Tổng các ước số của n (không kể n).\n",
        "# Tóm tắt: \n",
        "- Đầu tiên khởi tạo biến res = 0.\n",
        "- Chạy 1 vòng lặp từ 1 tới n-1, ta xét điều kiện ước số nếu số nào là ước số thì cộng với biến res."
      ]
    },
    {
      "cell_type": "code",
      "metadata": {
        "id": "o-QH-TfFNjMf",
        "outputId": "bb55e7de-03a9-486e-fa38-5f9449518581",
        "colab": {
          "base_uri": "https://localhost:8080/"
        }
      },
      "source": [
        "inp = int(input())\n",
        "res = 0\n",
        "for i in range(1,inp):\n",
        "    if (inp % i ==0):\n",
        "        res += i\n",
        "print(res)"
      ],
      "execution_count": 1,
      "outputs": [
        {
          "output_type": "stream",
          "text": [
            "12\n",
            "16\n"
          ],
          "name": "stdout"
        }
      ]
    }
  ]
}