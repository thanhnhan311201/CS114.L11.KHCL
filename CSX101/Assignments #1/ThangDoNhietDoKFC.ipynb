{
  "nbformat": 4,
  "nbformat_minor": 0,
  "metadata": {
    "colab": {
      "name": "ThangDoNhietDoKFC.ipynb",
      "provenance": [],
      "authorship_tag": "ABX9TyPEXa6XllC6gPq5rPS/BAIH",
      "include_colab_link": true
    },
    "kernelspec": {
      "name": "python3",
      "display_name": "Python 3"
    }
  },
  "cells": [
    {
      "cell_type": "markdown",
      "metadata": {
        "id": "view-in-github",
        "colab_type": "text"
      },
      "source": [
        "<a href=\"https://colab.research.google.com/github/thanhnhan311201/CS114.L11.KHCL/blob/master/ThangDoNhietDoKFC.ipynb\" target=\"_parent\"><img src=\"https://colab.research.google.com/assets/colab-badge.svg\" alt=\"Open In Colab\"/></a>"
      ]
    },
    {
      "cell_type": "markdown",
      "metadata": {
        "id": "hyIYQcbOUVO3"
      },
      "source": [
        "# Code: Phan Nguyễn Thành Nhân\n",
        "# Tên bài: Thang đo nhiệt độ KFC\n",
        "# Link: https://khmt.uit.edu.vn/laptrinh/csx101/view_problem/1\n",
        "# Đề bài: \n",
        "Bình vừa mua xách tay một cái nhiệt kế hồng ngoại cực xịn cực chính xác chỉ mỗi tội nó hiển thị nhiệt độ theo thang đo độ F - Farenheit. Hãy giúp Bình đổi qua độ C - Celsius và độ K - Kelvin.\n",
        "\n",
        "**INPUT:** Một con số - nhiệt độ theo thang F\n",
        "\n",
        "**OUTPUT:** Hai con số - nhiệt độ theo thang C và thang K\n",
        "\n",
        "# Tóm tắt:\n",
        "- Sử dụng công thức chuyển đổi từ độ F sang độ C và K.\n",
        "- Sử dụng hàm normalize trong module decimal rút gọn số 0."
      ]
    },
    {
      "cell_type": "code",
      "metadata": {
        "id": "4mjHxmsZME2k",
        "outputId": "33d407f2-7443-4c4b-f424-4cfb7ef56d57",
        "colab": {
          "base_uri": "https://localhost:8080/"
        }
      },
      "source": [
        "from decimal import *\n",
        "getcontext().prec = 6\n",
        "F = float(input())\n",
        "C = 5 / 9 * (F - 32)\n",
        "K = C + 273.15\n",
        "print(Decimal(C).normalize(), Decimal(K).normalize())"
      ],
      "execution_count": 5,
      "outputs": [
        {
          "output_type": "stream",
          "text": [
            "45\n",
            "7.22222 280.372\n"
          ],
          "name": "stdout"
        }
      ]
    },
    {
      "cell_type": "code",
      "metadata": {
        "id": "Pj_iQtBGXDCs"
      },
      "source": [
        ""
      ],
      "execution_count": null,
      "outputs": []
    }
  ]
}