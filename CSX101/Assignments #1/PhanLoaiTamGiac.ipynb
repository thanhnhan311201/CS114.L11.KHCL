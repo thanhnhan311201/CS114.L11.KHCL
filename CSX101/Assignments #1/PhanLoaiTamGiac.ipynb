{
  "nbformat": 4,
  "nbformat_minor": 0,
  "metadata": {
    "colab": {
      "name": "PhanLoaiTamGiac.ipynb",
      "provenance": [],
      "authorship_tag": "ABX9TyPyW2FWmdiDN6VsL5RDTD99",
      "include_colab_link": true
    },
    "kernelspec": {
      "name": "python3",
      "display_name": "Python 3"
    }
  },
  "cells": [
    {
      "cell_type": "markdown",
      "metadata": {
        "id": "view-in-github",
        "colab_type": "text"
      },
      "source": [
        "<a href=\"https://colab.research.google.com/github/thanhnhan311201/CS114.L11.KHCL/blob/master/PhanLoaiTamGiac.ipynb\" target=\"_parent\"><img src=\"https://colab.research.google.com/assets/colab-badge.svg\" alt=\"Open In Colab\"/></a>"
      ]
    },
    {
      "cell_type": "markdown",
      "metadata": {
        "id": "c3CJfEDbmYoa"
      },
      "source": [
        "# Code: Phan Nguyễn Thành Nhân\n",
        "\n",
        "# Tên bài: Phân loại tam giác\n",
        "\n",
        "# Link: https://khmt.uit.edu.vn/laptrinh/csx101/view_problem/1/6\n",
        "\n",
        "# Đề bài:\n",
        "\n",
        "Viết chương trình nhập vào 3 số thực. Hãy cho biết đó có phải là độ dài 3 cạnh 1 tam giác hay không? Nếu phải thì đó là loại nào trong 4 loại sau: tam giác thường, cân, đều, vuông.\n",
        "\n",
        "Nếu là tam giác tính diện tích tam giác.\n",
        "\n",
        "**INPUT:** \n",
        "\n",
        "- Dòng đầu tiên là độ dài cạnh 1.\n",
        "\n",
        "- Dòng thứ hai là độ dài cạnh 2.\n",
        "\n",
        "- Dòng thứ ba là độ dài cạnh 3.\n",
        "\n",
        "**OUTPUT:** Định dạng như ví dụ minh họa. Diện tích làm tròn 02 chữ số sau dấu thập phân.\n",
        "\n",
        "# Tóm tắt: \n",
        "- Nhập độ dài 3 cạnh tam giác vô một cái list.\n",
        "- Tính diện tích tam giác bằng công thức heron.\n",
        "- Xét điều kiện theo từng điều kiện của các tam giác, nếu thoả điều kiện của tam giác nào thì xuất ra tam giác đó và diện tích."
      ]
    },
    {
      "cell_type": "code",
      "metadata": {
        "id": "SFWldClnmOHI",
        "outputId": "38381066-1bb1-42cf-dee3-82f88847c100",
        "colab": {
          "base_uri": "https://localhost:8080/"
        }
      },
      "source": [
        "from math import *\n",
        "a = float(input())\n",
        "b = float(input())\n",
        "c = float(input())\n",
        "lst = []\n",
        "lst.append(a)\n",
        "lst.append(b)\n",
        "lst.append(c)\n",
        "lst.sort(reverse=True)\n",
        "a = lst[0]\n",
        "b = lst[1]\n",
        "c = lst[2]\n",
        "if(a < b + c):\n",
        "    area = 1/4 * sqrt((a+b+c)*(a+b-c)*(a+c-b)*(b+c-a))\n",
        "    if (area == int(area)):\n",
        "        area = int(area)\n",
        "    else:\n",
        "        area = round(area,2)\n",
        "    if(a**2 == b**2 + c**2):\n",
        "        print('Tam giac vuong, dien tich =',area)\n",
        "    elif(a == b and a == c):\n",
        "        print('Tam giac deu, dien tich =',area)\n",
        "    elif(b == c or a == c or a == b):\n",
        "        print('Tam giac can, dien tich =',area)\n",
        "    else:\n",
        "        print('Tam giac thuong, dien tich =',area)\n",
        "else:\n",
        "    print('Khong phai tam giac')"
      ],
      "execution_count": 1,
      "outputs": [
        {
          "output_type": "stream",
          "text": [
            "2\n",
            "3\n",
            "4\n",
            "Tam giac thuong, dien tich = 2.9\n"
          ],
          "name": "stdout"
        }
      ]
    }
  ]
}