{
  "nbformat": 4,
  "nbformat_minor": 0,
  "metadata": {
    "colab": {
      "name": "BaiKiemTra.ipynb",
      "provenance": [],
      "authorship_tag": "ABX9TyM4sD5BT8W9jlLn9m3t1fWP",
      "include_colab_link": true
    },
    "kernelspec": {
      "name": "python3",
      "display_name": "Python 3"
    }
  },
  "cells": [
    {
      "cell_type": "markdown",
      "metadata": {
        "id": "view-in-github",
        "colab_type": "text"
      },
      "source": [
        "<a href=\"https://colab.research.google.com/github/thanhnhan311201/CS114.L11.KHCL/blob/master/BaiKiemTra.ipynb\" target=\"_parent\"><img src=\"https://colab.research.google.com/assets/colab-badge.svg\" alt=\"Open In Colab\"/></a>"
      ]
    },
    {
      "cell_type": "markdown",
      "metadata": {
        "id": "7g3_8oDXMA8j"
      },
      "source": [
        "# Code: Phan Nguyễn Thành Nhân\n",
        "\n",
        "# Tên bài: Bài kiểm tra\n",
        "\n",
        "# Link: https://khmt.uit.edu.vn/laptrinh/csx101/view_problem/1/1\n",
        "\n",
        "# Đề bài:\n",
        "\n",
        "Alice và Bob là đôi bạn thân trong lớp và thường giúp nhau trong giờ học. Hôm nay sẽ có tiết kiểm tra toán và như mọi khi – sẽ có k đề khác nhau. Lớp học có n học sinh. Các bàn trong lớp xếp thành một hàng dọc, mỗi bàn 2 người ngồi. Vị trí bên trái của bàn đánh số là 1, vị trí bên phải – đánh số 2. Đề bài được phát bắt đầu từ vị trí 1 của bàn 1 rồi đến vị trí 2 của bàn 1, tiếp theo là vị trí 1 của bàn 2, rồi tới vị trí 2 của bàn 2, . . . lần lượt các đề 1, đề 2, đề 3, . . . cho tới đề k rồi lại quay lại đề 1, đề 2, . . . cho tới khi tất cả các học sinh đều nhận được đề.\n",
        "\n",
        "Alice đến trước và ngồi vào vị trí quen thuộc của mình: hàng p và vị trí q. Bob đến sau và muốn ngồi vào nơi sẽ nhận được cùng đề với Alice và ở dãy bàn gần với dãy bàn của Alice nhất. Nếu có 2 cách ngồi thì Bob sẽ chọn bàn ở phía trước của Alice.\n",
        "\n",
        "Hãy xác định bàn u và vị trí v trong bàn nơi Bob cần phải ngồi. Nếu không có cách ngồi thỏa mãn thì đưa ra một số -1.\n",
        "\n",
        "**INPUT:** Vào từ thiết bị nhập chuẩn:\n",
        "\n",
        "- Dòng đầu tiên chứa một số nguyên n (2 ≤ n ≤ 109),\n",
        "- Dòng thứ 2 chứa số nguyên k (2 ≤ k ≤ n),\n",
        "- Dòng thứ 3 chứa số nguyên p (1 ≤ p ≤ (n+1)/2),\n",
        "- Dòng thứ 4 chứa số nguyên q (1 ≤ q ≤ 2).\n",
        "\n",
        "**OUTPUT:** Đưa ra thiết bị xuất chuẩn một dòng 2 số nguyên u và v tìm được hoặc số -1 nếu không có cách ngồi thỏa mãn điều kiện đã nêu.\n",
        "# Tóm tắt: \n",
        "- Ta đánh số vị trí các chỗ ngồi theo thứ tự từ bàn 1 đến bàn (n+1)/2.\n",
        "- Sau đó ta tìm pos chính xác của Alice, nếu vị trí của Alice ngồi là 1 thì pos = p * q + p - 1, còn nếu vị trí của Alice ngồi là 2 thì pos = p * q.\n",
        "- Sau đó ta kiểm tra nếu pos <= k và pos + k > n thì đồng nghĩa với việc không có vị trí thích hợp để Bob cùng đề với Alice.\n",
        "- Tiếp theo ta xét điều kiện, nếu pos > k thì có nghĩa trước Alice vẫn có chỗ ngồi để Bob cùng đề với Alice và ta sẽ cập nhập lại pos cho Bob bằng pos = pos - k, ngược lại thì ta sẽ cập nhập pos = pos + k.\n",
        "- Khi đã có pos của Bob thì ta sẽ tìm được u và v."
      ]
    },
    {
      "cell_type": "code",
      "metadata": {
        "id": "0ECpKc0VL4ZF",
        "outputId": "11f5a252-1387-4cc5-814d-5c716861d567",
        "colab": {
          "base_uri": "https://localhost:8080/"
        }
      },
      "source": [
        "n = int(input())\n",
        "while True:\n",
        "    k = int(input())\n",
        "    if (k < 2 or k > n):\n",
        "        continue\n",
        "    else:\n",
        "        break\n",
        "while True:\n",
        "    p = int(input())\n",
        "    if (p < 1 or p > round((n+1)/2)):\n",
        "        continue\n",
        "    else:\n",
        "        break\n",
        "while True:\n",
        "    q = int(input())\n",
        "    if (q < 1 or q > 2):\n",
        "        continue\n",
        "    else:\n",
        "        break\n",
        "pos = p * q\n",
        "if (q == 1):\n",
        "    pos += p - 1\n",
        "if (pos <= k and pos + k > n):\n",
        "    print('-1')\n",
        "else:\n",
        "    if (pos > k):\n",
        "        pos = pos - k\n",
        "    elif (pos+k <= n):\n",
        "        pos = pos + k\n",
        "    if (pos % 2 == 1):\n",
        "        u = int((pos + 1) / 2)\n",
        "        v = 1\n",
        "    elif (pos % 2 == 0):\n",
        "        v = 2\n",
        "        u = int(pos/2)\n",
        "    print(u,v)"
      ],
      "execution_count": 1,
      "outputs": [
        {
          "output_type": "stream",
          "text": [
            "10\n",
            "3\n",
            "4\n",
            "1\n",
            "2 2\n"
          ],
          "name": "stdout"
        }
      ]
    }
  ]
}