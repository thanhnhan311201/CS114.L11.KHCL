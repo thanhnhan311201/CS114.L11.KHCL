{
  "nbformat": 4,
  "nbformat_minor": 0,
  "metadata": {
    "colab": {
      "name": "GàvàChó.ipynb",
      "provenance": [],
      "authorship_tag": "ABX9TyOZm612MqxdC4aZ81zUynKr",
      "include_colab_link": true
    },
    "kernelspec": {
      "name": "python3",
      "display_name": "Python 3"
    }
  },
  "cells": [
    {
      "cell_type": "markdown",
      "metadata": {
        "id": "view-in-github",
        "colab_type": "text"
      },
      "source": [
        "<a href=\"https://colab.research.google.com/github/thanhnhan311201/CS114.L11.KHCL/blob/master/G%C3%A0v%C3%A0Ch%C3%B3.ipynb\" target=\"_parent\"><img src=\"https://colab.research.google.com/assets/colab-badge.svg\" alt=\"Open In Colab\"/></a>"
      ]
    },
    {
      "cell_type": "markdown",
      "metadata": {
        "id": "ZmWan7EGg6A1"
      },
      "source": [
        "# Code: Phan Nguyễn Thành Nhân\n",
        "\n",
        "# Tên bài:  Gà và Chó\n",
        "\n",
        "# Link: https://khmt.uit.edu.vn/laptrinh/csx101/view_problem/1/2\n",
        "\n",
        "# Đề bài:\n",
        "\n",
        "Vừa gà vừa chó\n",
        "\n",
        "Bó lại cho tròn\n",
        "\n",
        "xxx con\n",
        "\n",
        "yy chân chẵn\n",
        "\n",
        "Hãy xác định số con gà và số con chó thỏa mãn yêu cầu.\n",
        "\n",
        "**INPUT:** Vào từ thiết bị nhập chuẩn gồm 1 dòng ghi 2 số nguyên xxx và yy (2≤ xxx, yy ≤ 109).\n",
        "\n",
        "**OUTPUT:** Đưa ra thiết bị xuất chuẩn một dòng 2 số nguyên số gà và số chó tìm được.\n",
        "\n",
        "# Tóm tắt: \n",
        "- Lập hệ phương trình:\n",
        "    \n",
        "      g + c = xxx\n",
        "      2g + 4c = yy\n",
        "- Giải hệ phương trình ra được số lượng con gà và con chó."
      ]
    },
    {
      "cell_type": "code",
      "metadata": {
        "id": "Xp-qisf1gxl1",
        "outputId": "8937b26d-e72f-4199-caee-35290475a256",
        "colab": {
          "base_uri": "https://localhost:8080/"
        }
      },
      "source": [
        "a = input()\n",
        "a = a.split()\n",
        "xxx = int(a[0])\n",
        "yy = int(a[1])\n",
        "c = int(yy/2 - xxx)\n",
        "g = int(xxx - c)\n",
        "print(g,c)"
      ],
      "execution_count": 1,
      "outputs": [
        {
          "output_type": "stream",
          "text": [
            "36 100\n",
            "22 14\n"
          ],
          "name": "stdout"
        }
      ]
    }
  ]
}