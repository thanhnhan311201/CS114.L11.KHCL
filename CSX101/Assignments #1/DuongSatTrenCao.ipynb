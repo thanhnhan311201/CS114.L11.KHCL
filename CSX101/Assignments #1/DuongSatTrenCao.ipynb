{
  "nbformat": 4,
  "nbformat_minor": 0,
  "metadata": {
    "colab": {
      "name": "DuongSatTrenCao.ipynb",
      "provenance": [],
      "authorship_tag": "ABX9TyMuLGbUX5I7ZM41mk6qAeB7",
      "include_colab_link": true
    },
    "kernelspec": {
      "name": "python3",
      "display_name": "Python 3"
    }
  },
  "cells": [
    {
      "cell_type": "markdown",
      "metadata": {
        "id": "view-in-github",
        "colab_type": "text"
      },
      "source": [
        "<a href=\"https://colab.research.google.com/github/thanhnhan311201/CS114.L11.KHCL/blob/master/DuongSatTrenCao.ipynb\" target=\"_parent\"><img src=\"https://colab.research.google.com/assets/colab-badge.svg\" alt=\"Open In Colab\"/></a>"
      ]
    },
    {
      "cell_type": "markdown",
      "metadata": {
        "id": "B4N-1tBANNEq"
      },
      "source": [
        "# Code: Phan Nguyễn Thành Nhân\n",
        "\n",
        "# Tên bài: Đường sắt trên cao\n",
        "\n",
        "# Link: https://khmt.uit.edu.vn/laptrinh/csx101/view_problem/1/4\n",
        "# Đề bài:\n",
        "\n",
        "Thành phố đang xây dựng tuyến đường sắt trên cao phục vụ giao thông nội đô. Tuyến đường sẽ có k+1 ga đánh số từ 0 đến k. Tàu chạy suốt ngày đêm, từ ga 0 đến ga k và quay lại. Thời gian đi từ một ga tới ga kế tiếp là 1 phút, thời gian dừng ở mỗi ga là không đáng kể. Hệ thống giao thông này không những nhanh, chuẩn xác về thời gian mà còn là một phương tiện tuyệt vời để ngắm thành phố.\n",
        "\n",
        "BHL của UIT quyết định sẽ tặng cho tất cả tham gia lớp Python online mỗi bạn một vé đi tàu miễn phí trong năm học.\n",
        "\n",
        "Minh rất háo hức với thông báo này và quyết tâm phải giành được một vé. Phần lớn thời gian rảnh rỗi trong ngày Minh đều dùng để rèn luyện lập trình Python, còn ban đêm là thời gian của những giấc mơ đẹp. Minh thấy mình bước lên tàu ở ga số 0, ngồi cạnh cửa sổ say sưa ngắm nhìn quang cảnh thành phố từ trên cao. Thời gian trôi đi khá nhanh. Đồng hồ cho biết Minh đã ngồi trên tàu t phút và Minh quyết định xuống tàu . . .\n",
        "\n",
        "Chuông đồng hồ vang lên, Minh tỉnh giấc, vội vàng đi đánh răng, rửa mặt, chuẩn bị đi học. Trên đường tới trường Minh vẫn nghĩ về giấc mơ đêm qua và không thể nhớ được mình đã xuống ở ga số mấy.\n",
        "\n",
        "Hãy xác định ga mà Minh đã xuống trong giấc mơ sắp thành hiện thực của mình.\n",
        "\n",
        "**INPUT:** Vào từ thiết bị nhập chuẩn gồm một dòng chứa 2 số nguyên k và t (0 < k, t ≤ 109).\n",
        "\n",
        "**OUTPUT:** Đưa ra thiết bị xuất chuẩn một số nguyên – ga xác định được.\n",
        "# Tóm tắt: \n",
        "- Đầu tiên ta cần xác định là đoàn tàu đã đi hết tuyến đường sắt bao nhiêu lần bằng cách chia lấy phần nguyên t với k.\n",
        "- Sau đó ta đem phần nguyên vừa có được đi kiểm tra. Nếu phần nguyên là số lẻ đồng nghĩa là đoàn tàu đang đi tới thì ga mà Minh đã xuống sẽ bằng chia lấy phần dư t với k, còn nếu phần nguyên là số lẻ đồng nghĩa đoàn tàu đi về thì ga mà Minh đã xuống sẽ bằng k trừ đi phần chia lấy dư của t với k."
      ]
    },
    {
      "cell_type": "code",
      "metadata": {
        "id": "-dnUBVqHNFKv",
        "outputId": "3b877018-161e-4eab-f2ba-9ff3862c9bfb",
        "colab": {
          "base_uri": "https://localhost:8080/"
        }
      },
      "source": [
        "inp = input().split()\n",
        "k = int(inp[0])\n",
        "t = int(inp[1])\n",
        "temp = t // k\n",
        "if (temp % 2 == 0):\n",
        "    res = t % k\n",
        "else:\n",
        "    res = k - t % k\n",
        "print(res)"
      ],
      "execution_count": 1,
      "outputs": [
        {
          "output_type": "stream",
          "text": [
            "5 7\n",
            "3\n"
          ],
          "name": "stdout"
        }
      ]
    },
    {
      "cell_type": "code",
      "metadata": {
        "id": "9zFHf3WgpHzy"
      },
      "source": [
        ""
      ],
      "execution_count": null,
      "outputs": []
    }
  ]
}