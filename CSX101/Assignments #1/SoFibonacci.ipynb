{
  "nbformat": 4,
  "nbformat_minor": 0,
  "metadata": {
    "colab": {
      "name": "SoFibonacci.ipynb",
      "provenance": [],
      "authorship_tag": "ABX9TyPcsL7eOZG6Bnhk0DV9sqqH",
      "include_colab_link": true
    },
    "kernelspec": {
      "name": "python3",
      "display_name": "Python 3"
    }
  },
  "cells": [
    {
      "cell_type": "markdown",
      "metadata": {
        "id": "view-in-github",
        "colab_type": "text"
      },
      "source": [
        "<a href=\"https://colab.research.google.com/github/thanhnhan311201/CS114.L11.KHCL/blob/master/SoFibonacci.ipynb\" target=\"_parent\"><img src=\"https://colab.research.google.com/assets/colab-badge.svg\" alt=\"Open In Colab\"/></a>"
      ]
    },
    {
      "cell_type": "markdown",
      "metadata": {
        "id": "eo8QGwfIOSJA"
      },
      "source": [
        "# Code: Phan Nguyễn Thành Nhân\n",
        "\n",
        "# Tên bài: Số Fibonacci\n",
        "\n",
        "# Link: https://khmt.uit.edu.vn/laptrinh/csx101/view_problem/1/7\n",
        "# Đề bài:\n",
        "\n",
        "Nhập vào số nguyên x sao cho 1 ≤ x ≤ 30. Nếu x không thỏa điều kiện, chương trình xuất ra màn hình thông báo “So <x> khong nam trong khoang [1,30].”. Nếu x nằm trong đoạn [1,30], chương trình xuất ra màn hình số Fibonacci thứ x.\n",
        "\n",
        "# Tóm tắt: \n",
        "- Đầu tiên ta tạo một mảng fibonacci từ phần tử thứ 0 đến phần tử thứ x.\n",
        "- Nếu x không nằm trong khoảng [1,30] thì xuất ra theo yêu cầu đề bài, còn nếu nằm trong khoảng đó thì xuất ra giá trị tại vị trí x-1 trong mảng fibonacci."
      ]
    },
    {
      "cell_type": "code",
      "metadata": {
        "id": "DXE1hkrHONp7",
        "outputId": "22d0a39c-fcb2-41f1-ebbe-b51a256ce63f",
        "colab": {
          "base_uri": "https://localhost:8080/"
        }
      },
      "source": [
        "inp = int(input())\n",
        "lst = list()\n",
        "lst.append(1)\n",
        "lst.append(1)\n",
        "for i in range(2,inp):\n",
        "    lst.append(lst[i-2] + lst[i-1])\n",
        "if (inp < 1 or inp > 30):\n",
        "    print('So',inp,'khong nam trong khoang [1,30].')\n",
        "else:\n",
        "    print(lst[inp-1])"
      ],
      "execution_count": 2,
      "outputs": [
        {
          "output_type": "stream",
          "text": [
            "8\n",
            "21\n"
          ],
          "name": "stdout"
        }
      ]
    }
  ]
}