{
  "nbformat": 4,
  "nbformat_minor": 0,
  "metadata": {
    "colab": {
      "name": "fast.power.ipynb",
      "provenance": [],
      "collapsed_sections": [],
      "authorship_tag": "ABX9TyPtwf6ITTgWzSWDZ/tSp/O/",
      "include_colab_link": true
    },
    "kernelspec": {
      "name": "python3",
      "display_name": "Python 3"
    }
  },
  "cells": [
    {
      "cell_type": "markdown",
      "metadata": {
        "id": "view-in-github",
        "colab_type": "text"
      },
      "source": [
        "<a href=\"https://colab.research.google.com/github/thanhnhan311201/CS114.L11.KHCL/blob/master/fast_power.ipynb\" target=\"_parent\"><img src=\"https://colab.research.google.com/assets/colab-badge.svg\" alt=\"Open In Colab\"/></a>"
      ]
    },
    {
      "cell_type": "code",
      "metadata": {
        "id": "bhqjcBwBEj6M",
        "outputId": "d1f71393-2e73-4172-825d-7714a8c996b0",
        "colab": {
          "base_uri": "https://localhost:8080/"
        }
      },
      "source": [
        "# Code: Le Quang Huy\n",
        "# Ten bai: fast.power\n",
        "# Link:\n",
        "# Tom Tat: Tinh m^n modul0 1000000007\n",
        "\n",
        "def read(str='i'):  # Doc Nhieu so tren 1 hang roi ep kieu\n",
        "    if(str == \"float\"):  # Neu tham so truyen vao == 'float' thi se doc cac so va ep kieu float\n",
        "        return map(float, input().split())\n",
        "    return map(int, input().split())  # Neu khong ep kieu int\n",
        "\n",
        "\n",
        "def ReadArr():\n",
        "    return [int(x) for x in input().split()]\n",
        "\n",
        "\n",
        "def Pow(m, n, N):  # tinh m^n\n",
        "    if n == 1:\n",
        "        return (m % N)\n",
        "    if n == 0:\n",
        "        return 1\n",
        "    res = Pow(m, n//2, N)\n",
        "    ans = ((res % N)*(res % N)) % N\n",
        "    if n % 2 == 1:\n",
        "        ans = (ans*m) % N\n",
        "    return ans\n",
        "\n",
        "\n",
        "m, n = read('i')\n",
        "N = int(1000000007)\n",
        "print(Pow(m, n, N))\n"
      ],
      "execution_count": null,
      "outputs": [
        {
          "output_type": "stream",
          "text": [
            "990 88\n",
            "505518168\n"
          ],
          "name": "stdout"
        }
      ]
    }
  ]
}