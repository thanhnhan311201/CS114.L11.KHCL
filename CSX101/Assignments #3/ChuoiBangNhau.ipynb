{
  "nbformat": 4,
  "nbformat_minor": 0,
  "metadata": {
    "colab": {
      "name": "ChuoiBangNhau.ipynb",
      "provenance": [],
      "collapsed_sections": [],
      "authorship_tag": "ABX9TyOyepCw7XVJqk8PRHRGXhtN",
      "include_colab_link": true
    },
    "kernelspec": {
      "name": "python3",
      "display_name": "Python 3"
    }
  },
  "cells": [
    {
      "cell_type": "markdown",
      "metadata": {
        "id": "view-in-github",
        "colab_type": "text"
      },
      "source": [
        "<a href=\"https://colab.research.google.com/github/thanhnhan311201/CS114.L11.KHCL/blob/master/ChuoiBangNhau.ipynb\" target=\"_parent\"><img src=\"https://colab.research.google.com/assets/colab-badge.svg\" alt=\"Open In Colab\"/></a>"
      ]
    },
    {
      "cell_type": "markdown",
      "metadata": {
        "id": "mitc3KdJY0eh"
      },
      "source": [
        "# Code: Nguyễn Thành Nghĩa\n",
        "# Tên bài: Chuỗi Bằng Nhau\n",
        "# Link: https://khmt.uit.edu.vn/laptrinh/csx101/view_problem/3/23\n",
        "# Đề bài:\n",
        "Cho hai chuỗi s,t chỉ gồm những kí tự Latin và có độ dài bằng nhau. Bạn có thể thực hiện nhiều lần biến đổi trên hai chuỗi đó.\n",
        "\n",
        "Một phép biến đổi bạn được phép thay thế một kí tự ở vị trí bất kì trong chuỗi đó thành kí tự liền kề với nó (trái hoặc phải).\n",
        "\n",
        "Ví dụ: bạn có chuỗi s = \"acbc\", bạn có thể thực hiện những phép biến đổi sau:\n",
        "\n",
        "- thay s2=s1, kết quả thu được: \"aabc\".\n",
        "- thay s1=s2, kết quả thu được: \"ccbc\".\n",
        "- thay s3=s2hoặc s3=s4, kết quả thu được: \"accc\".\n",
        "- thay s2=s3, kết quả thu được: \"abbc\".\n",
        "- thay s4=s3, kết quả thu được: \"acbb\".\n",
        "\n",
        "Lưu ý: Bạn được phép thực hiện nhiều phép biến đổi trên cả 2 chuỗi s,t\n",
        "\n",
        "Nhiệm vụ của bạn là sau khi thực hiện một loạt các phép biến đổi theo quy tắc trên cho hai chuỗi \n",
        "s và t thì ta có thể thu được hai chuỗi bằng nhau hay không?\n",
        "\n",
        "**Dữ liệu**:\n",
        "\n",
        "Dòng đầu tiên là một số nguyên q (1≤q≤100) — số lượng testcase. Với mỗi testcase theo sau bởi 2 dòng:\n",
        "\n",
        "Dòng đầu tiên là một chuỗi s (1≤|s|≤100) — chỉ gồm các chữ cái Latin viết thường.\n",
        "\n",
        "Dòng thứ hai là một chuỗi t (1≤|t|≤100,|t|=|s|) — chỉ gồm các chữ cái Latin viết thường\n",
        "\n",
        "**Kết quả**: \n",
        "Ứng với mỗi testcase xuất trên 1 dòng.\n",
        "\n",
        "Nếu có thể biến hai chuỗi s và t thành chuỗi bằng nhau, xuất YES\n",
        "\n",
        "Ngược lại xuất NO\n",
        "# Ý tưởng: \n",
        "Nếu có tối thiểu 1 ký tự trong chuỗi s có trong chuỗi t thì sau hữu hạn các phép biến đổi sẽ thu được 2 chuỗi bằng nhau."
      ]
    },
    {
      "cell_type": "code",
      "metadata": {
        "id": "umKeKyXfYnjm",
        "outputId": "cade37a5-b314-44c1-ceb6-7d6876a6ae76",
        "colab": {
          "base_uri": "https://localhost:8080/"
        }
      },
      "source": [
        "# Hàm kiểm tra xem 2 chuỗi có bằng nhau hay không\n",
        "def is_equal(s,t):\n",
        "    # Kiểm tra xem có ký tự nào trong chuỗi s nằm trong chuỗi t hay không\n",
        "    for i in s:\n",
        "        if t.count(i)>=1:\n",
        "            return True\n",
        "    return False\n",
        "\n",
        "q = int(input())\n",
        "for i in range(q):\n",
        "    s = input()\n",
        "    t = input()\n",
        "    if(is_equal(s,t)):\n",
        "        print(\"YES\")\n",
        "    else:\n",
        "        print(\"NO\")"
      ],
      "execution_count": 4,
      "outputs": [
        {
          "output_type": "stream",
          "text": [
            "1\n",
            "axbz\n",
            "xabb\n",
            "YES\n"
          ],
          "name": "stdout"
        }
      ]
    }
  ]
}