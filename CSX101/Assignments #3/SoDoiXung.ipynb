{
  "nbformat": 4,
  "nbformat_minor": 0,
  "metadata": {
    "colab": {
      "name": "SoDoiXung.ipynb",
      "provenance": [],
      "collapsed_sections": [],
      "authorship_tag": "ABX9TyPkI2hb/0zd+s1zfHkeXxhJ",
      "include_colab_link": true
    },
    "kernelspec": {
      "name": "python3",
      "display_name": "Python 3"
    }
  },
  "cells": [
    {
      "cell_type": "markdown",
      "metadata": {
        "id": "view-in-github",
        "colab_type": "text"
      },
      "source": [
        "<a href=\"https://colab.research.google.com/github/thanhnhan311201/CS114.L11.KHCL/blob/master/SoDoiXung.ipynb\" target=\"_parent\"><img src=\"https://colab.research.google.com/assets/colab-badge.svg\" alt=\"Open In Colab\"/></a>"
      ]
    },
    {
      "cell_type": "markdown",
      "metadata": {
        "id": "H8oi6HBzXrV0"
      },
      "source": [
        "# Code : Lê Quang Huy.\n",
        "# Tên bài : Số  đối xứng.\n",
        "# Link : https://khmt.uit.edu.vn/laptrinh/csx101/view_problem/3/39\n",
        "# Đề bài : \n",
        "- Cho số X, tìm số đối xứng nhỏ nhất lớn hơn X.\n",
        "# Ý tưởng :\n",
        "- Xem số X đã cho như 1 xâu.\n",
        "- Chia X thành 2 phần bằng nhau và so sánh 2 phần đó.\n",
        "  + VD: 199123 sẽ được chia thành 991 và 123\n",
        "  + Nếu nửa trái đã lớn hơn nửa bên phải thì ta một nửa xâu ban đầu và phần đối xứng của nó.\n",
        "  + Nếu nửa phải lơn hơn thì ta tăng nửa xâu ban đầu lên 1 và in một nửa xâu đó cùng phần đối xứng của nó.\n",
        "- Lưu ý trường hợp đặc biệt khi cả xâu chỉ toàn số 9."
      ]
    },
    {
      "cell_type": "code",
      "metadata": {
        "id": "OTClNxck49Y-",
        "outputId": "4c0c4b3f-a781-4420-b948-0e069e61484d",
        "colab": {
          "base_uri": "https://localhost:8080/"
        }
      },
      "source": [
        "def solve():\n",
        "  s = input()\n",
        "  if len(s) == s.count('9'):\n",
        "    print(1,'0'*(len(s)-1),1,sep='')\n",
        "    return\n",
        "  n = len(s)\n",
        "  b = s[:(n+1)//2]\n",
        "  a = str(int(s[:(n+1)//2])+1)\n",
        "  if (\"\".join(reversed(s[:((n+1)//2)])) <= s[(n//2):]):\n",
        "      print(a, end=\"\")\n",
        "      i = len(a)-1 - (1 if n % 2 == 1 else 0)\n",
        "      while (i > -1):\n",
        "          print(a[i], end=\"\")\n",
        "          i -= 1\n",
        "  else:\n",
        "      print(b, end=\"\")\n",
        "      i = len(b)-1 - (1 if n % 2 == 1 else 0)\n",
        "      while (i > -1):\n",
        "          print(b[i], end=\"\")\n",
        "          i -= 1\n",
        "solve()"
      ],
      "execution_count": null,
      "outputs": [
        {
          "output_type": "stream",
          "text": [
            "999\n",
            "1001\n"
          ],
          "name": "stdout"
        }
      ]
    }
  ]
}