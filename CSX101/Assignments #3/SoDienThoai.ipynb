{
  "nbformat": 4,
  "nbformat_minor": 0,
  "metadata": {
    "colab": {
      "name": "SoDienThoai.ipynb",
      "provenance": [],
      "collapsed_sections": [],
      "authorship_tag": "ABX9TyP8FW7QF8u/egxt+pNF6lli",
      "include_colab_link": true
    },
    "kernelspec": {
      "name": "python3",
      "display_name": "Python 3"
    }
  },
  "cells": [
    {
      "cell_type": "markdown",
      "metadata": {
        "id": "view-in-github",
        "colab_type": "text"
      },
      "source": [
        "<a href=\"https://colab.research.google.com/github/thanhnhan311201/CS114.L11.KHCL/blob/master/SoDienThoai.ipynb\" target=\"_parent\"><img src=\"https://colab.research.google.com/assets/colab-badge.svg\" alt=\"Open In Colab\"/></a>"
      ]
    },
    {
      "cell_type": "markdown",
      "metadata": {
        "id": "DBGEId6lS0R0"
      },
      "source": [
        "# Code: Nguyễn Thành Nghĩa\n",
        "# Tên bài: Số Điện Thoại\n",
        "# Link: https://khmt.uit.edu.vn/laptrinh/csx101/view_problem/3/31\n",
        "# Đề bài:\n",
        "Một dãy số là một số điện thoại nếu dãy số đó gồm 11 số có dạng \"8xxxxxxxxxxx\", với x là những số ngẫu nhiên từ 0 đến 9. Ví dụ \"80123456789\" và \"80000000000\" là số điện thoại. Trong khi \"8012345678\" và \"79000000000\" thì không phải.\n",
        "\n",
        "Bạn có n thẻ bài, mỗi thẻ bài được đánh số ngẫu nhiên từ 0 đến 9. Nhiệm vụ của bạn là sắp xếp chúng thành những dãy số điện thoại.\n",
        "\n",
        "**Dữ liệu**:\n",
        "- Dòng đầu tiên là một số nguyên n (1≤n≤1000) — số lượng thẻ bài.\n",
        "\n",
        "- Dòng thứ hai ghi chuỗi n chữ số a1,a2,...,an (0≤ai≤9) — số được đánh trên thẻ bài (Các chữ số viết liền nhau)\n",
        "\n",
        "**Kết quả**: In ra màn hình số lượng tối đa số điện thoại có thể xếp được.\n",
        "# Ý tưởng:\n",
        "- Đếm số lượng số 8 có trong chuỗi n chữ số\n",
        "- Đếm số lượng các số điện thoại có khả năng lập được (n//11)\n",
        "- Nếu số lượng số 8 có trong chuỗi >= số lượng số điện thoại có khả năng lập được thì trả về số điện thoại có khả năng lập được, ngược lại trả về số lượng số 8 có trong chuỗi"
      ]
    },
    {
      "cell_type": "code",
      "metadata": {
        "id": "Hl386ZeGSr_S",
        "outputId": "d7208044-41b2-4074-85b3-6709cb84eb7b",
        "colab": {
          "base_uri": "https://localhost:8080/"
        }
      },
      "source": [
        "n = int(input())\n",
        "a = input()\n",
        "# Đếm số lượng số 8 có trong chuỗi n chữ số\n",
        "count8 = a.count('8')\n",
        "# Đếm số lượng các số điện thoại có khả năng lập được\n",
        "countNumber = int(len(a)/11)\n",
        "# Nếu số lượng số 8 có trong chuỗi >= số lượng số điện thoại có khả năng lập được \n",
        "# thì trả về số điện thoại có khả năng lập được, ngược lại trả về số lượng số 8 có trong chuỗi\n",
        "if count8 < 1 or len(a) < 11:\n",
        "    print(0)\n",
        "else:\n",
        "    if count8 >= countNumber:\n",
        "        print(countNumber)\n",
        "    else:\n",
        "        print(count8)"
      ],
      "execution_count": 2,
      "outputs": [
        {
          "output_type": "stream",
          "text": [
            "22\n",
            "0011223344556677889988\n",
            "2\n"
          ],
          "name": "stdout"
        }
      ]
    }
  ]
}