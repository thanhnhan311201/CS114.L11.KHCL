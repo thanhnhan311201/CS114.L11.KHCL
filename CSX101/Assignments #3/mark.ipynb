{
  "nbformat": 4,
  "nbformat_minor": 0,
  "metadata": {
    "colab": {
      "name": "mark.ipynb",
      "provenance": [],
      "collapsed_sections": [],
      "include_colab_link": true
    },
    "kernelspec": {
      "name": "python3",
      "display_name": "Python 3"
    }
  },
  "cells": [
    {
      "cell_type": "markdown",
      "metadata": {
        "id": "view-in-github",
        "colab_type": "text"
      },
      "source": [
        "<a href=\"https://colab.research.google.com/github/thanhnhan311201/CS114.L11.KHCL/blob/master/mark.ipynb\" target=\"_parent\"><img src=\"https://colab.research.google.com/assets/colab-badge.svg\" alt=\"Open In Colab\"/></a>"
      ]
    },
    {
      "cell_type": "code",
      "metadata": {
        "id": "exNOrPJt9Ea5"
      },
      "source": [
        "def read(str='i'):  # Doc Nhieu so tren 1 hang roi ep kieu\n",
        "  if(str == \"float\"):  # Neu tham so truyen vao == 'float' thi se doc cac so va ep kieu float\n",
        "      return map(float, input().split())\n",
        "  return map(int, input().split())  # Neu khong ep kieu int\n",
        "\n",
        "\n",
        "def ReadArr():\n",
        "  return [int(x) for x in input().split()]"
      ],
      "execution_count": null,
      "outputs": []
    }
  ]
}