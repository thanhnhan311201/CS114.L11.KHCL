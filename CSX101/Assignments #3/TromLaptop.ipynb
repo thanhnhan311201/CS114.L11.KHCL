{
  "nbformat": 4,
  "nbformat_minor": 0,
  "metadata": {
    "colab": {
      "name": "TromLaptop.ipynb",
      "provenance": [],
      "collapsed_sections": [],
      "authorship_tag": "ABX9TyNfYe8pMziGGaOgFPfvUluc",
      "include_colab_link": true
    },
    "kernelspec": {
      "name": "python3",
      "display_name": "Python 3"
    }
  },
  "cells": [
    {
      "cell_type": "markdown",
      "metadata": {
        "id": "view-in-github",
        "colab_type": "text"
      },
      "source": [
        "<a href=\"https://colab.research.google.com/github/thanhnhan311201/CS114.L11.KHCL/blob/master/TromLaptop.ipynb\" target=\"_parent\"><img src=\"https://colab.research.google.com/assets/colab-badge.svg\" alt=\"Open In Colab\"/></a>"
      ]
    },
    {
      "cell_type": "markdown",
      "metadata": {
        "id": "4w6PRvYmV-UM"
      },
      "source": [
        "# Code: Nguyễn Thành Nghĩa\n",
        "# Tên bài: Trộm Laptop\n",
        "# Link: https://khmt.uit.edu.vn/laptrinh/csx101/view_problem/3/30\n",
        "# Đề bài:\n",
        "Tối hôm qua, trên địa bàn Tp.HCM đã xảy ra một vụ trộm tại một cửa hàng bán laptop. Do chủ cửa hàng kịp thời phát giác nên tên trộm chỉ kịp lấy đi một số laptop có ở cửa hàng.\n",
        "\n",
        "Tất cả những laptop ở cửa hàng được đánh số thứ tự tăng dần, bắt đầu từ x. Ví dụ, nếu x=5 và cửa hàng có 4 laptop thì những laptop đó sẽ được đánh số lần lượt là 5,6,7,8. Nếu x=10 và cửa hàng có 9 laptop thì những laptop đó sẽ được đánh số lần lượt là 10,11,12,13,14,15,16,17,18.\n",
        "\n",
        "Sau vụ trộm, chỉ còn lại n laptop và chúng có số thứ tự là a1,a2,...,an. Không may thay, tất cả nhân viên ở cửa hàng không nhớ số x cũng như số lượng laptop có trong cửa hàng lúc chưa xảy ra vụ trộm. Nhiệm vụ của bạn là tìm ra số lượng tối thiểu laptop có thể bị mất trộm vào ngày hôm qua.\n",
        "\n",
        "**Dữ liệu**:\n",
        "Dòng đầu tiên là một số nguyên n (1≤n≤1000) — số lượng laptop còn lại sau vụ trộm.\n",
        "\n",
        "Dòng thứ hai gồm n số nguyên riêng biệt a1,a2,...,an (1≤ai≤109) — số thứ tự của những laptop còn lại sau vụ trộm (được sắp xếp theo thứ tự lộn xộn)\n",
        "\n",
        "**Kết quả**: In ra màn hình số lượng tối thiểu laptop có thể bị mất trộm vào ngày hôm qua.\n",
        "# Ý tưởng:\n",
        "- Sắp xếp lại số thứ tự của dãy laptop\n",
        "- Đáp án cần tìm là tổng khoảng cách giữa các số thứ tự liền kề nhau."
      ]
    },
    {
      "cell_type": "code",
      "metadata": {
        "id": "1P7OmLZ2V7e_",
        "outputId": "c0cd367f-b047-494e-d5e3-110c654ec817",
        "colab": {
          "base_uri": "https://localhost:8080/"
        }
      },
      "source": [
        "#Trộm laptop\n",
        "n = int(input())\n",
        "a = input().split()\n",
        "for i in range(n):\n",
        "    a[i] = int(a[i])\n",
        "a.sort()\n",
        "dem = 0\n",
        "# Tính tổng khoảng cách giữa các số thứ tự liền kề nhau\n",
        "for i in range(n-1):\n",
        "    dem += a[i+1] - a[i] - 1\n",
        "# Xuất kết quả\n",
        "print(dem)"
      ],
      "execution_count": 2,
      "outputs": [
        {
          "output_type": "stream",
          "text": [
            "4\n",
            "10 13 12 8\n",
            "2\n"
          ],
          "name": "stdout"
        }
      ]
    }
  ]
}