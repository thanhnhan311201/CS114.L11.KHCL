{
  "nbformat": 4,
  "nbformat_minor": 0,
  "metadata": {
    "colab": {
      "name": "SoCoHau.ipynb",
      "provenance": [],
      "collapsed_sections": [],
      "include_colab_link": true
    },
    "kernelspec": {
      "name": "python3",
      "display_name": "Python 3"
    }
  },
  "cells": [
    {
      "cell_type": "markdown",
      "metadata": {
        "id": "view-in-github",
        "colab_type": "text"
      },
      "source": [
        "<a href=\"https://colab.research.google.com/github/thanhnhan311201/CS114.L11.KHCL/blob/master/SoCoHau.ipynb\" target=\"_parent\"><img src=\"https://colab.research.google.com/assets/colab-badge.svg\" alt=\"Open In Colab\"/></a>"
      ]
    },
    {
      "cell_type": "markdown",
      "metadata": {
        "id": "JWA1UYLAeHDE"
      },
      "source": [
        "# Code : Lê Quang Huy.\n",
        "# Tên Bài : Số có hậu.\n",
        "# Link : https://khmt.uit.edu.vn/laptrinh/csx101/view_problem/3/38\n",
        "# Tóm tắt bài : \n",
        "- Cho 2 số m và n, có bao nhiêu số có đuôi tận cùng là n và không vượt quá m.\n",
        "# Ý tưởng :\n",
        "- Một số có đuôi là n sẽ có dạng X_n(X là số  bất kỳ và ở đây sẽ ngầm định là 0).\n",
        "- M sẽ được hiểu là M_a (với a là số tự nhiên có số chữ số  bằng với số  chữ số của n).\n",
        "- Nếu n > a thì kết quả là M \n",
        "- Nếu n < a thì kết quả là M+1"
      ]
    },
    {
      "cell_type": "code",
      "metadata": {
        "id": "cmPz2hXWeBzx"
      },
      "source": [
        "def read(str='i'):  # Doc Nhieu so tren 1 hang roi ep kieu\n",
        "    if(str == \"float\"):  # Neu tham so truyen vao == 'float' thi se doc cac so va ep kieu float\n",
        "        return map(float, input().split())\n",
        "    return map(int, input().split())  # Neu khong ep kieu int\n",
        "\n",
        "\n",
        "def ReadArr():\n",
        "    return [int(x) for x in input().split()]\n",
        "\n",
        "\n",
        "if __name__ == '__main__':\n",
        "    n, m = read()\n",
        "    tail = 10\n",
        "    while(tail <= n):\n",
        "        tail *= 10\n",
        "    ans = (m//tail)\n",
        "    if(m % tail >= n):\n",
        "        ans += 1\n",
        "    print(ans)\n"
      ],
      "execution_count": null,
      "outputs": []
    }
  ]
}