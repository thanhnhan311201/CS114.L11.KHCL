{
  "nbformat": 4,
  "nbformat_minor": 0,
  "metadata": {
    "colab": {
      "name": "TronDay.ipynb",
      "provenance": [],
      "collapsed_sections": [],
      "include_colab_link": true
    },
    "kernelspec": {
      "name": "python3",
      "display_name": "Python 3"
    }
  },
  "cells": [
    {
      "cell_type": "markdown",
      "metadata": {
        "id": "view-in-github",
        "colab_type": "text"
      },
      "source": [
        "<a href=\"https://colab.research.google.com/github/thanhnhan311201/CS114.L11.KHCL/blob/master/TronDay.ipynb\" target=\"_parent\"><img src=\"https://colab.research.google.com/assets/colab-badge.svg\" alt=\"Open In Colab\"/></a>"
      ]
    },
    {
      "cell_type": "markdown",
      "metadata": {
        "id": "D8ldPY7rRrNa"
      },
      "source": [
        "# Code: Lê Quang Huy.\n",
        "# Tên bài : Trộn Dãy.\n",
        "# Link : https://khmt.uit.edu.vn/laptrinh/csx101/view_problem/3/36\n",
        "# Tóm tắt đề :\n",
        "- Cho 2 mảng A và B được sắp xếp tăng dần, Trộn hai mảng để được 1 mảng tăng dần có tất cả phần tử của 2 mảng đã cho.\n",
        "\n",
        "# Ý tưởng :\n",
        "- Tạo 2 biến làm chốt ở 2 đầu mảng A và B.\n",
        "- Khi mà cả 2 chốt chưa đến cuối mảng thì in phần tử nhỏ nhất ở 2 chốt ra và tăng vị trí của chốt đó lên 1.(Quá trình sẽ dừng lại khi 1 mảng đã được in hết ).\n",
        "- Sau khi một mảng đã được in hết, in các phần tử của mảng còn lại."
      ]
    },
    {
      "cell_type": "code",
      "metadata": {
        "id": "fbMzP_LbRn8Z"
      },
      "source": [
        "def read(str='i'):  # Doc Nhieu so tren 1 hang roi ep kieu\n",
        "    if(str == \"float\"):  # Neu tham so truyen vao == 'float' thi se doc cac so va ep kieu float\n",
        "        return map(float, input().split())\n",
        "    return map(int, input().split())  # Neu khong ep kieu int\n",
        "\n",
        "\n",
        "def ReadArr():\n",
        "    return [int(x) for x in input().split()]\n",
        "\n",
        "\n",
        "if __name__ == '__main__':\n",
        "    n1, n2 = read()\n",
        "    A = ReadArr()\n",
        "    B = ReadArr()\n",
        "    pivotA = 0\n",
        "    pivotB = 0\n",
        "    while n1 > pivotA and n2 > pivotB:\n",
        "        check = 0\n",
        "        if(A[pivotA] < B[pivotB]):\n",
        "            print(A[pivotA], end=\" \")\n",
        "            check = 1\n",
        "        else:\n",
        "            print(B[pivotB], end=\" \")\n",
        "        if check:\n",
        "            pivotA += 1\n",
        "        else:\n",
        "            pivotB += 1\n",
        "\n",
        "    while pivotA < n1:\n",
        "        print(A[pivotA], end=\" \")\n",
        "        pivotA += 1\n",
        "\n",
        "    while pivotB < n2:\n",
        "        print(B[pivotB], end=\" \")\n",
        "        pivotB += 1\n"
      ],
      "execution_count": null,
      "outputs": []
    }
  ]
}