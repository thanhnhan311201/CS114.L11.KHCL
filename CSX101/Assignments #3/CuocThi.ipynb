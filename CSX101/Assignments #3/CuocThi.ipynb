{
  "nbformat": 4,
  "nbformat_minor": 0,
  "metadata": {
    "colab": {
      "name": "CuocThi.ipynb",
      "provenance": [],
      "include_colab_link": true
    },
    "kernelspec": {
      "name": "python3",
      "display_name": "Python 3"
    }
  },
  "cells": [
    {
      "cell_type": "markdown",
      "metadata": {
        "id": "view-in-github",
        "colab_type": "text"
      },
      "source": [
        "<a href=\"https://colab.research.google.com/github/thanhnhan311201/CS114.L11.KHCL/blob/master/CuocThi.ipynb\" target=\"_parent\"><img src=\"https://colab.research.google.com/assets/colab-badge.svg\" alt=\"Open In Colab\"/></a>"
      ]
    },
    {
      "cell_type": "markdown",
      "metadata": {
        "id": "fFhrOWF34oHI"
      },
      "source": [
        "# Code: Lê Quang Huy\n",
        "# Tên Bài: CuocThi\n",
        "# Link: https://khmt.uit.edu.vn/laptrinh/csx101/view_problem/3/35\n",
        "# Tóm tắt đề :\n",
        "- Có n thí sinh tham gia vòng loại ở một cuộc thi lập trình. Để được vào vòng chung kết, các thí sinh phải có số điểm là một số nguyên dương và phải lớn hơn hoặc bằng số điểm của người đang đứng ở vị trí thứ \n",
        "k trong bảng xếp hạng.\n",
        "- Nhiệm vụ của bạn là tìm xem có bao nhiêu thí sinh tham dự vòng chung kết.\n",
        "# Ý tưởng :\n",
        "- Tạo 1 biến đếm lưu số lượng thí sinh tham dự dung kết.\n",
        "- Duyệt lần lượt từng phần tử trong mảng, nếu phần tử ở vị trí i không âm và không bé hơn phần tử ở vị trí k thì tăng biến đếm lên 1."
      ]
    },
    {
      "cell_type": "code",
      "metadata": {
        "id": "A35wqO2nvR7n",
        "outputId": "e6233bd5-a1a4-4615-e88f-7b4ee2d50d9a",
        "colab": {
          "base_uri": "https://localhost:8080/"
        }
      },
      "source": [
        "\n",
        "\n",
        "\n",
        "def read(str='i'):  # Doc Nhieu so tren 1 hang roi ep kieu\n",
        "  if(str == \"float\"):  # Neu tham so truyen vao == 'float' thi se doc cac so va ep kieu float\n",
        "      return map(float, input().split())\n",
        "  return map(int, input().split())  # Neu khong ep kieu int\n",
        "\n",
        "\n",
        "def ReadArr():\n",
        "  return [int(x) for x in input().split()]\n",
        "\n",
        "if __name__ == '__main__':\n",
        "  n, k = read()\n",
        "  A = ReadArr()\n",
        "  count = 0\n",
        "  for x in A:\n",
        "    if x> 0 and x >= A[k-1]:\n",
        "      count += 1\n",
        "  print(count)\n",
        "      "
      ],
      "execution_count": null,
      "outputs": [
        {
          "output_type": "stream",
          "text": [
            "8 5\n",
            "10 9 8 7 7 7 5 5\n",
            "6\n"
          ],
          "name": "stdout"
        }
      ]
    }
  ]
}