{
  "nbformat": 4,
  "nbformat_minor": 0,
  "metadata": {
    "colab": {
      "name": "Lan'sLanguage.ipynb",
      "provenance": [],
      "collapsed_sections": [],
      "include_colab_link": true
    },
    "kernelspec": {
      "name": "python3",
      "display_name": "Python 3"
    }
  },
  "cells": [
    {
      "cell_type": "markdown",
      "metadata": {
        "id": "view-in-github",
        "colab_type": "text"
      },
      "source": [
        "<a href=\"https://colab.research.google.com/github/thanhnhan311201/CS114.L11.KHCL/blob/master/Lan'sLanguage.ipynb\" target=\"_parent\"><img src=\"https://colab.research.google.com/assets/colab-badge.svg\" alt=\"Open In Colab\"/></a>"
      ]
    },
    {
      "cell_type": "markdown",
      "metadata": {
        "id": "eXZ61dYMZ1cy"
      },
      "source": [
        "# Code: Lê Quang Huy.\n",
        "# Tên Bài : Lan's Language.\n",
        "# Link: https://khmt.uit.edu.vn/laptrinh/csx101/view_problem/3/16.\n",
        "# Đề bài : \n",
        "- Có 3 loại từ trong Lan's Language: danh từ, động từ và tính từ. Mỗi từ trong Lan's Language thuộc một trong 3 loại từ đó.\n",
        "- Có 2 giới tính: Nam và Nữ. Mỗi từ trong Lan's Language thuộc một trong 2 giới tính đó.\n",
        "- Tính từ nam là những từ kết thúc với -lios và Tính từ nữ là những từ kết thúc với -liala.\n",
        "- Danh từ nam là những từ kết thúc với -etr và  Danh từ nữ là những từ kết thúc với -etra.\n",
        "- Động từ nam là những từ kết thúc với -initis và  Động từ nữ là những từ kết thúc với -inites.\n",
        "- Các từ trong Lan's Language luôn kết thúc bằng 1 trong các đuôi trên.\n",
        "- Các từ mà chỉ có mỗi đuôi như \"lios\", \"liala\", \"etr\"... cũng thuộc Lan's Language.\n",
        "- Một câu trong Lan's Language là một từ hợp lệ (thỏa những tính chất trong Lan's Language) hoặc là một mệnh đề hợp lệ.\n",
        "Một mệnh đề hợp lệ trong Lan's language phải thỏa 2 điều kiện sau:\n",
        "- Những từ trong mệnh đề phải hợp lệ và được sắp xếp theo thứ tự: Tính từ + Danh từ + Động từ. Trong đó: Tính từ có thể có 1 hoặc nhiều hoặc không có nhưng phải đứng trước Danh từ. Chỉ có duy nhất một Danh từ trong câu. Động từ có thể có 1 hoặc nhiều hoặc không có nhưng phải đứng sau Danh từ.\n",
        "- Tất cả các từ trong mệnh đề phải cùng giới tính.\n",
        "- Cho 1 câu gồm 1 chuỗi các từ, kiểm tra xem chuỗi đã cho có thỏa mãn những tính chất của Lan's language hay không?\n",
        "# Ý tưởng :\n",
        "- Đầu tiền ta đưa những từ trong câu về  thành từng nhóm theo nguyên tắc: \n",
        "- Những từ mang giới tính Nam sẽ có giá trị trong khoảng [1,3].\n",
        "- Những từ mang giới tính Nữ sẽ có giá trị trong khoảng [-3,-1]\n",
        "- Những từ không thuộc Lan's Language sẽ mang giá trị 0.\n",
        "- Giá trị 1 và -1 sẽ biểu diễn tính từ\n",
        "- Giá trị 2 và -2 sẽ biểu diễn danh từ\n",
        "- Giá trị 3 và -3 sẽ biểu diễn động từ.\n",
        "- Sau khi đã phân loại các từ ta sẽ được một mảng A đại diền cho các từ gồm các số nguyên có độ lớn từ 1->3.\n",
        "- Theo yêu cầu của đề  bài thì mảng A muốn hợp lệ thì hoặc chỉ có 1 phần tử, hoặc là mảng tăng dần và phần tử mang giá trị 2 chỉ xuất hiện đúng 1 lần. Ta chỉ cần sắp xếp lại mảng để so sánh ms mảng ban đầu và kiểm tra điều kiện như trên là xong."
      ]
    },
    {
      "cell_type": "code",
      "metadata": {
        "id": "klYpUdNGZueC"
      },
      "source": [
        "def read(str='i'):  # Doc Nhieu so tren 1 hang roi ep kieu\n",
        "    if(str == \"float\"):  # Neu tham so truyen vao == 'float' thi se doc cac so va ep kieu float\n",
        "        return map(float, input().split())\n",
        "    return map(int, input().split())  # Neu khong ep kieu int\n",
        "\n",
        "\n",
        "def ReadArr():\n",
        "    return [(x) for x in input().split()]\n",
        "\n",
        "\n",
        "D = {'lios': 1, 'etr': 2, 'initis': 3, 'liala': -1, 'etra': -2, 'inites': -3}\n",
        "\n",
        "\n",
        "def getType(w):\n",
        "    if w[-4:] in D:\n",
        "        return D[w[-4:]]\n",
        "\n",
        "    if w[-3:] in D:\n",
        "        return D[w[-3:]]\n",
        "\n",
        "    if w[-5:] in D:\n",
        "        return D[w[-5:]]\n",
        "\n",
        "    if w[-6:] in D:\n",
        "        return D[w[-6:]]\n",
        "\n",
        "    return 0\n",
        "\n",
        "\n",
        "def initArr(S):\n",
        "    S = [getType(x) for x in S]\n",
        "    return S\n",
        "\n",
        "\n",
        "def solve(S):\n",
        "    if len(S) == 1:\n",
        "        if S[0] == 0:\n",
        "            return 'NO'\n",
        "        return 'YES'\n",
        "\n",
        "    for i in range(len(S)):\n",
        "        if S[i]*S[0] < 0:\n",
        "            print(S[i], S[0])\n",
        "            return 'NO'\n",
        "    for i in range(len(S)):\n",
        "        S[i] = abs(S[i])\n",
        "    count2 = 0\n",
        "    newS = sorted(S)\n",
        "    for i in range(len(S)):\n",
        "        if newS[i] == 2:\n",
        "            count2 += 1\n",
        "        if count2 > 1 or newS[i] != S[i]:\n",
        "            return 'NO'\n",
        "    if count2 == 0:\n",
        "        return 'NO'\n",
        "    return 'YES'\n",
        "\n",
        "\n",
        "if __name__ == '__main__':\n",
        "    S = ReadArr()\n",
        "    S = initArr(S)\n",
        "    print(solve(S))\n"
      ],
      "execution_count": null,
      "outputs": []
    }
  ]
}