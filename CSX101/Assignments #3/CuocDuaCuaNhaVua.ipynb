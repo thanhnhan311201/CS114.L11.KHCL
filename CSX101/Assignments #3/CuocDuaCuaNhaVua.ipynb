{
  "nbformat": 4,
  "nbformat_minor": 0,
  "metadata": {
    "colab": {
      "name": "CuocDuaCuaNhaVua.ipynb",
      "provenance": [],
      "collapsed_sections": [],
      "authorship_tag": "ABX9TyPyS1A0N2yLYyxRkfI+gRd+",
      "include_colab_link": true
    },
    "kernelspec": {
      "name": "python3",
      "display_name": "Python 3"
    }
  },
  "cells": [
    {
      "cell_type": "markdown",
      "metadata": {
        "id": "view-in-github",
        "colab_type": "text"
      },
      "source": [
        "<a href=\"https://colab.research.google.com/github/thanhnhan311201/CS114.L11.KHCL/blob/master/CuocDuaCuaNhaVua.ipynb\" target=\"_parent\"><img src=\"https://colab.research.google.com/assets/colab-badge.svg\" alt=\"Open In Colab\"/></a>"
      ]
    },
    {
      "cell_type": "markdown",
      "metadata": {
        "id": "dk4qWZzZLX5n"
      },
      "source": [
        "# Code : Lê Quang Huy.\n",
        "# Tên bài : Cuộc đua của nhà vua \n",
        "# Link : https://khmt.uit.edu.vn/laptrinh/csx101/view_problem/3/34.\n",
        "# Đề Bài : \n",
        "- Cho 1 bàn cờ nxn, vua trắng đứng ở ô (1,1), vua đen đứng ở ô (n, n).\n",
        "\n",
        "- Tương tự như cờ vua, Vua trắng sẽ đi trước rồi tới lượt Vua đen và cứ thế luân phiên nhau. Mỗi lần chỉ được di chuyển đến ô liền kề nó nhất. Nếu Vua đang ở vị trí (a,b) thì có thể di chuyển đến một trong các vị trí (a+1,b), (a−1,b), (a,b+1), (a,b−1), (a+1,b−1), (a+1,b+1), (a−1,b−1), hoặc (a−1,b+1). Tất nhiên không được di chuyển ra khỏi bàn cờ.\n",
        "\n",
        "- Điểm khác biệt là các vị vua có thể đứng ở những vị trí kế nhau hoặc thậm chí là trùng vị trí với nhau.\n",
        "\n",
        "- Có 1 kho báu ở vị trí (x, y) hỏi vua trắng hay vua đen sẽ đến trước.\n",
        "# Ý tưởng :\n",
        "- So sánh cách đi ngắn nhất mỗi Vua phải đi ở vị trí (1, 1) và (n, n) đến vị trí (x, y) của kho báu.\n",
        "\n",
        "- Vua đen chỉ thắng nếu đường đi của vua đen nhỏ hơn đường đi của vua trắng.\n",
        "- Cách đi ngắn nhất : di chuyển theo đường chéo (một cách hợp lệ ) đến khi cùng hàng hoặc cùng cột với ô (x, y)\n"
      ]
    },
    {
      "cell_type": "code",
      "metadata": {
        "id": "NvKfYjtKK9Z8"
      },
      "source": [
        "def read(str = 'i'): #return read(\"int\")\n",
        "\tif(str == \"float\"):\n",
        "\t\treturn map(float, input().split())\n",
        "\treturn map(int, input().split())\n",
        "\n",
        "\n",
        "def ReadArr():\n",
        "\treturn [x for x in input().split()]\n",
        "\n",
        "if __name__ == '__main__':\n",
        "\tn = int(input())\n",
        "\tx, y = read('int')\n",
        "\tWhite = min(x, y) - 1 + max(x, y) - min(x,y)\n",
        "\tBlack = n - max(x, y) +\tmax(x, y) - min(x,y)\n",
        "\tif(White <= Black):\n",
        "\t\tprint('White')\n",
        "\telse:\n",
        "\t\tprint(\"Black\")"
      ],
      "execution_count": null,
      "outputs": []
    }
  ]
}