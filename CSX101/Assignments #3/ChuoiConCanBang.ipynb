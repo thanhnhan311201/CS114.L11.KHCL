{
  "nbformat": 4,
  "nbformat_minor": 0,
  "metadata": {
    "colab": {
      "name": "ChuoiConCanBang.ipynb",
      "provenance": [],
      "include_colab_link": true
    },
    "kernelspec": {
      "name": "python3",
      "display_name": "Python 3"
    }
  },
  "cells": [
    {
      "cell_type": "markdown",
      "metadata": {
        "id": "view-in-github",
        "colab_type": "text"
      },
      "source": [
        "<a href=\"https://colab.research.google.com/github/thanhnhan311201/CS114.L11.KHCL/blob/master/ChuoiConCanBang.ipynb\" target=\"_parent\"><img src=\"https://colab.research.google.com/assets/colab-badge.svg\" alt=\"Open In Colab\"/></a>"
      ]
    },
    {
      "cell_type": "markdown",
      "metadata": {
        "id": "5xb8vSNkDfvZ"
      },
      "source": [
        "# Code : Lê Quang Huy.\n",
        "# Tên bài : Chuỗi con cân bằng.\n",
        "# Link : https://khmt.uit.edu.vn/laptrinh/csx101/view_problem/3/28\n",
        "# Tóm tắt đề :\n",
        "  Cho chuỗi con có độ dài n chỉ bao gồm các ký tự in hoa từ [A..Z].\n",
        "  Tìm chuỗi con dài nhất mà tần số xuất hiện của k ký tự đầu tiên là như nhau.   \n",
        "# Lời giải :\n",
        "# Nhận xét :\n",
        "1. Giả sử như tần số xuất hiện của k ký tự đầu tiên trong chuỗi con là Count[0], Count[1] ... Count[k-1] và Count[x] là tần sổ xuất hiện nhỏ nhất. Để thỏa mãn yêu cầu bài toán thì mỗi kí tự khác cũng phải xuất hiện đúng Count[x] lần.\n",
        "2. Nhận thấy rằng nếu đã có 1 chuỗi con thỏa mãn yêu cầu bài toán, việc thêm (26-k) loại kí tự còn lại sẽ giúp tăng thêm chiều dài của chuỗi hiện có mà vẫn thoã mãn yêu cầu đề bài.\n",
        "\n",
        "# Ý tưởng : \n",
        "\n",
        "1. Tạo mảng Count đếm tần số của 26 ký tự và 1 Len lưu độ dài dài nhất của chuỗi con \n",
        "2. Tìm giá trị nhỏ nhất của k phần tử đầu tiên, Độ dài của chuỗi con cần bằng chỉ với k ký tự đầu tiên sẽ là Len = k*Count[x] (với Count[x] là phần tử  nhỏ nhất trong k ký tự đầu tiên).\n",
        "3. Sau đó Cộng tất cả tần số của các ký tự không nằm trong k ký tự đầu tiên vào Len.\n",
        "\n",
        "\n"
      ]
    },
    {
      "cell_type": "code",
      "metadata": {
        "id": "X3XKCcJW8It7",
        "outputId": "fde50b08-b468-4e15-b08c-47bae32e4b42",
        "colab": {
          "base_uri": "https://localhost:8080/"
        }
      },
      "source": [
        "def read(str='i'):  # Doc Nhieu so tren 1 hang roi ep kieu\n",
        "    if(str == \"float\"):  # Neu tham so truyen vao == 'float' thi se doc cac so va ep kieu float\n",
        "        return map(float, input().split())\n",
        "    return map(int, input().split())  # Neu khong ep kieu int\n",
        "\n",
        "\n",
        "def ReadArr():\n",
        "    return [int(x) for x in input().split()]\n",
        "\n",
        "\n",
        "if __name__ == '__main__':\n",
        "    n, k = read()\n",
        "    S = input()\n",
        "    Count = [0]*26\n",
        "    Len = 10**5\n",
        "    for x in S:\n",
        "        Count[ord(x)-ord('A')] += 1\n",
        "    for i in range(k):\n",
        "        Len = min(Len, Count[i])\n",
        "    Len *= k\n",
        "    if(Len == 0):\n",
        "        print(0)\n",
        "    else:\n",
        "        for i in range(k+1, 26):\n",
        "            Len = Len + Count[i]\n",
        "        print(Len)\n"
      ],
      "execution_count": null,
      "outputs": [
        {
          "output_type": "stream",
          "text": [
            "9 3\n",
            "ACAABCCAB\n",
            "0\n"
          ],
          "name": "stdout"
        }
      ]
    }
  ]
}