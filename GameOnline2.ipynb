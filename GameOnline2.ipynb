{
  "nbformat": 4,
  "nbformat_minor": 0,
  "metadata": {
    "colab": {
      "name": "GameOnline2.ipynb",
      "provenance": [],
      "collapsed_sections": [],
      "authorship_tag": "ABX9TyPmeN8T5+fRdXHUohMqWPXz",
      "include_colab_link": true
    },
    "kernelspec": {
      "name": "python3",
      "display_name": "Python 3"
    }
  },
  "cells": [
    {
      "cell_type": "markdown",
      "metadata": {
        "id": "view-in-github",
        "colab_type": "text"
      },
      "source": [
        "<a href=\"https://colab.research.google.com/github/thanhnhan311201/CS114.L11.KHCL/blob/master/GameOnline2.ipynb\" target=\"_parent\"><img src=\"https://colab.research.google.com/assets/colab-badge.svg\" alt=\"Open In Colab\"/></a>"
      ]
    },
    {
      "cell_type": "markdown",
      "metadata": {
        "id": "DnoL6fAQz1ls"
      },
      "source": [
        "# Code : Lê Quang Huy.\n",
        "# Tên bài : Online game 2\n",
        "# Link : https://khmt.uit.edu.vn/laptrinh/csx101/view_problem/5/49\n",
        "# Đề bài : \n",
        "- Thực hiện các truy vấn trên 1 hệ thống game:\n",
        "  - Truy vấn dạng 1 x: game thủ x đăng nhập vào hệ thống.\n",
        "  - Truy vấn dạng 2 x: kiểm tra xem game thủ x có trong hệ thống hay k.\n",
        "  - Truy vấn dạng 3 x: game thủ x đăng xuất ra khỏi hệ thống.\n",
        "# Ý tưởng :\n",
        "- Dùng dictionary D để  biểu diễn hệ thống.\n",
        "- Truy vấn dạng 1 x : thêm x vào dictionary, đánh dấu D[x]= 1.\n",
        "- Truy vấn dạng 2 x : kiểm tra xem D[x] đã được thêm vào D hay chưa, nếu không có x in ra 0, nếu có thì in ra D[x]\n",
        "- Truy vấn dạng 3 x : thêm x vào dictionary, đánh dấu D[x]= 0."
      ]
    },
    {
      "cell_type": "code",
      "metadata": {
        "id": "ZGokG9iEzfvn"
      },
      "source": [
        "def read(str = 'i'): #return read(\"int\")\n",
        "\tif(str == \"float\"):\n",
        "\t\treturn map(float, input().split())\n",
        "\treturn map(int, input().split())\n",
        "\n",
        "\n",
        "def ReadArr():\n",
        "\treturn [int(x) for x in input().split()]\n",
        "\n",
        "if __name__ == '__main__':\n",
        "\tmydict = {}\n",
        "\twhile True:\n",
        "\t\tar = ReadArr()\n",
        "\t\tif ar[0] == 0:\n",
        "\t\t\tbreak\n",
        "\t\telif ar[0] == 1:\n",
        "\t\t\tmydict[ar[1]] = 1\n",
        "\t\telif ar[0] == 3:\n",
        "\t\t\tmydict[ar[1]] = 0\n",
        "\t\telif ar[0] == 2:\n",
        "\t\t\tif ar[1] in mydict:\n",
        "\t\t\t\tprint(mydict[ar[1]])\n",
        "\t\t\telse:\n",
        "\t\t\t\tprint(0)"
      ],
      "execution_count": null,
      "outputs": []
    }
  ]
}