{
  "nbformat": 4,
  "nbformat_minor": 0,
  "metadata": {
    "colab": {
      "name": "PreprocessingAndSplitData.ipynb",
      "provenance": [],
      "authorship_tag": "ABX9TyN7vVX76H023eMBqMWVgY8q",
      "include_colab_link": true
    },
    "kernelspec": {
      "name": "python3",
      "display_name": "Python 3"
    },
    "accelerator": "GPU"
  },
  "cells": [
    {
      "cell_type": "markdown",
      "metadata": {
        "id": "view-in-github",
        "colab_type": "text"
      },
      "source": [
        "<a href=\"https://colab.research.google.com/github/thanhnhan311201/CS114.L11.KHCL/blob/master/PreprocessingAndSplitData.ipynb\" target=\"_parent\"><img src=\"https://colab.research.google.com/assets/colab-badge.svg\" alt=\"Open In Colab\"/></a>"
      ]
    },
    {
      "cell_type": "code",
      "metadata": {
        "id": "EXxUk_QydUHi",
        "colab": {
          "base_uri": "https://localhost:8080/"
        },
        "outputId": "4a37ffcc-a466-4545-c8d7-80a0420e037a"
      },
      "source": [
        "from google.colab import drive \n",
        "drive.mount('/content/drive')"
      ],
      "execution_count": null,
      "outputs": [
        {
          "output_type": "stream",
          "text": [
            "Mounted at /content/drive\n"
          ],
          "name": "stdout"
        }
      ]
    },
    {
      "cell_type": "code",
      "metadata": {
        "colab": {
          "base_uri": "https://localhost:8080/"
        },
        "id": "_UUmraGfplt_",
        "outputId": "25874dea-5a64-4919-cb34-fd055f78b649"
      },
      "source": [
        "%cd /content/drive/MyDrive/Dataset"
      ],
      "execution_count": null,
      "outputs": [
        {
          "output_type": "stream",
          "text": [
            "/content/drive/MyDrive/Dataset\n"
          ],
          "name": "stdout"
        }
      ]
    },
    {
      "cell_type": "code",
      "metadata": {
        "id": "erxMQUkvp-na"
      },
      "source": [
        "!unzip HandWrittenData.zip"
      ],
      "execution_count": null,
      "outputs": []
    },
    {
      "cell_type": "code",
      "metadata": {
        "id": "o8d8Azb8qIzn"
      },
      "source": [
        "folder = '/content/drive/MyDrive/Dataset/Dataset'\n"
      ],
      "execution_count": null,
      "outputs": []
    },
    {
      "cell_type": "code",
      "metadata": {
        "id": "KzgEOGUyrW7z"
      },
      "source": [
        "import os\n",
        "import pandas as pd\n",
        "import matplotlib.pyplot as plt\n",
        "from PIL import Image\n",
        "import cv2"
      ],
      "execution_count": null,
      "outputs": []
    },
    {
      "cell_type": "code",
      "metadata": {
        "colab": {
          "base_uri": "https://localhost:8080/"
        },
        "id": "3QATilE1r2pt",
        "outputId": "b86c75e9-febf-4385-8164-80495e834701"
      },
      "source": [
        "print(sorted(os.listdir(folder)))"
      ],
      "execution_count": null,
      "outputs": [
        {
          "output_type": "stream",
          "text": [
            "['a', 'à', 'á', 'â', 'ầ', 'ấ', 'ẫ', 'ẩ', 'ã', 'ă', 'ằ', 'ắ', 'ẵ', 'ẳ', 'ả', 'ạ', 'ậ', 'ặ', 'b', 'c', 'd', 'e', 'è', 'é', 'ê', 'ề', 'ế', 'ễ', 'ể', 'ẽ', 'ẻ', 'ẹ', 'ệ', 'g', 'h', 'i', 'ì', 'í', 'ĩ', 'ỉ', 'ị', 'k', 'l', 'm', 'n', 'o', 'ò', 'ó', 'ô', 'ồ', 'ố', 'ỗ', 'ổ', 'õ', 'ỏ', 'ơ', 'ờ', 'ớ', 'ỡ', 'ở', 'ợ', 'ọ', 'ộ', 'p', 'q', 'r', 's', 't', 'u', 'ù', 'ú', 'ũ', 'ủ', 'ư', 'ừ', 'ứ', 'ữ', 'ử', 'ự', 'ụ', 'v', 'x', 'y', 'ỳ', 'ý', 'ỹ', 'ỷ', 'ỵ', 'đ']\n"
          ],
          "name": "stdout"
        }
      ]
    },
    {
      "cell_type": "code",
      "metadata": {
        "colab": {
          "base_uri": "https://localhost:8080/"
        },
        "id": "4dnpfqq4sBRS",
        "outputId": "8f0b53fc-6e38-4507-9bd9-23a334c16328"
      },
      "source": [
        "list_char = (sorted(os.listdir(folder)))\n",
        "print(list_char)\n",
        "print(len(list_char))"
      ],
      "execution_count": null,
      "outputs": [
        {
          "output_type": "stream",
          "text": [
            "['a', 'à', 'á', 'â', 'ầ', 'ấ', 'ẫ', 'ẩ', 'ã', 'ă', 'ằ', 'ắ', 'ẵ', 'ẳ', 'ả', 'ạ', 'ậ', 'ặ', 'b', 'c', 'd', 'e', 'è', 'é', 'ê', 'ề', 'ế', 'ễ', 'ể', 'ẽ', 'ẻ', 'ẹ', 'ệ', 'g', 'h', 'i', 'ì', 'í', 'ĩ', 'ỉ', 'ị', 'k', 'l', 'm', 'n', 'o', 'ò', 'ó', 'ô', 'ồ', 'ố', 'ỗ', 'ổ', 'õ', 'ỏ', 'ơ', 'ờ', 'ớ', 'ỡ', 'ở', 'ợ', 'ọ', 'ộ', 'p', 'q', 'r', 's', 't', 'u', 'ù', 'ú', 'ũ', 'ủ', 'ư', 'ừ', 'ứ', 'ữ', 'ử', 'ự', 'ụ', 'v', 'x', 'y', 'ỳ', 'ý', 'ỹ', 'ỷ', 'ỵ', 'đ']\n",
            "89\n"
          ],
          "name": "stdout"
        }
      ]
    },
    {
      "cell_type": "code",
      "metadata": {
        "id": "ZuD2trYJto7-"
      },
      "source": [
        "FJoin = os.path.join"
      ],
      "execution_count": null,
      "outputs": []
    },
    {
      "cell_type": "markdown",
      "metadata": {
        "id": "M4Pnx4qtswcM"
      },
      "source": [
        "# Duyệt tất cả các ảnh để lấy và thống kê kích thước của các ảnh "
      ]
    },
    {
      "cell_type": "code",
      "metadata": {
        "id": "Qv8-t-jnsQtL"
      },
      "source": [
        "size = []\n",
        "char_link = [FJoin(folder, f) for f in list_char]\n",
        "for link in char_link:\n",
        "    for img_id in os.listdir(link):\n",
        "        img = Image.open(FJoin(link, img_id))\n",
        "        size.append(img.size)\n",
        "print(size)"
      ],
      "execution_count": null,
      "outputs": []
    },
    {
      "cell_type": "code",
      "metadata": {
        "colab": {
          "base_uri": "https://localhost:8080/",
          "height": 287
        },
        "id": "a5u5jD_jvs9H",
        "outputId": "3c44e4a4-f8ed-43ea-dfcd-e90404cb1d36"
      },
      "source": [
        "df = pd.DataFrame(size, columns=['width', 'height'])\n",
        "df.describe()"
      ],
      "execution_count": null,
      "outputs": [
        {
          "output_type": "execute_result",
          "data": {
            "text/html": [
              "<div>\n",
              "<style scoped>\n",
              "    .dataframe tbody tr th:only-of-type {\n",
              "        vertical-align: middle;\n",
              "    }\n",
              "\n",
              "    .dataframe tbody tr th {\n",
              "        vertical-align: top;\n",
              "    }\n",
              "\n",
              "    .dataframe thead th {\n",
              "        text-align: right;\n",
              "    }\n",
              "</style>\n",
              "<table border=\"1\" class=\"dataframe\">\n",
              "  <thead>\n",
              "    <tr style=\"text-align: right;\">\n",
              "      <th></th>\n",
              "      <th>width</th>\n",
              "      <th>height</th>\n",
              "    </tr>\n",
              "  </thead>\n",
              "  <tbody>\n",
              "    <tr>\n",
              "      <th>count</th>\n",
              "      <td>14849.000000</td>\n",
              "      <td>14849.000000</td>\n",
              "    </tr>\n",
              "    <tr>\n",
              "      <th>mean</th>\n",
              "      <td>54.695400</td>\n",
              "      <td>63.144589</td>\n",
              "    </tr>\n",
              "    <tr>\n",
              "      <th>std</th>\n",
              "      <td>1.809921</td>\n",
              "      <td>3.832942</td>\n",
              "    </tr>\n",
              "    <tr>\n",
              "      <th>min</th>\n",
              "      <td>52.000000</td>\n",
              "      <td>58.000000</td>\n",
              "    </tr>\n",
              "    <tr>\n",
              "      <th>25%</th>\n",
              "      <td>52.000000</td>\n",
              "      <td>58.000000</td>\n",
              "    </tr>\n",
              "    <tr>\n",
              "      <th>50%</th>\n",
              "      <td>56.000000</td>\n",
              "      <td>66.000000</td>\n",
              "    </tr>\n",
              "    <tr>\n",
              "      <th>75%</th>\n",
              "      <td>56.000000</td>\n",
              "      <td>66.000000</td>\n",
              "    </tr>\n",
              "    <tr>\n",
              "      <th>max</th>\n",
              "      <td>58.000000</td>\n",
              "      <td>68.000000</td>\n",
              "    </tr>\n",
              "  </tbody>\n",
              "</table>\n",
              "</div>"
            ],
            "text/plain": [
              "              width        height\n",
              "count  14849.000000  14849.000000\n",
              "mean      54.695400     63.144589\n",
              "std        1.809921      3.832942\n",
              "min       52.000000     58.000000\n",
              "25%       52.000000     58.000000\n",
              "50%       56.000000     66.000000\n",
              "75%       56.000000     66.000000\n",
              "max       58.000000     68.000000"
            ]
          },
          "metadata": {
            "tags": []
          },
          "execution_count": 19
        }
      ]
    },
    {
      "cell_type": "markdown",
      "metadata": {
        "id": "G6eMPi68v5Km"
      },
      "source": [
        "- Chiều rộng nhỏ nhất của ảnh : 52 \n",
        "- Chiều dài nhỏ nhất của ảnh : 58 \n",
        "\n",
        "=> Ta resize tất cả các ảnh về  kích thước nhỏ nhất (52, 58) "
      ]
    },
    {
      "cell_type": "code",
      "metadata": {
        "id": "YWCXkiflwhW2"
      },
      "source": [
        "for link in char_link:\n",
        "    for img_id in os.listdir(link):\n",
        "        img = Image.open(FJoin(link, img_id))\n",
        "        img = img.resize((52, 58));\n",
        "        img.save(FJoin(link, img_id))"
      ],
      "execution_count": null,
      "outputs": []
    },
    {
      "cell_type": "markdown",
      "metadata": {
        "id": "1aVOuWksx-dW"
      },
      "source": [
        "# Crop và grayscale ảnh:"
      ]
    },
    {
      "cell_type": "markdown",
      "metadata": {
        "id": "tzYtG08izxFx"
      },
      "source": [
        "- Do khi cắt ảnh có sai sót nên một số ảnh bị dính viền đen như hình bên dưới "
      ]
    },
    {
      "cell_type": "code",
      "metadata": {
        "colab": {
          "base_uri": "https://localhost:8080/",
          "height": 284
        },
        "id": "7ctJtRUpx747",
        "outputId": "43465d5e-b30b-444f-cd73-975c9f7c1e43"
      },
      "source": [
        "img = Image.open(FJoin(char_link[0], '7103.jpg'))\n",
        "plt.imshow(img)"
      ],
      "execution_count": null,
      "outputs": [
        {
          "output_type": "execute_result",
          "data": {
            "text/plain": [
              "<matplotlib.image.AxesImage at 0x7fa6d9c81358>"
            ]
          },
          "metadata": {
            "tags": []
          },
          "execution_count": 27
        },
        {
          "output_type": "display_data",
          "data": {
            "image/png": "[encoded data removed]",
            "text/plain": [
              "<Figure size 432x288 with 1 Axes>"
            ]
          },
          "metadata": {
            "tags": [],
            "needs_background": "light"
          }
        }
      ]
    },
    {
      "cell_type": "markdown",
      "metadata": {
        "id": "9kBI_96s0Bsa"
      },
      "source": [
        "- Nhóm quyết định crop và grayscale ảnh để đường viền đen này ít xuất hiện hơn"
      ]
    },
    {
      "cell_type": "code",
      "metadata": {
        "colab": {
          "base_uri": "https://localhost:8080/"
        },
        "id": "FzJLdMM10zAl",
        "outputId": "d174b17e-70f0-4531-aa29-31211bef4af8"
      },
      "source": [
        "print(char_link)"
      ],
      "execution_count": null,
      "outputs": [
        {
          "output_type": "stream",
          "text": [
            "['/content/drive/MyDrive/Dataset/Dataset/a', '/content/drive/MyDrive/Dataset/Dataset/à', '/content/drive/MyDrive/Dataset/Dataset/á', '/content/drive/MyDrive/Dataset/Dataset/â', '/content/drive/MyDrive/Dataset/Dataset/ầ', '/content/drive/MyDrive/Dataset/Dataset/ấ', '/content/drive/MyDrive/Dataset/Dataset/ẫ', '/content/drive/MyDrive/Dataset/Dataset/ẩ', '/content/drive/MyDrive/Dataset/Dataset/ã', '/content/drive/MyDrive/Dataset/Dataset/ă', '/content/drive/MyDrive/Dataset/Dataset/ằ', '/content/drive/MyDrive/Dataset/Dataset/ắ', '/content/drive/MyDrive/Dataset/Dataset/ẵ', '/content/drive/MyDrive/Dataset/Dataset/ẳ', '/content/drive/MyDrive/Dataset/Dataset/ả', '/content/drive/MyDrive/Dataset/Dataset/ạ', '/content/drive/MyDrive/Dataset/Dataset/ậ', '/content/drive/MyDrive/Dataset/Dataset/ặ', '/content/drive/MyDrive/Dataset/Dataset/b', '/content/drive/MyDrive/Dataset/Dataset/c', '/content/drive/MyDrive/Dataset/Dataset/d', '/content/drive/MyDrive/Dataset/Dataset/e', '/content/drive/MyDrive/Dataset/Dataset/è', '/content/drive/MyDrive/Dataset/Dataset/é', '/content/drive/MyDrive/Dataset/Dataset/ê', '/content/drive/MyDrive/Dataset/Dataset/ề', '/content/drive/MyDrive/Dataset/Dataset/ế', '/content/drive/MyDrive/Dataset/Dataset/ễ', '/content/drive/MyDrive/Dataset/Dataset/ể', '/content/drive/MyDrive/Dataset/Dataset/ẽ', '/content/drive/MyDrive/Dataset/Dataset/ẻ', '/content/drive/MyDrive/Dataset/Dataset/ẹ', '/content/drive/MyDrive/Dataset/Dataset/ệ', '/content/drive/MyDrive/Dataset/Dataset/g', '/content/drive/MyDrive/Dataset/Dataset/h', '/content/drive/MyDrive/Dataset/Dataset/i', '/content/drive/MyDrive/Dataset/Dataset/ì', '/content/drive/MyDrive/Dataset/Dataset/í', '/content/drive/MyDrive/Dataset/Dataset/ĩ', '/content/drive/MyDrive/Dataset/Dataset/ỉ', '/content/drive/MyDrive/Dataset/Dataset/ị', '/content/drive/MyDrive/Dataset/Dataset/k', '/content/drive/MyDrive/Dataset/Dataset/l', '/content/drive/MyDrive/Dataset/Dataset/m', '/content/drive/MyDrive/Dataset/Dataset/n', '/content/drive/MyDrive/Dataset/Dataset/o', '/content/drive/MyDrive/Dataset/Dataset/ò', '/content/drive/MyDrive/Dataset/Dataset/ó', '/content/drive/MyDrive/Dataset/Dataset/ô', '/content/drive/MyDrive/Dataset/Dataset/ồ', '/content/drive/MyDrive/Dataset/Dataset/ố', '/content/drive/MyDrive/Dataset/Dataset/ỗ', '/content/drive/MyDrive/Dataset/Dataset/ổ', '/content/drive/MyDrive/Dataset/Dataset/õ', '/content/drive/MyDrive/Dataset/Dataset/ỏ', '/content/drive/MyDrive/Dataset/Dataset/ơ', '/content/drive/MyDrive/Dataset/Dataset/ờ', '/content/drive/MyDrive/Dataset/Dataset/ớ', '/content/drive/MyDrive/Dataset/Dataset/ỡ', '/content/drive/MyDrive/Dataset/Dataset/ở', '/content/drive/MyDrive/Dataset/Dataset/ợ', '/content/drive/MyDrive/Dataset/Dataset/ọ', '/content/drive/MyDrive/Dataset/Dataset/ộ', '/content/drive/MyDrive/Dataset/Dataset/p', '/content/drive/MyDrive/Dataset/Dataset/q', '/content/drive/MyDrive/Dataset/Dataset/r', '/content/drive/MyDrive/Dataset/Dataset/s', '/content/drive/MyDrive/Dataset/Dataset/t', '/content/drive/MyDrive/Dataset/Dataset/u', '/content/drive/MyDrive/Dataset/Dataset/ù', '/content/drive/MyDrive/Dataset/Dataset/ú', '/content/drive/MyDrive/Dataset/Dataset/ũ', '/content/drive/MyDrive/Dataset/Dataset/ủ', '/content/drive/MyDrive/Dataset/Dataset/ư', '/content/drive/MyDrive/Dataset/Dataset/ừ', '/content/drive/MyDrive/Dataset/Dataset/ứ', '/content/drive/MyDrive/Dataset/Dataset/ữ', '/content/drive/MyDrive/Dataset/Dataset/ử', '/content/drive/MyDrive/Dataset/Dataset/ự', '/content/drive/MyDrive/Dataset/Dataset/ụ', '/content/drive/MyDrive/Dataset/Dataset/v', '/content/drive/MyDrive/Dataset/Dataset/x', '/content/drive/MyDrive/Dataset/Dataset/y', '/content/drive/MyDrive/Dataset/Dataset/ỳ', '/content/drive/MyDrive/Dataset/Dataset/ý', '/content/drive/MyDrive/Dataset/Dataset/ỹ', '/content/drive/MyDrive/Dataset/Dataset/ỷ', '/content/drive/MyDrive/Dataset/Dataset/ỵ', '/content/drive/MyDrive/Dataset/Dataset/đ']\n"
          ],
          "name": "stdout"
        }
      ]
    },
    {
      "cell_type": "code",
      "metadata": {
        "id": "3okLkPGX0BP4"
      },
      "source": [
        "for f in char_link:\n",
        "    list_img_link = [FJoin(f, img_link) for img_link in os.listdir(f)]\n",
        "    for img_link in list_img_link:\n",
        "        img = Image.open(img_link)\n",
        "        img = img.crop((3, 3, 50, 56)).convert('1')\n",
        "        img.save(img_link)"
      ],
      "execution_count": null,
      "outputs": []
    },
    {
      "cell_type": "markdown",
      "metadata": {
        "id": "DEhwA53F2aDz"
      },
      "source": [
        "- Ảnh sau khi crop và grayscale "
      ]
    },
    {
      "cell_type": "code",
      "metadata": {
        "colab": {
          "base_uri": "https://localhost:8080/",
          "height": 284
        },
        "id": "IVLpZFBJ03ab",
        "outputId": "5cfbfd46-c8a0-4eb8-bb06-0745bf93e7bf"
      },
      "source": [
        "img = Image.open(FJoin(char_link[0], '7103.jpg'))\n",
        "plt.imshow(img)"
      ],
      "execution_count": null,
      "outputs": [
        {
          "output_type": "execute_result",
          "data": {
            "text/plain": [
              "<matplotlib.image.AxesImage at 0x7fa6d7abe898>"
            ]
          },
          "metadata": {
            "tags": []
          },
          "execution_count": 30
        },
        {
          "output_type": "display_data",
          "data": {
            "image/png": "[encoded data removed]",
            "text/plain": [
              "<Figure size 432x288 with 1 Axes>"
            ]
          },
          "metadata": {
            "tags": [],
            "needs_background": "light"
          }
        }
      ]
    },
    {
      "cell_type": "markdown",
      "metadata": {
        "id": "9YzA3uIC2PGV"
      },
      "source": [
        "# Phân chia tập train và validation:"
      ]
    },
    {
      "cell_type": "markdown",
      "metadata": {
        "id": "pE1CfhQl2j6L"
      },
      "source": [
        "- Để sau này có thể cải tiến model chính xác hơn cũng như tiết kiệm thời gian khi code chia dữ liệu để train và đánh giá, nhóm quyết định chia data ra làm 2 bộ test và validation với tỉ lệ test:validation mỗi class là 8:2"
      ]
    },
    {
      "cell_type": "code",
      "metadata": {
        "id": "6sGYGQQW2YEg"
      },
      "source": [
        "from sklearn.model_selection import train_test_split"
      ],
      "execution_count": null,
      "outputs": []
    },
    {
      "cell_type": "code",
      "metadata": {
        "id": "N7_4A7hA8kkB"
      },
      "source": [
        "index = 0\n",
        "link_train = {}\n",
        "link_val = {}\n",
        "\n",
        "label_train = []\n",
        "label_val = []\n",
        "\n",
        "for f in char_link:\n",
        "    list_img_link = [img_link for img_link in os.listdir(f)]\n",
        "    labels= [index] * len(list_img_link)\n",
        "    train, validation , train_label, val_label = train_test_split(list_img_link, labels, test_size = 0.2, random_state= 30)\n",
        "\n",
        "    link_train[index] = []\n",
        "    link_val[index] = []\n",
        "    for i, j in zip(train, train_label):\n",
        "        link_train[index].append(i)\n",
        "        label_train.append(j)\n",
        "        \n",
        "    for i, j in zip(validation, val_label):\n",
        "        link_val[index].append(i)\n",
        "        label_val.append(j) \n",
        "    print(index, len(train), len(val_label))\n",
        "    index += 1\n",
        "        "
      ],
      "execution_count": null,
      "outputs": []
    },
    {
      "cell_type": "code",
      "metadata": {
        "id": "mt_vBIGl-Ty3"
      },
      "source": [
        "print(link_train)\n",
        "print(label_train)"
      ],
      "execution_count": null,
      "outputs": []
    },
    {
      "cell_type": "code",
      "metadata": {
        "id": "lOCJns9HHUpc"
      },
      "source": [
        "train_folder = '/content/drive/MyDrive/Dataset/train'\n",
        "train_folder_character = [FJoin(train_folder, f) for f in list_char]\n",
        "print(train_folder_character)"
      ],
      "execution_count": null,
      "outputs": []
    },
    {
      "cell_type": "code",
      "metadata": {
        "id": "2-G9mcaLKr4w"
      },
      "source": [
        "for f in train_folder_character:\n",
        "    os.makedirs(f)"
      ],
      "execution_count": null,
      "outputs": []
    },
    {
      "cell_type": "code",
      "metadata": {
        "id": "zesGECBkUhSv"
      },
      "source": [
        "for i in range(89): #duyet tat ca class\n",
        "    list_img = [FJoin(char_link[i], f) for f in link_train[i]] # lay link nhung anh dung de train\n",
        "    save_path = [FJoin(train_folder_character[i],f) for f in link_train[i]]\n",
        "    for link_open, link_save in zip(list_img, save_path):\n",
        "        img = Image.open(link_open)\n",
        "        img.save(link_save)\n"
      ],
      "execution_count": null,
      "outputs": []
    },
    {
      "cell_type": "code",
      "metadata": {
        "id": "ribla3VSZZPk"
      },
      "source": [
        "val_folder = '/content/drive/MyDrive/Dataset/validation'\n",
        "val_folder_character = [FJoin(val_folder, f) for f in list_char]\n",
        "print(val_folder_character)"
      ],
      "execution_count": null,
      "outputs": []
    },
    {
      "cell_type": "code",
      "metadata": {
        "id": "TS-6SV_xav34"
      },
      "source": [
        "for f in val_folder_character:\n",
        "    os.makedirs(f)"
      ],
      "execution_count": null,
      "outputs": []
    },
    {
      "cell_type": "code",
      "metadata": {
        "id": "b_LGNhJvb4LA"
      },
      "source": [
        "for i in range(89): #duyet tat ca class\n",
        "    list_img = [FJoin(char_link[i], f) for f in link_val[i]] # lay link nhung anh dung de train\n",
        "    save_path = [FJoin(val_folder_character[i],f) for f in link_val[i]]\n",
        "    for link_open, link_save in zip(list_img, save_path):\n",
        "        img = Image.open(link_open)\n",
        "        img.save(link_save)\n"
      ],
      "execution_count": null,
      "outputs": []
    }
  ]
}