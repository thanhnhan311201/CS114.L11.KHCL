{
 "cells": [
  {
   "cell_type": "markdown",
   "metadata": {
    "colab_type": "text",
    "id": "view-in-github"
   },
   "source": [
    "<a href=\"https://colab.research.google.com/github/thanhnhan311201/CS114.L11.KHCL/blob/master/Linear.ipynb\" target=\"_parent\"><img src=\"https://colab.research.google.com/assets/colab-badge.svg\" alt=\"Open In Colab\"/></a>"
   ]
  },
  {
   "cell_type": "code",
   "execution_count": null,
   "metadata": {
    "colab": {
     "base_uri": "https://localhost:8080/"
    },
    "id": "YIVER5lEqlP4",
    "outputId": "95d75a36-f16f-4268-cf6d-d0dc98a27d76"
   },
   "outputs": [
    {
     "name": "stdout",
     "output_type": "stream",
     "text": [
      "--2020-11-09 02:20:00--  http://cs.uit.edu.vn/data.txt\n",
      "Resolving cs.uit.edu.vn (cs.uit.edu.vn)... 118.69.123.142\n",
      "Connecting to cs.uit.edu.vn (cs.uit.edu.vn)|118.69.123.142|:80... connected.\n",
      "HTTP request sent, awaiting response... "
     ]
    }
   ],
   "source": [
    "!wget http://cs.uit.edu.vn/data.txt\n",
    "!wget http://cs.uit.edu.vn/data3.txt\n",
    "import matplotlib.pyplot as plt\n",
    "import numpy as np\n",
    "from sklearn import datasets, linear_model\n",
    "from sklearn.metrics import mean_squared_error, r2_score\n",
    "import pandas as pd"
   ]
  },
  {
   "cell_type": "code",
   "execution_count": null,
   "metadata": {
    "id": "2kgIJOC5rSPS"
   },
   "outputs": [],
   "source": [
    "\n",
    "data = pd.read_csv('data.txt', header = None)\n",
    "x = data[0]\n",
    "y = data[1]\n",
    "data3 = pd.read_csv('data3.txt',header= None)\n",
    "x_test = data3[0]\n",
    "y_test = data3[1]"
   ]
  },
  {
   "cell_type": "code",
   "execution_count": null,
   "metadata": {
    "colab": {
     "base_uri": "https://localhost:8080/",
     "height": 348
    },
    "id": "dEItw-89tpoP",
    "outputId": "bd06e366-d5bd-4710-a734-8a3005354fe1"
   },
   "outputs": [
    {
     "name": "stdout",
     "output_type": "stream",
     "text": [
      "Coefficients: \n",
      " [3.29700142]\n",
      "Mean squared error: 0.36312739134182520084337397747731301933526992797852\n",
      "Coefficient of determination: -0.25793293139409878556023159035248681902885437011719\n"
     ]
    },
    {
     "data": {
      "image/png": "[encoded data removed]",
      "text/plain": [
       "<Figure size 432x288 with 1 Axes>"
      ]
     },
     "metadata": {
      "needs_background": "light",
      "tags": []
     },
     "output_type": "display_data"
    },
    {
     "name": "stdout",
     "output_type": "stream",
     "text": [
      "{'copy_X': True, 'fit_intercept': True, 'n_jobs': None, 'normalize': False}\n"
     ]
    }
   ],
   "source": [
    "# Load the diabetes dataset\n",
    "num = -500\n",
    "# Split the data into training/testing sets\n",
    "diabetes_X_train = x\n",
    "diabetes_X_test = x_test\n",
    "# diabetes_X_train = np.hstack(diabetes_X_train, np.ones(a,b))\n",
    "# Split the targets into training/testing sets\n",
    "diabetes_y_train = y\n",
    "diabetes_y_test = y_test\n",
    "# Create linear regression object\n",
    "regr = linear_model.LinearRegression()\n",
    "\n",
    "# Train the model using the training sets\n",
    "regr.fit(diabetes_X_train.values.reshape(-1,1), diabetes_y_train.values)\n",
    "\n",
    "# Make predictions using the testing set\n",
    "diabetes_y_pred = regr.predict(diabetes_X_test.values.reshape(-1,1))\n",
    "\n",
    "# The coefficients\n",
    "print('Coefficients: \\n', regr.coef_)\n",
    "# The mean squared error\n",
    "print('Mean squared error: %.50f'\n",
    "      % mean_squared_error(diabetes_y_test, diabetes_y_pred))\n",
    "# The coefficient of determination: 1 is perfect prediction\n",
    "print('Coefficient of determination: %.50f'\n",
    "      % r2_score(diabetes_y_test, diabetes_y_pred))\n",
    "\n",
    "# Plot outputs\n",
    "\n",
    "plt.scatter(diabetes_X_train,diabetes_y_train, color = 'green',linewidths=0.1,marker='+')\n",
    "plt.scatter(diabetes_X_test, diabetes_y_test,  color='blue',linewidths=1,marker='+')\n",
    "plt.plot(diabetes_X_test, diabetes_y_pred, color='red', linewidth=1)\n",
    "\n",
    "# plt.xticks(())\n",
    "# plt.yticks(())\n",
    "\n",
    "plt.show()\n",
    "j = regr.get_params(deep=True)\n",
    "print(j)"
   ]
  }
 ],
 "metadata": {
  "colab": {
   "collapsed_sections": [],
   "include_colab_link": true,
   "name": "Linear",
   "provenance": []
  },
  "kernelspec": {
   "display_name": "Python 3",
   "language": "python",
   "name": "python3"
  },
  "language_info": {
   "codemirror_mode": {
    "name": "ipython",
    "version": 3
   },
   "file_extension": ".py",
   "mimetype": "text/x-python",
   "name": "python",
   "nbconvert_exporter": "python",
   "pygments_lexer": "ipython3",
   "version": "3.8.5"
  }
 },
 "nbformat": 4,
 "nbformat_minor": 1
}
