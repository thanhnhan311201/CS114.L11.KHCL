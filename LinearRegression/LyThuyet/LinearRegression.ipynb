{
 "cells": [
  {
   "source": [
    "# Linear Regression\n",
    "## Giới thiệu\n",
    "Linear Regression (Hồi Quy Tuyến Tính) là một thuật toán Supervised Learning, đây cũng là một trong những thuật toán cơ bản và đơn giản nhất trong Machine Learning.\n",
    "\n",
    "Thường được sử dụng để dự đoán các giá trị trong một phạm vi liên tục (ví dụ: giá cả, doanh số, tuổi tác,...)"
   ],
   "cell_type": "markdown",
   "metadata": {}
  }
 ],
 "metadata": {},
 "nbformat": 4,
 "nbformat_minor": 4
}