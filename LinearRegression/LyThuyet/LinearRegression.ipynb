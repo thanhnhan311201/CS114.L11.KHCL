{
 "cells": [
  {
   "source": [
    "# Linear Regression\n",
    "## Giới thiệu\n",
    "Linear Regression (Hồi Quy Tuyến Tính) là một thuật toán Supervised Learning, đây cũng là một trong những thuật toán cơ bản và đơn giản nhất trong Machine Learning.\n",
    "\n",
    "Thường được sử dụng để dự đoán các giá trị trong một phạm vi liên tục (ví dụ: giá cả, doanh số, tuổi tác,...)\n",
    "\n",
    "Ta sẽ lấy một ví dụ đơn giản là dự đoán giá nhà. Trong ví dụ này bộ data của chúng ta bao gồm các số liệu diện tích của các căn nhà được thu thập từ 1000 căn nhà ở thành phố Hồ Chí Minh, ứng với diện tích thì sẽ có giá bán khác nhau. Nhiệm vụ của chúng ta là khi có một căn nhà với một diện tích mới thì có thể dự đoán đươc giá của căn nhà đó không?\n",
    "\n",
    "Từ ví dụ trên, để có thể dự đoán giá nhà thì ta sẽ thiết lập một hàm số đơn giản nhất có thể mô tả mối quan hệ giữa giá nhà và diện tích:\n",
    "\n",
    "- y ≈ h(x), với h(x) là:\n",
    "\n",
    "         h(x) = w1x + w0\n",
    "\n",
    "Trong đó:\n",
    "- x là diện tích.\n",
    "- w1 là hằng số, w0 còn được gọi là bias.\n",
    "- y là giá trị thực của giá nhà (dựa trên số liệu thu thập training data), còn h(x) là giá trị mà model Linear Regression dự đoán được. y và h(x) là hai giá trị khác nhau do có sai số.\n",
    "\n",
    "Trong không gian hai chiều, Linear (tuyến tính) có dạng là một *đường thẳng*; trong không gian ba chiều thì nó là một *mặt phẳng*; còn trong không gian nhiều hơn 3 chiều thì nó không còn là khái niệm mặt phẳng, thay vào đó sẽ có một khái niệm sẽ thích hợp hơn được gọi *siêu mặt phẳng (hyperplane)*. Trong ví dụ thì đường Linear sẽ là một đường thẳng và được biểu diễn bằng phương trình mà chúng ta đã lập ở trên. Và nhiệm vụ của chúng ta là phải tìm ra được phương trình mà sai số giữa h(x) và y là thấp nhất, để rồi từ đó sẽ dự đoán căn nhà với diện tích mới một cách chính xác nhất."
   ],
   "cell_type": "markdown",
   "metadata": {}
  }
 ],
 "metadata": {},
 "nbformat": 4,
 "nbformat_minor": 4
}